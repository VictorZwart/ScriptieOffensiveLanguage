{
  "nbformat": 4,
  "nbformat_minor": 0,
  "metadata": {
    "colab": {
      "name": "scriptie_code_cnn.ipynb",
      "provenance": [],
      "authorship_tag": "ABX9TyPGqQXBNPbY1GWVX3ZLWUkS",
      "include_colab_link": true
    },
    "kernelspec": {
      "name": "python3",
      "display_name": "Python 3"
    },
    "language_info": {
      "name": "python"
    },
    "accelerator": "GPU"
  },
  "cells": [
    {
      "cell_type": "markdown",
      "metadata": {
        "id": "view-in-github",
        "colab_type": "text"
      },
      "source": [
        "<a href=\"https://colab.research.google.com/github/VictorZwart/ScriptieOffensiveLanguage/blob/main/scriptie_code_cnn.ipynb\" target=\"_parent\"><img src=\"https://colab.research.google.com/assets/colab-badge.svg\" alt=\"Open In Colab\"/></a>"
      ]
    },
    {
      "cell_type": "markdown",
      "metadata": {
        "id": "abUOu1HupIbd"
      },
      "source": [
        "CNN Convolutional Neural Networks\n",
        "\n",
        "Based on the following tutorial: https://medium.com/voice-tech-podcast/text-classification-using-cnn-9ade8155dfb9"
      ]
    },
    {
      "cell_type": "code",
      "metadata": {
        "colab": {
          "base_uri": "https://localhost:8080/"
        },
        "id": "AS3e0bpQrGf2",
        "outputId": "d4f2e2ed-f2a3-4d42-a5bf-43793b190d51"
      },
      "source": [
        "# get gpu specs\n",
        "!nvidia-smi\n",
        "# Tesla K80 (11441MiB) = bad\n",
        "# Tesla T4  (15109MiB) = good"
      ],
      "execution_count": null,
      "outputs": [
        {
          "output_type": "stream",
          "text": [
            "Tue May  4 12:54:03 2021       \n",
            "+-----------------------------------------------------------------------------+\n",
            "| NVIDIA-SMI 465.19.01    Driver Version: 460.32.03    CUDA Version: 11.2     |\n",
            "|-------------------------------+----------------------+----------------------+\n",
            "| GPU  Name        Persistence-M| Bus-Id        Disp.A | Volatile Uncorr. ECC |\n",
            "| Fan  Temp  Perf  Pwr:Usage/Cap|         Memory-Usage | GPU-Util  Compute M. |\n",
            "|                               |                      |               MIG M. |\n",
            "|===============================+======================+======================|\n",
            "|   0  Tesla P100-PCIE...  Off  | 00000000:00:04.0 Off |                    0 |\n",
            "| N/A   32C    P0    26W / 250W |      0MiB / 16280MiB |      0%      Default |\n",
            "|                               |                      |                  N/A |\n",
            "+-------------------------------+----------------------+----------------------+\n",
            "                                                                               \n",
            "+-----------------------------------------------------------------------------+\n",
            "| Processes:                                                                  |\n",
            "|  GPU   GI   CI        PID   Type   Process name                  GPU Memory |\n",
            "|        ID   ID                                                   Usage      |\n",
            "|=============================================================================|\n",
            "|  No running processes found                                                 |\n",
            "+-----------------------------------------------------------------------------+\n"
          ],
          "name": "stdout"
        }
      ]
    },
    {
      "cell_type": "markdown",
      "metadata": {
        "id": "V-WRGLfypayz"
      },
      "source": [
        "First import all the necessary packages"
      ]
    },
    {
      "cell_type": "code",
      "metadata": {
        "id": "Mst6CePkpGfg"
      },
      "source": [
        "from keras.datasets import imdb\n",
        "from keras.models import Sequential\n",
        "from keras.layers import Dense\n",
        "from keras.layers import Flatten\n",
        "from keras.layers.convolutional import Conv1D\n",
        "from keras.layers.convolutional import MaxPooling1D\n",
        "from keras.layers.embeddings import Embedding\n",
        "from keras.preprocessing import sequence\n",
        "\n",
        "# Modules for data manipulation\n",
        "import numpy as np\n",
        "import pandas as pd\n",
        "import re\n",
        "import csv\n",
        "\n",
        "import urllib\n",
        "import shutil\n",
        "import sys\n",
        "from sklearn.model_selection import train_test_split\n",
        "\n",
        "# Modules for visualization\n",
        "import matplotlib.pyplot as plt\n",
        "import seaborn as sb\n",
        "\n",
        "from keras.preprocessing.sequence import pad_sequences"
      ],
      "execution_count": null,
      "outputs": []
    },
    {
      "cell_type": "code",
      "metadata": {
        "colab": {
          "base_uri": "https://localhost:8080/"
        },
        "id": "ZAvi1KU8GqQY",
        "outputId": "3a7be2ff-b0d2-4f58-d3a7-35b7ddc95474"
      },
      "source": [
        "from google.colab import drive\n",
        "drive.mount('/content/drive')"
      ],
      "execution_count": null,
      "outputs": [
        {
          "output_type": "stream",
          "text": [
            "Mounted at /content/drive\n"
          ],
          "name": "stdout"
        }
      ]
    },
    {
      "cell_type": "markdown",
      "metadata": {
        "id": "qqkQvNdhFohp"
      },
      "source": [
        "Download the Coosto model "
      ]
    },
    {
      "cell_type": "code",
      "metadata": {
        "colab": {
          "resources": {
            "http://localhost:8080/nbextensions/google.colab/files.js": {
              "data": "Ly8gQ29weXJpZ2h0IDIwMTcgR29vZ2xlIExMQwovLwovLyBMaWNlbnNlZCB1bmRlciB0aGUgQXBhY2hlIExpY2Vuc2UsIFZlcnNpb24gMi4wICh0aGUgIkxpY2Vuc2UiKTsKLy8geW91IG1heSBub3QgdXNlIHRoaXMgZmlsZSBleGNlcHQgaW4gY29tcGxpYW5jZSB3aXRoIHRoZSBMaWNlbnNlLgovLyBZb3UgbWF5IG9idGFpbiBhIGNvcHkgb2YgdGhlIExpY2Vuc2UgYXQKLy8KLy8gICAgICBodHRwOi8vd3d3LmFwYWNoZS5vcmcvbGljZW5zZXMvTElDRU5TRS0yLjAKLy8KLy8gVW5sZXNzIHJlcXVpcmVkIGJ5IGFwcGxpY2FibGUgbGF3IG9yIGFncmVlZCB0byBpbiB3cml0aW5nLCBzb2Z0d2FyZQovLyBkaXN0cmlidXRlZCB1bmRlciB0aGUgTGljZW5zZSBpcyBkaXN0cmlidXRlZCBvbiBhbiAiQVMgSVMiIEJBU0lTLAovLyBXSVRIT1VUIFdBUlJBTlRJRVMgT1IgQ09ORElUSU9OUyBPRiBBTlkgS0lORCwgZWl0aGVyIGV4cHJlc3Mgb3IgaW1wbGllZC4KLy8gU2VlIHRoZSBMaWNlbnNlIGZvciB0aGUgc3BlY2lmaWMgbGFuZ3VhZ2UgZ292ZXJuaW5nIHBlcm1pc3Npb25zIGFuZAovLyBsaW1pdGF0aW9ucyB1bmRlciB0aGUgTGljZW5zZS4KCi8qKgogKiBAZmlsZW92ZXJ2aWV3IEhlbHBlcnMgZm9yIGdvb2dsZS5jb2xhYiBQeXRob24gbW9kdWxlLgogKi8KKGZ1bmN0aW9uKHNjb3BlKSB7CmZ1bmN0aW9uIHNwYW4odGV4dCwgc3R5bGVBdHRyaWJ1dGVzID0ge30pIHsKICBjb25zdCBlbGVtZW50ID0gZG9jdW1lbnQuY3JlYXRlRWxlbWVudCgnc3BhbicpOwogIGVsZW1lbnQudGV4dENvbnRlbnQgPSB0ZXh0OwogIGZvciAoY29uc3Qga2V5IG9mIE9iamVjdC5rZXlzKHN0eWxlQXR0cmlidXRlcykpIHsKICAgIGVsZW1lbnQuc3R5bGVba2V5XSA9IHN0eWxlQXR0cmlidXRlc1trZXldOwogIH0KICByZXR1cm4gZWxlbWVudDsKfQoKLy8gTWF4IG51bWJlciBvZiBieXRlcyB3aGljaCB3aWxsIGJlIHVwbG9hZGVkIGF0IGEgdGltZS4KY29uc3QgTUFYX1BBWUxPQURfU0laRSA9IDEwMCAqIDEwMjQ7CgpmdW5jdGlvbiBfdXBsb2FkRmlsZXMoaW5wdXRJZCwgb3V0cHV0SWQpIHsKICBjb25zdCBzdGVwcyA9IHVwbG9hZEZpbGVzU3RlcChpbnB1dElkLCBvdXRwdXRJZCk7CiAgY29uc3Qgb3V0cHV0RWxlbWVudCA9IGRvY3VtZW50LmdldEVsZW1lbnRCeUlkKG91dHB1dElkKTsKICAvLyBDYWNoZSBzdGVwcyBvbiB0aGUgb3V0cHV0RWxlbWVudCB0byBtYWtlIGl0IGF2YWlsYWJsZSBmb3IgdGhlIG5leHQgY2FsbAogIC8vIHRvIHVwbG9hZEZpbGVzQ29udGludWUgZnJvbSBQeXRob24uCiAgb3V0cHV0RWxlbWVudC5zdGVwcyA9IHN0ZXBzOwoKICByZXR1cm4gX3VwbG9hZEZpbGVzQ29udGludWUob3V0cHV0SWQpOwp9CgovLyBUaGlzIGlzIHJvdWdobHkgYW4gYXN5bmMgZ2VuZXJhdG9yIChub3Qgc3VwcG9ydGVkIGluIHRoZSBicm93c2VyIHlldCksCi8vIHdoZXJlIHRoZXJlIGFyZSBtdWx0aXBsZSBhc3luY2hyb25vdXMgc3RlcHMgYW5kIHRoZSBQeXRob24gc2lkZSBpcyBnb2luZwovLyB0byBwb2xsIGZvciBjb21wbGV0aW9uIG9mIGVhY2ggc3RlcC4KLy8gVGhpcyB1c2VzIGEgUHJvbWlzZSB0byBibG9jayB0aGUgcHl0aG9uIHNpZGUgb24gY29tcGxldGlvbiBvZiBlYWNoIHN0ZXAsCi8vIHRoZW4gcGFzc2VzIHRoZSByZXN1bHQgb2YgdGhlIHByZXZpb3VzIHN0ZXAgYXMgdGhlIGlucHV0IHRvIHRoZSBuZXh0IHN0ZXAuCmZ1bmN0aW9uIF91cGxvYWRGaWxlc0NvbnRpbnVlKG91dHB1dElkKSB7CiAgY29uc3Qgb3V0cHV0RWxlbWVudCA9IGRvY3VtZW50LmdldEVsZW1lbnRCeUlkKG91dHB1dElkKTsKICBjb25zdCBzdGVwcyA9IG91dHB1dEVsZW1lbnQuc3RlcHM7CgogIGNvbnN0IG5leHQgPSBzdGVwcy5uZXh0KG91dHB1dEVsZW1lbnQubGFzdFByb21pc2VWYWx1ZSk7CiAgcmV0dXJuIFByb21pc2UucmVzb2x2ZShuZXh0LnZhbHVlLnByb21pc2UpLnRoZW4oKHZhbHVlKSA9PiB7CiAgICAvLyBDYWNoZSB0aGUgbGFzdCBwcm9taXNlIHZhbHVlIHRvIG1ha2UgaXQgYXZhaWxhYmxlIHRvIHRoZSBuZXh0CiAgICAvLyBzdGVwIG9mIHRoZSBnZW5lcmF0b3IuCiAgICBvdXRwdXRFbGVtZW50Lmxhc3RQcm9taXNlVmFsdWUgPSB2YWx1ZTsKICAgIHJldHVybiBuZXh0LnZhbHVlLnJlc3BvbnNlOwogIH0pOwp9CgovKioKICogR2VuZXJhdG9yIGZ1bmN0aW9uIHdoaWNoIGlzIGNhbGxlZCBiZXR3ZWVuIGVhY2ggYXN5bmMgc3RlcCBvZiB0aGUgdXBsb2FkCiAqIHByb2Nlc3MuCiAqIEBwYXJhbSB7c3RyaW5nfSBpbnB1dElkIEVsZW1lbnQgSUQgb2YgdGhlIGlucHV0IGZpbGUgcGlja2VyIGVsZW1lbnQuCiAqIEBwYXJhbSB7c3RyaW5nfSBvdXRwdXRJZCBFbGVtZW50IElEIG9mIHRoZSBvdXRwdXQgZGlzcGxheS4KICogQHJldHVybiB7IUl0ZXJhYmxlPCFPYmplY3Q+fSBJdGVyYWJsZSBvZiBuZXh0IHN0ZXBzLgogKi8KZnVuY3Rpb24qIHVwbG9hZEZpbGVzU3RlcChpbnB1dElkLCBvdXRwdXRJZCkgewogIGNvbnN0IGlucHV0RWxlbWVudCA9IGRvY3VtZW50LmdldEVsZW1lbnRCeUlkKGlucHV0SWQpOwogIGlucHV0RWxlbWVudC5kaXNhYmxlZCA9IGZhbHNlOwoKICBjb25zdCBvdXRwdXRFbGVtZW50ID0gZG9jdW1lbnQuZ2V0RWxlbWVudEJ5SWQob3V0cHV0SWQpOwogIG91dHB1dEVsZW1lbnQuaW5uZXJIVE1MID0gJyc7CgogIGNvbnN0IHBpY2tlZFByb21pc2UgPSBuZXcgUHJvbWlzZSgocmVzb2x2ZSkgPT4gewogICAgaW5wdXRFbGVtZW50LmFkZEV2ZW50TGlzdGVuZXIoJ2NoYW5nZScsIChlKSA9PiB7CiAgICAgIHJlc29sdmUoZS50YXJnZXQuZmlsZXMpOwogICAgfSk7CiAgfSk7CgogIGNvbnN0IGNhbmNlbCA9IGRvY3VtZW50LmNyZWF0ZUVsZW1lbnQoJ2J1dHRvbicpOwogIGlucHV0RWxlbWVudC5wYXJlbnRFbGVtZW50LmFwcGVuZENoaWxkKGNhbmNlbCk7CiAgY2FuY2VsLnRleHRDb250ZW50ID0gJ0NhbmNlbCB1cGxvYWQnOwogIGNvbnN0IGNhbmNlbFByb21pc2UgPSBuZXcgUHJvbWlzZSgocmVzb2x2ZSkgPT4gewogICAgY2FuY2VsLm9uY2xpY2sgPSAoKSA9PiB7CiAgICAgIHJlc29sdmUobnVsbCk7CiAgICB9OwogIH0pOwoKICAvLyBXYWl0IGZvciB0aGUgdXNlciB0byBwaWNrIHRoZSBmaWxlcy4KICBjb25zdCBmaWxlcyA9IHlpZWxkIHsKICAgIHByb21pc2U6IFByb21pc2UucmFjZShbcGlja2VkUHJvbWlzZSwgY2FuY2VsUHJvbWlzZV0pLAogICAgcmVzcG9uc2U6IHsKICAgICAgYWN0aW9uOiAnc3RhcnRpbmcnLAogICAgfQogIH07CgogIGNhbmNlbC5yZW1vdmUoKTsKCiAgLy8gRGlzYWJsZSB0aGUgaW5wdXQgZWxlbWVudCBzaW5jZSBmdXJ0aGVyIHBpY2tzIGFyZSBub3QgYWxsb3dlZC4KICBpbnB1dEVsZW1lbnQuZGlzYWJsZWQgPSB0cnVlOwoKICBpZiAoIWZpbGVzKSB7CiAgICByZXR1cm4gewogICAgICByZXNwb25zZTogewogICAgICAgIGFjdGlvbjogJ2NvbXBsZXRlJywKICAgICAgfQogICAgfTsKICB9CgogIGZvciAoY29uc3QgZmlsZSBvZiBmaWxlcykgewogICAgY29uc3QgbGkgPSBkb2N1bWVudC5jcmVhdGVFbGVtZW50KCdsaScpOwogICAgbGkuYXBwZW5kKHNwYW4oZmlsZS5uYW1lLCB7Zm9udFdlaWdodDogJ2JvbGQnfSkpOwogICAgbGkuYXBwZW5kKHNwYW4oCiAgICAgICAgYCgke2ZpbGUudHlwZSB8fCAnbi9hJ30pIC0gJHtmaWxlLnNpemV9IGJ5dGVzLCBgICsKICAgICAgICBgbGFzdCBtb2RpZmllZDogJHsKICAgICAgICAgICAgZmlsZS5sYXN0TW9kaWZpZWREYXRlID8gZmlsZS5sYXN0TW9kaWZpZWREYXRlLnRvTG9jYWxlRGF0ZVN0cmluZygpIDoKICAgICAgICAgICAgICAgICAgICAgICAgICAgICAgICAgICAgJ24vYSd9IC0gYCkpOwogICAgY29uc3QgcGVyY2VudCA9IHNwYW4oJzAlIGRvbmUnKTsKICAgIGxpLmFwcGVuZENoaWxkKHBlcmNlbnQpOwoKICAgIG91dHB1dEVsZW1lbnQuYXBwZW5kQ2hpbGQobGkpOwoKICAgIGNvbnN0IGZpbGVEYXRhUHJvbWlzZSA9IG5ldyBQcm9taXNlKChyZXNvbHZlKSA9PiB7CiAgICAgIGNvbnN0IHJlYWRlciA9IG5ldyBGaWxlUmVhZGVyKCk7CiAgICAgIHJlYWRlci5vbmxvYWQgPSAoZSkgPT4gewogICAgICAgIHJlc29sdmUoZS50YXJnZXQucmVzdWx0KTsKICAgICAgfTsKICAgICAgcmVhZGVyLnJlYWRBc0FycmF5QnVmZmVyKGZpbGUpOwogICAgfSk7CiAgICAvLyBXYWl0IGZvciB0aGUgZGF0YSB0byBiZSByZWFkeS4KICAgIGxldCBmaWxlRGF0YSA9IHlpZWxkIHsKICAgICAgcHJvbWlzZTogZmlsZURhdGFQcm9taXNlLAogICAgICByZXNwb25zZTogewogICAgICAgIGFjdGlvbjogJ2NvbnRpbnVlJywKICAgICAgfQogICAgfTsKCiAgICAvLyBVc2UgYSBjaHVua2VkIHNlbmRpbmcgdG8gYXZvaWQgbWVzc2FnZSBzaXplIGxpbWl0cy4gU2VlIGIvNjIxMTU2NjAuCiAgICBsZXQgcG9zaXRpb24gPSAwOwogICAgd2hpbGUgKHBvc2l0aW9uIDwgZmlsZURhdGEuYnl0ZUxlbmd0aCkgewogICAgICBjb25zdCBsZW5ndGggPSBNYXRoLm1pbihmaWxlRGF0YS5ieXRlTGVuZ3RoIC0gcG9zaXRpb24sIE1BWF9QQVlMT0FEX1NJWkUpOwogICAgICBjb25zdCBjaHVuayA9IG5ldyBVaW50OEFycmF5KGZpbGVEYXRhLCBwb3NpdGlvbiwgbGVuZ3RoKTsKICAgICAgcG9zaXRpb24gKz0gbGVuZ3RoOwoKICAgICAgY29uc3QgYmFzZTY0ID0gYnRvYShTdHJpbmcuZnJvbUNoYXJDb2RlLmFwcGx5KG51bGwsIGNodW5rKSk7CiAgICAgIHlpZWxkIHsKICAgICAgICByZXNwb25zZTogewogICAgICAgICAgYWN0aW9uOiAnYXBwZW5kJywKICAgICAgICAgIGZpbGU6IGZpbGUubmFtZSwKICAgICAgICAgIGRhdGE6IGJhc2U2NCwKICAgICAgICB9LAogICAgICB9OwogICAgICBwZXJjZW50LnRleHRDb250ZW50ID0KICAgICAgICAgIGAke01hdGgucm91bmQoKHBvc2l0aW9uIC8gZmlsZURhdGEuYnl0ZUxlbmd0aCkgKiAxMDApfSUgZG9uZWA7CiAgICB9CiAgfQoKICAvLyBBbGwgZG9uZS4KICB5aWVsZCB7CiAgICByZXNwb25zZTogewogICAgICBhY3Rpb246ICdjb21wbGV0ZScsCiAgICB9CiAgfTsKfQoKc2NvcGUuZ29vZ2xlID0gc2NvcGUuZ29vZ2xlIHx8IHt9OwpzY29wZS5nb29nbGUuY29sYWIgPSBzY29wZS5nb29nbGUuY29sYWIgfHwge307CnNjb3BlLmdvb2dsZS5jb2xhYi5fZmlsZXMgPSB7CiAgX3VwbG9hZEZpbGVzLAogIF91cGxvYWRGaWxlc0NvbnRpbnVlLAp9Owp9KShzZWxmKTsK",
              "ok": true,
              "headers": [
                [
                  "content-type",
                  "application/javascript"
                ]
              ],
              "status": 200,
              "status_text": ""
            }
          },
          "base_uri": "https://localhost:8080/",
          "height": 72
        },
        "id": "X1Tlm0SXsB79",
        "outputId": "6e408c6f-e74f-4097-e885-a1c88a68f959"
      },
      "source": [
        "# upload data\n",
        "from google.colab import files\n",
        "uploaded = files.upload()\n"
      ],
      "execution_count": null,
      "outputs": [
        {
          "output_type": "display_data",
          "data": {
            "text/html": [
              "\n",
              "     <input type=\"file\" id=\"files-65a152b1-6d82-4731-9e65-6082376309fe\" name=\"files[]\" multiple disabled\n",
              "        style=\"border:none\" />\n",
              "     <output id=\"result-65a152b1-6d82-4731-9e65-6082376309fe\">\n",
              "      Upload widget is only available when the cell has been executed in the\n",
              "      current browser session. Please rerun this cell to enable.\n",
              "      </output>\n",
              "      <script src=\"/nbextensions/google.colab/files.js\"></script> "
            ],
            "text/plain": [
              "<IPython.core.display.HTML object>"
            ]
          },
          "metadata": {
            "tags": []
          }
        },
        {
          "output_type": "stream",
          "text": [
            "Saving batch_2_train_victor.csv to batch_2_train_victor.csv\n"
          ],
          "name": "stdout"
        }
      ]
    },
    {
      "cell_type": "code",
      "metadata": {
        "id": "SVm_CSIPrU1b"
      },
      "source": [
        "SMALL_SIZE = 12\n",
        "MEDIUM_SIZE = 14\n",
        "BIG_SIZE = 16\n",
        "LARGE_SIZE = 20\n",
        "\n",
        "params = {\n",
        "    'figure.figsize': (16, 8),\n",
        "    'font.size': SMALL_SIZE,\n",
        "    'xtick.labelsize': MEDIUM_SIZE,\n",
        "    'ytick.labelsize': MEDIUM_SIZE,\n",
        "    'legend.fontsize': BIG_SIZE,\n",
        "    'figure.titlesize': LARGE_SIZE,\n",
        "    'axes.titlesize': MEDIUM_SIZE,\n",
        "    'axes.labelsize': BIG_SIZE\n",
        "}\n",
        "plt.rcParams.update(params)"
      ],
      "execution_count": null,
      "outputs": []
    },
    {
      "cell_type": "markdown",
      "metadata": {
        "id": "omxJRaSYrZXV"
      },
      "source": [
        "Import Data"
      ]
    },
    {
      "cell_type": "code",
      "metadata": {
        "colab": {
          "base_uri": "https://localhost:8080/"
        },
        "id": "eMLfL9OruEev",
        "outputId": "8bb9e2eb-35bc-4be1-f376-d674af88ee7f"
      },
      "source": [
        "# Function to get the data with the goal, being either 'target' or 'explicitness'\n",
        "def get_data(goal):\n",
        "    full_data = []\n",
        "    with open('batch_2_train_victor.csv', encoding='utf-8') as f:\n",
        "        reader = csv.DictReader(f, delimiter='\\t')\n",
        "        for index, line in enumerate(reader):\n",
        "\n",
        "                full_data.append([line['text'], line[goal]])\n",
        "\n",
        "    df_full = pd.DataFrame(full_data)\n",
        "    df_full.columns = [\"text\", goal]\n",
        "    train, test = train_test_split(df_full, test_size=0.2,\n",
        "                                shuffle=True,\n",
        "                                    random_state=42)\n",
        "    return train, test\n",
        "train_exp, test_exp = get_data(\"explicitness\")\n",
        "train_target, test_target = get_data(\"target\")\n",
        "print(train_target)\n"
      ],
      "execution_count": null,
      "outputs": [
        {
          "output_type": "stream",
          "text": [
            "                                                   text target\n",
            "4675  @Pelpindaa Er zijn vrijwel geen corona gevalle...   None\n",
            "1204  Ik wacht nog steeds hoopvol op die ene maandag...   None\n",
            "5640  Ehm, Sybren, newsflash. Er is helemaal niks Ou...   None\n",
            "4638  Dag 6 - Zwart-Wit Plaats ook tien dagen lang z...   None\n",
            "5562  @Michel1401 @BrazziBroglio Dit verbloemen ze d...   None\n",
            "...                                                 ...    ...\n",
            "3772  @jos1963 @FreetrueC @pufpufpafpaf Politie voer...   None\n",
            "5191  @hassnaaxx Ze zijn minste met islam bezig alle...   None\n",
            "5226  @GrootKo Er is daar al een dame als partijleid...   None\n",
            "5390  @POL_Vrederust @maestraroos Ik zag dit en beki...   None\n",
            "860   @Gerbijl @jcgmruiter inderdaad , dit toont de ...   None\n",
            "\n",
            "[4812 rows x 2 columns]\n"
          ],
          "name": "stdout"
        }
      ]
    },
    {
      "cell_type": "markdown",
      "metadata": {
        "id": "wwCAjdtgld3Y"
      },
      "source": [
        "Visualisation of the data"
      ]
    },
    {
      "cell_type": "code",
      "metadata": {
        "colab": {
          "base_uri": "https://localhost:8080/",
          "height": 491
        },
        "id": "vgREZLcu3NMN",
        "outputId": "9e0bdd77-f0d3-4cda-8f2c-f4e30abd8ca3"
      },
      "source": [
        "#plot of explicitness\n",
        "plt.hist(train_exp[train_exp.explicitness == \"EXPLICIT\"].explicitness,\n",
        "         bins=2, color='green', label='Explicit')\n",
        "plt.hist(train_exp[train_exp.explicitness == \"IMPLICIT\"].explicitness,\n",
        "         bins=2, color='blue', label='Implicit')\n",
        "plt.hist(train_exp[train_exp.explicitness == \"NOT\"].explicitness,\n",
        "         bins=2, color='red', label='Not')\n",
        "plt.title('Classes distribution in the train data')\n",
        "plt.xticks([])\n",
        "plt.xlim(-0.5, 3)\n",
        "plt.legend()\n",
        "plt.show()"
      ],
      "execution_count": null,
      "outputs": [
        {
          "output_type": "display_data",
          "data": {
            "image/png": "[encoded data removed]",
            "text/plain": [
              "<Figure size 1152x576 with 1 Axes>"
            ]
          },
          "metadata": {
            "tags": [],
            "needs_background": "light"
          }
        }
      ]
    },
    {
      "cell_type": "code",
      "metadata": {
        "colab": {
          "base_uri": "https://localhost:8080/",
          "height": 491
        },
        "id": "tOyUyRFilkuF",
        "outputId": "a04eb780-4a05-4c4b-d39e-553f452abb9e"
      },
      "source": [
        "#plot of target\n",
        "plt.hist(train_target[train_target.target == \"OTHER\"].target,\n",
        "         bins=2, color='green', label='other')\n",
        "plt.hist(train_target[train_target.target == \"GROUP\"].target,\n",
        "         bins=2, color='blue', label='group')\n",
        "plt.hist(train_target[train_target.target == \"NOT\"].target,\n",
        "         bins=2, color='red', label='Not')\n",
        "plt.hist(train_target[train_target.target == \"INDIVIDUAL\"].target,\n",
        "         bins=2, color='yellow', label='Individual')\n",
        "plt.title('Classes distribution in the train data')\n",
        "plt.xticks([])\n",
        "plt.xlim(-0.5, 4)\n",
        "plt.legend()\n",
        "plt.show()"
      ],
      "execution_count": null,
      "outputs": [
        {
          "output_type": "display_data",
          "data": {
            "image/png": "[encoded data removed]",
            "text/plain": [
              "<Figure size 1152x576 with 1 Axes>"
            ]
          },
          "metadata": {
            "tags": [],
            "needs_background": "light"
          }
        }
      ]
    },
    {
      "cell_type": "code",
      "metadata": {
        "colab": {
          "base_uri": "https://localhost:8080/"
        },
        "id": "TnNWJ4ER2Va_",
        "outputId": "65a7b797-fe6b-456a-deda-bd9b624410c6"
      },
      "source": [
        "all_reviews = np.array([], dtype=str)\n",
        "all_reviews = np.concatenate((all_reviews, df_full[\"text\"]), axis=0)\n",
        "print('Total number of reviews:', len(all_reviews))\n",
        "print(all_reviews)"
      ],
      "execution_count": null,
      "outputs": [
        {
          "output_type": "stream",
          "text": [
            "Total number of reviews: 6016\n",
            "['@JoostNiemoller Het wordt de hoogste tijd dat we weer laten zien wie er de baas is.'\n",
            " 'Turken en Marokkanen kunnen niet op u stemmen, mijnheer @HeroBrinkman? Dat is buitenland. Of bedoelt u gewoon Nederlandse ondernemers?'\n",
            " '@Hello_Nighthawk Alles Trump is verantwoordelijk voor aanpak Corona dat hij niet serieus nam. https://t.co/3bJR8UGyXY'\n",
            " ...\n",
            " '@RadboudStudents een unieke kans om kennis te maken met wat daar voor door moet gaan. Hoe wil u er anders duidelijkheid over krijgen? U las zojuist “wat daar voor door moet gaan” omdat de “humanisten” en hun sekte, het Humanistisch Verbond, volstrekt niet humanistisch zijn. Een'\n",
            " '@RadboudStudents humanist dient tenminste te vechten voor lotsverbetering van de armen, van mensen aan de onderkant van de samenleving. Dit doen ze niet, mogelijk omdat Van Praag de sociale kant van het humanisme maar wegliet. Dit is onzinnig. Humanisme draait immers om'\n",
            " '@RadboudStudents geaardheid die humanisten tientallen jaren als niet “normaal” beschouwden. Twijfelt u of dit nog humanisten zijn? Hoe wil u ze dan noemen? Humoristen? https://t.co/9kuWoAweQ8']\n"
          ],
          "name": "stdout"
        }
      ]
    },
    {
      "cell_type": "code",
      "metadata": {
        "id": "a05M3Zi94aQV"
      },
      "source": [
        "# Word embeddings:\n",
        "\n",
        "def demoModel(inputFile):\n",
        "    # Let's not presume gensim installation until needed\n",
        "    import gensim\n",
        "    sys.stderr.write(\"Loading model...\\n\")\n",
        "    model = gensim.models.KeyedVectors.load_word2vec_format(inputFile, binary=True)\n",
        "    sys.stderr.write(\"Model loaded\\n\")\n",
        "\n",
        "    return model\n",
        "\n",
        "def downloadModel():\n",
        "    modelUrl = \"https://github.com/coosto/dutch-word-embeddings/releases/download/v1.0/model.bin\"\n",
        "\n",
        "\n",
        "    # Request model data\n",
        "    try:\n",
        "        request = urllib.request.Request(modelUrl)\n",
        "        with urllib.request.urlopen(request) as response, open(\"/content/drive/MyDrive/Scriptie/code/Coosto\", 'wb') as fp:\n",
        "            shutil.copyfileobj(response, fp)\n",
        "            sys.stderr.write(\"Model saved: {}\\n\".format(fp.name))\n",
        "        return \"/content/drive/MyDrive/Scriptie/code/Coosto\"\n",
        "    except urllib.error.HTTPError as error:\n",
        "        sys.stderr.write(\"Error fetching model from github.com - {}\\n\".format(error))\n",
        "        sys.stderr.write(\"{}\".format(error.read()))\n",
        "        exit(1)\n",
        "\n"
      ],
      "execution_count": null,
      "outputs": []
    },
    {
      "cell_type": "code",
      "metadata": {
        "colab": {
          "base_uri": "https://localhost:8080/"
        },
        "id": "cbU2Gycl4Ma4",
        "outputId": "989dcaf8-80ab-4c92-f8ec-d179de609032"
      },
      "source": [
        "model = downloadModel()"
      ],
      "execution_count": null,
      "outputs": [
        {
          "output_type": "stream",
          "text": [
            "Model saved: /content/drive/MyDrive/Scriptie/code/Coosto\n"
          ],
          "name": "stderr"
        }
      ]
    },
    {
      "cell_type": "code",
      "metadata": {
        "colab": {
          "base_uri": "https://localhost:8080/"
        },
        "id": "8gUras0V4hrV",
        "outputId": "242c5069-2cf8-49bf-f596-b6561bd50cb3"
      },
      "source": [
        "coosto_model = demoModel(model)\n",
        "coosto_model.most_similar(\"pilsje\")"
      ],
      "execution_count": null,
      "outputs": [
        {
          "output_type": "stream",
          "text": [
            "Loading model...\n",
            "Model loaded\n"
          ],
          "name": "stderr"
        },
        {
          "output_type": "execute_result",
          "data": {
            "text/plain": [
              "[('biertje', 0.9145998954772949),\n",
              " ('glas_bier', 0.7679998874664307),\n",
              " ('wijntje', 0.7564073801040649),\n",
              " ('paar_biertjes', 0.7425606846809387),\n",
              " ('pilsjes', 0.7367861270904541),\n",
              " ('biertjes', 0.7344973087310791),\n",
              " ('colaatje', 0.7323644161224365),\n",
              " ('pilske', 0.724961519241333),\n",
              " ('borreltje', 0.7243227958679199),\n",
              " ('pils', 0.7234804630279541)]"
            ]
          },
          "metadata": {
            "tags": []
          },
          "execution_count": 36
        }
      ]
    },
    {
      "cell_type": "code",
      "metadata": {
        "colab": {
          "base_uri": "https://localhost:8080/"
        },
        "id": "M9dz2heGRKng",
        "outputId": "1016fdbc-db7a-4b2f-b34a-fab91c5780e3"
      },
      "source": [
        "def vectorize_data(data, vocab: dict) -> list:\n",
        "    print('Vectorize sentences...', end='\\r')\n",
        "    keys = list(vocab.keys())\n",
        "    filter_unknown = lambda word: vocab.get(word, None) is not None\n",
        "    encode = lambda review: list(map(keys.index, filter(filter_unknown, review)))\n",
        "    vectorized = list(map(encode, data))\n",
        "    print('Vectorize sentences... (done)')\n",
        "    return vectorized\n",
        "\n",
        "input_length = coosto_model.vector_size # define the input length\n",
        "print('Convert sentences to sentences with ngrams...', end='\\r')\n",
        "print('Convert sentences to sentences with ngrams... (done)')\n",
        "X_pad = pad_sequences(\n",
        "    sequences=vectorize_data(all_reviews, vocab=coosto_model.wv.vocab),\n",
        "    maxlen=input_length,\n",
        "    padding='post')\n",
        "\n",
        "print('Transform sentences to sequences... (done)')"
      ],
      "execution_count": null,
      "outputs": [
        {
          "output_type": "stream",
          "text": [
            "Convert sentences to sentences with ngrams...\rConvert sentences to sentences with ngrams... (done)\n",
            "Vectorize sentences...\r"
          ],
          "name": "stdout"
        },
        {
          "output_type": "stream",
          "text": [
            "/usr/local/lib/python3.7/dist-packages/ipykernel_launcher.py:14: DeprecationWarning: Call to deprecated `wv` (Attribute will be removed in 4.0.0, use self instead).\n",
            "  \n"
          ],
          "name": "stderr"
        },
        {
          "output_type": "stream",
          "text": [
            "Vectorize sentences... (done)\n",
            "Transform sentences to sequences... (done)\n"
          ],
          "name": "stdout"
        }
      ]
    },
    {
      "cell_type": "code",
      "metadata": {
        "colab": {
          "base_uri": "https://localhost:8080/"
        },
        "id": "y3yyZxWEgtgY",
        "outputId": "c9b1edd4-20fc-4404-ef76-7640ddd39694"
      },
      "source": [
        "print(X_pad.shape)"
      ],
      "execution_count": null,
      "outputs": [
        {
          "output_type": "stream",
          "text": [
            "(6016, 300)\n"
          ],
          "name": "stdout"
        }
      ]
    },
    {
      "cell_type": "code",
      "metadata": {
        "id": "VKiYbovyVIe-"
      },
      "source": [
        "Y_train_data = df_full[\"explicitness\"].factorize()[0]\n",
        "\n",
        "X_train, X_test, y_train, y_test = train_test_split(\n",
        "    X_pad,\n",
        "    Y_train_data,\n",
        "    test_size=0.2,\n",
        "    shuffle=True,\n",
        "    random_state=69)"
      ],
      "execution_count": null,
      "outputs": []
    },
    {
      "cell_type": "code",
      "metadata": {
        "id": "REMZEp_6toUW"
      },
      "source": [
        "def build_model(embedding_matrix, input_length):\n",
        "    model = Sequential()\n",
        "    model.add(Embedding(\n",
        "        input_dim = embedding_matrix.shape[0],\n",
        "        output_dim = embedding_matrix.shape[1], \n",
        "        input_length = input_length,\n",
        "        weights = [embedding_matrix],\n",
        "        trainable=False))\n",
        "    model.add(Conv1D(32, 3, padding='same', activation='relu'))\n",
        "    model.add(MaxPooling1D())\n",
        "    model.add(Flatten())\n",
        "    model.add(Dense(250, activation='relu'))\n",
        "    model.add(Dense(1, activation='sigmoid'))\n",
        "    model.summary()\n",
        "    return model"
      ],
      "execution_count": null,
      "outputs": []
    },
    {
      "cell_type": "code",
      "metadata": {
        "colab": {
          "base_uri": "https://localhost:8080/"
        },
        "id": "-pnslxs9bhUY",
        "outputId": "a3f05a4d-f612-47f8-bb10-dbed324fb146"
      },
      "source": [
        "cnn_model = build_model(\n",
        "    embedding_matrix=coosto_model.wv.vectors,\n",
        "    input_length=input_length)"
      ],
      "execution_count": null,
      "outputs": [
        {
          "output_type": "stream",
          "text": [
            "/usr/local/lib/python3.7/dist-packages/ipykernel_launcher.py:2: DeprecationWarning: Call to deprecated `wv` (Attribute will be removed in 4.0.0, use self instead).\n",
            "  \n"
          ],
          "name": "stderr"
        },
        {
          "output_type": "stream",
          "text": [
            "Model: \"sequential_1\"\n",
            "_________________________________________________________________\n",
            "Layer (type)                 Output Shape              Param #   \n",
            "=================================================================\n",
            "embedding_1 (Embedding)      (None, 300, 300)          75143700  \n",
            "_________________________________________________________________\n",
            "conv1d_1 (Conv1D)            (None, 300, 32)           28832     \n",
            "_________________________________________________________________\n",
            "max_pooling1d_1 (MaxPooling1 (None, 150, 32)           0         \n",
            "_________________________________________________________________\n",
            "flatten_1 (Flatten)          (None, 4800)              0         \n",
            "_________________________________________________________________\n",
            "dense_2 (Dense)              (None, 250)               1200250   \n",
            "_________________________________________________________________\n",
            "dense_3 (Dense)              (None, 1)                 251       \n",
            "=================================================================\n",
            "Total params: 76,373,033\n",
            "Trainable params: 1,229,333\n",
            "Non-trainable params: 75,143,700\n",
            "_________________________________________________________________\n"
          ],
          "name": "stdout"
        }
      ]
    },
    {
      "cell_type": "code",
      "metadata": {
        "colab": {
          "base_uri": "https://localhost:8080/"
        },
        "id": "ZwOypUSbbwpe",
        "outputId": "4d339bbe-adc0-4362-c1f0-ffceb73ab7a0"
      },
      "source": [
        "cnn_model.compile(loss='binary_crossentropy',\n",
        "              optimizer='adam', \n",
        "              metrics=['accuracy'])\n",
        "cnn_model.summary()\n",
        "\n",
        "# Fitting the data onto model\n",
        "cnn_model.fit(\n",
        "    x=X_train, \n",
        "    y= y_train, \n",
        "    validation_data=(X_test, y_test), \n",
        "    batch_size=100,\n",
        "    epochs=5, \n",
        "    verbose=2)\n"
      ],
      "execution_count": null,
      "outputs": [
        {
          "output_type": "stream",
          "text": [
            "Model: \"sequential_1\"\n",
            "_________________________________________________________________\n",
            "Layer (type)                 Output Shape              Param #   \n",
            "=================================================================\n",
            "embedding_1 (Embedding)      (None, 300, 300)          75143700  \n",
            "_________________________________________________________________\n",
            "conv1d_1 (Conv1D)            (None, 300, 32)           28832     \n",
            "_________________________________________________________________\n",
            "max_pooling1d_1 (MaxPooling1 (None, 150, 32)           0         \n",
            "_________________________________________________________________\n",
            "flatten_1 (Flatten)          (None, 4800)              0         \n",
            "_________________________________________________________________\n",
            "dense_2 (Dense)              (None, 250)               1200250   \n",
            "_________________________________________________________________\n",
            "dense_3 (Dense)              (None, 1)                 251       \n",
            "=================================================================\n",
            "Total params: 76,373,033\n",
            "Trainable params: 1,229,333\n",
            "Non-trainable params: 75,143,700\n",
            "_________________________________________________________________\n",
            "Epoch 1/5\n",
            "49/49 - 31s - loss: -4.6576e+02 - accuracy: 0.7758 - val_loss: -1.9772e+03 - val_accuracy: 0.7841\n",
            "Epoch 2/5\n",
            "49/49 - 1s - loss: -5.2549e+03 - accuracy: 0.7785 - val_loss: -1.2734e+04 - val_accuracy: 0.7841\n",
            "Epoch 3/5\n",
            "49/49 - 1s - loss: -2.5596e+04 - accuracy: 0.7785 - val_loss: -5.0692e+04 - val_accuracy: 0.7841\n",
            "Epoch 4/5\n",
            "49/49 - 1s - loss: -8.3731e+04 - accuracy: 0.7785 - val_loss: -1.3869e+05 - val_accuracy: 0.7841\n",
            "Epoch 5/5\n",
            "49/49 - 1s - loss: -1.8974e+05 - accuracy: 0.7785 - val_loss: -2.8271e+05 - val_accuracy: 0.7841\n"
          ],
          "name": "stdout"
        },
        {
          "output_type": "execute_result",
          "data": {
            "text/plain": [
              "<tensorflow.python.keras.callbacks.History at 0x7f3b35c7d990>"
            ]
          },
          "metadata": {
            "tags": []
          },
          "execution_count": 55
        }
      ]
    },
    {
      "cell_type": "code",
      "metadata": {
        "colab": {
          "base_uri": "https://localhost:8080/"
        },
        "id": "JC2rXWaMkA0h",
        "outputId": "24840ff7-a4b0-42c7-e16e-3f5724bcaee1"
      },
      "source": [
        "# Getting score metrics from our model\n",
        "scores = cnn_model.evaluate(X_test, y_test, verbose=0)\n",
        "# Displays the accuracy of correct sentiment prediction over test data\n",
        "print(\"Accuracy: %.2f%%\" % (scores[1]*100))"
      ],
      "execution_count": null,
      "outputs": [
        {
          "output_type": "stream",
          "text": [
            "Accuracy: 78.41%\n"
          ],
          "name": "stdout"
        }
      ]
    },
    {
      "cell_type": "markdown",
      "metadata": {
        "id": "ekt0C-6zfjeF"
      },
      "source": [
        "Meer visualisatie"
      ]
    },
    {
      "cell_type": "code",
      "metadata": {
        "id": "ZxRVymMHfit2"
      },
      "source": [
        "def plot_confusion_matrix(y_true, y_pred, ax, class_names, vmax=None,\n",
        "                          normed=True, title='Confusion matrix'):\n",
        "    matrix = confusion_matrix(y_true,y_pred)\n",
        "    if normed:\n",
        "        matrix = matrix.astype('float') / matrix.sum(axis=1)[:, np.newaxis]\n",
        "    sb.heatmap(matrix, vmax=vmax, annot=True, square=True, ax=ax,\n",
        "               cmap=plt.cm.Blues_r, cbar=False, linecolor='black',\n",
        "               linewidths=1, xticklabels=class_names)\n",
        "    ax.set_title(title, y=1.20, fontsize=16)\n",
        "    #ax.set_ylabel('True labels', fontsize=12)\n",
        "    ax.set_xlabel('Predicted labels', y=1.10, fontsize=12)\n",
        "    ax.set_yticklabels(class_names, rotation=0)"
      ],
      "execution_count": null,
      "outputs": []
    },
    {
      "cell_type": "code",
      "metadata": {
        "colab": {
          "base_uri": "https://localhost:8080/"
        },
        "id": "nqsKxQEGfl4V",
        "outputId": "109101d2-993e-4ca7-df74-d4639c0eaa7c"
      },
      "source": [
        "y_train_pred = cnn_model.predict_classes(X_train)\n",
        "y_test_pred = cnn_model.predict_classes(X_test)"
      ],
      "execution_count": null,
      "outputs": [
        {
          "output_type": "stream",
          "text": [
            "/usr/local/lib/python3.7/dist-packages/tensorflow/python/keras/engine/sequential.py:450: UserWarning: `model.predict_classes()` is deprecated and will be removed after 2021-01-01. Please use instead:* `np.argmax(model.predict(x), axis=-1)`,   if your model does multi-class classification   (e.g. if it uses a `softmax` last-layer activation).* `(model.predict(x) > 0.5).astype(\"int32\")`,   if your model does binary classification   (e.g. if it uses a `sigmoid` last-layer activation).\n",
            "  warnings.warn('`model.predict_classes()` is deprecated and '\n"
          ],
          "name": "stderr"
        }
      ]
    },
    {
      "cell_type": "code",
      "metadata": {
        "colab": {
          "base_uri": "https://localhost:8080/",
          "height": 602
        },
        "id": "gCynk6Twfwjr",
        "outputId": "81e8fe8a-0447-46f1-bd30-6222648744ac"
      },
      "source": [
        "fig, (axis1, axis2) = plt.subplots(nrows=1, ncols=2)\n",
        "plot_confusion_matrix(y_train, y_train_pred, ax=axis1,\n",
        "                      title='Confusion matrix (train data)',\n",
        "                      class_names=['EXPLICIT', 'IMPLICIT', \"Not\"])\n",
        "plot_confusion_matrix(y_test, y_test_pred, ax=axis2,\n",
        "                      title='Confusion matrix (test data)',\n",
        "                      class_names=['EXPLICIT', 'IMPLICIT', \"Not\"])"
      ],
      "execution_count": null,
      "outputs": [
        {
          "output_type": "error",
          "ename": "NameError",
          "evalue": "ignored",
          "traceback": [
            "\u001b[0;31m---------------------------------------------------------------------------\u001b[0m",
            "\u001b[0;31mNameError\u001b[0m                                 Traceback (most recent call last)",
            "\u001b[0;32m<ipython-input-59-83731a0af3fe>\u001b[0m in \u001b[0;36m<module>\u001b[0;34m()\u001b[0m\n\u001b[1;32m      2\u001b[0m plot_confusion_matrix(y_train, y_train_pred, ax=axis1,\n\u001b[1;32m      3\u001b[0m                       \u001b[0mtitle\u001b[0m\u001b[0;34m=\u001b[0m\u001b[0;34m'Confusion matrix (train data)'\u001b[0m\u001b[0;34m,\u001b[0m\u001b[0;34m\u001b[0m\u001b[0;34m\u001b[0m\u001b[0m\n\u001b[0;32m----> 4\u001b[0;31m                       class_names=['EXPLICIT', 'IMPLICIT', \"Not\"])\n\u001b[0m\u001b[1;32m      5\u001b[0m plot_confusion_matrix(y_test, y_test_pred, ax=axis2,\n\u001b[1;32m      6\u001b[0m                       \u001b[0mtitle\u001b[0m\u001b[0;34m=\u001b[0m\u001b[0;34m'Confusion matrix (test data)'\u001b[0m\u001b[0;34m,\u001b[0m\u001b[0;34m\u001b[0m\u001b[0;34m\u001b[0m\u001b[0m\n",
            "\u001b[0;32m<ipython-input-57-ffbc4bd23432>\u001b[0m in \u001b[0;36mplot_confusion_matrix\u001b[0;34m(y_true, y_pred, ax, class_names, vmax, normed, title)\u001b[0m\n\u001b[1;32m      1\u001b[0m def plot_confusion_matrix(y_true, y_pred, ax, class_names, vmax=None,\n\u001b[1;32m      2\u001b[0m                           normed=True, title='Confusion matrix'):\n\u001b[0;32m----> 3\u001b[0;31m     \u001b[0mmatrix\u001b[0m \u001b[0;34m=\u001b[0m \u001b[0mconfusion_matrix\u001b[0m\u001b[0;34m(\u001b[0m\u001b[0my_true\u001b[0m\u001b[0;34m,\u001b[0m\u001b[0my_pred\u001b[0m\u001b[0;34m)\u001b[0m\u001b[0;34m\u001b[0m\u001b[0;34m\u001b[0m\u001b[0m\n\u001b[0m\u001b[1;32m      4\u001b[0m     \u001b[0;32mif\u001b[0m \u001b[0mnormed\u001b[0m\u001b[0;34m:\u001b[0m\u001b[0;34m\u001b[0m\u001b[0;34m\u001b[0m\u001b[0m\n\u001b[1;32m      5\u001b[0m         \u001b[0mmatrix\u001b[0m \u001b[0;34m=\u001b[0m \u001b[0mmatrix\u001b[0m\u001b[0;34m.\u001b[0m\u001b[0mastype\u001b[0m\u001b[0;34m(\u001b[0m\u001b[0;34m'float'\u001b[0m\u001b[0;34m)\u001b[0m \u001b[0;34m/\u001b[0m \u001b[0mmatrix\u001b[0m\u001b[0;34m.\u001b[0m\u001b[0msum\u001b[0m\u001b[0;34m(\u001b[0m\u001b[0maxis\u001b[0m\u001b[0;34m=\u001b[0m\u001b[0;36m1\u001b[0m\u001b[0;34m)\u001b[0m\u001b[0;34m[\u001b[0m\u001b[0;34m:\u001b[0m\u001b[0;34m,\u001b[0m \u001b[0mnp\u001b[0m\u001b[0;34m.\u001b[0m\u001b[0mnewaxis\u001b[0m\u001b[0;34m]\u001b[0m\u001b[0;34m\u001b[0m\u001b[0;34m\u001b[0m\u001b[0m\n",
            "\u001b[0;31mNameError\u001b[0m: name 'confusion_matrix' is not defined"
          ]
        },
        {
          "output_type": "display_data",
          "data": {
            "image/png": "[encoded data removed]",
            "text/plain": [
              "<Figure size 432x288 with 2 Axes>"
            ]
          },
          "metadata": {
            "tags": [],
            "needs_background": "light"
          }
        }
      ]
    },
    {
      "cell_type": "code",
      "metadata": {
        "colab": {
          "base_uri": "https://localhost:8080/",
          "height": 452
        },
        "id": "kHHCoWcHf1nI",
        "outputId": "0ca3a2bd-2a1e-4854-f020-21ed13b3e983"
      },
      "source": [
        "fig, (axis1, axis2) = plt.subplots(nrows=1, ncols=2, figsize=(16,6))\n",
        "print(history.history)\n",
        "# summarize history for accuracy\n",
        "axis1.plot(history.history['accuracy'], label='Train', linewidth=3)\n",
        "axis1.plot(history.history['val_accuracy'], label='Validation', linewidth=3)\n",
        "axis1.set_title('Model accuracy', fontsize=16)\n",
        "axis1.set_ylabel('accuracy')\n",
        "axis1.set_xlabel('epoch')\n",
        "axis1.legend(loc='upper left')\n",
        "\n",
        "# summarize history for loss\n",
        "axis2.plot(history.history['loss'], label='Train', linewidth=3)\n",
        "axis2.plot(history.history['val_loss'], label='Validation', linewidth=3)\n",
        "axis2.set_title('Model loss', fontsize=16)\n",
        "axis2.set_ylabel('loss')\n",
        "axis2.set_xlabel('epoch')\n",
        "axis2.legend(loc='upper right')\n",
        "plt.show()"
      ],
      "execution_count": null,
      "outputs": [
        {
          "output_type": "stream",
          "text": [
            "{'loss': [0.33290478587150574, 0.3279065191745758, 0.32427510619163513, 0.3219793140888214, 0.31652840971946716], 'accuracy': [0.9355546832084656, 0.9353551268577576, 0.9351556301116943, 0.9351556301116943, 0.9353551268577576], 'val_loss': [0.30251938104629517, 0.3058440387248993, 0.3024248480796814, 0.30297085642814636, 0.3065956234931946], 'val_accuracy': [0.9425837397575378, 0.9425837397575378, 0.9425837397575378, 0.9425837397575378, 0.9425837397575378]}\n"
          ],
          "name": "stdout"
        },
        {
          "output_type": "display_data",
          "data": {
            "image/png": "[encoded data removed]",
            "text/plain": [
              "<Figure size 1152x432 with 2 Axes>"
            ]
          },
          "metadata": {
            "tags": [],
            "needs_background": "light"
          }
        }
      ]
    }
  ]
}