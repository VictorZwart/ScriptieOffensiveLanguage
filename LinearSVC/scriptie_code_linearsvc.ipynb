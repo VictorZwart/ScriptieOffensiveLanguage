{
  "nbformat": 4,
  "nbformat_minor": 0,
  "metadata": {
    "colab": {
      "name": "scriptie_code_linearsvc.ipynb",
      "provenance": [],
      "authorship_tag": "ABX9TyN9Af5maUyXwuCmeEpAqyAt",
      "include_colab_link": true
    },
    "kernelspec": {
      "name": "python3",
      "display_name": "Python 3"
    },
    "language_info": {
      "name": "python"
    }
  },
  "cells": [
    {
      "cell_type": "markdown",
      "metadata": {
        "id": "view-in-github",
        "colab_type": "text"
      },
      "source": [
        "<a href=\"https://colab.research.google.com/github/VictorZwart/ScriptieOffensiveLanguage/blob/main/LinearSVC/scriptie_code_linearsvc.ipynb\" target=\"_parent\"><img src=\"https://colab.research.google.com/assets/colab-badge.svg\" alt=\"Open In Colab\"/></a>"
      ]
    },
    {
      "cell_type": "markdown",
      "metadata": {
        "id": "V-WRGLfypayz"
      },
      "source": [
        "# Import\n",
        "First import all the necessary packages and functions"
      ]
    },
    {
      "cell_type": "code",
      "metadata": {
        "colab": {
          "base_uri": "https://localhost:8080/"
        },
        "id": "99hTkNYpXHj8",
        "outputId": "d3d670eb-896c-4087-eb35-2904b3718dfa"
      },
      "source": [
        "import csv\n",
        "import nltk.classify\n",
        "import numpy as np\n",
        "import os\n",
        "import pandas as pd\n",
        "import random\n",
        "import re\n",
        "import sys\n",
        "import warnings\n",
        "import collections\n",
        "import nltk\n",
        "nltk.download('punkt')\n",
        "nltk.download('stopwords')\n",
        "\n",
        "from collections import defaultdict\n",
        "from nltk.metrics import precision, recall\n",
        "from nltk.classify.scikitlearn import SklearnClassifier\n",
        "from nltk.tokenize import word_tokenize\n",
        "from os import listdir\n",
        "from os.path import isfile, join\n",
        "from sklearn.svm import LinearSVC\n",
        "from sklearn.metrics import confusion_matrix\n",
        "from sklearn.feature_extraction.text import TfidfVectorizer\n",
        "from sklearn.feature_selection import chi2\n",
        "from nltk.corpus import stopwords, reuters\n",
        "from nltk.collocations import BigramCollocationFinder\n",
        "from nltk.metrics import BigramAssocMeasures\n",
        "from nltk.probability import FreqDist, ConditionalFreqDist\n"
      ],
      "execution_count": 13,
      "outputs": [
        {
          "output_type": "stream",
          "text": [
            "[nltk_data] Downloading package punkt to /root/nltk_data...\n",
            "[nltk_data]   Package punkt is already up-to-date!\n",
            "[nltk_data] Downloading package stopwords to /root/nltk_data...\n",
            "[nltk_data]   Unzipping corpora/stopwords.zip.\n"
          ],
          "name": "stdout"
        }
      ]
    },
    {
      "cell_type": "markdown",
      "metadata": {
        "id": "hfDxvAXxXk5W"
      },
      "source": [
        "The following code was extracted from \"featx.py\" Made by Toral but updated by me"
      ]
    },
    {
      "cell_type": "code",
      "metadata": {
        "id": "E8ngSMrOXVJn"
      },
      "source": [
        "def bag_of_words(words):\n",
        "\t'''\n",
        "\t>>> bag_of_words(['the', 'quick', 'brown', 'fox'])\n",
        "\t{'quick': True, 'brown': True, 'the': True, 'fox': True}\n",
        "\t'''\n",
        "\treturn dict([(word, True) for word in words])\n",
        "\n",
        "def bag_of_words_not_in_set(words, badwords):\n",
        "\t'''\n",
        "\t>>> bag_of_words_not_in_set(['the', 'quick', 'brown', 'fox'], ['the'])\n",
        "\t{'quick': True, 'brown': True, 'fox': True}\n",
        "\t'''\n",
        "\treturn bag_of_words(set(words) - set(badwords))\n",
        "\n",
        "def bag_of_non_stopwords(words, stopfile='english'):\n",
        "\t'''\n",
        "\t>>> bag_of_non_stopwords(['the', 'quick', 'brown', 'fox'])\n",
        "\t{'quick': True, 'brown': True, 'fox': True}\n",
        "\t'''\n",
        "\tbadwords = stopwords.words(stopfile)\n",
        "\treturn bag_of_words_not_in_set(words, badwords)\n",
        "\n",
        "def bag_of_bigrams_words(words, score_fn=BigramAssocMeasures.chi_sq, n=200):\n",
        "\t'''\n",
        "\t>>> bag_of_bigrams_words(['the', 'quick', 'brown', 'fox'])\n",
        "\t{'brown': True, ('brown', 'fox'): True, ('the', 'quick'): True, 'quick': True, ('quick', 'brown'): True, 'the': True, 'fox': True}\n",
        "\t'''\n",
        "\ttry:\n",
        "\t\tbigram_finder = BigramCollocationFinder.from_words(words)\n",
        "\t\tbigrams = bigram_finder.nbest(score_fn, n)\n",
        "\texcept:\n",
        "\t\tbigrams = []\n",
        "\treturn bag_of_words(words + bigrams)\n",
        "\n",
        "def bag_of_bigrams_non_stopwords(words, stopfile='stopfile', score_fn=BigramAssocMeasures.chi_sq, n=200):\n",
        "\t'''\n",
        "\t>>> bag_of_bigrams_non_stopwords(['the', 'quick', 'brown', 'fox'])\n",
        "\t{'quick': True, ('quick', 'brown'): True, 'fox': True, ('the', 'quick'): True, ('brown', 'fox'): True, 'brown': True}\n",
        "\tRemoves the stopwords from the unigrams but NOT from the bigrams\n",
        "\t'''\n",
        "\tbadwords = stopwords.words(stopfile)\n",
        "\ttry:\n",
        "\t\tbigram_finder = BigramCollocationFinder.from_words(words)\n",
        "\t\tbigrams = bigram_finder.nbest(score_fn, n)\n",
        "\texcept:\n",
        "\t\tbigrams = []\n",
        "\twords = set(words + bigrams)\n",
        "\treturn bag_of_words_not_in_set(words, badwords)\n",
        "\n",
        "\n",
        "def bag_of_words_in_set(words, goodwords):\n",
        "\treturn bag_of_words(set(words) & set(goodwords))\n",
        "\n",
        "def label_feats_from_corpus(corp, feature_detector=bag_of_words):\n",
        "\tlabel_feats = collections.defaultdict(list)\n",
        "\t\n",
        "\tfor label in corp.categories():\n",
        "\t\tfor fileid in corp.fileids(categories=[label]):\n",
        "\t\t\tfeats = feature_detector(corp.words(fileids=[fileid]))\n",
        "\t\t\tlabel_feats[label].append(feats)\n",
        "\t\n",
        "\treturn label_feats\n",
        "\n",
        "def split_label_feats(lfeats, split=0.75):\n",
        "\ttrain_feats = []\n",
        "\ttest_feats = []\n",
        "\t\n",
        "\tfor label, feats in lfeats.items():\n",
        "\t\tcutoff = int(len(feats) * split)\n",
        "\t\ttrain_feats.extend([(feat, label) for feat in feats[:cutoff]])\n",
        "\t\ttest_feats.extend([(feat, label) for feat in feats[cutoff:]])\n",
        "\t\n",
        "\treturn train_feats, test_feats\n",
        "\n",
        "def high_information_words(labelled_words, score_fn=BigramAssocMeasures.chi_sq, min_score=5):\n",
        "\tword_fd = FreqDist()\n",
        "\tlabel_word_fd = ConditionalFreqDist()\n",
        "\t\n",
        "\tfor label, words in labelled_words:\n",
        "\t\tfor word in words:\n",
        "\t\t\tword_fd[word] += 1\n",
        "\t\t\tlabel_word_fd[label][word] += 1\n",
        "\t\n",
        "\tn_xx = label_word_fd.N()\n",
        "\thigh_info_words = set()\n",
        "\t\n",
        "\tfor label in label_word_fd.conditions():\n",
        "\t\tn_xi = label_word_fd[label].N()\n",
        "\t\tword_scores = collections.defaultdict(int)\n",
        "\t\t\n",
        "\t\tfor word, n_ii in label_word_fd[label].items():\n",
        "\t\t\tn_ix = word_fd[word]\n",
        "\t\t\tscore = score_fn(n_ii, (n_ix, n_xi), n_xx)\n",
        "\t\t\tword_scores[word] = score\n",
        "\t\t\n",
        "\t\tbestwords = [word for word, score in word_scores.items() if score >= min_score]\n",
        "\t\thigh_info_words |= set(bestwords)\n",
        "\t\n",
        "\treturn high_info_words\n",
        "\n",
        "def reuters_high_info_words(score_fn=BigramAssocMeasures.chi_sq):\n",
        "\tlabeled_words = []\n",
        "\t\n",
        "\tfor label in reuters.categories():\n",
        "\t\tlabeled_words.append((label, reuters.words(categories=[label])))\n",
        "\t\n",
        "\treturn high_information_words(labeled_words, score_fn=score_fn)\n",
        "\n",
        "def reuters_train_test_feats(feature_detector=bag_of_words):\n",
        "\ttrain_feats = []\n",
        "\ttest_feats = []\n",
        "\t\n",
        "\tfor fileid in reuters.fileids():\n",
        "\t\tif fileid.startswith('training'):\n",
        "\t\t\tfeatlist = train_feats\n",
        "\t\telse: # fileid.startswith('test')\n",
        "\t\t\tfeatlist = test_feats\n",
        "\t\t\n",
        "\t\tfeats = feature_detector(reuters.words(fileid))\n",
        "\t\tlabels = reuters.categories(fileid)\n",
        "\t\tfeatlist.append((feats, labels))\n",
        "\t\n",
        "\treturn train_feats, test_feats"
      ],
      "execution_count": 14,
      "outputs": []
    },
    {
      "cell_type": "markdown",
      "metadata": {
        "id": "je5ETPbVX1dY"
      },
      "source": [
        "# Read Dataset"
      ]
    },
    {
      "cell_type": "code",
      "metadata": {
        "colab": {
          "resources": {
            "http://localhost:8080/nbextensions/google.colab/files.js": {
              "data": "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",
              "ok": true,
              "headers": [
                [
                  "content-type",
                  "application/javascript"
                ]
              ],
              "status": 200,
              "status_text": ""
            }
          },
          "base_uri": "https://localhost:8080/",
          "height": 241
        },
        "id": "LSVqbfk3Yfp3",
        "outputId": "f0ef364f-e72e-453a-de9f-ae08869969dc"
      },
      "source": [
        "# upload data\n",
        "from google.colab import files\n",
        "train_csv = files.upload()\n",
        "dev_csv= files.upload()\n",
        "test_csv = files.upload()\n",
        "wrong_csv = files.upload()"
      ],
      "execution_count": 1,
      "outputs": [
        {
          "output_type": "display_data",
          "data": {
            "text/html": [
              "\n",
              "     <input type=\"file\" id=\"files-e89c668c-639d-4689-bdb1-f1e3796127f5\" name=\"files[]\" multiple disabled\n",
              "        style=\"border:none\" />\n",
              "     <output id=\"result-e89c668c-639d-4689-bdb1-f1e3796127f5\">\n",
              "      Upload widget is only available when the cell has been executed in the\n",
              "      current browser session. Please rerun this cell to enable.\n",
              "      </output>\n",
              "      <script src=\"/nbextensions/google.colab/files.js\"></script> "
            ],
            "text/plain": [
              "<IPython.core.display.HTML object>"
            ]
          },
          "metadata": {
            "tags": []
          }
        },
        {
          "output_type": "stream",
          "text": [
            "Saving train_final.csv to train_final.csv\n"
          ],
          "name": "stdout"
        },
        {
          "output_type": "display_data",
          "data": {
            "text/html": [
              "\n",
              "     <input type=\"file\" id=\"files-e8092aa1-a732-4396-b952-8ceb50f49a94\" name=\"files[]\" multiple disabled\n",
              "        style=\"border:none\" />\n",
              "     <output id=\"result-e8092aa1-a732-4396-b952-8ceb50f49a94\">\n",
              "      Upload widget is only available when the cell has been executed in the\n",
              "      current browser session. Please rerun this cell to enable.\n",
              "      </output>\n",
              "      <script src=\"/nbextensions/google.colab/files.js\"></script> "
            ],
            "text/plain": [
              "<IPython.core.display.HTML object>"
            ]
          },
          "metadata": {
            "tags": []
          }
        },
        {
          "output_type": "stream",
          "text": [
            "Saving dev_final.csv to dev_final.csv\n"
          ],
          "name": "stdout"
        },
        {
          "output_type": "display_data",
          "data": {
            "text/html": [
              "\n",
              "     <input type=\"file\" id=\"files-a2c38d00-d952-4780-9878-8bbd304057a5\" name=\"files[]\" multiple disabled\n",
              "        style=\"border:none\" />\n",
              "     <output id=\"result-a2c38d00-d952-4780-9878-8bbd304057a5\">\n",
              "      Upload widget is only available when the cell has been executed in the\n",
              "      current browser session. Please rerun this cell to enable.\n",
              "      </output>\n",
              "      <script src=\"/nbextensions/google.colab/files.js\"></script> "
            ],
            "text/plain": [
              "<IPython.core.display.HTML object>"
            ]
          },
          "metadata": {
            "tags": []
          }
        },
        {
          "output_type": "stream",
          "text": [
            "Saving test_final.csv to test_final.csv\n"
          ],
          "name": "stdout"
        },
        {
          "output_type": "display_data",
          "data": {
            "text/html": [
              "\n",
              "     <input type=\"file\" id=\"files-20af6619-e11f-4e67-afba-d25a962b8043\" name=\"files[]\" multiple disabled\n",
              "        style=\"border:none\" />\n",
              "     <output id=\"result-20af6619-e11f-4e67-afba-d25a962b8043\">\n",
              "      Upload widget is only available when the cell has been executed in the\n",
              "      current browser session. Please rerun this cell to enable.\n",
              "      </output>\n",
              "      <script src=\"/nbextensions/google.colab/files.js\"></script> "
            ],
            "text/plain": [
              "<IPython.core.display.HTML object>"
            ]
          },
          "metadata": {
            "tags": []
          }
        },
        {
          "output_type": "stream",
          "text": [
            "Saving wrong.csv to wrong.csv\n"
          ],
          "name": "stdout"
        }
      ]
    },
    {
      "cell_type": "code",
      "metadata": {
        "id": "JzTsOEIJYHo4"
      },
      "source": [
        "def preprocess(line):\n",
        "    # first lowercase:\n",
        "    line = line.lower()\n",
        "\n",
        "    # remove mentions:\n",
        "    line = re.sub(r'(@\\w+)', 'MENTION', line)\n",
        "\n",
        "    # remove url's:\n",
        "    line = re.sub(r'(https\\S+)', 'URL', line)\n",
        "\n",
        "    # remove all numbers\n",
        "    line = re.sub(r'[0-9]+', 'NUMBER', line)\n",
        "\n",
        "    # remove all hashtags\n",
        "    line = re.sub(r'#', '', line)\n",
        "\n",
        "    return line"
      ],
      "execution_count": 2,
      "outputs": []
    },
    {
      "cell_type": "code",
      "metadata": {
        "id": "OOvE4MSoXtIB"
      },
      "source": [
        "def read_dataset(dataset_csv, genres_dict):\n",
        "    \"\"\"\n",
        "    returns feats: a list containing tuples\n",
        "    each tuple follows the structure (bag, genre), where bag is a bag of words dictionary\n",
        "\n",
        "    reads the dataset csv file with reviews for all the genres and puts their contents in bags of words\n",
        "    \"\"\"\n",
        "\n",
        "    feats = list()\n",
        "    text_list = list()\n",
        "    offensiveness = ['NOT', 'EXPLICIT', 'IMPLICIT']\n",
        "\n",
        "    with open(dataset_csv, 'r', encoding='UTF-8') as d:\n",
        "        reader = csv.reader(d, delimiter='\\t')\n",
        "        headers = next(d)  # Skip the headers\n",
        "\n",
        "        # Make dictionary to count how many reviews each genre has\n",
        "        offensive_dict = defaultdict()\n",
        "\n",
        "        # Go through the rows in the dataset and collect a bag of words for all the genres:\n",
        "        for row in reader:\n",
        "            # print(row)\n",
        "            id, text, explicitness = row[0], row[1], offensiveness.index(row[6])\n",
        "            text = preprocess(text)\n",
        "            text_list.append(text)\n",
        "            tokens = word_tokenize(text)\n",
        "\n",
        "            # Remove punctuation from the tokens:\n",
        "            punctuation = '\"!?/.,()[]{}<>@#$-_=+;:' + \"'\"\n",
        "            table = str.maketrans('', '', punctuation)\n",
        "            tokens = [w.translate(table) for w in tokens]\n",
        "            tokens = list(filter(None, tokens))\n",
        "\n",
        "            # Applying a combination of taking only non-stopwords bigrams, while all words being in lowercase:\n",
        "            bag = bag_of_bigrams_non_stopwords(tokens, 'english')\n",
        "            feats.append((bag, explicitness))\n",
        "\n",
        "            # Increase review count for genre\n",
        "            offensive_dict[explicitness] = offensive_dict.get(explicitness, 0) + 1\n",
        "\n",
        "        for explicitness in offensive_dict:\n",
        "            print(\"  Genre {:10} {:5} reviews\".format(genres_dict[explicitness], offensive_dict[explicitness]))\n",
        "\n",
        "    print(\"  Total: {} reviews read\".format(len(feats)))\n",
        "    # print(feats)\n",
        "    return feats, text_list"
      ],
      "execution_count": 39,
      "outputs": []
    },
    {
      "cell_type": "code",
      "metadata": {
        "colab": {
          "base_uri": "https://localhost:8080/"
        },
        "id": "NNSfnILHX70o",
        "outputId": "b73a11cc-451e-42b5-9ee3-6b1f34372ea0"
      },
      "source": [
        "genres_dict = {0: \"NOT\", 1: \"IMPLICIT\", 2: \"EXPLICIT\"}\n",
        "print(\"\\n##### Reading training data:\")\n",
        "train_feats, train_text = read_dataset('train_final.csv', genres_dict)\n",
        "print(\"\\n##### Reading development data:\")\n",
        "dev_feats, dev_text = read_dataset('dev_final.csv', genres_dict)\n",
        "print(\"\\n##### Reading test data:\")\n",
        "test_feats, test_text = read_dataset('test_final.csv', genres_dict)"
      ],
      "execution_count": 40,
      "outputs": [
        {
          "output_type": "stream",
          "text": [
            "\n",
            "##### Reading training data:\n",
            "  Genre EXPLICIT    1163 reviews\n",
            "  Genre IMPLICIT    1425 reviews\n",
            "  Genre NOT         5176 reviews\n",
            "  Total: 7764 reviews read\n",
            "\n",
            "##### Reading development data:\n",
            "  Genre NOT          361 reviews\n",
            "  Genre IMPLICIT     104 reviews\n",
            "  Genre EXPLICIT      82 reviews\n",
            "  Total: 547 reviews read\n",
            "\n",
            "##### Reading test data:\n",
            "  Genre EXPLICIT     334 reviews\n",
            "  Genre IMPLICIT     702 reviews\n",
            "  Genre NOT         2072 reviews\n",
            "  Total: 3108 reviews read\n"
          ],
          "name": "stdout"
        }
      ]
    },
    {
      "cell_type": "markdown",
      "metadata": {
        "id": "JQWVtVI-aTCy"
      },
      "source": [
        "#Extra"
      ]
    },
    {
      "cell_type": "code",
      "metadata": {
        "id": "zYMUbQU5aSip"
      },
      "source": [
        "def high_info_feats(feats, genres_dict):\n",
        "    \"\"\"\n",
        "    returns hi_feats, a list containing tuples (bag_dict, category_string)\n",
        "\n",
        "    makes sure the feats contain bags of words with only high info words in them\n",
        "    \"\"\"\n",
        "\n",
        "    hi_feats = list()\n",
        "\n",
        "    # Convert the formatting of our features to that required by high_information_words\n",
        "    words = defaultdict(list)\n",
        "    for genre in genres_dict:\n",
        "        words[genre] = list()\n",
        "\n",
        "    for feat in feats:\n",
        "        genre = feat[1]\n",
        "        bag = feat[0]\n",
        "        for w in bag.keys():\n",
        "            words[genre].append(w)\n",
        "\n",
        "    # Calculate high information words\n",
        "    labelled_words = [(genre, words[genre]) for genre in genres_dict]\n",
        "    high_info_words = set(high_information_words(labelled_words, min_score=7))\n",
        "\n",
        "    # Use the high information words to create high information features\n",
        "    for feat in feats:\n",
        "        category = feat[1]\n",
        "        bag = feat[0]\n",
        "        hi_bag = dict()\n",
        "        for w in bag.keys():\n",
        "            if w in high_info_words:  # ensure the words in each bag are only high info words\n",
        "                hi_bag[w] = bag[w]\n",
        "        hi_feats.append((hi_bag, category))  # add the new bag dict and category to the features list\n",
        "\n",
        "    return hi_feats"
      ],
      "execution_count": 41,
      "outputs": []
    },
    {
      "cell_type": "code",
      "metadata": {
        "id": "iGymBo4aaRxK"
      },
      "source": [
        "    # Use high information words & high information feats:\n",
        "    train_hifeats = high_info_feats(train_feats, genres_dict)\n",
        "    dev_hifeats = high_info_feats(dev_feats, genres_dict)\n",
        "    test_hifeats = high_info_feats(test_feats, genres_dict)"
      ],
      "execution_count": 42,
      "outputs": []
    },
    {
      "cell_type": "markdown",
      "metadata": {
        "id": "BhlVjM3aac0Z"
      },
      "source": [
        "#Train classifier"
      ]
    },
    {
      "cell_type": "code",
      "metadata": {
        "colab": {
          "base_uri": "https://localhost:8080/",
          "height": 207
        },
        "id": "M0nl0BZLacih",
        "outputId": "b761b6c7-4175-436a-964f-2b5107ed1dcf"
      },
      "source": [
        "    classifier = SklearnClassifier(LinearSVC(C=0.1))\n",
        "    classifier._vectorizer.sort = False  # This step is necessary when working with bigrams\n",
        "    classifier.train(train_feats)"
      ],
      "execution_count": 43,
      "outputs": [
        {
          "output_type": "error",
          "ename": "TypeError",
          "evalue": "ignored",
          "traceback": [
            "\u001b[0;31m---------------------------------------------------------------------------\u001b[0m",
            "\u001b[0;31mTypeError\u001b[0m                                 Traceback (most recent call last)",
            "\u001b[0;32m<ipython-input-43-9244bc332a02>\u001b[0m in \u001b[0;36m<module>\u001b[0;34m()\u001b[0m\n\u001b[0;32m----> 1\u001b[0;31m \u001b[0mclassifier\u001b[0m \u001b[0;34m=\u001b[0m \u001b[0mSklearnClassifier\u001b[0m\u001b[0;34m(\u001b[0m\u001b[0mLinearSVC\u001b[0m\u001b[0;34m(\u001b[0m\u001b[0mC\u001b[0m\u001b[0;34m=\u001b[0m\u001b[0;36m0.1\u001b[0m\u001b[0;34m)\u001b[0m\u001b[0;34m)\u001b[0m\u001b[0;34m\u001b[0m\u001b[0;34m\u001b[0m\u001b[0m\n\u001b[0m\u001b[1;32m      2\u001b[0m \u001b[0mclassifier\u001b[0m\u001b[0;34m.\u001b[0m\u001b[0m_vectorizer\u001b[0m\u001b[0;34m.\u001b[0m\u001b[0msort\u001b[0m \u001b[0;34m=\u001b[0m \u001b[0;32mFalse\u001b[0m  \u001b[0;31m# This step is necessary when working with bigrams\u001b[0m\u001b[0;34m\u001b[0m\u001b[0;34m\u001b[0m\u001b[0m\n\u001b[1;32m      3\u001b[0m \u001b[0mclassifier\u001b[0m\u001b[0;34m.\u001b[0m\u001b[0mtrain\u001b[0m\u001b[0;34m(\u001b[0m\u001b[0mtrain_feats\u001b[0m\u001b[0;34m)\u001b[0m\u001b[0;34m\u001b[0m\u001b[0;34m\u001b[0m\u001b[0m\n",
            "\u001b[0;31mTypeError\u001b[0m: 'str' object is not callable"
          ]
        }
      ]
    },
    {
      "cell_type": "markdown",
      "metadata": {
        "id": "mxGDDV85apKx"
      },
      "source": [
        "#Evaluate"
      ]
    },
    {
      "cell_type": "code",
      "metadata": {
        "id": "VZibfYjLarta"
      },
      "source": [
        "def evaluation(classifier, test_feats, genres_dict):\n",
        "    \"\"\"\n",
        "    Calculates and prints evaluation measures\n",
        "    \"\"\"\n",
        "    print(\"\\n##### Evaluation...\")\n",
        "    print(\"  Accuracy: %f\" % nltk.classify.accuracy(classifier, test_feats))\n",
        "    precisions, recalls = precision_recall(classifier, test_feats)\n",
        "    f_measures = calculate_f(precisions, recalls)\n",
        "\n",
        "    print(\" |-----------|-----------|-----------|-----------|\")\n",
        "    print(\" |%-11s|%-11s|%-11s|%-11s|\" % (\"genre\", \"precision\", \"recall\", \"F-measure\"))\n",
        "    print(\" |-----------|-----------|-----------|-----------|\")\n",
        "    for genre in genres_dict:\n",
        "        if precisions[genre] is None:\n",
        "            print(\" |%-11s|%-11s|%-11s|%-11s|\" % (genres_dict[genre], \"NA\", \"NA\", \"NA\"))\n",
        "        else:\n",
        "            print(\" |%-11s|%-11f|%-11f|%-11f|\" % (\n",
        "            genres_dict[genre], precisions[genre], recalls[genre], f_measures[genre]))\n",
        "    print(\" |-----------|-----------|-----------|-----------|\")\n",
        "\n",
        "\n",
        "def calculate_f(precisions, recalls):\n",
        "    \"\"\"\n",
        "    Calculates and returns a dict with the f measure for each genre, using as input the precisions and recalls\n",
        "    \"\"\"\n",
        "    f_measures = {}\n",
        "\n",
        "    for gen in precisions:  # loop over all the genres\n",
        "        p = precisions[gen]\n",
        "        r = recalls[gen]\n",
        "        if p is None:\n",
        "            f_measures[gen] = \"NA\"\n",
        "        elif p == 0.0 and r == 0.0:  # preventing division by zero\n",
        "            f_measures[gen] = 0.0\n",
        "        else:\n",
        "            f_measures[gen] = (2 * (p * r)) / (p + r)\n",
        "\n",
        "    return f_measures\n",
        "\n",
        "\n",
        "def print_confusion_matrix(classifier, test_feats, genres_dict):\n",
        "    \"\"\"\n",
        "    Prints a confusion matrix with predicted values on the X-axis and gold labels on the Y-axis\n",
        "    \"\"\"\n",
        "    predictions = classifier.classify_many([fs for (fs, l) in test_feats])\n",
        "    gold_labels = [l for (fs, l) in test_feats]\n",
        "\n",
        "    print(\"\\n##### Confusion matrix\\nX-axis = predicted; Y-axis = gold:\")\n",
        "    print(\"\\n  \" + \" \".join([genre[:3] for genre in genres_dict.values()]))\n",
        "    print(confusion_matrix(gold_labels, predictions, labels=[int(g) for g in genres_dict.keys()]))\n",
        "\n",
        "def precision_recall(classifier, testfeats):\n",
        "    refsets = collections.defaultdict(set)\n",
        "    testsets = collections.defaultdict(set)\n",
        "\n",
        "    for i, (feats, label) in enumerate(testfeats):\n",
        "        refsets[label].add(i)\n",
        "        observed = classifier.classify(feats)\n",
        "        testsets[observed].add(i)\n",
        "\n",
        "    precisions = {}\n",
        "    recalls = {}\n",
        "\n",
        "    for label in classifier.labels():\n",
        "        precisions[label] = precision(refsets[label], testsets[label])\n",
        "        recalls[label] = recall(refsets[label], testsets[label])\n",
        "\n",
        "    return precisions, recalls"
      ],
      "execution_count": 44,
      "outputs": []
    },
    {
      "cell_type": "code",
      "metadata": {
        "colab": {
          "base_uri": "https://localhost:8080/"
        },
        "id": "fwK07jL_aqmZ",
        "outputId": "8cd204eb-845f-4cbb-e2fe-92bcc3decd75"
      },
      "source": [
        "    evaluation(classifier.train(train_hifeats), dev_feats, genres_dict)\n",
        "    print_confusion_matrix(classifier, dev_feats, genres_dict)"
      ],
      "execution_count": 45,
      "outputs": [
        {
          "output_type": "stream",
          "text": [
            "\n",
            "##### Evaluation...\n",
            "  Accuracy: 0.765996\n",
            " |-----------|-----------|-----------|-----------|\n",
            " |genre      |precision  |recall     |F-measure  |\n",
            " |-----------|-----------|-----------|-----------|\n",
            " |NOT        |0.798611   |0.955679   |0.870113   |\n",
            " |IMPLICIT   |0.742857   |0.500000   |0.597701   |\n",
            " |EXPLICIT   |0.488889   |0.268293   |0.346457   |\n",
            " |-----------|-----------|-----------|-----------|\n",
            "\n",
            "##### Confusion matrix\n",
            "X-axis = predicted; Y-axis = gold:\n",
            "\n",
            "  NOT IMP EXP\n",
            "[[345   4  12]\n",
            " [ 41  52  11]\n",
            " [ 46  14  22]]\n"
          ],
          "name": "stdout"
        }
      ]
    },
    {
      "cell_type": "markdown",
      "metadata": {
        "id": "gOKUp_TZbDFl"
      },
      "source": [
        "#Wrong classifications"
      ]
    },
    {
      "cell_type": "code",
      "metadata": {
        "id": "lDMns90SbH2h"
      },
      "source": [
        "def wrong_classified(classifier, feats, text_list):\n",
        "    wrong_dict = {}\n",
        "    with open('wrong.csv', 'r', encoding='UTF-8') as d:\n",
        "        reader = csv.reader(d, delimiter='\\t')\n",
        "        headers = next(d)  # Skip the headers\n",
        "        for row in reader:\n",
        "\n",
        "            text, golden, bilstm, cnn, LinearSVC = row\n",
        "            wrong_dict[text] = [golden, bilstm, cnn, LinearSVC]\n",
        "    print(wrong_dict)\n",
        "\n",
        "\n",
        "    predictions = classifier.classify_many([fs for (fs, l) in feats])\n",
        "    gold_labels = [l for (fs, l) in feats]\n",
        "    index = 0\n",
        "    for pred, real in zip(predictions, gold_labels):\n",
        "        if pred != real:\n",
        "            text = text_list[index]\n",
        "            if text in wrong_dict: # If the text is already in the dictionary\n",
        "                other_preds = wrong_dict[text]\n",
        "                other_preds[3] = pred # Linearsvc is on index 3\n",
        "                wrong_dict[text] = other_preds\n",
        "            else: # if the key doesnt exist yet then the other classifiers got it right.\n",
        "                wrong_dict[text] = [real, real, real, pred]\n",
        "            # print(text[index], pred, real)\n",
        "\n",
        "        index += 1\n",
        "\n",
        "    fields = [\"text\", \"golden\", 'bilstm', 'cnn', 'LinearSVC']\n",
        "    headers = {'text','golden','bilstm', 'cnn', 'LinearSVC' }\n",
        "    with open('final_wrong.csv', 'w') as final_file:\n",
        "        writer = csv.writer(final_file, delimiter='\\t')\n",
        "        writer.writerow(fields)\n",
        "        for text, pred in wrong_dict.items():\n",
        "            row = [text, pred[0], pred[1], pred[2], pred[3]]\n",
        "            print(row)\n",
        "            writer.writerow(row)\n",
        "    files.download('final_wrong.csv')   "
      ],
      "execution_count": 46,
      "outputs": []
    },
    {
      "cell_type": "code",
      "metadata": {
        "colab": {
          "base_uri": "https://localhost:8080/",
          "height": 1000
        },
        "id": "5z-BqxgDa_yA",
        "outputId": "8183aa52-eac0-4d89-b33e-010514b221d1"
      },
      "source": [
        "    wrong_classified(classifier, dev_feats, dev_text)"
      ],
      "execution_count": 47,
      "outputs": [
        {
          "output_type": "stream",
          "text": [
            "{'MENTION MENTION iets anders, wanneer word asscher voor de rechter gesleept voor het willens en wetens aan de afgrond brengen van duizende mensen door de kinderopvangtoeslagenaffaire???': ['0', '2', '2', '0'], 'MENTION MENTION MENTION iets anders, wanneer word asscher voor de rechter gesleept voor het willens en wetens aan de afgrond brengen van duizende mensen door de kinderopvangtoeslagenaffaire???': ['0', '2', '2', '0'], 'MENTION MENTION iedereen kan ervan leren. bijv. hoe een demagoog een volk demoniseerde en zijn partij als alleenheerser leidde.': ['0', '2', '0', '0'], 'MENTION MENTION iedereen die het niet eens is met standpunten sylvana móet volgens artikelNUMBER wel een racist/facist/vrouwenhater zijn': ['0', '2', '0', '0'], 'iedereen feliciteer MENTION even! ze is echt een super toffe meid dus NUMBER felicitaasitje kan wel😊 || rt is lieff❤': ['0', '2', '0', '0'], 'iemand hier ervaring met body stress release-behandeling? dtv': ['0', '2', '0', '0'], 'MENTION ach man ! je hebt geen idee hoeveel er goed de pest hebben in je gedrag . denk niet dat je het alleen red in deze wereld ! je komt er nog wel achter kuttekop !!': ['1', '0', '1', '1'], 'waar komen die zwarten vandaan ????ongelooflijk merkel wat heb je europa aangedaan URL': ['2', '0', '0', '2'], 'MENTION geloof me bryan die vent heeft geen geweten het is een duivel in maat kostuum .': ['1', '0', '0', '1'], 'idioot die obama de nobelprijs gaf gaat nu aan zml uitleggen dat het wel meevalt met die moslims gezien islaminvasie praat hij bullshit': ['1', '0', '0', '1'], 'MENTION ze hadden de hele troep in een fuik moeten loodsen vastzetten en uitzetten .': ['2', '0', '0', '2'], 'MENTION MENTION MENTION linkse kitjes die maling hebben aan de hele samenleving! kapot slaan zou ik zeggen al die linkse veganistische gekken': ['1', '0', '0', '1'], 'islam is een agressieve tumor die met alle mogelijke middelen moet worden bestreden.': ['1', '0', '0', '1'], 'het is geen toeval dat de felste kritiek op de aanpak door een linkse vrouwelijke burgemeester van een onfortuinlijk verlopen antiracistismedemonstratie komt uit de hoek van vrouwonvriendelijk extreemrechts. jammer dat zovelen in de val lopen en zich laten meeslepen. halsema': ['2', '0', '0', '2'], 'MENTION wat gebeurd is niet goed te praten agent was fout dus dan ga je maar stelen en alles in brand steken ?????? en eerlijk hoeveel zwarten maken problemen in heel de wereld ?? leren wij hun dat ?? hoeveel mensen worden verkracht vermoord door zwarten??': ['2', '0', '0', '2'], 'altijd extreemrechts tuig dat moslims betrapt op onaangepast gedrag. typisch.': ['1', '0', '0', '1'], \"maar men zet tijdens de anti-lockdown demonstratie in den haag wel NUMBER me'ers in op nog geen NUMBER man...en NUMBER!! slinkse extremisten krijgen vrij spel..er wordt met twee maten gemeten..zeg dat nou eens! slapjanus! MENTION vragenuurtje\": ['1', '0', '1', '1'], 'MENTION MENTION MENTION hahaha zo is het wel, we betalen allemaal hetzelfde alleen procentueel ligt het net even anders. maar ze hebben dan altijd het weerwoord van ze betalen zoveel, maar vergeten dat ze eerst gebruik maken van het deel wat de minderbedeelden ook moeten betalen': ['2', '0', '2', '2'], 'lekker man, wakker worden met een enorme haat jegens moslims en de islam... fuckislam': ['1', '0', '0', '1'], 'MENTION MENTION gij dineren , uw als een varken volvreten zeker , uw soort kent geen manieren vreetvarkens . ja ik ken uw probleem gedaan met uw aanhoudster te gaan eten hé . moesten ze bij uw soort varkens al veel langer gedaan hebben': ['1', '0', '1', '1'], 'maar hoe gaat de belastingdienst die brief nou bezorgen bij die ouder die zelfmoord pleegde na onterecht als fraudeur te boek gesteld te zijn? per vlieger?': ['2', '0', '2', '2'], 'MENTION MENTION leuk dat jullie linkse fascisten, die geweld goed praten, voor jullie hebben schrijven! URL': ['1', '0', '0', '1'], 'tsja heks dieuwertje is al teveel scholen barneveld kijken niet meer naar sinterklaasjournaal vanwege hekserij URL': ['1', '0', '0', '1'], 'ga eens dood, pijnlijk please': ['1', '0', '0', '1'], 'vergeet de pensioenleeftijd, het geld naar griekenland, de afbraak van de medische en ouderenzorg niet rutte is asociale leugenaar URL': ['1', '0', '2', '1'], 'MENTION het is antifa tuig dat moet oogeruimd worden': ['1', '0', '1', '1'], 'zich durft te uiten , bang te zijn om uitgemaakt te worden voor rasist etc etc . dit is mijn mening , en ik ben benieuwd of jij , gijs rademaker , mijn lekker ding 😉 , hier nou eens in het openbaar een weerwoord op dit bericht durft te geven . ben benieuwd': ['2', '0', '0', '2'], 'turkije wil excuses nadat ze ons uitmaken voor fascisten en overblijfselen van nazi duitsland. hoe triest is het allemaal zeg turkijerel': ['2', '0', '0', '2'], 'MENTION MENTION we kunnen ook mensen doodmaken eens kijken of dat je dan ook een nerts voelt.': ['2', '0', '2', '2'], 'MENTION MENTION MENTION MENTION verplegenden, families, vrienden, vriendinnen, ouders oma’s opa’s, hebben geleden en jij snapt niet wat omzigt zegt! je bent een lamlul! leer de basisprincipes van gelijkheid en dan zeker in deze periode! gadverdamme! MENTION ga jij nog klappen voor de zorg! mijn oma en opa!': ['1', '0', '0', '1'], 'MENTION daar kan en wil je niet mee leven. dat uitschot hoort gewoon niet in de westerse wereld thuis.': ['1', '0', '1', '1'], 'MENTION mijn dochter mag officieel ook niet naar de wc. ik ben even naar die school geweest. stevig, maar keurig gesprek gehad. ze mag nu gewoon naar het. toilet. t moet ook niet gekker worden; stel volslagen debielen in dit land.': ['1', '0', '0', '1'], 'MENTION MENTION MENTION MENTION doen ze niet. durven ze niet. het zijn slechts domme haatvolle haatgollems die haatzaaien.': ['1', '0', '0', '1'], 'MENTION ik schop graag tegen je aan omdat ik je een staatsgevaarlijke idioot vind maar dat ventje is gewoon een minkukel en kan niet verder naast de waarheid zitten.': ['1', '0', '0', '1'], 'wie gaat er nu protesteren voor een dode misdadiger? geld 💰 dus.... en links subsidies 🤮 URL': ['2', '0', '2', '2'], 'MENTION MENTION lieve fleur die gast en de hele rivm kliek bepaalt niet hoe wij moeten leven ik doe al weken precies wat ik wil . ze luisteren alleen naar de who de moordbrigade van kill gates !!!': ['1', '0', '0', '1'], 'MENTION dat ze die zo rap mogelijk uit de politiek verwijderen , dat gastje is een schande voor de mensheid , voor onze democratie. lager dan zijn soort kan een mens niet zijn': ['2', '0', '0', '2'], 'toen nederland nog een leuk land was URL en niet verziekt door culturen die de onze verdringen raisethedegree minneapolis': ['2', '0', '2', '2'], 'MENTION goh wat is benny hill toch lelijk geworden zeg.': ['1', '0', '0', '1'], 'MENTION MENTION halsema is hypocriet en heeft schijt aan alles buiten haar eigen linkse agenda. halsema heeft schijt aan de NUMBER NUMBER/NUMBER meter corona maatregelen, aan alle ondernemers, aan de zorg en aan de ouderen. dit valt niet uit te leggen, halsema zaait tweespalt in de samenleving, zo dom.': ['2', '0', '2', '2'], 'MENTION MENTION laat die turken dat maar betalen': ['2', '0', '0', '2'], 'MENTION MENTION nu is het wel zo dat zwarte mensen niet vaak dingen uitdelen maar vooral nemen, doen ze bij de omroepen ook we betalen en geven geld en wat krijgen we rotzooi.': ['2', '0', '0', '2'], 'MENTION nog nooit zoiets stompzinnigs gehoord. wat een afgang. maar ja! bij buitenhof en de npo is toch alles de schuld van de blanke man! leren jullie racisten het eens nooit om blank te zeggen.': ['1', '0', '0', '1'], 'MENTION MENTION antifa is een terroristische organisatie.': ['1', '0', '0', '1'], 'MENTION MENTION smerig wijf vergalt heel amsterdam': ['1', '0', '0', '1'], 'MENTION MENTION MENTION MENTION MENTION MENTION weer zo een gevaarlijke idioot aan tafel!': ['1', '0', '0', '1'], 'MENTION MENTION aldus de subjectieve linkse huichelachtige draaikonten piznigten van links, die alleen maar leven door desinformatie en onzin te verspreiden, stel lijmsnuivende incestueuze respectloze uitgerangeerde yournalistjes van de MENTION e.d. MENTION/vara kotsssss🖕🐀': ['1', '0', '0', '1'], 'frankrijk en belgie rijp voor stadsguerilla omdat men de islamitische kanker jarenlang heeft laten uitzaaien!!': ['1', '0', '0', '1'], 'MENTION halsema is hypocriet en heeft schijt aan alles buiten haar eigen linkse agenda. halsema heeft schijt aan de NUMBER NUMBER/NUMBER meter corona maatregelen, aan alle ondernemers, aan de zorg en aan de ouderen. dit valt niet uit te leggen, halsema zaait tweespalt in de samenleving, zo dom.': ['2', '0', '2', '2'], 'MENTION één woord het is tuig van de richel. verzet haha, van dit tuig is er nog niet één die aan het slachtoffer denkt, alleen aan de duurste artikelen. ja er zijn ook andere demonstraties welgemeend. weet je wat ze en de npo doet? ze scheren ze allemaal over één kam.': ['1', '0', '0', '1'], 'MENTION rob jetten jij robot homo. jij begrijpt nog steeds niet dat je vriendin ollogren weer onze vrijheid afpakt door het afschaffen van het referendum. en ze kan geen eens de huur verhoging stoppen ik kan die makkelijk radicaal stoppen als ik in politiek zit het liefst zonder geld xd': ['1', '0', '1', '1'], 'we hebben één voordeel en dat is dat vvd en groenlinks volgend jaar niets meer te vertellen heeft of ze gaan weer sjoemelen': ['2', '0', '0', '2'], 'MENTION een parasiet, zoals de meesten van zijn soort.': ['1', '0', '0', '1'], \"MENTION MENTION denk dat ge op uwe teen getrapt bent gastje , het profiterend volk zal eens iets zeggen , het volk van zakken vullen zonder te werken , het elite profitariaat en dan met een fake profiel , te laf om zich kenbaar te maken , zo'n volk zouden ze moeten weigeren op twitter\": ['1', '0', '0', '1'], 'MENTION MENTION MENTION jaja antirook trol, lul nog wat over roken. en ga dan nog wat junkfood vreten .. URL via MENTION': ['1', '0', '0', '1'], 'MENTION ken je het concept van nivellering? net zoals dat in nederland rijkere mensen netto meer belasting afdragen, geldt dat ook voor de eu. sta eens stil bij het feit dat nederlanders het erg goed hebben en dat mede mogelijk is door alle arbeidsmigranten uit europa. krent dat je bent!': ['1', '0', '0', '1'], 'MENTION MENTION MENTION krijg de coronatyfus kutje': ['1', '0', '0', '1'], 'de mensen die mijn socials hebben gehackt, wllh jullie zijn ziek in jullie hoofd, NUMBER keer???!!!! jullie moeders URL': ['1', '0', '0', '1'], \"veel nederlanders in turkije willen terug! laten we dan ruilen: 'erdogan turken' terug naar turkije, alle nederlanders terug naar nederland!\": ['2', '0', '1', '2'], 'MENTION MENTION beter nog ! URL tweet is gewist dus ben ik mogelijks niet geblokkeerd . leer lezen en informeer uzelf . en stop met drinken van azijn , zuur zuur manneke .': ['1', '0', '1', '1'], 'MENTION MENTION MENTION voila. ga je dan ook lopen klagen over beperking van je recht je mening dat alle wijven enkel geile neuksleuven zijn die nu op de knietjes moeten en aan je pik moeten zuigen aan de vrouwtjes te geven? of ga je dan gewoon naar huis en gedraag je je de volgende keer?': ['1', '0', '0', '1'], 'gejoel bij MENTION jegens MENTION. jammer. MENTION kennelijk de MENTION van de politiek: oppertopper maar met sneue fans. tkNUMBER': ['1', '0', '0', '1'], 'MENTION MENTION MENTION mijnheer wendrich kan het niet vinden en helemaal niet dat ze georganiseerd opereren. nu valt deze doorgeleerde heer ff door de mand zeg. elke leugen is bij hem blijkbaar geoorloofd. kots': ['1', '0', '0', '1'], 'agent die vrouw doodschoot in alkmaar handelde uit noodweer URL via MENTION je ken ook gericht op de benen mikken, maar dat is de politie waarschijnlijk vreemd? wordt er alleen maar op het hoofd en de borstholte gemikt met bijlessen. 🐀': ['2', '0', '0', '2'], 'want er kan altijd maar één gevaarlijke despoot per wereld zijn? dus als de één dat is, kan de ander het al niet meer zijn? dat is het argument hier? ik zou zeggen \"kom op elsevier, je kunt beter dan dat\", maar we weten allemaal: beter kunnen ze niet.': ['2', '0', '0', '2'], 'wat een gek met die hond en het bijl omg': ['1', '0', '0', '1'], 'goh! iemand verbaast dat het zo uit hand loopt in minnesota!? antifa tuig in optima forma.': ['1', '0', '0', '1'], \"MENTION MENTION MENTION MENTION MENTION dus gegarandeerd dat corona echt weer terug komt . te danken aan die hufters ! sluit die kloojo's op voor een lange tijd . als ze ziek worden mogen ze wat mij betreft dood gaan . heel hard dat ik dit zo zeg . maar die lui hebben schijt aan alle regels\": ['1', '0', '1', '1'], 'MENTION MENTION MENTION weer zo een gl kutje aan de tafel!': ['1', '0', '0', '1'], 'MENTION hij verheerlijkt helemaal niets. mafklappers ga eens een koerzoesje englies volgen. kun je misschien eindelijk eens lezen wat hij schrijft en wie weet ook eens verstaan wat hij zegt. dom alles van cnn overnemen en met google vertalen is niet journalistiek. URL': ['1', '0', '0', '1'], 'MENTION MENTION MENTION MENTION dom kutje ben je toch! domme kindjes jou werken tot hun NUMBERe omdat ze niks kunnen! ik ga nooit dood, want houd van duterte, trump, wilders, baudet, de winter! haat die linkse racisten!': ['1', '0', '1', '1'], 'MENTION waarom horen we blm alleen als er geteld kan worden? waarom horen we nooit dat blm daklozen helpt etc? omdat ze een hele andere agenda hebben dan zij doen voorkomen en dat weet jij ook. iedereen behalve de allerstomsten weet dat. jij en jouw soort teren op zulk parasitairisme': ['2', '0', '0', '2'], 'MENTION MENTION je bruine hemd hangt al klaar merk ik smerige laffe hond': ['1', '0', '0', '1'], 'MENTION MENTION nee vvd dNUMBER trekken volle zalen, halen terrorist massaal binnen.wilders NUMBER zetels de sterkste mlj nl pvv nrNUMBER': ['1', '0', '0', '1'], 'MENTION wist je dat dikke vette mensen erg ongezond zijn ? cholesterol , diabetici , hoge bloeddruk , longklachten . veel kosten maken voor huisartsen bezoek en ziekenhuis bezoek . weet je dat dit heel veel geld kost ?': ['1', '0', '0', '1'], 'MENTION MENTION MENTION dan zijn alle islam aanhangers dat, want de islam wil dat zij ongelovige honden, apen, ezels en varkens (wij dus) gedood moeten worden': ['2', '0', '1', '2'], 'maffia slaat je winkel in puin en laat je dan geld betalen om herhaling te voorkomen. zo ook pappen nathouden moslims in nl. parijs': ['2', '0', '0', '2'], 'MENTION tja het is zijn verdienmodel. mijnheer is totaal niet geïnspireerd door hetgeen waar hij zegt voor te staan. polariseren dat is waar hij en zijn vaak werkschuwe maatjes voor staan.': ['2', '0', '2', '2'], \"dochter met probleem met zichzelf. vrouwen in de eu worden verkracht omdat moslim vrouwen zich bedekken 'uit eigen wil'. punt. rtlln\": ['2', '0', '0', '2'], 'MENTION MENTION idioot? achterlijke incestueuzezaadcel, ken je wel meer als retweeten MENTION ramon MENTION 🖕🐀': ['1', '0', '0', '1'], '\\\\\"als u nou heel eerlijk bent\\\\\" - erikdijkstra bij opNUMBERnpo tegen de burgemeester van amsterdam. het klinkt of hij vindt dat ze alsmaar niet eerlijk wil zijn. of ze almaar niet wil zeggen wat hij wil horen. slechte journalistiek, dijkstra. valt me tegen. blacklivesmatter corona': ['2', '0', '0', '2'], 'MENTION MENTION uw soort betalen de vreetvarken van uiterst rechts in het zwart black) werken , en zo wit (white) zien van stuf te snuiven , de soort die op onze kosten vol botox zit , hou uw azijnzuur in uwe body vreetvarken . uw profiel zegt meer dan woorden . zwart uiterst recht fake profiel': ['1', '0', '2', '1'], \"te veel over het zelfde kweek je antipathie tegen homo's !!!!!!\": ['2', '0', '0', '2'], 'MENTION MENTION echt wat een tuig': ['1', '0', '0', '1'], 'MENTION wie de f*ck ben jij om het over ons te hebben subsidieslurper . omg het waren geen plunderaars oh nee ? denk het wel want ze hebben alles leeg geroofd plasma tv .. vuitton tassen merk kleding en voor miljarden schade gezorgd samen met die smerige fascisten bende antifa.': ['1', '0', '1', '1'], 'MENTION vandaag is het genocide dag voor de nertsen. mensen zijn gewoon kanker moordenaars. gewoon isoleren in plaats van killen stop gewoon een maand of NUMBER met fokken dan zijn alle dieren geinfected en weer genezen. en haal maar de mens zelf weg.': ['1', '0', '1', '1'], 'behandeld worden als een achterlijkgebakje door de verkoopmakelaar... walgelijk': ['1', '0', '0', '1'], \"rutte was alleen premier van het rijke deel van de vvd'ers. mark weet door zijn slechte opvoeding niet beter. nieuwsuur\": ['2', '0', '2', '2'], 'MENTION MENTION MENTION mijn menselijk verstand is op een normaal peil dat kan je bij herr janssens niet zeggen , zelfs zijn armen kan hij niet buigen . het volk met de tweede hands kostuums van de albanese maffia , snit uit de jaren dertig van duitse kwaliteit .': ['2', '0', '1', '2'], 'MENTION MENTION MENTION en antirook trol MENTION ( MENTION ) komt ook weer wat dwaas uit zijn nek lullen. de tabakslobby, fakenews blablabla enz.. URL via MENTION': ['1', '0', '1', '1'], 'MENTION geld geld geld .???? sommige van ons met ons leven betalen ?? ben je ziek van geest of zo .jij spoort echt niet wat hebben wij met iets te maken voor NUMBER jaar geleden die nu leeft die nu zorgt..ziek van geest ben jij ga verhuizen naar een land waar jij je thuis voelt': ['1', '0', '0', '1'], 'MENTION MENTION antifa tuig lees dit maar droplul je bent een rat URL': ['1', '0', '0', '1'], 'MENTION MENTION zoals het wijf van de rooy, gematigde vreemde luis laat me lachen , ze is veel erger dan de meeste moslims , ze hokt samen met ne blokker': ['1', '0', '0', '1'], \"MENTION MENTION jammer! dat is het fvd veruit al geworden. draaideur idioten met grote ego's.\": ['1', '0', '0', '1'], \"MENTION al enkele keren begonnen aan een reply op een of andere imbeciel, maar telkens weer gestopt. what's the point anyways?\": ['1', '0', '0', '1'], 'petehoekstra uitnodigen en laten praten over demonstraties tegen racisme is als een verkrachter uitnodigen en laten praten over demonstraties voor gelijke rechten van de vrouw. als onderdeel van het probleem is zijn mening totaal niet interessant.': ['2', '0', '0', '2'], 'buitenhof weer dezelfde idiote oplosssing van arm zielige moslims geef ze een stage plek het ligt gvd aan islam aan niets anders schoften': ['1', '0', '2', '1'], \"waarom zet rutte de ambasadeur niet uit van een land dat ons nazi's en mislimafslachters noem? laf\": ['1', '0', '2', '1'], 'ankara is de baas in nederland. MENTION MENTION MENTION MENTION hebben nl weggegeven. turken erdogan': ['2', '0', '0', '2'], 'MENTION MENTION haha helemaal mee eens, geleerd uit jouw groep. zeg maar een boemerang. en verder nogmaals je wilt het niet zien dat antifa een ondergronds aangestuurde groepering is. waarschijnlijk omdat je hun geweld prima vind. chaos creëeren en ontwrichting. daar zijn ze op uit. URL': ['2', '0', '2', '2'], 'MENTION niet netjes ja maar je kan stoppen met uitmelken eelco. daarbij als ik een zp zie draait mijn maag zich ook om. klaar mee racisme': ['2', '0', '2', '2'], 'MENTION maar hij houdt zich er wel aan! lamlul!': ['1', '0', '0', '1'], 'MENTION MENTION je moet ook niet naar veenendaal willen': ['2', '0', '0', '2'], 'MENTION fanatisme straalt er vanaf wat een linkse teef zeg': ['1', '0', '0', '1'], 'MENTION MENTION MENTION je bent zo geïndoctrineerd dat je zelfs hiervan niets wil weten. welkom in dictatuur nl URL': ['2', '0', '0', '2'], 'jort kelder mensen. jort is dus écht zó dom dat hij het argument \"zie je wel, door de lockdown is alles veel minder erg dan we in onze ergste nachtmerries vreesden, dus die lockdown was helemaal niet nodig!\" 🤦🤦\\u200d♀️🤦\\u200d♂️': ['1', '0', '0', '1'], 'MENTION het is traditie dat de voorgaande president zijn bek houd over de zittende president . maar dat laat jij socialistje ff weg . weet je wie ook een socialist was NUMBER jaar geleden !': ['2', '0', '0', '2'], 'de koning gaat naar apeldoorn, terwijl ie eens stevig met femke zou moeten gaan praten. loser. demonstratie': ['1', '0', '0', '1'], 'MENTION de lafbek wil medicijnen alleen voor zijn eigen': ['1', '0', '0', '1'], 'ook zonder een racist in het witte huis is amerika nog steeds een kut land vol racistische witte mensen die vinden dat het leven van een zwarte of gekleurde persoon niks waard is. en maar blijven denken dat je het meest ontwikkelde en beste land ter wereld bent.': ['1', '0', '0', '1'], 'islam is gewoon een radicale beweging. altijd geweest . staat voor uitroeiing van niet moslims htler NUMBER arena': ['1', '0', '0', '1'], 'MENTION MENTION de criminele oorlogsmisdadige nato had op NUMBER maart NUMBER (één dag voor de illegale bombardementen op servië) al opgeheven moeten worden. URL': ['0', '0', '2', '0'], \"'the mongol derby, de langste en zwaarste paardenrace ter wereld over meer dan NUMBERkm, dit jaar in aangepaste vorm wegens corona maatregelen'. URL\": ['0', '0', '1', '0'], \"niet dat ik er naar toe wil maar ik vraag me af hoe zo'n hoofdstad raqqa er uit ziet; hoeveel inw. en alleen maar strijders of ook gezinnen\\\\uNUMBER\": ['0', '0', '2', '0'], 'extra geld besteden aan een grondige nodenanalyse, kan veel geld besparen achteraf juistedoel juisteaanpak': ['0', '0', '1', '0'], 'de naïeve europeaan is geshockeerd. de realistische europeaan waarschuwt hier al heel lang voor. laten wij waken voor onze vrijheid.': ['0', '0', '2', '0'], 'rt schagenkp: op zoek naar leuke (schoen)-kadootjes? - schoenkadootje sinterklaas schagen zijpe hatenkardpel koopplein.nl \\\\uNUMBER': ['0', '0', '2', '0'], 'hahaha, je leert veel over de achterban van politieke partijen bij penj. jongeren die met een gooise r natuurlijk groenlinks stemmen': ['0', '0', '2', '0'], 'wederom op weg naar krakow\\\\uNUMBER\\\\uNUMBER\\\\uNUMBER met hollandse snacks in de koffer\\\\udNUMBERc\\\\udfNUMBERfvolgend jaar openen we hollandse snackcorner in krakow\\\\udNUMBERd\\\\udcNUMBERd\\\\udNUMBERd\\\\udcNUMBERcondernemen\\\\udNUMBERd\\\\udeNUMBER\\\\udNUMBERd\\\\udeNUMBERe\\\\udNUMBERd\\\\udcNUMBERa': ['0', '0', '2', '0'], 'leiderschapNUMBER: deze NUMBER bedrijven spelen zelf bank voor hun klanten: als je bank niet meehelpt, kun je op zoek naar cash in de ... \\\\uNUMBER': ['0', '0', '2', '0'], 'NUMBER brandveiligheidsregels voor stallen moeten veel strenger. verplichte sprinklerinstallaties en nooduitgangen pvdd NUMBERmaart NUMBERredenen': ['0', '0', '2', '0'], 'gelukkig zie aan de tweets dat er een storing bij ziggo is. zie plattegrond parijs op tv hoor andere zenders. hoe weird storing ziggo': ['0', '0', '1', '0'], 'MENTION MENTION ja stoppen met junkfood eten is ook altijd verstandig. toch als je liever geen goede klant van big pharma en de medische industrie wil worden URL via MENTION roken rookvrij enz...': ['0', '0', '1', '0'], 'MENTION MENTION MENTION van het gas af is waanzin want er komt waterstof aan en dat kan door het gasnet getransporteerd worden. het is een idee van kwiebes maar die doet alles andersom. bij de belastingdienst gooit hij er duizende mensen uit met een zak geld en NUMBER weken later worden ze weer aangenomen': ['0', '0', '2', '0'], 'de deelnemers aan de demonstratie op het malieveld hebben zojuist een minuut stilte gehouden voor slachtoffers aanslagen parijs.': ['0', '0', '2', '0'], 'MENTION hm ja zoiets dacht ik wel. maar heb al hele dure en medium dure gekocht deze maand. en heb dus chronisch geen geld.': ['0', '0', '2', '0'], \"samen met europese collega's kennismaking met nieuwe chef van dg mare in brussel de actuele visserijthema's en knelpunten besproken\": ['0', '0', '1', '0'], \"kinderlijke eerlijkheid: laat net een dure macbook pro op grond vallen. dochter van NUMBER zegt 'gelukkig is het niet mama's computer'. geweldig!\": ['0', '0', '2', '0'], 'MENTION hi raymond gefeliciteerd, waanzinnige partij goed dat ik nog niet naar bed gegaan was. dan had ik deze partij gemist': ['0', '0', '2', '0'], \"fijne meeting gehad in echt. deze jongen gaat twee sinterklaas-shows spelen. voor het eerst in 'die andere rol'. ik vind het nu al leuk.\": ['0', '0', '2', '0'], 'MENTION waarom moeten wij afrikaanse landen steunen die hun eigen burgers liever zien gaan? das goed voor hun economie .': ['0', '0', '2', '0'], 'dromen over parabolen, kwadratische formules en googols... altijd fijn iemand met wiskunde helpen 📈😀': ['0', '0', '2', '0'], 'rotary turnhout laat jongeren kennismaken met beroepen URL': ['0', '0', '1', '0'], 'fijn :-) wij ook rt MENTION: hele goedemorgen! ik geniet nog na van beursvloerassen mooie matches! dat geeft energie dankbaar': ['0', '0', '2', '0'], 'MENTION was zelf slecht geïnformeerd. dacht dat t feit dat nl taps deelde gelekt was uit cie stiekum, maar t gaat dus over iets anders.': ['0', '0', '2', '0'], 'lijkt mij een prachtige tocht. MENTION de zwolse deniz ozdemir fietste van zwolle naar turkije: URL rtvoost': ['0', '0', '2', '0'], \"MENTION wat kan mij het schelen of nazi's politiek links of rechts waren. verachtelijk soort, meer woorden zoek ik er niet voor.\": ['0', '0', '2', '0'], 'tmg heeft recht op eigenaar die in haar producten gelooft - URL': ['0', '0', '1', '0'], 'daar gaan ook hope kindervermaak by die groei saam laurus markdag beskikbaar wees soos die springkastele hieronder. URL URL': ['0', '0', '2', '0'], 'schandalig regering deze mensen zijn ook stemgerechtigden dus dat zij al die jaren niet kunnen stemmen valt niet goed te praten URL': ['0', '0', '2', '0'], 'MENTION MENTION MENTION MENTION MENTION terwijl als je het verpakt als een verplichting vanuit europa en je speelt de witwaskaart, dan heb je genoeg knopjes ingedrukt om een akkoord te krijgen in de NUMBERe kamer. dat ook het hoofd van de fiod meldt dat witwassen via cash en giraal geschiedt, moffel je weg en klaar is kees.': ['0', '0', '2', '0'], 'het gezondheidspaspoort, is ontwikkeld door vst enterprises en circle pas enterprises, en wordt in ieder geval aan italië, portugal, frankrijk, zweden, spanje, nederland, de vs, canada, mexico, panama, india, de verenigde arabische emiraten geleverd URL': ['0', '0', '1', '0'], 'MENTION MENTION õzcan akyol als het gaat om onze moraliteit, in relatie tot hoe we met onze goedkope arbeidskrachten omgaan, kunnen we gerust vaststellen dat in nederland elke vorm van beschaving ver is te zoeken.': ['0', '0', '1', '0'], 'we hebben geen italiaanse toestanden meegemaakt, waar mensen op de gang van het ziekenhuis stierven, maar dat danken we niet aan het systeem. idd, u heeft ze gewoon laten sterven in de wzc zonder enige verzorging. proficiat.': ['0', '0', '1', '0'], 'MENTION MENTION MENTION leer eens normaal te spreken man met je grote mond en met je bang zeker... zegt iemand met een achtergrond waar men enkel in roedels aanvalt en als ze alleen zijn het de goorste slijmballen. zo ook even generaliseren.': ['0', '0', '2', '0'], 'MENTION MENTION MENTION bij de vvd word je de beste politicus genoemd als je het meest gegraaid gelogen en bedrogen hebt!!!!': ['0', '0', '2', '0'], 'MENTION dat was ook een stuk verdriet ,het probleem was na de oorlog dat verraders niet de doodstraf hebben gekregen . die cultuur was er toen en is erger geworden': ['0', '0', '2', '0'], 'wij dwaalden allen als schapen, wij keerden ons een iegelijk naar zijn weg; doch de heere heeft onzer … —jesaja NUMBER:NUMBER URL': ['0', '0', '2', '0'], 'MENTION MENTION MENTION MENTION MENTION sja ik meen het maat. kijk al heb je goeie argumenten luister ik best naar je maar als ik kijk wat trump echt doet en wat bv mark rutte doet, ja dan is het gewoon duidelijk': ['0', '0', '1', '0'], 'MENTION one direction is niet gestopt kut het is een pauze kijk niet naar de bladen en lees hun daadwerkelijke reacties het is bullshit': ['0', '0', '1', '0'], 'MENTION jammer dat al die nertsen zo meteen gegenocideerd gaan worden als de joden ooit hebben gedaan. wat in the hell zijn we aan het doen. dus dieren mogen geen resistentie opbouwen tegen corona? haha ik stuur wel weer een dieren activisten leger naar de minister om het te stoppen.': ['0', '0', '2', '0'], 'omdat het twitter extreem links en oikofoob is...voor de minder ontwikkelde linkse tak...ze haten blanken en eigen cultuur...': ['0', '0', '2', '0'], 'MENTION is eigenlijk een heel pertinente tweet, zeker als er een tweede opstoot van covid-NUMBER komt. lees o.a het dubbel interview van noels en de keyzer in de trends': ['0', '0', '2', '0']}\n",
            "['MENTION MENTION iets anders, wanneer word asscher voor de rechter gesleept voor het willens en wetens aan de afgrond brengen van duizende mensen door de kinderopvangtoeslagenaffaire???', '0', '2', '2', '0']\n",
            "['MENTION MENTION MENTION iets anders, wanneer word asscher voor de rechter gesleept voor het willens en wetens aan de afgrond brengen van duizende mensen door de kinderopvangtoeslagenaffaire???', '0', '2', '2', '0']\n",
            "['MENTION MENTION iedereen kan ervan leren. bijv. hoe een demagoog een volk demoniseerde en zijn partij als alleenheerser leidde.', '0', '2', '0', 1]\n",
            "['MENTION MENTION iedereen die het niet eens is met standpunten sylvana móet volgens artikelNUMBER wel een racist/facist/vrouwenhater zijn', '0', '2', '0', 0]\n",
            "['iedereen feliciteer MENTION even! ze is echt een super toffe meid dus NUMBER felicitaasitje kan wel😊 || rt is lieff❤', '0', '2', '0', '0']\n",
            "['iemand hier ervaring met body stress release-behandeling? dtv', '0', '2', '0', '0']\n",
            "['MENTION ach man ! je hebt geen idee hoeveel er goed de pest hebben in je gedrag . denk niet dat je het alleen red in deze wereld ! je komt er nog wel achter kuttekop !!', '1', '0', '1', 0]\n",
            "['waar komen die zwarten vandaan ????ongelooflijk merkel wat heb je europa aangedaan URL', '2', '0', '0', 1]\n",
            "['MENTION geloof me bryan die vent heeft geen geweten het is een duivel in maat kostuum .', '1', '0', '0', 0]\n",
            "['idioot die obama de nobelprijs gaf gaat nu aan zml uitleggen dat het wel meevalt met die moslims gezien islaminvasie praat hij bullshit', '1', '0', '0', '1']\n",
            "['MENTION ze hadden de hele troep in een fuik moeten loodsen vastzetten en uitzetten .', '2', '0', '0', 0]\n",
            "['MENTION MENTION MENTION linkse kitjes die maling hebben aan de hele samenleving! kapot slaan zou ik zeggen al die linkse veganistische gekken', '1', '0', '0', '1']\n",
            "['islam is een agressieve tumor die met alle mogelijke middelen moet worden bestreden.', '1', '0', '0', 0]\n",
            "['het is geen toeval dat de felste kritiek op de aanpak door een linkse vrouwelijke burgemeester van een onfortuinlijk verlopen antiracistismedemonstratie komt uit de hoek van vrouwonvriendelijk extreemrechts. jammer dat zovelen in de val lopen en zich laten meeslepen. halsema', '2', '0', '0', 1]\n",
            "['MENTION wat gebeurd is niet goed te praten agent was fout dus dan ga je maar stelen en alles in brand steken ?????? en eerlijk hoeveel zwarten maken problemen in heel de wereld ?? leren wij hun dat ?? hoeveel mensen worden verkracht vermoord door zwarten??', '2', '0', '0', 1]\n",
            "['altijd extreemrechts tuig dat moslims betrapt op onaangepast gedrag. typisch.', '1', '0', '0', 2]\n",
            "[\"maar men zet tijdens de anti-lockdown demonstratie in den haag wel NUMBER me'ers in op nog geen NUMBER man...en NUMBER!! slinkse extremisten krijgen vrij spel..er wordt met twee maten gemeten..zeg dat nou eens! slapjanus! MENTION vragenuurtje\", '1', '0', '1', 0]\n",
            "['MENTION MENTION MENTION hahaha zo is het wel, we betalen allemaal hetzelfde alleen procentueel ligt het net even anders. maar ze hebben dan altijd het weerwoord van ze betalen zoveel, maar vergeten dat ze eerst gebruik maken van het deel wat de minderbedeelden ook moeten betalen', '2', '0', '2', 0]\n",
            "['lekker man, wakker worden met een enorme haat jegens moslims en de islam... fuckislam', '1', '0', '0', 2]\n",
            "['MENTION MENTION gij dineren , uw als een varken volvreten zeker , uw soort kent geen manieren vreetvarkens . ja ik ken uw probleem gedaan met uw aanhoudster te gaan eten hé . moesten ze bij uw soort varkens al veel langer gedaan hebben', '1', '0', '1', '1']\n",
            "['maar hoe gaat de belastingdienst die brief nou bezorgen bij die ouder die zelfmoord pleegde na onterecht als fraudeur te boek gesteld te zijn? per vlieger?', '2', '0', '2', 0]\n",
            "['MENTION MENTION leuk dat jullie linkse fascisten, die geweld goed praten, voor jullie hebben schrijven! URL', '1', '0', '0', '1']\n",
            "['tsja heks dieuwertje is al teveel scholen barneveld kijken niet meer naar sinterklaasjournaal vanwege hekserij URL', '1', '0', '0', 0]\n",
            "['ga eens dood, pijnlijk please', '1', '0', '0', 0]\n",
            "['vergeet de pensioenleeftijd, het geld naar griekenland, de afbraak van de medische en ouderenzorg niet rutte is asociale leugenaar URL', '1', '0', '2', '1']\n",
            "['MENTION het is antifa tuig dat moet oogeruimd worden', '1', '0', '1', '1']\n",
            "['zich durft te uiten , bang te zijn om uitgemaakt te worden voor rasist etc etc . dit is mijn mening , en ik ben benieuwd of jij , gijs rademaker , mijn lekker ding 😉 , hier nou eens in het openbaar een weerwoord op dit bericht durft te geven . ben benieuwd', '2', '0', '0', 0]\n",
            "['turkije wil excuses nadat ze ons uitmaken voor fascisten en overblijfselen van nazi duitsland. hoe triest is het allemaal zeg turkijerel', '2', '0', '0', 1]\n",
            "['MENTION MENTION we kunnen ook mensen doodmaken eens kijken of dat je dan ook een nerts voelt.', '2', '0', '2', '2']\n",
            "['MENTION MENTION MENTION MENTION verplegenden, families, vrienden, vriendinnen, ouders oma’s opa’s, hebben geleden en jij snapt niet wat omzigt zegt! je bent een lamlul! leer de basisprincipes van gelijkheid en dan zeker in deze periode! gadverdamme! MENTION ga jij nog klappen voor de zorg! mijn oma en opa!', '1', '0', '0', '1']\n",
            "['MENTION daar kan en wil je niet mee leven. dat uitschot hoort gewoon niet in de westerse wereld thuis.', '1', '0', '1', 0]\n",
            "['MENTION mijn dochter mag officieel ook niet naar de wc. ik ben even naar die school geweest. stevig, maar keurig gesprek gehad. ze mag nu gewoon naar het. toilet. t moet ook niet gekker worden; stel volslagen debielen in dit land.', '1', '0', '0', 0]\n",
            "['MENTION MENTION MENTION MENTION doen ze niet. durven ze niet. het zijn slechts domme haatvolle haatgollems die haatzaaien.', '1', '0', '0', '1']\n",
            "['MENTION ik schop graag tegen je aan omdat ik je een staatsgevaarlijke idioot vind maar dat ventje is gewoon een minkukel en kan niet verder naast de waarheid zitten.', '1', '0', '0', '1']\n",
            "['wie gaat er nu protesteren voor een dode misdadiger? geld 💰 dus.... en links subsidies 🤮 URL', '2', '0', '2', '2']\n",
            "['MENTION MENTION lieve fleur die gast en de hele rivm kliek bepaalt niet hoe wij moeten leven ik doe al weken precies wat ik wil . ze luisteren alleen naar de who de moordbrigade van kill gates !!!', '1', '0', '0', 0]\n",
            "['MENTION dat ze die zo rap mogelijk uit de politiek verwijderen , dat gastje is een schande voor de mensheid , voor onze democratie. lager dan zijn soort kan een mens niet zijn', '2', '0', '0', 1]\n",
            "['toen nederland nog een leuk land was URL en niet verziekt door culturen die de onze verdringen raisethedegree minneapolis', '2', '0', '2', 0]\n",
            "['MENTION goh wat is benny hill toch lelijk geworden zeg.', '1', '0', '0', '1']\n",
            "['MENTION MENTION halsema is hypocriet en heeft schijt aan alles buiten haar eigen linkse agenda. halsema heeft schijt aan de NUMBER NUMBER/NUMBER meter corona maatregelen, aan alle ondernemers, aan de zorg en aan de ouderen. dit valt niet uit te leggen, halsema zaait tweespalt in de samenleving, zo dom.', '2', '0', '2', 1]\n",
            "['MENTION MENTION laat die turken dat maar betalen', '2', '0', '0', 0]\n",
            "['MENTION MENTION nu is het wel zo dat zwarte mensen niet vaak dingen uitdelen maar vooral nemen, doen ze bij de omroepen ook we betalen en geven geld en wat krijgen we rotzooi.', '2', '0', '0', 0]\n",
            "['MENTION nog nooit zoiets stompzinnigs gehoord. wat een afgang. maar ja! bij buitenhof en de npo is toch alles de schuld van de blanke man! leren jullie racisten het eens nooit om blank te zeggen.', '1', '0', '0', '1']\n",
            "['MENTION MENTION antifa is een terroristische organisatie.', '1', '0', '0', '1']\n",
            "['MENTION MENTION smerig wijf vergalt heel amsterdam', '1', '0', '0', '1']\n",
            "['MENTION MENTION MENTION MENTION MENTION MENTION weer zo een gevaarlijke idioot aan tafel!', '1', '0', '0', '1']\n",
            "['MENTION MENTION aldus de subjectieve linkse huichelachtige draaikonten piznigten van links, die alleen maar leven door desinformatie en onzin te verspreiden, stel lijmsnuivende incestueuze respectloze uitgerangeerde yournalistjes van de MENTION e.d. MENTION/vara kotsssss🖕🐀', '1', '0', '0', '1']\n",
            "['frankrijk en belgie rijp voor stadsguerilla omdat men de islamitische kanker jarenlang heeft laten uitzaaien!!', '1', '0', '0', 0]\n",
            "['MENTION halsema is hypocriet en heeft schijt aan alles buiten haar eigen linkse agenda. halsema heeft schijt aan de NUMBER NUMBER/NUMBER meter corona maatregelen, aan alle ondernemers, aan de zorg en aan de ouderen. dit valt niet uit te leggen, halsema zaait tweespalt in de samenleving, zo dom.', '2', '0', '2', 1]\n",
            "['MENTION één woord het is tuig van de richel. verzet haha, van dit tuig is er nog niet één die aan het slachtoffer denkt, alleen aan de duurste artikelen. ja er zijn ook andere demonstraties welgemeend. weet je wat ze en de npo doet? ze scheren ze allemaal over één kam.', '1', '0', '0', '1']\n",
            "['MENTION rob jetten jij robot homo. jij begrijpt nog steeds niet dat je vriendin ollogren weer onze vrijheid afpakt door het afschaffen van het referendum. en ze kan geen eens de huur verhoging stoppen ik kan die makkelijk radicaal stoppen als ik in politiek zit het liefst zonder geld xd', '1', '0', '1', '1']\n",
            "['we hebben één voordeel en dat is dat vvd en groenlinks volgend jaar niets meer te vertellen heeft of ze gaan weer sjoemelen', '2', '0', '0', '2']\n",
            "['MENTION een parasiet, zoals de meesten van zijn soort.', '1', '0', '0', 0]\n",
            "[\"MENTION MENTION denk dat ge op uwe teen getrapt bent gastje , het profiterend volk zal eens iets zeggen , het volk van zakken vullen zonder te werken , het elite profitariaat en dan met een fake profiel , te laf om zich kenbaar te maken , zo'n volk zouden ze moeten weigeren op twitter\", '1', '0', '0', '1']\n",
            "['MENTION MENTION MENTION jaja antirook trol, lul nog wat over roken. en ga dan nog wat junkfood vreten .. URL via MENTION', '1', '0', '0', '1']\n",
            "['MENTION ken je het concept van nivellering? net zoals dat in nederland rijkere mensen netto meer belasting afdragen, geldt dat ook voor de eu. sta eens stil bij het feit dat nederlanders het erg goed hebben en dat mede mogelijk is door alle arbeidsmigranten uit europa. krent dat je bent!', '1', '0', '0', 0]\n",
            "['MENTION MENTION MENTION krijg de coronatyfus kutje', '1', '0', '0', 0]\n",
            "['de mensen die mijn socials hebben gehackt, wllh jullie zijn ziek in jullie hoofd, NUMBER keer???!!!! jullie moeders URL', '1', '0', '0', 0]\n",
            "[\"veel nederlanders in turkije willen terug! laten we dan ruilen: 'erdogan turken' terug naar turkije, alle nederlanders terug naar nederland!\", '2', '0', '1', '2']\n",
            "['MENTION MENTION beter nog ! URL tweet is gewist dus ben ik mogelijks niet geblokkeerd . leer lezen en informeer uzelf . en stop met drinken van azijn , zuur zuur manneke .', '1', '0', '1', 0]\n",
            "['MENTION MENTION MENTION voila. ga je dan ook lopen klagen over beperking van je recht je mening dat alle wijven enkel geile neuksleuven zijn die nu op de knietjes moeten en aan je pik moeten zuigen aan de vrouwtjes te geven? of ga je dan gewoon naar huis en gedraag je je de volgende keer?', '1', '0', '0', 0]\n",
            "['gejoel bij MENTION jegens MENTION. jammer. MENTION kennelijk de MENTION van de politiek: oppertopper maar met sneue fans. tkNUMBER', '1', '0', '0', 0]\n",
            "['MENTION MENTION MENTION mijnheer wendrich kan het niet vinden en helemaal niet dat ze georganiseerd opereren. nu valt deze doorgeleerde heer ff door de mand zeg. elke leugen is bij hem blijkbaar geoorloofd. kots', '1', '0', '0', 2]\n",
            "['agent die vrouw doodschoot in alkmaar handelde uit noodweer URL via MENTION je ken ook gericht op de benen mikken, maar dat is de politie waarschijnlijk vreemd? wordt er alleen maar op het hoofd en de borstholte gemikt met bijlessen. 🐀', '2', '0', '0', 0]\n",
            "['want er kan altijd maar één gevaarlijke despoot per wereld zijn? dus als de één dat is, kan de ander het al niet meer zijn? dat is het argument hier? ik zou zeggen \"kom op elsevier, je kunt beter dan dat\", maar we weten allemaal: beter kunnen ze niet.', '2', '0', '0', 0]\n",
            "['wat een gek met die hond en het bijl omg', '1', '0', '0', '1']\n",
            "['goh! iemand verbaast dat het zo uit hand loopt in minnesota!? antifa tuig in optima forma.', '1', '0', '0', '1']\n",
            "[\"MENTION MENTION MENTION MENTION MENTION dus gegarandeerd dat corona echt weer terug komt . te danken aan die hufters ! sluit die kloojo's op voor een lange tijd . als ze ziek worden mogen ze wat mij betreft dood gaan . heel hard dat ik dit zo zeg . maar die lui hebben schijt aan alle regels\", '1', '0', '1', '1']\n",
            "['MENTION MENTION MENTION weer zo een gl kutje aan de tafel!', '1', '0', '0', 2]\n",
            "['MENTION hij verheerlijkt helemaal niets. mafklappers ga eens een koerzoesje englies volgen. kun je misschien eindelijk eens lezen wat hij schrijft en wie weet ook eens verstaan wat hij zegt. dom alles van cnn overnemen en met google vertalen is niet journalistiek. URL', '1', '0', '0', '1']\n",
            "['MENTION MENTION MENTION MENTION dom kutje ben je toch! domme kindjes jou werken tot hun NUMBERe omdat ze niks kunnen! ik ga nooit dood, want houd van duterte, trump, wilders, baudet, de winter! haat die linkse racisten!', '1', '0', '1', '1']\n",
            "['MENTION waarom horen we blm alleen als er geteld kan worden? waarom horen we nooit dat blm daklozen helpt etc? omdat ze een hele andere agenda hebben dan zij doen voorkomen en dat weet jij ook. iedereen behalve de allerstomsten weet dat. jij en jouw soort teren op zulk parasitairisme', '2', '0', '0', '2']\n",
            "['MENTION MENTION je bruine hemd hangt al klaar merk ik smerige laffe hond', '1', '0', '0', 0]\n",
            "['MENTION MENTION nee vvd dNUMBER trekken volle zalen, halen terrorist massaal binnen.wilders NUMBER zetels de sterkste mlj nl pvv nrNUMBER', '1', '0', '0', 0]\n",
            "['MENTION wist je dat dikke vette mensen erg ongezond zijn ? cholesterol , diabetici , hoge bloeddruk , longklachten . veel kosten maken voor huisartsen bezoek en ziekenhuis bezoek . weet je dat dit heel veel geld kost ?', '1', '0', '0', 0]\n",
            "['MENTION MENTION MENTION dan zijn alle islam aanhangers dat, want de islam wil dat zij ongelovige honden, apen, ezels en varkens (wij dus) gedood moeten worden', '2', '0', '1', 0]\n",
            "['maffia slaat je winkel in puin en laat je dan geld betalen om herhaling te voorkomen. zo ook pappen nathouden moslims in nl. parijs', '2', '0', '0', 1]\n",
            "['MENTION tja het is zijn verdienmodel. mijnheer is totaal niet geïnspireerd door hetgeen waar hij zegt voor te staan. polariseren dat is waar hij en zijn vaak werkschuwe maatjes voor staan.', '2', '0', '2', '2']\n",
            "[\"dochter met probleem met zichzelf. vrouwen in de eu worden verkracht omdat moslim vrouwen zich bedekken 'uit eigen wil'. punt. rtlln\", '2', '0', '0', 0]\n",
            "['MENTION MENTION idioot? achterlijke incestueuzezaadcel, ken je wel meer als retweeten MENTION ramon MENTION 🖕🐀', '1', '0', '0', '1']\n",
            "['\\\\\"als u nou heel eerlijk bent\\\\\" - erikdijkstra bij opNUMBERnpo tegen de burgemeester van amsterdam. het klinkt of hij vindt dat ze alsmaar niet eerlijk wil zijn. of ze almaar niet wil zeggen wat hij wil horen. slechte journalistiek, dijkstra. valt me tegen. blacklivesmatter corona', '2', '0', '0', 0]\n",
            "['MENTION MENTION uw soort betalen de vreetvarken van uiterst rechts in het zwart black) werken , en zo wit (white) zien van stuf te snuiven , de soort die op onze kosten vol botox zit , hou uw azijnzuur in uwe body vreetvarken . uw profiel zegt meer dan woorden . zwart uiterst recht fake profiel', '1', '0', '2', '1']\n",
            "[\"te veel over het zelfde kweek je antipathie tegen homo's !!!!!!\", '2', '0', '0', 0]\n",
            "['MENTION MENTION echt wat een tuig', '1', '0', '0', '1']\n",
            "['MENTION wie de f*ck ben jij om het over ons te hebben subsidieslurper . omg het waren geen plunderaars oh nee ? denk het wel want ze hebben alles leeg geroofd plasma tv .. vuitton tassen merk kleding en voor miljarden schade gezorgd samen met die smerige fascisten bende antifa.', '1', '0', '1', '1']\n",
            "['MENTION vandaag is het genocide dag voor de nertsen. mensen zijn gewoon kanker moordenaars. gewoon isoleren in plaats van killen stop gewoon een maand of NUMBER met fokken dan zijn alle dieren geinfected en weer genezen. en haal maar de mens zelf weg.', '1', '0', '1', '1']\n",
            "['behandeld worden als een achterlijkgebakje door de verkoopmakelaar... walgelijk', '1', '0', '0', 0]\n",
            "[\"rutte was alleen premier van het rijke deel van de vvd'ers. mark weet door zijn slechte opvoeding niet beter. nieuwsuur\", '2', '0', '2', '2']\n",
            "['MENTION MENTION MENTION mijn menselijk verstand is op een normaal peil dat kan je bij herr janssens niet zeggen , zelfs zijn armen kan hij niet buigen . het volk met de tweede hands kostuums van de albanese maffia , snit uit de jaren dertig van duitse kwaliteit .', '2', '0', '1', 0]\n",
            "['MENTION MENTION MENTION en antirook trol MENTION ( MENTION ) komt ook weer wat dwaas uit zijn nek lullen. de tabakslobby, fakenews blablabla enz.. URL via MENTION', '1', '0', '1', '1']\n",
            "['MENTION geld geld geld .???? sommige van ons met ons leven betalen ?? ben je ziek van geest of zo .jij spoort echt niet wat hebben wij met iets te maken voor NUMBER jaar geleden die nu leeft die nu zorgt..ziek van geest ben jij ga verhuizen naar een land waar jij je thuis voelt', '1', '0', '0', '1']\n",
            "['MENTION MENTION antifa tuig lees dit maar droplul je bent een rat URL', '1', '0', '0', '1']\n",
            "['MENTION MENTION zoals het wijf van de rooy, gematigde vreemde luis laat me lachen , ze is veel erger dan de meeste moslims , ze hokt samen met ne blokker', '1', '0', '0', 2]\n",
            "[\"MENTION MENTION jammer! dat is het fvd veruit al geworden. draaideur idioten met grote ego's.\", '1', '0', '0', '1']\n",
            "[\"MENTION al enkele keren begonnen aan een reply op een of andere imbeciel, maar telkens weer gestopt. what's the point anyways?\", '1', '0', '0', 0]\n",
            "['petehoekstra uitnodigen en laten praten over demonstraties tegen racisme is als een verkrachter uitnodigen en laten praten over demonstraties voor gelijke rechten van de vrouw. als onderdeel van het probleem is zijn mening totaal niet interessant.', '2', '0', '0', 0]\n",
            "['buitenhof weer dezelfde idiote oplosssing van arm zielige moslims geef ze een stage plek het ligt gvd aan islam aan niets anders schoften', '1', '0', '2', '1']\n",
            "[\"waarom zet rutte de ambasadeur niet uit van een land dat ons nazi's en mislimafslachters noem? laf\", '1', '0', '2', '1']\n",
            "['ankara is de baas in nederland. MENTION MENTION MENTION MENTION hebben nl weggegeven. turken erdogan', '2', '0', '0', 0]\n",
            "['MENTION MENTION haha helemaal mee eens, geleerd uit jouw groep. zeg maar een boemerang. en verder nogmaals je wilt het niet zien dat antifa een ondergronds aangestuurde groepering is. waarschijnlijk omdat je hun geweld prima vind. chaos creëeren en ontwrichting. daar zijn ze op uit. URL', '2', '0', '2', '2']\n",
            "['MENTION niet netjes ja maar je kan stoppen met uitmelken eelco. daarbij als ik een zp zie draait mijn maag zich ook om. klaar mee racisme', '2', '0', '2', 0]\n",
            "['MENTION maar hij houdt zich er wel aan! lamlul!', '1', '0', '0', 0]\n",
            "['MENTION MENTION je moet ook niet naar veenendaal willen', '2', '0', '0', 0]\n",
            "['MENTION fanatisme straalt er vanaf wat een linkse teef zeg', '1', '0', '0', '1']\n",
            "['MENTION MENTION MENTION je bent zo geïndoctrineerd dat je zelfs hiervan niets wil weten. welkom in dictatuur nl URL', '2', '0', '0', 0]\n",
            "['jort kelder mensen. jort is dus écht zó dom dat hij het argument \"zie je wel, door de lockdown is alles veel minder erg dan we in onze ergste nachtmerries vreesden, dus die lockdown was helemaal niet nodig!\" 🤦🤦\\u200d♀️🤦\\u200d♂️', '1', '0', '0', '1']\n",
            "['MENTION het is traditie dat de voorgaande president zijn bek houd over de zittende president . maar dat laat jij socialistje ff weg . weet je wie ook een socialist was NUMBER jaar geleden !', '2', '0', '0', 0]\n",
            "['de koning gaat naar apeldoorn, terwijl ie eens stevig met femke zou moeten gaan praten. loser. demonstratie', '1', '0', '0', 0]\n",
            "['MENTION de lafbek wil medicijnen alleen voor zijn eigen', '1', '0', '0', 0]\n",
            "['ook zonder een racist in het witte huis is amerika nog steeds een kut land vol racistische witte mensen die vinden dat het leven van een zwarte of gekleurde persoon niks waard is. en maar blijven denken dat je het meest ontwikkelde en beste land ter wereld bent.', '1', '0', '0', '1']\n",
            "['islam is gewoon een radicale beweging. altijd geweest . staat voor uitroeiing van niet moslims htler NUMBER arena', '1', '0', '0', 2]\n",
            "['MENTION MENTION de criminele oorlogsmisdadige nato had op NUMBER maart NUMBER (één dag voor de illegale bombardementen op servië) al opgeheven moeten worden. URL', '0', '0', '2', 0]\n",
            "[\"'the mongol derby, de langste en zwaarste paardenrace ter wereld over meer dan NUMBERkm, dit jaar in aangepaste vorm wegens corona maatregelen'. URL\", '0', '0', '1', '0']\n",
            "[\"niet dat ik er naar toe wil maar ik vraag me af hoe zo'n hoofdstad raqqa er uit ziet; hoeveel inw. en alleen maar strijders of ook gezinnen\\\\uNUMBER\", '0', '0', '2', '0']\n",
            "['extra geld besteden aan een grondige nodenanalyse, kan veel geld besparen achteraf juistedoel juisteaanpak', '0', '0', '1', '0']\n",
            "['de naïeve europeaan is geshockeerd. de realistische europeaan waarschuwt hier al heel lang voor. laten wij waken voor onze vrijheid.', '0', '0', '2', '0']\n",
            "['rt schagenkp: op zoek naar leuke (schoen)-kadootjes? - schoenkadootje sinterklaas schagen zijpe hatenkardpel koopplein.nl \\\\uNUMBER', '0', '0', '2', '0']\n",
            "['hahaha, je leert veel over de achterban van politieke partijen bij penj. jongeren die met een gooise r natuurlijk groenlinks stemmen', '0', '0', '2', '0']\n",
            "['wederom op weg naar krakow\\\\uNUMBER\\\\uNUMBER\\\\uNUMBER met hollandse snacks in de koffer\\\\udNUMBERc\\\\udfNUMBERfvolgend jaar openen we hollandse snackcorner in krakow\\\\udNUMBERd\\\\udcNUMBERd\\\\udNUMBERd\\\\udcNUMBERcondernemen\\\\udNUMBERd\\\\udeNUMBER\\\\udNUMBERd\\\\udeNUMBERe\\\\udNUMBERd\\\\udcNUMBERa', '0', '0', '2', '0']\n",
            "['leiderschapNUMBER: deze NUMBER bedrijven spelen zelf bank voor hun klanten: als je bank niet meehelpt, kun je op zoek naar cash in de ... \\\\uNUMBER', '0', '0', '2', '0']\n",
            "['NUMBER brandveiligheidsregels voor stallen moeten veel strenger. verplichte sprinklerinstallaties en nooduitgangen pvdd NUMBERmaart NUMBERredenen', '0', '0', '2', '0']\n",
            "['gelukkig zie aan de tweets dat er een storing bij ziggo is. zie plattegrond parijs op tv hoor andere zenders. hoe weird storing ziggo', '0', '0', '1', '0']\n",
            "['MENTION MENTION ja stoppen met junkfood eten is ook altijd verstandig. toch als je liever geen goede klant van big pharma en de medische industrie wil worden URL via MENTION roken rookvrij enz...', '0', '0', '1', '0']\n",
            "['MENTION MENTION MENTION van het gas af is waanzin want er komt waterstof aan en dat kan door het gasnet getransporteerd worden. het is een idee van kwiebes maar die doet alles andersom. bij de belastingdienst gooit hij er duizende mensen uit met een zak geld en NUMBER weken later worden ze weer aangenomen', '0', '0', '2', 0]\n",
            "['de deelnemers aan de demonstratie op het malieveld hebben zojuist een minuut stilte gehouden voor slachtoffers aanslagen parijs.', '0', '0', '2', '0']\n",
            "['MENTION hm ja zoiets dacht ik wel. maar heb al hele dure en medium dure gekocht deze maand. en heb dus chronisch geen geld.', '0', '0', '2', '0']\n",
            "[\"samen met europese collega's kennismaking met nieuwe chef van dg mare in brussel de actuele visserijthema's en knelpunten besproken\", '0', '0', '1', '0']\n",
            "[\"kinderlijke eerlijkheid: laat net een dure macbook pro op grond vallen. dochter van NUMBER zegt 'gelukkig is het niet mama's computer'. geweldig!\", '0', '0', '2', '0']\n",
            "['MENTION hi raymond gefeliciteerd, waanzinnige partij goed dat ik nog niet naar bed gegaan was. dan had ik deze partij gemist', '0', '0', '2', '0']\n",
            "[\"fijne meeting gehad in echt. deze jongen gaat twee sinterklaas-shows spelen. voor het eerst in 'die andere rol'. ik vind het nu al leuk.\", '0', '0', '2', '0']\n",
            "['MENTION waarom moeten wij afrikaanse landen steunen die hun eigen burgers liever zien gaan? das goed voor hun economie .', '0', '0', '2', 2]\n",
            "['dromen over parabolen, kwadratische formules en googols... altijd fijn iemand met wiskunde helpen 📈😀', '0', '0', '2', '0']\n",
            "['rotary turnhout laat jongeren kennismaken met beroepen URL', '0', '0', '1', '0']\n",
            "['fijn :-) wij ook rt MENTION: hele goedemorgen! ik geniet nog na van beursvloerassen mooie matches! dat geeft energie dankbaar', '0', '0', '2', '0']\n",
            "['MENTION was zelf slecht geïnformeerd. dacht dat t feit dat nl taps deelde gelekt was uit cie stiekum, maar t gaat dus over iets anders.', '0', '0', '2', '0']\n",
            "['lijkt mij een prachtige tocht. MENTION de zwolse deniz ozdemir fietste van zwolle naar turkije: URL rtvoost', '0', '0', '2', '0']\n",
            "[\"MENTION wat kan mij het schelen of nazi's politiek links of rechts waren. verachtelijk soort, meer woorden zoek ik er niet voor.\", '0', '0', '2', 2]\n",
            "['tmg heeft recht op eigenaar die in haar producten gelooft - URL', '0', '0', '1', '0']\n",
            "['daar gaan ook hope kindervermaak by die groei saam laurus markdag beskikbaar wees soos die springkastele hieronder. URL URL', '0', '0', '2', '0']\n",
            "['schandalig regering deze mensen zijn ook stemgerechtigden dus dat zij al die jaren niet kunnen stemmen valt niet goed te praten URL', '0', '0', '2', 1]\n",
            "['MENTION MENTION MENTION MENTION MENTION terwijl als je het verpakt als een verplichting vanuit europa en je speelt de witwaskaart, dan heb je genoeg knopjes ingedrukt om een akkoord te krijgen in de NUMBERe kamer. dat ook het hoofd van de fiod meldt dat witwassen via cash en giraal geschiedt, moffel je weg en klaar is kees.', '0', '0', '2', '0']\n",
            "['het gezondheidspaspoort, is ontwikkeld door vst enterprises en circle pas enterprises, en wordt in ieder geval aan italië, portugal, frankrijk, zweden, spanje, nederland, de vs, canada, mexico, panama, india, de verenigde arabische emiraten geleverd URL', '0', '0', '1', '0']\n",
            "['MENTION MENTION õzcan akyol als het gaat om onze moraliteit, in relatie tot hoe we met onze goedkope arbeidskrachten omgaan, kunnen we gerust vaststellen dat in nederland elke vorm van beschaving ver is te zoeken.', '0', '0', '1', 0]\n",
            "['we hebben geen italiaanse toestanden meegemaakt, waar mensen op de gang van het ziekenhuis stierven, maar dat danken we niet aan het systeem. idd, u heeft ze gewoon laten sterven in de wzc zonder enige verzorging. proficiat.', '0', '0', '1', 0]\n",
            "['MENTION MENTION MENTION leer eens normaal te spreken man met je grote mond en met je bang zeker... zegt iemand met een achtergrond waar men enkel in roedels aanvalt en als ze alleen zijn het de goorste slijmballen. zo ook even generaliseren.', '0', '0', '2', 0]\n",
            "['MENTION MENTION MENTION bij de vvd word je de beste politicus genoemd als je het meest gegraaid gelogen en bedrogen hebt!!!!', '0', '0', '2', '0']\n",
            "['MENTION dat was ook een stuk verdriet ,het probleem was na de oorlog dat verraders niet de doodstraf hebben gekregen . die cultuur was er toen en is erger geworden', '0', '0', '2', '0']\n",
            "['wij dwaalden allen als schapen, wij keerden ons een iegelijk naar zijn weg; doch de heere heeft onzer … —jesaja NUMBER:NUMBER URL', '0', '0', '2', '0']\n",
            "['MENTION MENTION MENTION MENTION MENTION sja ik meen het maat. kijk al heb je goeie argumenten luister ik best naar je maar als ik kijk wat trump echt doet en wat bv mark rutte doet, ja dan is het gewoon duidelijk', '0', '0', '1', 1]\n",
            "['MENTION one direction is niet gestopt kut het is een pauze kijk niet naar de bladen en lees hun daadwerkelijke reacties het is bullshit', '0', '0', '1', '0']\n",
            "['MENTION jammer dat al die nertsen zo meteen gegenocideerd gaan worden als de joden ooit hebben gedaan. wat in the hell zijn we aan het doen. dus dieren mogen geen resistentie opbouwen tegen corona? haha ik stuur wel weer een dieren activisten leger naar de minister om het te stoppen.', '0', '0', '2', 2]\n",
            "['omdat het twitter extreem links en oikofoob is...voor de minder ontwikkelde linkse tak...ze haten blanken en eigen cultuur...', '0', '0', '2', 2]\n",
            "['MENTION is eigenlijk een heel pertinente tweet, zeker als er een tweede opstoot van covid-NUMBER komt. lees o.a het dubbel interview van noels en de keyzer in de trends', '0', '0', '2', '0']\n",
            "['MENTION goh.. moslims hebben het er maar druk mee om iedereen te bestrijden.', 2, 2, 2, 0]\n",
            "['je zal toch gezellig naar een concert gaan.. godsallemachtig', 1, 1, 1, 0]\n",
            "['MENTION MENTION ik wens niet meer te betalen voor uiterst rechts volk, en al zeker niet voor zijn die een betaald politiek mandaat hebben .', 0, 0, 0, 2]\n",
            "['MENTION kominverzet wildersforpresident zet emop geert want de rest =stekeblind en zo wordt nl in rap tempo de afrond in geholpen', 2, 2, 2, 0]\n",
            "['morgen met alle voetbalclubs ook maar eens af reizen naar mokum in het kader van racisme en ongelijkheid tegen voetbalsupporters moet je zien hoe snel halsema het verbiedt! aftreden moet ze en iedereen die corona oploopt MENTION aangifte doe van zware mishandeling', 2, 2, 2, 0]\n",
            "[\"MENTION MENTION MENTION helemaal eens, wat buitensporig geweld betreft. maar het moet nog bewezen worden dat zijn dood daaraan te wijten is. normaal staat heel links op z'n kop als er publiekelijk veroordeeld wordt. nu niet, want zwart en dus racisme\", 0, 0, 0, 1]\n",
            "[\"duitsland is zover de weg kwijt en nog zo 'wiedergutmachung' reagerend en vooral acterend dat ik hoop ze nu niet indirect de oorzaak worden van een NUMBERe x europa in puin.\", 2, 2, 2, 0]\n",
            "['MENTION MENTION inderdaad , dit toont de gemiddelde geaardheid van moslims aan', 0, 0, 0, 2]\n",
            "['volgens erdogan moet nederlandse turken en moslims niet stemmen op de vvd of de pvv. nos', 0, 0, 0, 2]\n",
            "['MENTION politie ? welke politie ! wij kennen toch geen politie in nederland ! wij hebben zwakke mannen mannebroeders in nederland , en fit genoeg denk ik !', 2, 2, 2, 0]\n",
            "['MENTION maar het zijn geen moslims en de gemiddelde moslim heeft er niets mee te maken.', 0, 0, 0, 2]\n",
            "['MENTION doe nu maar niet alsof ze alle lieverdjes zijn .voir niks komt geen politie .deze agent was fout .maar ga je niet stelen en alles in de fik steken', 2, 2, 2, 0]\n",
            "['voor alle mensen die zeggen: heeft niets met islam te maken: is betekend islamitische staat. koekkoek', 0, 0, 0, 2]\n",
            "['MENTION wat een volslagen nonsens! islam verklaart verschillen door te zeggen dat joden en chr. hun boeken vervalst hebben.', 1, 1, 1, 2]\n",
            "['je het potverdorie nog niet eens geld voor een bosje tulpen op je tafel. ja rutte. terechte woede is dat! URL', 1, 1, 1, 0]\n",
            "['MENTION werkelijk, u zei met droge ogen dat bijstandsgerechtigden geen vakantiegeld hoeven. daar betalen ze rekeningen van. misdadig', 2, 2, 2, 0]\n",
            "[\"MENTION MENTION ik hoorde dit van dennis prager (cons, joods). hij vertelde hoe lefty's iedereen willen reduceren tot NUMBER woord.\", 2, 2, 2, 0]\n",
            "['wat hebben pvda, groenlinks, cda en dNUMBER de afgelopen decennia eigenlijk voor groningen betekend? penj', 2, 2, 2, 0]\n",
            "['de body language van rutte spreekt boekdelen na penj keert zich af van jinek die handje komt schudden. trap busjegroningerssurpriseparty URL', 0, 0, 0, 2]\n",
            "['mafkezen prima ... maar in hun eigen tijd van hun eigen geld ...', 1, 1, 1, 0]\n",
            "['MENTION wat ga je nu doen voor de gehandicapten..doe je daar ook nog iets aan,je weet niet hoeveel geld het kost .en ook wij zijn mensen.', 2, 2, 2, 0]\n",
            "['goedemorgen iedereen behalve iedereen die voor MENTION werkt.', 2, 2, 2, 0]\n",
            "['hé MENTION krijg een nare smaak in mijn mond. polarisatie en gebrekkig ongenuanceerd vingerwijzen is niet wat de wereld nodig heeft. URL', 2, 2, 2, 0]\n",
            "['zie MENTION iedereen ziet dat je niet objectief bent. dus stop nu maar met je aangesproken voelen, je bent al door de mand gevallen penj URL', 2, 2, 2, 1]\n",
            "['MENTION MENTION wat een ego! had de architect maar kunstenaar moeten worden. je ontwerpen zijn niet heilig! laathetlos', 2, 2, 2, 0]\n",
            "['zwart racisme is \\'alive and kicking\\' in usa blackracism bestaat vlgs democrats zogenaamd niet, maar is alom waar te nemen. sterker nog, als de politie \\'n blanke/latino vermoordt, hoor je daar nooit iets van. is er \\'n zwart persoon in \\'t geding, dan \"all hell breaks loose!\"', 2, 2, 2, 0]\n",
            "['krijgt niks van mij als hij daar zo stond lol en als er mensen zijn die hem dan wat geld durfde te geven die zouden dan een schop onder hun reet moeten krijgen.', 2, 2, 2, 1]\n",
            "['als je \"protesteert\" tegen politiegeweld en dan zelf een teringzooi creëert en onschuldige mensen zwaar benadeelt. dan heb je het morele gelijk wel aan je zijde, hoor...not. floyd gouverneur minnesota schakelt leger in vanwege rellen URL via MENTION', 1, 1, 1, 0]\n",
            "['MENTION MENTION MENTION de gezonde mensen kunnen dus ongemerkt het coronavirus verspreiden en mensen met een kwetsbare gezondheid besmetten. er zijn daarnaast ook genoeg mensen die binnen de risicogroep vallen die wel naar hun werk, school of opleiding moeten.', 0, 0, 0, 2]\n",
            "[\"MENTION racisme, seksisme, klassisme en homohaat zijn idd aangeleerd. hoe diep dat zit, leert 'geïnternaliseerde onderdrukking'. dat iemand zelf denkt iets niet te kunnen vanwege zwart zijn, vrouw zijn, van 'eenvoudige' komaf zijn, vanwege homo of lesbo zijn. er is nog een weg te gaan.\", 0, 0, 0, 2]\n",
            "['just kidding voordat alle sensitive mensen weer gaan komen', 0, 0, 0, 2]\n",
            "['MENTION je gooit toch geen geld in een bodemloze put? zullen we bij timmermans meer alsNUMBER,meter afstand houden? hij is NUMBER v/d redenen dat ik geen pvda meer stem!', 2, 2, 2, 0]\n",
            "['MENTION MENTION MENTION MENTION dat is missc beetje kort door de bocht. wat wel feit is is dat de hurd immunity van MENTION doodslag is. doordat er vrijwel geen antilichamen worden opgebouwd en mensen opnieuw raken besmet, staan de doden in geen verhouding tot wachten op die immunity vorming. doodslag dus.', 1, 1, 1, 0]\n",
            "['MENTION MENTION MENTION MENTION oké maar waar is uw bron? zelfs mocht je willen, zou je geen enkele betrouwbare bron vinden omdat het simpelweg niet klopt. je zou willen dat het zo was, maar daarom is dat nog niet het geval. zwarten hebben procentueel gezien nog altijd hogere rape/pedo cijfers dan blanken. URL', 2, 2, 2, 0]\n",
            "['MENTION MENTION bedankt dat je de stem bent van onschuldige mensen en mensenrechten. veel onschuldige mensen zijn in gevangenissen ter dood gebracht, terwijl criminelen met bloedige handen en maffia-leiders zijn vermoord door het erdoğan-regime in turkije.', 0, 0, 0, 1]\n",
            "['MENTION MENTION MENTION MENTION die uitslag wordt voor ons gemaakt. dit is een soort tweede suriname. achter de schermen zien we niets. vvd gaat dik winnen. mark bouterse.', 2, 2, 2, 1]\n",
            "['MENTION MENTION ik zou eens willen stoppen met de term fakenews. een flauwekulterm die mensen gebruiken om aan te geven dat ze in iets anders willen geloven. wat maakt jou media wel waarheidsgetrouw? NUMBER keer een disclaimer en trump past de wet aan. kleuterschoolgedrag', 1, 1, 1, 0]\n",
            "['MENTION MENTION als je de linksen, moslims en illegalen niet meetelt: amsterdam.', 0, 0, 0, 2]\n",
            "['de dieren zeggen ook. oh wij zijn geen mensen, gelukkig dat wij dieren zijn🤔 dus van de muggen af blijven ik ga nu naar buiten hoer 🤪', 1, 1, 1, 0]\n",
            "['MENTION MENTION MENTION MENTION MENTION MENTION MENTION MENTION MENTION MENTION MENTION MENTION MENTION MENTION MENTION MENTION MENTION MENTION MENTION MENTION MENTION MENTION MENTION MENTION MENTION MENTION MENTION MENTION MENTION MENTION MENTION MENTION MENTION MENTION MENTION MENTION MENTION MENTION MENTION MENTION MENTION MENTION MENTION MENTION MENTION MENTION MENTION MENTION me neither. alleen linkse politici en dito reporters zijn doorlopend geschokt.', 2, 2, 2, 1]\n",
            "['MENTION gisteren per bezorging een vleespakket van NUMBER kg ontvangen, rechtstreeks van de boer. mij krijgen jullie niet gek, zootje wappies.', 1, 1, 1, 0]\n",
            "['MENTION nederland heeft ook alles al onder controle, maar is zwakzinnig in beleidsvorming.', 1, 1, 1, 0]\n",
            "['MENTION MENTION MENTION MENTION MENTION MENTION MENTION MENTION MENTION MENTION MENTION MENTION MENTION MENTION MENTION MENTION MENTION MENTION MENTION MENTION MENTION MENTION MENTION MENTION MENTION MENTION MENTION MENTION MENTION MENTION MENTION MENTION MENTION MENTION MENTION MENTION MENTION MENTION MENTION MENTION MENTION MENTION MENTION MENTION MENTION MENTION MENTION als je decimerende partijtje spontaan niet genoeg stemmen haalt, dan koop je ze gewoon.', 1, 1, 1, 0]\n",
            "['MENTION o dus als je een andere mening hebt of een andere kant kiest ben je gelijk een nazit? ik loop ook niet als een hersenloos schaap achter de vvd,gl,cda,dNUMBER en pvda aan,ik kies zelf.', 1, 1, 1, 2]\n",
            "['MENTION MENTION MENTION niet alleen onderzoekers van het mit komen tot die conclusie. iedereen die een beetje logisch na kan denken wist dat al lang. dat bewijst dat ze bij het rivm dus niet logisch kunnen denken. hier nog meer bewijs. al van november NUMBER: URL', 2, 2, 2, 0]\n",
            "['MENTION ik denk dat de meeste mensen dit geweld en elk geweld afkeuren maar he, blijf lekker in je bubble hangen in de eigen waarheid 🙏', 2, 2, 2, 0]\n",
            "['MENTION MENTION dergelijke beelden zijn van soenens niet te verwachten, hij gaat zijn linkse democrats vriendjes zo niet filmen.', 0, 0, 0, 2]\n",
            "['de keren dat ik hier slachtoffers van gezien heb betrof het vaak donkere mensen, weet niet of dit het algemene beeld was. zo ja zou dit in amerika als racisme uitgelegd worden MENTION waar jij hier dan voor verantwoordelijk zou zijn geweest. maar je neemt vlucht een voren 😖', 2, 2, 2, 0]\n",
            "['MENTION MENTION héé, geestelijke gestoorde nepnieuwsmaker MENTION, welke leuzen bedoelde je ook alweer in je gewiste tweet? URL', 1, 1, 1, 0]\n",
            "['MENTION absurd. en binnen n maand is t volledig uitgewoond en klagen de apen alsnog dat ze het zo slecht hebben.', 1, 1, 1, 0]\n",
            "['MENTION MENTION jawel. maar ik geef je graag de kans jezelf nog verder in te graven. post jij het filmpje waar jij het over had, dan leg ik dat naast mijn screenshot van hetzelfde filmpje. geef jij dan netjes toe dat je fout zit? deal?', 2, 2, 2, 0]\n",
            "['george floyd is just an excuse for the links democrats to start riots to frame trump. it is a deception. - ook in nederland pakt het partijkartel dit onderwerp op om de oppositie te torpederen. normale mensen plunderen geen winkels en stichten geen brand! de knokploeg antifa URL', 2, 2, 2, 0]\n",
            "['woorden zijn goedkoop MENTION ..laat eens jullie effectieve acties zien..', 2, 2, 2, 0]\n",
            "['MENTION MENTION koekoek! jij bent rijp voor het zwakzinnigengesticht.', 2, 2, 2, 0]\n",
            "['MENTION een walgelijk beeld.🤢', 1, 1, 1, 0]\n"
          ],
          "name": "stdout"
        },
        {
          "output_type": "display_data",
          "data": {
            "application/javascript": [
              "\n",
              "    async function download(id, filename, size) {\n",
              "      if (!google.colab.kernel.accessAllowed) {\n",
              "        return;\n",
              "      }\n",
              "      const div = document.createElement('div');\n",
              "      const label = document.createElement('label');\n",
              "      label.textContent = `Downloading \"${filename}\": `;\n",
              "      div.appendChild(label);\n",
              "      const progress = document.createElement('progress');\n",
              "      progress.max = size;\n",
              "      div.appendChild(progress);\n",
              "      document.body.appendChild(div);\n",
              "\n",
              "      const buffers = [];\n",
              "      let downloaded = 0;\n",
              "\n",
              "      const channel = await google.colab.kernel.comms.open(id);\n",
              "      // Send a message to notify the kernel that we're ready.\n",
              "      channel.send({})\n",
              "\n",
              "      for await (const message of channel.messages) {\n",
              "        // Send a message to notify the kernel that we're ready.\n",
              "        channel.send({})\n",
              "        if (message.buffers) {\n",
              "          for (const buffer of message.buffers) {\n",
              "            buffers.push(buffer);\n",
              "            downloaded += buffer.byteLength;\n",
              "            progress.value = downloaded;\n",
              "          }\n",
              "        }\n",
              "      }\n",
              "      const blob = new Blob(buffers, {type: 'application/binary'});\n",
              "      const a = document.createElement('a');\n",
              "      a.href = window.URL.createObjectURL(blob);\n",
              "      a.download = filename;\n",
              "      div.appendChild(a);\n",
              "      a.click();\n",
              "      div.remove();\n",
              "    }\n",
              "  "
            ],
            "text/plain": [
              "<IPython.core.display.Javascript object>"
            ]
          },
          "metadata": {
            "tags": []
          }
        },
        {
          "output_type": "display_data",
          "data": {
            "application/javascript": [
              "download(\"download_ea0b5df4-5a67-4acc-b42c-b75cf5c3f8f8\", \"final_wrong.csv\", 35551)"
            ],
            "text/plain": [
              "<IPython.core.display.Javascript object>"
            ]
          },
          "metadata": {
            "tags": []
          }
        }
      ]
    }
  ]
}