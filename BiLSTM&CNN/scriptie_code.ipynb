{
  "nbformat": 4,
  "nbformat_minor": 0,
  "metadata": {
    "colab": {
      "name": "scriptie_code.ipynb",
      "provenance": [],
      "authorship_tag": "ABX9TyMME/iJZtTshfPe8fPV83es",
      "include_colab_link": true
    },
    "kernelspec": {
      "name": "python3",
      "display_name": "Python 3"
    },
    "language_info": {
      "name": "python"
    },
    "accelerator": "GPU"
  },
  "cells": [
    {
      "cell_type": "markdown",
      "metadata": {
        "id": "view-in-github",
        "colab_type": "text"
      },
      "source": [
        "<a href=\"https://colab.research.google.com/github/VictorZwart/ScriptieOffensiveLanguage/blob/main/BiLSTM%26CNN/scriptie_code.ipynb\" target=\"_parent\"><img src=\"https://colab.research.google.com/assets/colab-badge.svg\" alt=\"Open In Colab\"/></a>"
      ]
    },
    {
      "cell_type": "markdown",
      "metadata": {
        "id": "abUOu1HupIbd"
      },
      "source": [
        "CNN Convolutional Neural Networks\n",
        "\n",
        "Based on the following tutorial: https://medium.com/voice-tech-podcast/text-classification-using-cnn-9ade8155dfb9"
      ]
    },
    {
      "cell_type": "code",
      "metadata": {
        "colab": {
          "base_uri": "https://localhost:8080/"
        },
        "id": "AS3e0bpQrGf2",
        "outputId": "711acc37-a7e5-4d1c-9762-7420e918f252"
      },
      "source": [
        "# get gpu specs\n",
        "!nvidia-smi\n",
        "# Tesla K80 (11441MiB) = bad\n",
        "# Tesla T4  (15109MiB) = good\n"
      ],
      "execution_count": 2,
      "outputs": [
        {
          "output_type": "stream",
          "text": [
            "Sat May 22 08:33:36 2021       \n",
            "+-----------------------------------------------------------------------------+\n",
            "| NVIDIA-SMI 465.19.01    Driver Version: 460.32.03    CUDA Version: 11.2     |\n",
            "|-------------------------------+----------------------+----------------------+\n",
            "| GPU  Name        Persistence-M| Bus-Id        Disp.A | Volatile Uncorr. ECC |\n",
            "| Fan  Temp  Perf  Pwr:Usage/Cap|         Memory-Usage | GPU-Util  Compute M. |\n",
            "|                               |                      |               MIG M. |\n",
            "|===============================+======================+======================|\n",
            "|   0  Tesla T4            Off  | 00000000:00:04.0 Off |                    0 |\n",
            "| N/A   39C    P8     9W /  70W |      0MiB / 15109MiB |      0%      Default |\n",
            "|                               |                      |                  N/A |\n",
            "+-------------------------------+----------------------+----------------------+\n",
            "                                                                               \n",
            "+-----------------------------------------------------------------------------+\n",
            "| Processes:                                                                  |\n",
            "|  GPU   GI   CI        PID   Type   Process name                  GPU Memory |\n",
            "|        ID   ID                                                   Usage      |\n",
            "|=============================================================================|\n",
            "|  No running processes found                                                 |\n",
            "+-----------------------------------------------------------------------------+\n"
          ],
          "name": "stdout"
        }
      ]
    },
    {
      "cell_type": "markdown",
      "metadata": {
        "id": "V-WRGLfypayz"
      },
      "source": [
        "# Import\n",
        "First import all the necessary packages"
      ]
    },
    {
      "cell_type": "code",
      "metadata": {
        "id": "Mst6CePkpGfg"
      },
      "source": [
        "from keras.datasets import imdb\n",
        "from keras.models import Sequential\n",
        "from keras.layers import Dense\n",
        "from keras.layers import Flatten\n",
        "from keras.layers.convolutional import Conv1D\n",
        "from keras.layers.convolutional import MaxPooling1D\n",
        "from keras.layers.embeddings import Embedding\n",
        "from keras.preprocessing import sequence\n",
        "from keras.preprocessing.sequence import pad_sequences\n",
        "\n",
        "#BiLstm imports:\n",
        "from sklearn.model_selection import train_test_split\n",
        "from keras.layers import Dense, LSTM, Dropout, Bidirectional\n",
        "\n",
        "# Modules for data manipulation\n",
        "import numpy as np\n",
        "import pandas as pd\n",
        "import re\n",
        "import csv\n",
        "\n",
        "import urllib\n",
        "import shutil\n",
        "import sys\n",
        "from sklearn.model_selection import train_test_split\n",
        "\n",
        "\n",
        "# Modules for visualization\n",
        "import matplotlib.pyplot as plt\n",
        "import seaborn as sb\n",
        "from sklearn.metrics import confusion_matrix\n",
        "\n",
        "\n",
        "import tensorflow as tf\n",
        "\n",
        "# Dummy classifier\n",
        "from sklearn.dummy import DummyClassifier\n"
      ],
      "execution_count": 3,
      "outputs": []
    },
    {
      "cell_type": "code",
      "metadata": {
        "colab": {
          "base_uri": "https://localhost:8080/"
        },
        "id": "ZAvi1KU8GqQY",
        "outputId": "725a126e-d4fb-4078-c381-c0c063fd2775"
      },
      "source": [
        "from google.colab import drive\n",
        "drive.mount('/content/drive')"
      ],
      "execution_count": 4,
      "outputs": [
        {
          "output_type": "stream",
          "text": [
            "Mounted at /content/drive\n"
          ],
          "name": "stdout"
        }
      ]
    },
    {
      "cell_type": "code",
      "metadata": {
        "colab": {
          "resources": {
            "http://localhost:8080/nbextensions/google.colab/files.js": {
              "data": "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",
              "ok": true,
              "headers": [
                [
                  "content-type",
                  "application/javascript"
                ]
              ],
              "status": 200,
              "status_text": ""
            }
          },
          "base_uri": "https://localhost:8080/",
          "height": 415
        },
        "id": "X1Tlm0SXsB79",
        "outputId": "9a7f92f3-cccb-4386-e2df-d61276689c36"
      },
      "source": [
        "# upload data\n",
        "from google.colab import files\n",
        "train_upload = files.upload()\n",
        "test_upload= files.upload()\n",
        "print(test_upload)\n",
        "print(train_upload)"
      ],
      "execution_count": 46,
      "outputs": [
        {
          "output_type": "display_data",
          "data": {
            "text/html": [
              "\n",
              "     <input type=\"file\" id=\"files-3aefd4ae-cfd8-438d-a5c7-dfe992f733f9\" name=\"files[]\" multiple disabled\n",
              "        style=\"border:none\" />\n",
              "     <output id=\"result-3aefd4ae-cfd8-438d-a5c7-dfe992f733f9\">\n",
              "      Upload widget is only available when the cell has been executed in the\n",
              "      current browser session. Please rerun this cell to enable.\n",
              "      </output>\n",
              "      <script src=\"/nbextensions/google.colab/files.js\"></script> "
            ],
            "text/plain": [
              "<IPython.core.display.HTML object>"
            ]
          },
          "metadata": {
            "tags": []
          }
        },
        {
          "output_type": "error",
          "ename": "KeyboardInterrupt",
          "evalue": "ignored",
          "traceback": [
            "\u001b[0;31m---------------------------------------------------------------------------\u001b[0m",
            "\u001b[0;31mKeyboardInterrupt\u001b[0m                         Traceback (most recent call last)",
            "\u001b[0;32m<ipython-input-46-6d327de34362>\u001b[0m in \u001b[0;36m<module>\u001b[0;34m()\u001b[0m\n\u001b[1;32m      1\u001b[0m \u001b[0;31m# upload data\u001b[0m\u001b[0;34m\u001b[0m\u001b[0;34m\u001b[0m\u001b[0;34m\u001b[0m\u001b[0m\n\u001b[1;32m      2\u001b[0m \u001b[0;32mfrom\u001b[0m \u001b[0mgoogle\u001b[0m\u001b[0;34m.\u001b[0m\u001b[0mcolab\u001b[0m \u001b[0;32mimport\u001b[0m \u001b[0mfiles\u001b[0m\u001b[0;34m\u001b[0m\u001b[0;34m\u001b[0m\u001b[0m\n\u001b[0;32m----> 3\u001b[0;31m \u001b[0mtrain_upload\u001b[0m \u001b[0;34m=\u001b[0m \u001b[0mfiles\u001b[0m\u001b[0;34m.\u001b[0m\u001b[0mupload\u001b[0m\u001b[0;34m(\u001b[0m\u001b[0;34m)\u001b[0m\u001b[0;34m\u001b[0m\u001b[0;34m\u001b[0m\u001b[0m\n\u001b[0m\u001b[1;32m      4\u001b[0m \u001b[0mtest_upload\u001b[0m\u001b[0;34m=\u001b[0m \u001b[0mfiles\u001b[0m\u001b[0;34m.\u001b[0m\u001b[0mupload\u001b[0m\u001b[0;34m(\u001b[0m\u001b[0;34m)\u001b[0m\u001b[0;34m\u001b[0m\u001b[0;34m\u001b[0m\u001b[0m\n\u001b[1;32m      5\u001b[0m \u001b[0mprint\u001b[0m\u001b[0;34m(\u001b[0m\u001b[0mtest_upload\u001b[0m\u001b[0;34m)\u001b[0m\u001b[0;34m\u001b[0m\u001b[0;34m\u001b[0m\u001b[0m\n",
            "\u001b[0;32m/usr/local/lib/python3.7/dist-packages/google/colab/files.py\u001b[0m in \u001b[0;36mupload\u001b[0;34m()\u001b[0m\n\u001b[1;32m     62\u001b[0m   result = _output.eval_js(\n\u001b[1;32m     63\u001b[0m       'google.colab._files._uploadFiles(\"{input_id}\", \"{output_id}\")'.format(\n\u001b[0;32m---> 64\u001b[0;31m           input_id=input_id, output_id=output_id))\n\u001b[0m\u001b[1;32m     65\u001b[0m   \u001b[0mfiles\u001b[0m \u001b[0;34m=\u001b[0m \u001b[0m_collections\u001b[0m\u001b[0;34m.\u001b[0m\u001b[0mdefaultdict\u001b[0m\u001b[0;34m(\u001b[0m\u001b[0m_six\u001b[0m\u001b[0;34m.\u001b[0m\u001b[0mbinary_type\u001b[0m\u001b[0;34m)\u001b[0m\u001b[0;34m\u001b[0m\u001b[0;34m\u001b[0m\u001b[0m\n\u001b[1;32m     66\u001b[0m   \u001b[0;31m# Mapping from original filename to filename as saved locally.\u001b[0m\u001b[0;34m\u001b[0m\u001b[0;34m\u001b[0m\u001b[0;34m\u001b[0m\u001b[0m\n",
            "\u001b[0;32m/usr/local/lib/python3.7/dist-packages/google/colab/output/_js.py\u001b[0m in \u001b[0;36meval_js\u001b[0;34m(script, ignore_result, timeout_sec)\u001b[0m\n\u001b[1;32m     38\u001b[0m   \u001b[0;32mif\u001b[0m \u001b[0mignore_result\u001b[0m\u001b[0;34m:\u001b[0m\u001b[0;34m\u001b[0m\u001b[0;34m\u001b[0m\u001b[0m\n\u001b[1;32m     39\u001b[0m     \u001b[0;32mreturn\u001b[0m\u001b[0;34m\u001b[0m\u001b[0;34m\u001b[0m\u001b[0m\n\u001b[0;32m---> 40\u001b[0;31m   \u001b[0;32mreturn\u001b[0m \u001b[0m_message\u001b[0m\u001b[0;34m.\u001b[0m\u001b[0mread_reply_from_input\u001b[0m\u001b[0;34m(\u001b[0m\u001b[0mrequest_id\u001b[0m\u001b[0;34m,\u001b[0m \u001b[0mtimeout_sec\u001b[0m\u001b[0;34m)\u001b[0m\u001b[0;34m\u001b[0m\u001b[0;34m\u001b[0m\u001b[0m\n\u001b[0m\u001b[1;32m     41\u001b[0m \u001b[0;34m\u001b[0m\u001b[0m\n\u001b[1;32m     42\u001b[0m \u001b[0;34m\u001b[0m\u001b[0m\n",
            "\u001b[0;32m/usr/local/lib/python3.7/dist-packages/google/colab/_message.py\u001b[0m in \u001b[0;36mread_reply_from_input\u001b[0;34m(message_id, timeout_sec)\u001b[0m\n\u001b[1;32m     99\u001b[0m     \u001b[0mreply\u001b[0m \u001b[0;34m=\u001b[0m \u001b[0m_read_next_input_message\u001b[0m\u001b[0;34m(\u001b[0m\u001b[0;34m)\u001b[0m\u001b[0;34m\u001b[0m\u001b[0;34m\u001b[0m\u001b[0m\n\u001b[1;32m    100\u001b[0m     \u001b[0;32mif\u001b[0m \u001b[0mreply\u001b[0m \u001b[0;34m==\u001b[0m \u001b[0m_NOT_READY\u001b[0m \u001b[0;32mor\u001b[0m \u001b[0;32mnot\u001b[0m \u001b[0misinstance\u001b[0m\u001b[0;34m(\u001b[0m\u001b[0mreply\u001b[0m\u001b[0;34m,\u001b[0m \u001b[0mdict\u001b[0m\u001b[0;34m)\u001b[0m\u001b[0;34m:\u001b[0m\u001b[0;34m\u001b[0m\u001b[0;34m\u001b[0m\u001b[0m\n\u001b[0;32m--> 101\u001b[0;31m       \u001b[0mtime\u001b[0m\u001b[0;34m.\u001b[0m\u001b[0msleep\u001b[0m\u001b[0;34m(\u001b[0m\u001b[0;36m0.025\u001b[0m\u001b[0;34m)\u001b[0m\u001b[0;34m\u001b[0m\u001b[0;34m\u001b[0m\u001b[0m\n\u001b[0m\u001b[1;32m    102\u001b[0m       \u001b[0;32mcontinue\u001b[0m\u001b[0;34m\u001b[0m\u001b[0;34m\u001b[0m\u001b[0m\n\u001b[1;32m    103\u001b[0m     if (reply.get('type') == 'colab_reply' and\n",
            "\u001b[0;31mKeyboardInterrupt\u001b[0m: "
          ]
        }
      ]
    },
    {
      "cell_type": "code",
      "metadata": {
        "id": "SVm_CSIPrU1b"
      },
      "source": [
        "SMALL_SIZE = 12\n",
        "MEDIUM_SIZE = 14\n",
        "BIG_SIZE = 16\n",
        "LARGE_SIZE = 20\n",
        "\n",
        "params = {\n",
        "    'figure.figsize': (16, 8),\n",
        "    'font.size': SMALL_SIZE,\n",
        "    'xtick.labelsize': MEDIUM_SIZE,\n",
        "    'ytick.labelsize': MEDIUM_SIZE,\n",
        "    'legend.fontsize': BIG_SIZE,\n",
        "    'figure.titlesize': LARGE_SIZE,\n",
        "    'axes.titlesize': MEDIUM_SIZE,\n",
        "    'axes.labelsize': BIG_SIZE\n",
        "}\n",
        "plt.rcParams.update(params)"
      ],
      "execution_count": 11,
      "outputs": []
    },
    {
      "cell_type": "markdown",
      "metadata": {
        "id": "omxJRaSYrZXV"
      },
      "source": [
        "Import Data"
      ]
    },
    {
      "cell_type": "code",
      "metadata": {
        "colab": {
          "base_uri": "https://localhost:8080/"
        },
        "id": "37hNoyBPRDzD",
        "outputId": "91ea2efd-8252-4cf0-884f-917038bd8d2a"
      },
      "source": [
        "def preprocess(line):\n",
        "    # first lowercase:\n",
        "    line = line.lower()\n",
        "\n",
        "    #remove mentions:\n",
        "    line = re.sub(r'(@\\w+)','MENTION', line)\n",
        "\n",
        "    #remove url's:\n",
        "    line = re.sub(r'(https\\S+)','URL',line)\n",
        "\n",
        "    #remove all numbers\n",
        "    line  = re.sub(r'[0-9]+', 'NUMBER', line)\n",
        "\n",
        "    #remove all hashtags\n",
        "    line  = re.sub(r'#', '', line)\n",
        "\n",
        "\n",
        "    return line\n",
        "\n",
        "input = '@arieboomsma Ik heb je 12 stukken gelezen #Indrukwekkend maar https://t.co/NQMxvgXXW6 vertel @arieboomsma dat ook even tegen de nabestaanden in #Parijs en tegen de andere slachtoffers https://t.co/NQMxvgXXW6'\n",
        "print(preprocess(input))"
      ],
      "execution_count": 12,
      "outputs": [
        {
          "output_type": "stream",
          "text": [
            "MENTION ik heb je NUMBER stukken gelezen indrukwekkend maar URL vertel MENTION dat ook even tegen de nabestaanden in parijs en tegen de andere slachtoffers URL\n"
          ],
          "name": "stdout"
        }
      ]
    },
    {
      "cell_type": "code",
      "metadata": {
        "colab": {
          "base_uri": "https://localhost:8080/"
        },
        "id": "eMLfL9OruEev",
        "outputId": "f435ec12-c5bf-40c6-9015-2e3368742816"
      },
      "source": [
        "# Function to get the data with the goal, being either 'target' or 'explicitness'\n",
        "def train_data():\n",
        "    full_data = []\n",
        "    with open('train_final.csv', encoding='utf-8') as f:\n",
        "        reader = csv.DictReader(f, delimiter='\\t')\n",
        "        for index, line in enumerate(reader):\n",
        "            text = preprocess(line['text'])\n",
        "            full_data.append([text, line['explicitness'], line[\"target\"]])\n",
        "    df_full = pd.DataFrame(full_data)    \n",
        "    df_full.columns = [\"text\", \"explicitness\", \"target\"]\n",
        "    # print(len(df_full))\n",
        "    df_full = df_full[df_full.explicitness != '']\n",
        "    df_full = df_full.dropna(subset=['explicitness'])\n",
        "    # print(len(df_full))\n",
        "    train, test = train_test_split(df_full, test_size=0.2,\n",
        "                                shuffle=True,\n",
        "                                    random_state=42)\n",
        "    return df_full\n",
        "\n",
        "def test_data():\n",
        "    full_data = []\n",
        "    with open('dev_final.csv', encoding='utf-8') as f:\n",
        "        reader = csv.DictReader(f, delimiter='\\t')\n",
        "        for index, line in enumerate(reader):\n",
        "            text = preprocess(line['text'])\n",
        "            full_data.append([text, line['abusive'], line[\"target\"]])\n",
        "\n",
        "    df_full = pd.DataFrame(full_data)    \n",
        "    df_full.columns = [\"text\", \"explicitness\", \"target\"]\n",
        "    print(len(df_full))\n",
        "    df_full = df_full[df_full.explicitness != '']\n",
        "    df_full = df_full.dropna(subset=['explicitness'])\n",
        "    print(len(df_full))\n",
        "    return df_full\n",
        "\n",
        "# train_exp, test_exp, df_full_exp = get_data()\n",
        "train_exp = train_data()\n",
        "test_exp = test_data()\n",
        "df_full_exp = [train_exp, test_exp]\n",
        "train_target = train_exp[train_exp.explicitness != 'NOT']\n",
        "test_target = test_exp[test_exp.explicitness != 'NOT']\n",
        "# train_target, test_target, df_full_target = get_data()\n",
        "print(train_exp, test_exp)\n",
        "\n"
      ],
      "execution_count": 14,
      "outputs": [
        {
          "output_type": "stream",
          "text": [
            "547\n",
            "547\n",
            "                                                   text  ...      target\n",
            "0     MENTION MENTION iets anders, wanneer word assc...  ...  INDIVIDUAL\n",
            "1     MENTION fucking schaamteloos! je kunt de afrik...  ...       GROUP\n",
            "2     mijn hemel! de elite, diegenen die onze cultuu...  ...       GROUP\n",
            "3     het feit dat mensen nog steeds zwarte piet sup...  ...       GROUP\n",
            "4     MENTION MENTION het is goed te zien dat grlink...  ...       OTHER\n",
            "...                                                 ...  ...         ...\n",
            "7759  MENTION MENTION zolang moslims zich niet uitsp...  ...       GROUP\n",
            "7760  MENTION netanyahu cs kopiëren hitler op een an...  ...  INDIVIDUAL\n",
            "7761  MENTION MENTION MENTION MENTION zolang moslims...  ...       GROUP\n",
            "7762  MENTION er staat als je zwarte piet steunt hoo...  ...       GROUP\n",
            "7763  MENTION MENTION dresscode demonstratie denhaag...  ...  INDIVIDUAL\n",
            "\n",
            "[7764 rows x 3 columns]                                                   text explicitness      target\n",
            "0    wilders uit kritiek op baudet: ‘islamstandpunt...          NOT            \n",
            "1    MENTION eens, al is het voor je portemonnee we...          NOT            \n",
            "2    formaat een huis nog wel. jonge lui staan NUMB...          NOT            \n",
            "3    vandaag naar het asbestcongres in rotterdam. g...          NOT            \n",
            "4    reactie lotgenoot: 'ben met mijn prolactinoom ...          NOT            \n",
            "..                                                 ...          ...         ...\n",
            "542  MENTION het is traditie dat de voorgaande pres...     IMPLICIT  INDIVIDUAL\n",
            "543  de koning gaat naar apeldoorn, terwijl ie eens...     EXPLICIT  INDIVIDUAL\n",
            "544  MENTION de lafbek wil medicijnen alleen voor z...     EXPLICIT  INDIVIDUAL\n",
            "545  ook zonder een racist in het witte huis is ame...     EXPLICIT       OTHER\n",
            "546  islam is gewoon een radicale beweging. altijd ...     EXPLICIT       OTHER\n",
            "\n",
            "[547 rows x 3 columns]\n"
          ],
          "name": "stdout"
        }
      ]
    },
    {
      "cell_type": "markdown",
      "metadata": {
        "id": "wwCAjdtgld3Y"
      },
      "source": [
        "# Visualisation of the data"
      ]
    },
    {
      "cell_type": "code",
      "metadata": {
        "colab": {
          "base_uri": "https://localhost:8080/",
          "height": 491
        },
        "id": "vgREZLcu3NMN",
        "outputId": "b3a318b2-fed3-44ca-ba42-e5a85086aebe"
      },
      "source": [
        "#plot of explicitness\n",
        "plt.hist(train_exp[train_exp.explicitness == \"EXPLICIT\"].explicitness,\n",
        "         bins=2, color='green', label='Explicit')\n",
        "plt.hist(train_exp[train_exp.explicitness == \"IMPLICIT\"].explicitness,\n",
        "         bins=2, color='blue', label='Implicit')\n",
        "plt.hist(train_exp[train_exp.explicitness == \"NOT\"].explicitness,\n",
        "         bins=2, color='red', label='Not')\n",
        "plt.title('Classes distribution of explicitness in the train data')\n",
        "plt.xticks([])\n",
        "plt.xlim(-0.5, 3)\n",
        "plt.legend()\n",
        "plt.show()"
      ],
      "execution_count": 15,
      "outputs": [
        {
          "output_type": "display_data",
          "data": {
            "image/png": "[encoded data removed]",
            "text/plain": [
              "<Figure size 1152x576 with 1 Axes>"
            ]
          },
          "metadata": {
            "tags": [],
            "needs_background": "light"
          }
        }
      ]
    },
    {
      "cell_type": "code",
      "metadata": {
        "colab": {
          "base_uri": "https://localhost:8080/",
          "height": 491
        },
        "id": "tOyUyRFilkuF",
        "outputId": "cfc24fce-b028-4260-edec-4b332441be7f"
      },
      "source": [
        "#plot of target\n",
        "plt.hist(train_target[train_target.target == \"OTHER\"].target,\n",
        "         bins=2, color='green', label='other')\n",
        "plt.hist(train_target[train_target.target == \"GROUP\"].target,\n",
        "         bins=2, color='blue', label='group')\n",
        "plt.hist(train_target[train_target.target == \"NOT\"].target,\n",
        "         bins=2, color='red', label='Not')\n",
        "plt.hist(train_target[train_target.target == \"INDIVIDUAL\"].target,\n",
        "         bins=2, color='yellow', label='Individual')\n",
        "plt.title('Classes distribution of target in the train data')\n",
        "plt.xticks([])\n",
        "plt.xlim(-0.5, 4)\n",
        "plt.legend()\n",
        "plt.show()"
      ],
      "execution_count": 16,
      "outputs": [
        {
          "output_type": "display_data",
          "data": {
            "image/png": "[encoded data removed]",
            "text/plain": [
              "<Figure size 1152x576 with 1 Axes>"
            ]
          },
          "metadata": {
            "tags": [],
            "needs_background": "light"
          }
        }
      ]
    },
    {
      "cell_type": "code",
      "metadata": {
        "colab": {
          "base_uri": "https://localhost:8080/"
        },
        "id": "TnNWJ4ER2Va_",
        "outputId": "efdcb7b5-99b2-485b-b4f6-5b240b5c3ac5"
      },
      "source": [
        "all_reviews = np.array([], dtype=str)\n",
        "df_full_exp = pd.concat(df_full_exp)\n",
        "all_reviews = np.concatenate((all_reviews, df_full_exp[\"text\"]), axis=0)\n",
        "print('Total number of reviews:', len(all_reviews))\n",
        "print(all_reviews)"
      ],
      "execution_count": 17,
      "outputs": [
        {
          "output_type": "stream",
          "text": [
            "Total number of reviews: 8311\n",
            "['MENTION MENTION iets anders, wanneer word asscher voor de rechter gesleept voor het willens en wetens aan de afgrond brengen van duizende mensen door de kinderopvangtoeslagenaffaire???'\n",
            " 'MENTION fucking schaamteloos! je kunt de afrikaan wel uit afrika halen...'\n",
            " 'mijn hemel! de elite, diegenen die onze cultuur zouden moeten beschermen, lijden aan auto-immuumziekte ... aldus baudet nieuwsuur'\n",
            " ... 'MENTION de lafbek wil medicijnen alleen voor zijn eigen'\n",
            " 'ook zonder een racist in het witte huis is amerika nog steeds een kut land vol racistische witte mensen die vinden dat het leven van een zwarte of gekleurde persoon niks waard is. en maar blijven denken dat je het meest ontwikkelde en beste land ter wereld bent.'\n",
            " 'islam is gewoon een radicale beweging. altijd geweest . staat voor uitroeiing van niet moslims htler NUMBER arena']\n"
          ],
          "name": "stdout"
        }
      ]
    },
    {
      "cell_type": "code",
      "metadata": {
        "colab": {
          "base_uri": "https://localhost:8080/"
        },
        "id": "QYVInt3MAaaA",
        "outputId": "a834989f-2333-4fdf-b6d8-2281f35f83d4"
      },
      "source": [
        "print(100/len(df_full_exp)*len(df_full_exp[df_full_exp.explicitness == \"NOT\"]))"
      ],
      "execution_count": 18,
      "outputs": [
        {
          "output_type": "stream",
          "text": [
            "67.53699915774276\n"
          ],
          "name": "stdout"
        }
      ]
    },
    {
      "cell_type": "markdown",
      "metadata": {
        "id": "k6JEtuuskKBb"
      },
      "source": [
        "# Preprocessing\n",
        "Start the preprocessing here"
      ]
    },
    {
      "cell_type": "code",
      "metadata": {
        "id": "iD_cSq1ASfhT"
      },
      "source": [
        ""
      ],
      "execution_count": 18,
      "outputs": []
    },
    {
      "cell_type": "markdown",
      "metadata": {
        "id": "24liZUh-wA4z"
      },
      "source": [
        "# Initiate Model and word Embeddings"
      ]
    },
    {
      "cell_type": "code",
      "metadata": {
        "id": "a05M3Zi94aQV"
      },
      "source": [
        "# Word embeddings:\n",
        "\n",
        "def demoModel(inputFile):\n",
        "    # Let's not presume gensim installation until needed\n",
        "    import gensim\n",
        "    sys.stderr.write(\"Loading model...\\n\")\n",
        "    model = gensim.models.KeyedVectors.load_word2vec_format(inputFile, binary=True)\n",
        "    sys.stderr.write(\"Model loaded\\n\")\n",
        "\n",
        "    return model\n",
        "\n",
        "def downloadModel():\n",
        "    modelUrl = \"https://github.com/coosto/dutch-word-embeddings/releases/download/v1.0/model.bin\"\n",
        "\n",
        "    # Request model data\n",
        "    try:\n",
        "        request = urllib.request.Request(modelUrl)\n",
        "        with urllib.request.urlopen(request) as response, open(\"/content/drive/MyDrive/Scriptie/code/Coosto\", 'wb') as fp:\n",
        "            shutil.copyfileobj(response, fp)\n",
        "            sys.stderr.write(\"Model saved: {}\\n\".format(fp.name))\n",
        "        return \"/content/drive/MyDrive/Scriptie/code/Coosto\"\n",
        "    except urllib.error.HTTPError as error:\n",
        "        sys.stderr.write(\"Error fetching model from github.com - {}\\n\".format(error))\n",
        "        sys.stderr.write(\"{}\".format(error.read()))\n",
        "        exit(1)\n",
        "\n"
      ],
      "execution_count": 19,
      "outputs": []
    },
    {
      "cell_type": "code",
      "metadata": {
        "colab": {
          "base_uri": "https://localhost:8080/"
        },
        "id": "cbU2Gycl4Ma4",
        "outputId": "5b220e5d-60c2-41d5-edb6-dba61166f482"
      },
      "source": [
        "model = downloadModel()"
      ],
      "execution_count": 20,
      "outputs": [
        {
          "output_type": "stream",
          "text": [
            "Model saved: /content/drive/MyDrive/Scriptie/code/Coosto\n"
          ],
          "name": "stderr"
        }
      ]
    },
    {
      "cell_type": "code",
      "metadata": {
        "colab": {
          "base_uri": "https://localhost:8080/"
        },
        "id": "8gUras0V4hrV",
        "outputId": "2f09be7b-f6fe-4763-e86b-6b0508644816"
      },
      "source": [
        "coosto_model = demoModel(model)\n",
        "coosto_model.most_similar(\"pilsje\")"
      ],
      "execution_count": 21,
      "outputs": [
        {
          "output_type": "stream",
          "text": [
            "Loading model...\n",
            "Model loaded\n"
          ],
          "name": "stderr"
        },
        {
          "output_type": "execute_result",
          "data": {
            "text/plain": [
              "[('biertje', 0.9145998954772949),\n",
              " ('glas_bier', 0.7679998874664307),\n",
              " ('wijntje', 0.7564073801040649),\n",
              " ('paar_biertjes', 0.7425606846809387),\n",
              " ('pilsjes', 0.7367861270904541),\n",
              " ('biertjes', 0.7344973087310791),\n",
              " ('colaatje', 0.7323644161224365),\n",
              " ('pilske', 0.724961519241333),\n",
              " ('borreltje', 0.7243227958679199),\n",
              " ('pils', 0.7234804630279541)]"
            ]
          },
          "metadata": {
            "tags": []
          },
          "execution_count": 21
        }
      ]
    },
    {
      "cell_type": "markdown",
      "metadata": {
        "id": "iD8vuM6IwLtN"
      },
      "source": [
        "# Build model"
      ]
    },
    {
      "cell_type": "code",
      "metadata": {
        "id": "VKiYbovyVIe-",
        "colab": {
          "base_uri": "https://localhost:8080/"
        },
        "outputId": "2fcb121b-4b1f-4833-fb3d-0f9f3f7290ec"
      },
      "source": [
        "import numpy\n",
        "\n",
        "\n",
        "\n",
        "x_train_text = train_exp[\"text\"]\n",
        "x_test_text = test_exp[\"text\"]\n",
        "y_test_text = test_exp[\"explicitness\"]\n",
        "y_train_text = train_exp[\"explicitness\"]\n",
        "print(x_train_text)\n",
        "\n",
        "# print(y_train_data_text)\n",
        "# print(y_train_data[:100])\n",
        "\n",
        "# x_train_text, x_test_text, y_train_text, y_test_text = train_test_split(\n",
        "#     all_reviews,\n",
        "#     y_train_data_text,\n",
        "#     test_size=0.2,\n",
        "#     shuffle=True,\n",
        "#     random_state=69)\n",
        "\n",
        "\n",
        "# x_train, x_test, y_train, y_test = train_test_split(\n",
        "#     pad_sequences(\n",
        "#     sequences=vectorize_data(all_reviews, vocab=coosto_model.wv.vocab),\n",
        "#     maxlen=input_length,\n",
        "#     padding='post'),\n",
        "#     y_train_data_text,\n",
        "#     test_size=0.2,\n",
        "#     shuffle=True,\n",
        "#     random_state=69)"
      ],
      "execution_count": 22,
      "outputs": [
        {
          "output_type": "stream",
          "text": [
            "0       MENTION MENTION iets anders, wanneer word assc...\n",
            "1       MENTION fucking schaamteloos! je kunt de afrik...\n",
            "2       mijn hemel! de elite, diegenen die onze cultuu...\n",
            "3       het feit dat mensen nog steeds zwarte piet sup...\n",
            "4       MENTION MENTION het is goed te zien dat grlink...\n",
            "                              ...                        \n",
            "7759    MENTION MENTION zolang moslims zich niet uitsp...\n",
            "7760    MENTION netanyahu cs kopiëren hitler op een an...\n",
            "7761    MENTION MENTION MENTION MENTION zolang moslims...\n",
            "7762    MENTION er staat als je zwarte piet steunt hoo...\n",
            "7763    MENTION MENTION dresscode demonstratie denhaag...\n",
            "Name: text, Length: 7764, dtype: object\n"
          ],
          "name": "stdout"
        }
      ]
    },
    {
      "cell_type": "code",
      "metadata": {
        "id": "M9dz2heGRKng"
      },
      "source": [
        "def vectorize_data(data, vocab): # First vectorize the data\n",
        "    keys = list(vocab.keys())\n",
        "    filter_unknown = lambda word: vocab.get(word, None) is not None\n",
        "    encode = lambda review: list(map(keys.index, filter(filter_unknown, review)))\n",
        "    vectorized = list(map(encode, data))\n",
        "    return vectorized"
      ],
      "execution_count": 23,
      "outputs": []
    },
    {
      "cell_type": "code",
      "metadata": {
        "colab": {
          "base_uri": "https://localhost:8080/"
        },
        "id": "F5guSRH1-1Uf",
        "outputId": "2e227611-2d99-4b42-8bc4-59e9ed4d141e"
      },
      "source": [
        "input_length = coosto_model.vector_size # define the input length\n",
        "print('Convert sentences to sentences with ngrams...', end='\\r')\n",
        "print('Convert sentences to sentences with ngrams... (done)')\n",
        "print('Vectorize sentences...', end='\\r')\n",
        "x_train = pad_sequences(\n",
        "    sequences=vectorize_data(x_train_text, vocab=coosto_model.wv.vocab),\n",
        "    maxlen=input_length,\n",
        "    padding='post') # Use X_pad to fillup the data\n",
        "x_test = pad_sequences(\n",
        "    sequences=vectorize_data(x_test_text, vocab=coosto_model.wv.vocab),\n",
        "    maxlen=input_length,\n",
        "    padding='post') # Use X_pad to fillup the data"
      ],
      "execution_count": 24,
      "outputs": [
        {
          "output_type": "stream",
          "text": [
            "Convert sentences to sentences with ngrams...\rConvert sentences to sentences with ngrams... (done)\n",
            "Vectorize sentences...\r"
          ],
          "name": "stdout"
        },
        {
          "output_type": "stream",
          "text": [
            "/usr/local/lib/python3.7/dist-packages/ipykernel_launcher.py:6: DeprecationWarning: Call to deprecated `wv` (Attribute will be removed in 4.0.0, use self instead).\n",
            "  \n",
            "/usr/local/lib/python3.7/dist-packages/ipykernel_launcher.py:10: DeprecationWarning: Call to deprecated `wv` (Attribute will be removed in 4.0.0, use self instead).\n",
            "  # Remove the CWD from sys.path while we load stuff.\n"
          ],
          "name": "stderr"
        }
      ]
    },
    {
      "cell_type": "code",
      "metadata": {
        "colab": {
          "base_uri": "https://localhost:8080/"
        },
        "id": "R_jQuChuemq2",
        "outputId": "1bde033c-04a7-41a6-a7c4-b43184058567"
      },
      "source": [
        "y_test = y_test_text\n",
        "\n",
        "y_train = y_train_text\n",
        "# print(y_test)\n",
        "# print(y_train)\n",
        "codes, uniques = pd.factorize(pd.concat([y_test_text, y_train_text]))\n",
        "y_test = codes[:len(y_test)]\n",
        "y_train = codes[len(y_test):]\n",
        "# print(y_test)\n",
        "# print(y_train)\n",
        "print(uniques)\n",
        "y_test = numpy.array(y_test)\n",
        "y_train = numpy.array(y_train)\n",
        "\n",
        "\n",
        "print('Vectorize sentences... (done)')\n",
        "print('Transform sentences to sequences... (done)')\n",
        "print(y_train[5:15])\n",
        "print(y_train_text[5:15]) # So 0 is NOT, 1 is explicit, 2 is implicit"
      ],
      "execution_count": 25,
      "outputs": [
        {
          "output_type": "stream",
          "text": [
            "Index(['NOT', 'EXPLICIT', 'IMPLICIT'], dtype='object')\n",
            "Vectorize sentences... (done)\n",
            "Transform sentences to sequences... (done)\n",
            "[1 2 2 2 2 1 1 1 1 2]\n",
            "5     EXPLICIT\n",
            "6     IMPLICIT\n",
            "7     IMPLICIT\n",
            "8     IMPLICIT\n",
            "9     IMPLICIT\n",
            "10    EXPLICIT\n",
            "11    EXPLICIT\n",
            "12    EXPLICIT\n",
            "13    EXPLICIT\n",
            "14    IMPLICIT\n",
            "Name: explicitness, dtype: object\n"
          ],
          "name": "stdout"
        }
      ]
    },
    {
      "cell_type": "code",
      "metadata": {
        "id": "REMZEp_6toUW"
      },
      "source": [
        "def build_cnn_model(embedding_matrix, input_length):\n",
        "    model = Sequential()\n",
        "    model.add(Embedding(\n",
        "        input_dim = embedding_matrix.shape[0],\n",
        "        output_dim = embedding_matrix.shape[1], \n",
        "        input_length = input_length,\n",
        "        weights = [embedding_matrix],\n",
        "        trainable=False))\n",
        "    model.add(Conv1D(32, 3, padding='same', activation='relu'))\n",
        "    model.add(MaxPooling1D())\n",
        "    model.add(Flatten())\n",
        "    model.add(Dense(3, activation='softmax'))\n",
        "    # model.add(Dense(1, activation='sigmoid'))\n",
        "    model.summary()\n",
        "    # model.add(Dense(8, input_dim=4, activation='relu'))\n",
        "    # model.add(Dense(3, activation='softmax'))\n",
        "\t# # Compile model\n",
        "    # model.compile(loss='categorical_crossentropy', optimizer='adam', metrics=['accuracy'])\n",
        "    return model\n",
        "\n",
        "def build_bilstm_model(embedding_matrix, input_length):\n",
        "    model = Sequential()\n",
        "    model.add(Embedding(\n",
        "        input_dim = embedding_matrix.shape[0],\n",
        "        output_dim = embedding_matrix.shape[1], \n",
        "        input_length = input_length,\n",
        "        weights = [embedding_matrix],\n",
        "        trainable=False))\n",
        "    model.add(Bidirectional(LSTM(128, recurrent_dropout=0.1)))\n",
        "    model.add(Dropout(0.25))\n",
        "    model.add(Dense(64))\n",
        "    model.add(Dropout(0.3))\n",
        "    model.add(Dense(3, activation='softmax'))\n",
        "    model.summary()\n",
        "    return model"
      ],
      "execution_count": 26,
      "outputs": []
    },
    {
      "cell_type": "code",
      "metadata": {
        "colab": {
          "base_uri": "https://localhost:8080/"
        },
        "id": "-pnslxs9bhUY",
        "outputId": "a7fd8c8b-6be3-4eeb-e80e-f767f8a4b40a"
      },
      "source": [
        "input_length = coosto_model.vector_size\n",
        "\n",
        "cnn_model = build_cnn_model(\n",
        "    embedding_matrix=coosto_model.wv.vectors,\n",
        "    input_length=input_length)\n",
        "\n",
        "bilstm_model = build_bilstm_model(\n",
        "    embedding_matrix=coosto_model.wv.vectors,\n",
        "    input_length=input_length)"
      ],
      "execution_count": 27,
      "outputs": [
        {
          "output_type": "stream",
          "text": [
            "/usr/local/lib/python3.7/dist-packages/ipykernel_launcher.py:4: DeprecationWarning: Call to deprecated `wv` (Attribute will be removed in 4.0.0, use self instead).\n",
            "  after removing the cwd from sys.path.\n"
          ],
          "name": "stderr"
        },
        {
          "output_type": "stream",
          "text": [
            "Model: \"sequential\"\n",
            "_________________________________________________________________\n",
            "Layer (type)                 Output Shape              Param #   \n",
            "=================================================================\n",
            "embedding (Embedding)        (None, 300, 300)          75143700  \n",
            "_________________________________________________________________\n",
            "conv1d (Conv1D)              (None, 300, 32)           28832     \n",
            "_________________________________________________________________\n",
            "max_pooling1d (MaxPooling1D) (None, 150, 32)           0         \n",
            "_________________________________________________________________\n",
            "flatten (Flatten)            (None, 4800)              0         \n",
            "_________________________________________________________________\n",
            "dense (Dense)                (None, 3)                 14403     \n",
            "=================================================================\n",
            "Total params: 75,186,935\n",
            "Trainable params: 43,235\n",
            "Non-trainable params: 75,143,700\n",
            "_________________________________________________________________\n"
          ],
          "name": "stdout"
        },
        {
          "output_type": "stream",
          "text": [
            "/usr/local/lib/python3.7/dist-packages/ipykernel_launcher.py:8: DeprecationWarning: Call to deprecated `wv` (Attribute will be removed in 4.0.0, use self instead).\n",
            "  \n"
          ],
          "name": "stderr"
        },
        {
          "output_type": "stream",
          "text": [
            "WARNING:tensorflow:Layer lstm will not use cuDNN kernel since it doesn't meet the cuDNN kernel criteria. It will use generic GPU kernel as fallback when running on GPU\n",
            "WARNING:tensorflow:Layer lstm will not use cuDNN kernel since it doesn't meet the cuDNN kernel criteria. It will use generic GPU kernel as fallback when running on GPU\n",
            "WARNING:tensorflow:Layer lstm will not use cuDNN kernel since it doesn't meet the cuDNN kernel criteria. It will use generic GPU kernel as fallback when running on GPU\n",
            "Model: \"sequential_1\"\n",
            "_________________________________________________________________\n",
            "Layer (type)                 Output Shape              Param #   \n",
            "=================================================================\n",
            "embedding_1 (Embedding)      (None, 300, 300)          75143700  \n",
            "_________________________________________________________________\n",
            "bidirectional (Bidirectional (None, 256)               439296    \n",
            "_________________________________________________________________\n",
            "dropout (Dropout)            (None, 256)               0         \n",
            "_________________________________________________________________\n",
            "dense_1 (Dense)              (None, 64)                16448     \n",
            "_________________________________________________________________\n",
            "dropout_1 (Dropout)          (None, 64)                0         \n",
            "_________________________________________________________________\n",
            "dense_2 (Dense)              (None, 3)                 195       \n",
            "=================================================================\n",
            "Total params: 75,599,639\n",
            "Trainable params: 455,939\n",
            "Non-trainable params: 75,143,700\n",
            "_________________________________________________________________\n"
          ],
          "name": "stdout"
        }
      ]
    },
    {
      "cell_type": "markdown",
      "metadata": {
        "id": "LAP4pGf_wOOr"
      },
      "source": [
        "# Fit model"
      ]
    },
    {
      "cell_type": "code",
      "metadata": {
        "colab": {
          "base_uri": "https://localhost:8080/"
        },
        "id": "qJdKjJqH0_vn",
        "outputId": "4c0089e0-9f76-40a8-c7ac-1674bf7b5c26"
      },
      "source": [
        "with tf.device('/device:GPU:0'):\n",
        "    bilstm_model.compile(\n",
        "        loss=\"sparse_categorical_crossentropy\",\n",
        "        optimizer='adam',\n",
        "        metrics=['accuracy'])\n",
        "\n",
        "    bilstm_history = bilstm_model.fit(\n",
        "        x=x_train,\n",
        "        y=y_train,\n",
        "        validation_data=(x_test, y_test),\n",
        "        batch_size=100,\n",
        "        epochs=5)"
      ],
      "execution_count": 28,
      "outputs": [
        {
          "output_type": "stream",
          "text": [
            "Epoch 1/5\n",
            "78/78 [==============================] - 150s 2s/step - loss: 0.9126 - accuracy: 0.6465 - val_loss: 0.6581 - val_accuracy: 0.7989\n",
            "Epoch 2/5\n",
            "78/78 [==============================] - 141s 2s/step - loss: 0.8595 - accuracy: 0.6745 - val_loss: 0.6870 - val_accuracy: 0.7989\n",
            "Epoch 3/5\n",
            "78/78 [==============================] - 142s 2s/step - loss: 0.8522 - accuracy: 0.6736 - val_loss: 0.7287 - val_accuracy: 0.7989\n",
            "Epoch 4/5\n",
            "78/78 [==============================] - 141s 2s/step - loss: 0.8487 - accuracy: 0.6706 - val_loss: 0.6707 - val_accuracy: 0.7989\n",
            "Epoch 5/5\n",
            "78/78 [==============================] - 144s 2s/step - loss: 0.8466 - accuracy: 0.6704 - val_loss: 0.6799 - val_accuracy: 0.7843\n"
          ],
          "name": "stdout"
        }
      ]
    },
    {
      "cell_type": "code",
      "metadata": {
        "colab": {
          "base_uri": "https://localhost:8080/"
        },
        "id": "ZwOypUSbbwpe",
        "outputId": "1db8e0d2-535a-47e6-83e7-0c99fc4b85ca"
      },
      "source": [
        "with tf.device('/device:GPU:0'):\n",
        "    cnn_model.compile(loss='sparse_categorical_crossentropy',\n",
        "                optimizer='adam', \n",
        "                metrics=['accuracy'])\n",
        "    cnn_model.summary()\n",
        "\n",
        "    # Fitting the data onto model\n",
        "    history = cnn_model.fit(\n",
        "        x=x_train,\n",
        "        y=y_train,\n",
        "        validation_data=(x_test, y_test),\n",
        "        batch_size=100,\n",
        "        epochs=5)\n",
        "\n"
      ],
      "execution_count": 29,
      "outputs": [
        {
          "output_type": "stream",
          "text": [
            "Model: \"sequential\"\n",
            "_________________________________________________________________\n",
            "Layer (type)                 Output Shape              Param #   \n",
            "=================================================================\n",
            "embedding (Embedding)        (None, 300, 300)          75143700  \n",
            "_________________________________________________________________\n",
            "conv1d (Conv1D)              (None, 300, 32)           28832     \n",
            "_________________________________________________________________\n",
            "max_pooling1d (MaxPooling1D) (None, 150, 32)           0         \n",
            "_________________________________________________________________\n",
            "flatten (Flatten)            (None, 4800)              0         \n",
            "_________________________________________________________________\n",
            "dense (Dense)                (None, 3)                 14403     \n",
            "=================================================================\n",
            "Total params: 75,186,935\n",
            "Trainable params: 43,235\n",
            "Non-trainable params: 75,143,700\n",
            "_________________________________________________________________\n",
            "Epoch 1/5\n",
            "78/78 [==============================] - 31s 17ms/step - loss: 0.9121 - accuracy: 0.6479 - val_loss: 0.6865 - val_accuracy: 0.7623\n",
            "Epoch 2/5\n",
            "78/78 [==============================] - 1s 13ms/step - loss: 0.7889 - accuracy: 0.6856 - val_loss: 0.6593 - val_accuracy: 0.7879\n",
            "Epoch 3/5\n",
            "78/78 [==============================] - 1s 13ms/step - loss: 0.7330 - accuracy: 0.7098 - val_loss: 0.6869 - val_accuracy: 0.7788\n",
            "Epoch 4/5\n",
            "78/78 [==============================] - 1s 13ms/step - loss: 0.6840 - accuracy: 0.7242 - val_loss: 0.7034 - val_accuracy: 0.7532\n",
            "Epoch 5/5\n",
            "78/78 [==============================] - 1s 14ms/step - loss: 0.6558 - accuracy: 0.7341 - val_loss: 0.7362 - val_accuracy: 0.7569\n"
          ],
          "name": "stdout"
        }
      ]
    },
    {
      "cell_type": "code",
      "metadata": {
        "colab": {
          "base_uri": "https://localhost:8080/"
        },
        "id": "gHCywbcsaAT1",
        "outputId": "6e7b3a63-f46f-435e-e3fb-abb433b03c3f"
      },
      "source": [
        "print(x_test)\n",
        "print(x_train)\n",
        "print(type(y_test))\n",
        "print(y_test)\n",
        "print(type(y_train))\n",
        "print(y_train)\n",
        "\n",
        "print(len(x_test), len(x_train), len(y_test), len(y_train))\n",
        "\n",
        "print(x_test.shape, x_train.shape, y_test.shape, y_train.shape)"
      ],
      "execution_count": 30,
      "outputs": [
        {
          "output_type": "stream",
          "text": [
            "[[1806 1252 2228 ...    0    0    0]\n",
            " [1039 1039  385 ...    0    0    0]\n",
            " [2941  783 2217 ...    0    0    0]\n",
            " ...\n",
            " [ 579 1039 2228 ...    0    0    0]\n",
            " [ 783  783  884 ...    0    0    0]\n",
            " [1252  964 2228 ...    0    0    0]]\n",
            "[[1252 1039  161 ...    0    0    0]\n",
            " [2941  105 1247 ...    0    0    0]\n",
            " [ 446 1252 2351 ...    0    0    0]\n",
            " ...\n",
            " [3113  783 2228 ...    0    0    0]\n",
            " [1039 2217  964 ...    0    0    0]\n",
            " [ 579 2217 1039 ...    0    0    0]]\n",
            "<class 'numpy.ndarray'>\n",
            "[0 0 0 0 0 0 0 0 0 0 0 0 0 0 0 0 0 0 0 0 0 0 0 0 0 0 0 0 0 0 0 0 0 0 0 0 0\n",
            " 0 0 0 0 0 0 0 0 0 0 0 0 0 0 0 0 0 0 0 0 0 0 0 0 0 0 0 0 0 0 0 0 0 0 0 0 0\n",
            " 0 0 0 0 0 0 0 0 0 0 0 0 0 0 0 0 0 0 0 0 0 0 0 0 0 0 0 0 0 0 0 0 0 0 0 0 0\n",
            " 0 0 0 0 0 0 0 0 0 0 0 0 0 0 0 0 0 0 0 0 0 0 0 0 0 0 0 0 0 0 0 0 0 0 0 0 0\n",
            " 0 0 0 0 0 0 0 0 0 0 0 0 0 0 0 0 0 0 0 0 0 0 0 0 0 0 0 0 0 0 0 0 0 0 0 0 0\n",
            " 0 0 0 0 0 0 0 0 0 0 0 0 0 0 0 0 0 0 0 0 0 0 0 0 0 0 0 0 0 0 0 0 0 0 0 0 0\n",
            " 0 0 0 0 0 0 0 0 0 0 0 0 0 0 0 0 0 0 0 0 0 0 0 0 0 0 0 0 0 0 0 0 0 0 0 0 0\n",
            " 0 0 0 0 0 0 0 0 0 0 0 0 0 0 0 0 0 0 0 0 0 0 0 0 0 0 0 0 0 0 0 0 0 0 0 0 0\n",
            " 0 0 0 0 0 0 0 0 0 0 0 0 0 0 0 0 0 0 0 0 0 0 0 0 0 0 0 0 0 0 0 0 0 0 0 0 0\n",
            " 0 0 0 0 0 0 0 0 0 0 0 0 0 0 0 0 0 0 0 0 0 0 0 0 0 0 0 0 0 0 0 0 0 0 0 0 0\n",
            " 0 0 0 0 0 0 0 0 0 0 0 0 0 0 0 0 0 0 0 0 0 0 0 0 0 0 0 0 0 0 0 0 0 0 0 0 0\n",
            " 0 0 0 0 0 0 0 0 0 0 0 0 0 0 0 0 0 0 0 0 0 0 0 0 0 0 0 0 0 0 1 2 1 1 2 1 1\n",
            " 2 2 1 1 2 1 1 2 1 1 1 1 1 2 2 2 1 1 1 2 1 1 2 1 2 2 1 2 2 2 1 1 1 1 1 1 1\n",
            " 1 1 2 1 1 1 1 1 1 2 2 1 1 1 1 2 2 1 1 1 1 1 1 2 1 1 1 2 2 2 1 2 1 2 1 1 2\n",
            " 1 1 1 1 2 2 1 2 1 1 1 1 1 2 1 1 2 2 2 1 2 1 2 1 2 1 1 1 1]\n",
            "<class 'numpy.ndarray'>\n",
            "[2 1 2 ... 2 1 2]\n",
            "547 7764 547 7764\n",
            "(547, 300) (7764, 300) (547,) (7764,)\n"
          ],
          "name": "stdout"
        }
      ]
    },
    {
      "cell_type": "code",
      "metadata": {
        "colab": {
          "base_uri": "https://localhost:8080/"
        },
        "id": "WLjGNyut3BeN",
        "outputId": "fa87f7b2-a04d-4fe4-dbb5-8f8ec46a7fb2"
      },
      "source": [
        "# Getting score metrics from our model\n",
        "bilstm_scores = bilstm_model.evaluate(x_test, y_test, verbose=0)\n",
        "# Displays the accuracy of correct sentiment prediction over test data\n",
        "print(\"Accuracy: %.2f%%\" % (sum(bilstm_scores)/len(bilstm_scores)*100))"
      ],
      "execution_count": 31,
      "outputs": [
        {
          "output_type": "stream",
          "text": [
            "Accuracy: 73.21%\n"
          ],
          "name": "stdout"
        }
      ]
    },
    {
      "cell_type": "code",
      "metadata": {
        "id": "JC2rXWaMkA0h",
        "colab": {
          "base_uri": "https://localhost:8080/"
        },
        "outputId": "59ca9dbf-36cd-4068-89e8-22ec748e5eba"
      },
      "source": [
        "# Getting score metrics from our model\n",
        "cnn_scores = cnn_model.evaluate(x_test, y_test, verbose=0)\n",
        "# Displays the accuracy of correct sentiment prediction over test data\n",
        "print(\"Accuracy: %.2f%%\" % (sum(cnn_scores)/len(cnn_scores)*100))"
      ],
      "execution_count": 32,
      "outputs": [
        {
          "output_type": "stream",
          "text": [
            "Accuracy: 74.65%\n"
          ],
          "name": "stdout"
        }
      ]
    },
    {
      "cell_type": "markdown",
      "metadata": {
        "id": "ekt0C-6zfjeF"
      },
      "source": [
        "# Visualisation"
      ]
    },
    {
      "cell_type": "code",
      "metadata": {
        "id": "ZxRVymMHfit2"
      },
      "source": [
        "def plot_confusion_matrix(y_true, y_pred, ax, class_names, vmax=None,\n",
        "                          normed=True, title='Confusion matrix'):\n",
        "    matrix = confusion_matrix(y_true,y_pred)\n",
        "    if normed:\n",
        "        matrix = matrix.astype('float') / matrix.sum(axis=1)[:, np.newaxis]\n",
        "    sb.heatmap(matrix, vmax=vmax, annot=True, square=True, ax=ax,\n",
        "               cmap=plt.cm.Blues_r, cbar=False, linecolor='black',\n",
        "               linewidths=1, xticklabels=class_names)\n",
        "    ax.set_title(title, y=1.20, fontsize=16)\n",
        "    #ax.set_ylabel('True labels', fontsize=12)\n",
        "    ax.set_xlabel('Predicted labels', y=1.10, fontsize=12)\n",
        "    ax.set_yticklabels(class_names, rotation=0)"
      ],
      "execution_count": 33,
      "outputs": []
    },
    {
      "cell_type": "code",
      "metadata": {
        "id": "nqsKxQEGfl4V",
        "colab": {
          "base_uri": "https://localhost:8080/"
        },
        "outputId": "c2c8eb07-a6b2-41c8-9588-4ab5b8f3fe7a"
      },
      "source": [
        "y_train_pred = cnn_model.predict_classes(x_train)\n",
        "y_test_pred = cnn_model.predict_classes(x_test)"
      ],
      "execution_count": 34,
      "outputs": [
        {
          "output_type": "stream",
          "text": [
            "/usr/local/lib/python3.7/dist-packages/tensorflow/python/keras/engine/sequential.py:450: UserWarning: `model.predict_classes()` is deprecated and will be removed after 2021-01-01. Please use instead:* `np.argmax(model.predict(x), axis=-1)`,   if your model does multi-class classification   (e.g. if it uses a `softmax` last-layer activation).* `(model.predict(x) > 0.5).astype(\"int32\")`,   if your model does binary classification   (e.g. if it uses a `sigmoid` last-layer activation).\n",
            "  warnings.warn('`model.predict_classes()` is deprecated and '\n"
          ],
          "name": "stderr"
        }
      ]
    },
    {
      "cell_type": "code",
      "metadata": {
        "id": "gCynk6Twfwjr",
        "colab": {
          "base_uri": "https://localhost:8080/",
          "height": 0
        },
        "outputId": "7ef175ae-4512-4c63-fd8d-3928552c1b14"
      },
      "source": [
        "fig, (axis1, axis2) = plt.subplots(nrows=1, ncols=2)\n",
        "plot_confusion_matrix(y_train, y_train_pred, ax=axis1,\n",
        "                      title='Confusion matrix (train data)',\n",
        "                      class_names=['EXPLICIT', 'IMPLICIT', \"Not\"])\n",
        "plot_confusion_matrix(y_test, y_test_pred, ax=axis2,\n",
        "                      title='Confusion matrix (test data)',\n",
        "                      class_names=['EXPLICIT', 'IMPLICIT', \"Not\"])"
      ],
      "execution_count": 35,
      "outputs": [
        {
          "output_type": "display_data",
          "data": {
            "image/png": "[encoded data removed]",
            "text/plain": [
              "<Figure size 1152x576 with 2 Axes>"
            ]
          },
          "metadata": {
            "tags": [],
            "needs_background": "light"
          }
        }
      ]
    },
    {
      "cell_type": "markdown",
      "metadata": {
        "id": "bctN1Hzxr6wE"
      },
      "source": [
        "# Wrongly classified"
      ]
    },
    {
      "cell_type": "markdown",
      "metadata": {
        "id": "X61-qaYW9DbM"
      },
      "source": [
        "2 lists, zip\n",
        "Before the splitting I should keep track of the data\n",
        "Somewhere in the middle I lose track of the tokens.\n",
        "\n",
        "\n",
        "Map the words to the word embeddings\n"
      ]
    },
    {
      "cell_type": "markdown",
      "metadata": {
        "id": "x_yC4QceT7vd"
      },
      "source": [
        "#BiLSTM misclassified"
      ]
    },
    {
      "cell_type": "code",
      "metadata": {
        "id": "2uKtXKG_Hn11",
        "colab": {
          "base_uri": "https://localhost:8080/"
        },
        "outputId": "772abd09-933e-4901-e7f0-4ddf2e57c0dd"
      },
      "source": [
        "wrong = {\n",
        "        # 'text' => ['golden', 'bilstm', 'cnn']\n",
        "}\n",
        "print(wrong)"
      ],
      "execution_count": 42,
      "outputs": [
        {
          "output_type": "stream",
          "text": [
            "{}\n"
          ],
          "name": "stdout"
        }
      ]
    },
    {
      "cell_type": "code",
      "metadata": {
        "id": "NgsuWnEW7I0G",
        "colab": {
          "base_uri": "https://localhost:8080/"
        },
        "outputId": "85e5873e-bba8-410e-afc0-adbc892f187f"
      },
      "source": [
        "pred = bilstm_model.predict(x_test)\n",
        "rounded_pred = []\n",
        "for prediction in pred:\n",
        "    rounded_pred.append(prediction.argmax())\n",
        "index = 0\n",
        "# print(rounded_pred)\n",
        "\n",
        "for pred, real in zip(rounded_pred, y_test):\n",
        "    if pred != real:\n",
        "        wrong[x_test_text[index]] = [real, pred, real, real]\n",
        "    index += 1\n",
        "\n",
        "print(bilstm) \n",
        "print(y_train[2])\n",
        "print(y_train_text[2])\n",
        "for text, pred in wrong.items():\n",
        "    print(text, pred)\n",
        "# So 0 is NOT, 1 is explicit, 2 is implicit"
      ],
      "execution_count": 43,
      "outputs": [
        {
          "output_type": "stream",
          "text": [
            "[1, 0, 0]\n",
            "2\n",
            "IMPLICIT\n",
            "MENTION MENTION iets anders, wanneer word asscher voor de rechter gesleept voor het willens en wetens aan de afgrond brengen van duizende mensen door de kinderopvangtoeslagenaffaire??? [0, 2, 0, 0]\n",
            "MENTION MENTION MENTION iets anders, wanneer word asscher voor de rechter gesleept voor het willens en wetens aan de afgrond brengen van duizende mensen door de kinderopvangtoeslagenaffaire??? [0, 2, 0, 0]\n",
            "MENTION MENTION iedereen kan ervan leren. bijv. hoe een demagoog een volk demoniseerde en zijn partij als alleenheerser leidde. [0, 2, 0, 0]\n",
            "MENTION MENTION iedereen die het niet eens is met standpunten sylvana móet volgens artikelNUMBER wel een racist/facist/vrouwenhater zijn [0, 2, 0, 0]\n",
            "iedereen feliciteer MENTION even! ze is echt een super toffe meid dus NUMBER felicitaasitje kan wel😊 || rt is lieff❤ [0, 2, 0, 0]\n",
            "iemand hier ervaring met body stress release-behandeling? dtv [0, 2, 0, 0]\n",
            "MENTION ach man ! je hebt geen idee hoeveel er goed de pest hebben in je gedrag . denk niet dat je het alleen red in deze wereld ! je komt er nog wel achter kuttekop !! [1, 0, 1, 1]\n",
            "waar komen die zwarten vandaan ????ongelooflijk merkel wat heb je europa aangedaan URL [2, 0, 2, 2]\n",
            "MENTION geloof me bryan die vent heeft geen geweten het is een duivel in maat kostuum . [1, 0, 1, 1]\n",
            "idioot die obama de nobelprijs gaf gaat nu aan zml uitleggen dat het wel meevalt met die moslims gezien islaminvasie praat hij bullshit [1, 0, 1, 1]\n",
            "MENTION ze hadden de hele troep in een fuik moeten loodsen vastzetten en uitzetten . [2, 0, 2, 2]\n",
            "MENTION MENTION MENTION linkse kitjes die maling hebben aan de hele samenleving! kapot slaan zou ik zeggen al die linkse veganistische gekken [1, 0, 1, 1]\n",
            "islam is een agressieve tumor die met alle mogelijke middelen moet worden bestreden. [1, 0, 1, 1]\n",
            "het is geen toeval dat de felste kritiek op de aanpak door een linkse vrouwelijke burgemeester van een onfortuinlijk verlopen antiracistismedemonstratie komt uit de hoek van vrouwonvriendelijk extreemrechts. jammer dat zovelen in de val lopen en zich laten meeslepen. halsema [2, 0, 2, 2]\n",
            "MENTION wat gebeurd is niet goed te praten agent was fout dus dan ga je maar stelen en alles in brand steken ?????? en eerlijk hoeveel zwarten maken problemen in heel de wereld ?? leren wij hun dat ?? hoeveel mensen worden verkracht vermoord door zwarten?? [2, 0, 2, 2]\n",
            "altijd extreemrechts tuig dat moslims betrapt op onaangepast gedrag. typisch. [1, 0, 1, 1]\n",
            "maar men zet tijdens de anti-lockdown demonstratie in den haag wel NUMBER me'ers in op nog geen NUMBER man...en NUMBER!! slinkse extremisten krijgen vrij spel..er wordt met twee maten gemeten..zeg dat nou eens! slapjanus! MENTION vragenuurtje [1, 0, 1, 1]\n",
            "MENTION MENTION MENTION hahaha zo is het wel, we betalen allemaal hetzelfde alleen procentueel ligt het net even anders. maar ze hebben dan altijd het weerwoord van ze betalen zoveel, maar vergeten dat ze eerst gebruik maken van het deel wat de minderbedeelden ook moeten betalen [2, 0, 2, 2]\n",
            "lekker man, wakker worden met een enorme haat jegens moslims en de islam... fuckislam [1, 0, 1, 1]\n",
            "MENTION MENTION gij dineren , uw als een varken volvreten zeker , uw soort kent geen manieren vreetvarkens . ja ik ken uw probleem gedaan met uw aanhoudster te gaan eten hé . moesten ze bij uw soort varkens al veel langer gedaan hebben [1, 0, 1, 1]\n",
            "maar hoe gaat de belastingdienst die brief nou bezorgen bij die ouder die zelfmoord pleegde na onterecht als fraudeur te boek gesteld te zijn? per vlieger? [2, 0, 2, 2]\n",
            "MENTION MENTION leuk dat jullie linkse fascisten, die geweld goed praten, voor jullie hebben schrijven! URL [1, 0, 1, 1]\n",
            "tsja heks dieuwertje is al teveel scholen barneveld kijken niet meer naar sinterklaasjournaal vanwege hekserij URL [1, 0, 1, 1]\n",
            "ga eens dood, pijnlijk please [1, 0, 1, 1]\n",
            "vergeet de pensioenleeftijd, het geld naar griekenland, de afbraak van de medische en ouderenzorg niet rutte is asociale leugenaar URL [1, 0, 1, 1]\n",
            "MENTION het is antifa tuig dat moet oogeruimd worden [1, 0, 1, 1]\n",
            "zich durft te uiten , bang te zijn om uitgemaakt te worden voor rasist etc etc . dit is mijn mening , en ik ben benieuwd of jij , gijs rademaker , mijn lekker ding 😉 , hier nou eens in het openbaar een weerwoord op dit bericht durft te geven . ben benieuwd [2, 0, 2, 2]\n",
            "turkije wil excuses nadat ze ons uitmaken voor fascisten en overblijfselen van nazi duitsland. hoe triest is het allemaal zeg turkijerel [2, 0, 2, 2]\n",
            "MENTION MENTION we kunnen ook mensen doodmaken eens kijken of dat je dan ook een nerts voelt. [2, 0, 2, 2]\n",
            "MENTION MENTION MENTION MENTION verplegenden, families, vrienden, vriendinnen, ouders oma’s opa’s, hebben geleden en jij snapt niet wat omzigt zegt! je bent een lamlul! leer de basisprincipes van gelijkheid en dan zeker in deze periode! gadverdamme! MENTION ga jij nog klappen voor de zorg! mijn oma en opa! [1, 0, 1, 1]\n",
            "MENTION daar kan en wil je niet mee leven. dat uitschot hoort gewoon niet in de westerse wereld thuis. [1, 0, 1, 1]\n",
            "MENTION mijn dochter mag officieel ook niet naar de wc. ik ben even naar die school geweest. stevig, maar keurig gesprek gehad. ze mag nu gewoon naar het. toilet. t moet ook niet gekker worden; stel volslagen debielen in dit land. [1, 0, 1, 1]\n",
            "MENTION MENTION MENTION MENTION doen ze niet. durven ze niet. het zijn slechts domme haatvolle haatgollems die haatzaaien. [1, 0, 1, 1]\n",
            "MENTION ik schop graag tegen je aan omdat ik je een staatsgevaarlijke idioot vind maar dat ventje is gewoon een minkukel en kan niet verder naast de waarheid zitten. [1, 0, 1, 1]\n",
            "wie gaat er nu protesteren voor een dode misdadiger? geld 💰 dus.... en links subsidies 🤮 URL [2, 0, 2, 2]\n",
            "MENTION MENTION lieve fleur die gast en de hele rivm kliek bepaalt niet hoe wij moeten leven ik doe al weken precies wat ik wil . ze luisteren alleen naar de who de moordbrigade van kill gates !!! [1, 0, 1, 1]\n",
            "MENTION dat ze die zo rap mogelijk uit de politiek verwijderen , dat gastje is een schande voor de mensheid , voor onze democratie. lager dan zijn soort kan een mens niet zijn [2, 0, 2, 2]\n",
            "toen nederland nog een leuk land was URL en niet verziekt door culturen die de onze verdringen raisethedegree minneapolis [2, 0, 2, 2]\n",
            "MENTION goh wat is benny hill toch lelijk geworden zeg. [1, 0, 1, 1]\n",
            "MENTION MENTION halsema is hypocriet en heeft schijt aan alles buiten haar eigen linkse agenda. halsema heeft schijt aan de NUMBER NUMBER/NUMBER meter corona maatregelen, aan alle ondernemers, aan de zorg en aan de ouderen. dit valt niet uit te leggen, halsema zaait tweespalt in de samenleving, zo dom. [2, 0, 2, 2]\n",
            "MENTION MENTION laat die turken dat maar betalen [2, 0, 2, 2]\n",
            "MENTION MENTION nu is het wel zo dat zwarte mensen niet vaak dingen uitdelen maar vooral nemen, doen ze bij de omroepen ook we betalen en geven geld en wat krijgen we rotzooi. [2, 0, 2, 2]\n",
            "MENTION nog nooit zoiets stompzinnigs gehoord. wat een afgang. maar ja! bij buitenhof en de npo is toch alles de schuld van de blanke man! leren jullie racisten het eens nooit om blank te zeggen. [1, 0, 1, 1]\n",
            "MENTION MENTION antifa is een terroristische organisatie. [1, 0, 1, 1]\n",
            "MENTION MENTION smerig wijf vergalt heel amsterdam [1, 0, 1, 1]\n",
            "MENTION MENTION MENTION MENTION MENTION MENTION weer zo een gevaarlijke idioot aan tafel! [1, 0, 1, 1]\n",
            "MENTION MENTION aldus de subjectieve linkse huichelachtige draaikonten piznigten van links, die alleen maar leven door desinformatie en onzin te verspreiden, stel lijmsnuivende incestueuze respectloze uitgerangeerde yournalistjes van de MENTION e.d. MENTION/vara kotsssss🖕🐀 [1, 0, 1, 1]\n",
            "frankrijk en belgie rijp voor stadsguerilla omdat men de islamitische kanker jarenlang heeft laten uitzaaien!! [1, 0, 1, 1]\n",
            "MENTION halsema is hypocriet en heeft schijt aan alles buiten haar eigen linkse agenda. halsema heeft schijt aan de NUMBER NUMBER/NUMBER meter corona maatregelen, aan alle ondernemers, aan de zorg en aan de ouderen. dit valt niet uit te leggen, halsema zaait tweespalt in de samenleving, zo dom. [2, 0, 2, 2]\n",
            "MENTION één woord het is tuig van de richel. verzet haha, van dit tuig is er nog niet één die aan het slachtoffer denkt, alleen aan de duurste artikelen. ja er zijn ook andere demonstraties welgemeend. weet je wat ze en de npo doet? ze scheren ze allemaal over één kam. [1, 0, 1, 1]\n",
            "MENTION rob jetten jij robot homo. jij begrijpt nog steeds niet dat je vriendin ollogren weer onze vrijheid afpakt door het afschaffen van het referendum. en ze kan geen eens de huur verhoging stoppen ik kan die makkelijk radicaal stoppen als ik in politiek zit het liefst zonder geld xd [1, 0, 1, 1]\n",
            "we hebben één voordeel en dat is dat vvd en groenlinks volgend jaar niets meer te vertellen heeft of ze gaan weer sjoemelen [2, 0, 2, 2]\n",
            "MENTION een parasiet, zoals de meesten van zijn soort. [1, 0, 1, 1]\n",
            "MENTION MENTION denk dat ge op uwe teen getrapt bent gastje , het profiterend volk zal eens iets zeggen , het volk van zakken vullen zonder te werken , het elite profitariaat en dan met een fake profiel , te laf om zich kenbaar te maken , zo'n volk zouden ze moeten weigeren op twitter [1, 0, 1, 1]\n",
            "MENTION MENTION MENTION jaja antirook trol, lul nog wat over roken. en ga dan nog wat junkfood vreten .. URL via MENTION [1, 0, 1, 1]\n",
            "MENTION ken je het concept van nivellering? net zoals dat in nederland rijkere mensen netto meer belasting afdragen, geldt dat ook voor de eu. sta eens stil bij het feit dat nederlanders het erg goed hebben en dat mede mogelijk is door alle arbeidsmigranten uit europa. krent dat je bent! [1, 0, 1, 1]\n",
            "MENTION MENTION MENTION krijg de coronatyfus kutje [1, 0, 1, 1]\n",
            "de mensen die mijn socials hebben gehackt, wllh jullie zijn ziek in jullie hoofd, NUMBER keer???!!!! jullie moeders URL [1, 0, 1, 1]\n",
            "veel nederlanders in turkije willen terug! laten we dan ruilen: 'erdogan turken' terug naar turkije, alle nederlanders terug naar nederland! [2, 0, 2, 2]\n",
            "MENTION MENTION beter nog ! URL tweet is gewist dus ben ik mogelijks niet geblokkeerd . leer lezen en informeer uzelf . en stop met drinken van azijn , zuur zuur manneke . [1, 0, 1, 1]\n",
            "MENTION MENTION MENTION voila. ga je dan ook lopen klagen over beperking van je recht je mening dat alle wijven enkel geile neuksleuven zijn die nu op de knietjes moeten en aan je pik moeten zuigen aan de vrouwtjes te geven? of ga je dan gewoon naar huis en gedraag je je de volgende keer? [1, 0, 1, 1]\n",
            "gejoel bij MENTION jegens MENTION. jammer. MENTION kennelijk de MENTION van de politiek: oppertopper maar met sneue fans. tkNUMBER [1, 0, 1, 1]\n",
            "MENTION MENTION MENTION mijnheer wendrich kan het niet vinden en helemaal niet dat ze georganiseerd opereren. nu valt deze doorgeleerde heer ff door de mand zeg. elke leugen is bij hem blijkbaar geoorloofd. kots [1, 0, 1, 1]\n",
            "agent die vrouw doodschoot in alkmaar handelde uit noodweer URL via MENTION je ken ook gericht op de benen mikken, maar dat is de politie waarschijnlijk vreemd? wordt er alleen maar op het hoofd en de borstholte gemikt met bijlessen. 🐀 [2, 0, 2, 2]\n",
            "want er kan altijd maar één gevaarlijke despoot per wereld zijn? dus als de één dat is, kan de ander het al niet meer zijn? dat is het argument hier? ik zou zeggen \"kom op elsevier, je kunt beter dan dat\", maar we weten allemaal: beter kunnen ze niet. [2, 0, 2, 2]\n",
            "wat een gek met die hond en het bijl omg [1, 0, 1, 1]\n",
            "goh! iemand verbaast dat het zo uit hand loopt in minnesota!? antifa tuig in optima forma. [1, 0, 1, 1]\n",
            "MENTION MENTION MENTION MENTION MENTION dus gegarandeerd dat corona echt weer terug komt . te danken aan die hufters ! sluit die kloojo's op voor een lange tijd . als ze ziek worden mogen ze wat mij betreft dood gaan . heel hard dat ik dit zo zeg . maar die lui hebben schijt aan alle regels [1, 0, 1, 1]\n",
            "MENTION MENTION MENTION weer zo een gl kutje aan de tafel! [1, 0, 1, 1]\n",
            "MENTION hij verheerlijkt helemaal niets. mafklappers ga eens een koerzoesje englies volgen. kun je misschien eindelijk eens lezen wat hij schrijft en wie weet ook eens verstaan wat hij zegt. dom alles van cnn overnemen en met google vertalen is niet journalistiek. URL [1, 0, 1, 1]\n",
            "MENTION MENTION MENTION MENTION dom kutje ben je toch! domme kindjes jou werken tot hun NUMBERe omdat ze niks kunnen! ik ga nooit dood, want houd van duterte, trump, wilders, baudet, de winter! haat die linkse racisten! [1, 0, 1, 1]\n",
            "MENTION waarom horen we blm alleen als er geteld kan worden? waarom horen we nooit dat blm daklozen helpt etc? omdat ze een hele andere agenda hebben dan zij doen voorkomen en dat weet jij ook. iedereen behalve de allerstomsten weet dat. jij en jouw soort teren op zulk parasitairisme [2, 0, 2, 2]\n",
            "MENTION MENTION je bruine hemd hangt al klaar merk ik smerige laffe hond [1, 0, 1, 1]\n",
            "MENTION MENTION nee vvd dNUMBER trekken volle zalen, halen terrorist massaal binnen.wilders NUMBER zetels de sterkste mlj nl pvv nrNUMBER [1, 0, 1, 1]\n",
            "MENTION wist je dat dikke vette mensen erg ongezond zijn ? cholesterol , diabetici , hoge bloeddruk , longklachten . veel kosten maken voor huisartsen bezoek en ziekenhuis bezoek . weet je dat dit heel veel geld kost ? [1, 0, 1, 1]\n",
            "MENTION MENTION MENTION dan zijn alle islam aanhangers dat, want de islam wil dat zij ongelovige honden, apen, ezels en varkens (wij dus) gedood moeten worden [2, 0, 2, 2]\n",
            "maffia slaat je winkel in puin en laat je dan geld betalen om herhaling te voorkomen. zo ook pappen nathouden moslims in nl. parijs [2, 0, 2, 2]\n",
            "MENTION tja het is zijn verdienmodel. mijnheer is totaal niet geïnspireerd door hetgeen waar hij zegt voor te staan. polariseren dat is waar hij en zijn vaak werkschuwe maatjes voor staan. [2, 0, 2, 2]\n",
            "dochter met probleem met zichzelf. vrouwen in de eu worden verkracht omdat moslim vrouwen zich bedekken 'uit eigen wil'. punt. rtlln [2, 0, 2, 2]\n",
            "MENTION MENTION idioot? achterlijke incestueuzezaadcel, ken je wel meer als retweeten MENTION ramon MENTION 🖕🐀 [1, 0, 1, 1]\n",
            "\\\"als u nou heel eerlijk bent\\\" - erikdijkstra bij opNUMBERnpo tegen de burgemeester van amsterdam. het klinkt of hij vindt dat ze alsmaar niet eerlijk wil zijn. of ze almaar niet wil zeggen wat hij wil horen. slechte journalistiek, dijkstra. valt me tegen. blacklivesmatter corona [2, 0, 2, 2]\n",
            "MENTION MENTION uw soort betalen de vreetvarken van uiterst rechts in het zwart black) werken , en zo wit (white) zien van stuf te snuiven , de soort die op onze kosten vol botox zit , hou uw azijnzuur in uwe body vreetvarken . uw profiel zegt meer dan woorden . zwart uiterst recht fake profiel [1, 0, 1, 1]\n",
            "te veel over het zelfde kweek je antipathie tegen homo's !!!!!! [2, 0, 2, 2]\n",
            "MENTION MENTION echt wat een tuig [1, 0, 1, 1]\n",
            "MENTION wie de f*ck ben jij om het over ons te hebben subsidieslurper . omg het waren geen plunderaars oh nee ? denk het wel want ze hebben alles leeg geroofd plasma tv .. vuitton tassen merk kleding en voor miljarden schade gezorgd samen met die smerige fascisten bende antifa. [1, 0, 1, 1]\n",
            "MENTION vandaag is het genocide dag voor de nertsen. mensen zijn gewoon kanker moordenaars. gewoon isoleren in plaats van killen stop gewoon een maand of NUMBER met fokken dan zijn alle dieren geinfected en weer genezen. en haal maar de mens zelf weg. [1, 0, 1, 1]\n",
            "behandeld worden als een achterlijkgebakje door de verkoopmakelaar... walgelijk [1, 0, 1, 1]\n",
            "rutte was alleen premier van het rijke deel van de vvd'ers. mark weet door zijn slechte opvoeding niet beter. nieuwsuur [2, 0, 2, 2]\n",
            "MENTION MENTION MENTION mijn menselijk verstand is op een normaal peil dat kan je bij herr janssens niet zeggen , zelfs zijn armen kan hij niet buigen . het volk met de tweede hands kostuums van de albanese maffia , snit uit de jaren dertig van duitse kwaliteit . [2, 0, 2, 2]\n",
            "MENTION MENTION MENTION en antirook trol MENTION ( MENTION ) komt ook weer wat dwaas uit zijn nek lullen. de tabakslobby, fakenews blablabla enz.. URL via MENTION [1, 0, 1, 1]\n",
            "MENTION geld geld geld .???? sommige van ons met ons leven betalen ?? ben je ziek van geest of zo .jij spoort echt niet wat hebben wij met iets te maken voor NUMBER jaar geleden die nu leeft die nu zorgt..ziek van geest ben jij ga verhuizen naar een land waar jij je thuis voelt [1, 0, 1, 1]\n",
            "MENTION MENTION antifa tuig lees dit maar droplul je bent een rat URL [1, 0, 1, 1]\n",
            "MENTION MENTION zoals het wijf van de rooy, gematigde vreemde luis laat me lachen , ze is veel erger dan de meeste moslims , ze hokt samen met ne blokker [1, 0, 1, 1]\n",
            "MENTION MENTION jammer! dat is het fvd veruit al geworden. draaideur idioten met grote ego's. [1, 0, 1, 1]\n",
            "MENTION al enkele keren begonnen aan een reply op een of andere imbeciel, maar telkens weer gestopt. what's the point anyways? [1, 0, 1, 1]\n",
            "petehoekstra uitnodigen en laten praten over demonstraties tegen racisme is als een verkrachter uitnodigen en laten praten over demonstraties voor gelijke rechten van de vrouw. als onderdeel van het probleem is zijn mening totaal niet interessant. [2, 0, 2, 2]\n",
            "buitenhof weer dezelfde idiote oplosssing van arm zielige moslims geef ze een stage plek het ligt gvd aan islam aan niets anders schoften [1, 0, 1, 1]\n",
            "waarom zet rutte de ambasadeur niet uit van een land dat ons nazi's en mislimafslachters noem? laf [1, 0, 1, 1]\n",
            "ankara is de baas in nederland. MENTION MENTION MENTION MENTION hebben nl weggegeven. turken erdogan [2, 0, 2, 2]\n",
            "MENTION MENTION haha helemaal mee eens, geleerd uit jouw groep. zeg maar een boemerang. en verder nogmaals je wilt het niet zien dat antifa een ondergronds aangestuurde groepering is. waarschijnlijk omdat je hun geweld prima vind. chaos creëeren en ontwrichting. daar zijn ze op uit. URL [2, 0, 2, 2]\n",
            "MENTION niet netjes ja maar je kan stoppen met uitmelken eelco. daarbij als ik een zp zie draait mijn maag zich ook om. klaar mee racisme [2, 0, 2, 2]\n",
            "MENTION maar hij houdt zich er wel aan! lamlul! [1, 0, 1, 1]\n",
            "MENTION MENTION je moet ook niet naar veenendaal willen [2, 0, 2, 2]\n",
            "MENTION fanatisme straalt er vanaf wat een linkse teef zeg [1, 0, 1, 1]\n",
            "MENTION MENTION MENTION je bent zo geïndoctrineerd dat je zelfs hiervan niets wil weten. welkom in dictatuur nl URL [2, 0, 2, 2]\n",
            "jort kelder mensen. jort is dus écht zó dom dat hij het argument \"zie je wel, door de lockdown is alles veel minder erg dan we in onze ergste nachtmerries vreesden, dus die lockdown was helemaal niet nodig!\" 🤦🤦‍♀️🤦‍♂️ [1, 0, 1, 1]\n",
            "MENTION het is traditie dat de voorgaande president zijn bek houd over de zittende president . maar dat laat jij socialistje ff weg . weet je wie ook een socialist was NUMBER jaar geleden ! [2, 0, 2, 2]\n",
            "de koning gaat naar apeldoorn, terwijl ie eens stevig met femke zou moeten gaan praten. loser. demonstratie [1, 0, 1, 1]\n",
            "MENTION de lafbek wil medicijnen alleen voor zijn eigen [1, 0, 1, 1]\n",
            "ook zonder een racist in het witte huis is amerika nog steeds een kut land vol racistische witte mensen die vinden dat het leven van een zwarte of gekleurde persoon niks waard is. en maar blijven denken dat je het meest ontwikkelde en beste land ter wereld bent. [1, 0, 1, 1]\n",
            "islam is gewoon een radicale beweging. altijd geweest . staat voor uitroeiing van niet moslims htler NUMBER arena [1, 0, 1, 1]\n"
          ],
          "name": "stdout"
        }
      ]
    },
    {
      "cell_type": "markdown",
      "metadata": {
        "id": "yBln_c8wT_2b"
      },
      "source": [
        "#CNN misclassified"
      ]
    },
    {
      "cell_type": "code",
      "metadata": {
        "id": "8LZtn_fgr9nk",
        "colab": {
          "base_uri": "https://localhost:8080/"
        },
        "outputId": "5dcd1a8a-7f13-4b0a-ef8b-731a89d34564"
      },
      "source": [
        "pred = cnn_model.predict(x_test)\n",
        "rounded_pred = []\n",
        "for prediction in pred:\n",
        "    rounded_pred.append(prediction.argmax())\n",
        "index = 0\n",
        "cnn = []\n",
        "for pred, real in zip(rounded_pred, y_test):\n",
        "    if pred != real:\n",
        "        text = x_test_text[index]\n",
        "        cnn.append((text,pred,y_test[index])) # In the form (text, prediction, golden)\n",
        "        if text in wrong:\n",
        "            bilstm = wrong[text] \n",
        "            bilstm[2] = pred\n",
        "            wrong[text] = bilstm\n",
        "        else:\n",
        "            wrong[text] = [real, real, pred, real]\n",
        "    index += 1\n",
        "\n",
        "for text, pred in wrong.items():\n",
        "    print(text, pred)\n",
        "# for prediction in pred:\n",
        "#     print(prediction)\n",
        "# indices = [i for i,v in enumerate(pred) if pred[i]!=y_train[i]]\n",
        "# subset_of_wrongly_predicted = [x_train[i] for i in indices ]\n",
        "# print(subset_of_wrongly_predicted[:100])\n",
        "# print(len(subset_of_wrongly_predicted))\n",
        "# # print(subset_of_wrongly_predicted)"
      ],
      "execution_count": 44,
      "outputs": [
        {
          "output_type": "stream",
          "text": [
            "MENTION MENTION iets anders, wanneer word asscher voor de rechter gesleept voor het willens en wetens aan de afgrond brengen van duizende mensen door de kinderopvangtoeslagenaffaire??? [0, 2, 2, 0]\n",
            "MENTION MENTION MENTION iets anders, wanneer word asscher voor de rechter gesleept voor het willens en wetens aan de afgrond brengen van duizende mensen door de kinderopvangtoeslagenaffaire??? [0, 2, 2, 0]\n",
            "MENTION MENTION iedereen kan ervan leren. bijv. hoe een demagoog een volk demoniseerde en zijn partij als alleenheerser leidde. [0, 2, 0, 0]\n",
            "MENTION MENTION iedereen die het niet eens is met standpunten sylvana móet volgens artikelNUMBER wel een racist/facist/vrouwenhater zijn [0, 2, 0, 0]\n",
            "iedereen feliciteer MENTION even! ze is echt een super toffe meid dus NUMBER felicitaasitje kan wel😊 || rt is lieff❤ [0, 2, 0, 0]\n",
            "iemand hier ervaring met body stress release-behandeling? dtv [0, 2, 0, 0]\n",
            "MENTION ach man ! je hebt geen idee hoeveel er goed de pest hebben in je gedrag . denk niet dat je het alleen red in deze wereld ! je komt er nog wel achter kuttekop !! [1, 0, 1, 1]\n",
            "waar komen die zwarten vandaan ????ongelooflijk merkel wat heb je europa aangedaan URL [2, 0, 0, 2]\n",
            "MENTION geloof me bryan die vent heeft geen geweten het is een duivel in maat kostuum . [1, 0, 0, 1]\n",
            "idioot die obama de nobelprijs gaf gaat nu aan zml uitleggen dat het wel meevalt met die moslims gezien islaminvasie praat hij bullshit [1, 0, 0, 1]\n",
            "MENTION ze hadden de hele troep in een fuik moeten loodsen vastzetten en uitzetten . [2, 0, 0, 2]\n",
            "MENTION MENTION MENTION linkse kitjes die maling hebben aan de hele samenleving! kapot slaan zou ik zeggen al die linkse veganistische gekken [1, 0, 0, 1]\n",
            "islam is een agressieve tumor die met alle mogelijke middelen moet worden bestreden. [1, 0, 0, 1]\n",
            "het is geen toeval dat de felste kritiek op de aanpak door een linkse vrouwelijke burgemeester van een onfortuinlijk verlopen antiracistismedemonstratie komt uit de hoek van vrouwonvriendelijk extreemrechts. jammer dat zovelen in de val lopen en zich laten meeslepen. halsema [2, 0, 0, 2]\n",
            "MENTION wat gebeurd is niet goed te praten agent was fout dus dan ga je maar stelen en alles in brand steken ?????? en eerlijk hoeveel zwarten maken problemen in heel de wereld ?? leren wij hun dat ?? hoeveel mensen worden verkracht vermoord door zwarten?? [2, 0, 0, 2]\n",
            "altijd extreemrechts tuig dat moslims betrapt op onaangepast gedrag. typisch. [1, 0, 0, 1]\n",
            "maar men zet tijdens de anti-lockdown demonstratie in den haag wel NUMBER me'ers in op nog geen NUMBER man...en NUMBER!! slinkse extremisten krijgen vrij spel..er wordt met twee maten gemeten..zeg dat nou eens! slapjanus! MENTION vragenuurtje [1, 0, 1, 1]\n",
            "MENTION MENTION MENTION hahaha zo is het wel, we betalen allemaal hetzelfde alleen procentueel ligt het net even anders. maar ze hebben dan altijd het weerwoord van ze betalen zoveel, maar vergeten dat ze eerst gebruik maken van het deel wat de minderbedeelden ook moeten betalen [2, 0, 2, 2]\n",
            "lekker man, wakker worden met een enorme haat jegens moslims en de islam... fuckislam [1, 0, 0, 1]\n",
            "MENTION MENTION gij dineren , uw als een varken volvreten zeker , uw soort kent geen manieren vreetvarkens . ja ik ken uw probleem gedaan met uw aanhoudster te gaan eten hé . moesten ze bij uw soort varkens al veel langer gedaan hebben [1, 0, 1, 1]\n",
            "maar hoe gaat de belastingdienst die brief nou bezorgen bij die ouder die zelfmoord pleegde na onterecht als fraudeur te boek gesteld te zijn? per vlieger? [2, 0, 2, 2]\n",
            "MENTION MENTION leuk dat jullie linkse fascisten, die geweld goed praten, voor jullie hebben schrijven! URL [1, 0, 0, 1]\n",
            "tsja heks dieuwertje is al teveel scholen barneveld kijken niet meer naar sinterklaasjournaal vanwege hekserij URL [1, 0, 0, 1]\n",
            "ga eens dood, pijnlijk please [1, 0, 0, 1]\n",
            "vergeet de pensioenleeftijd, het geld naar griekenland, de afbraak van de medische en ouderenzorg niet rutte is asociale leugenaar URL [1, 0, 2, 1]\n",
            "MENTION het is antifa tuig dat moet oogeruimd worden [1, 0, 1, 1]\n",
            "zich durft te uiten , bang te zijn om uitgemaakt te worden voor rasist etc etc . dit is mijn mening , en ik ben benieuwd of jij , gijs rademaker , mijn lekker ding 😉 , hier nou eens in het openbaar een weerwoord op dit bericht durft te geven . ben benieuwd [2, 0, 0, 2]\n",
            "turkije wil excuses nadat ze ons uitmaken voor fascisten en overblijfselen van nazi duitsland. hoe triest is het allemaal zeg turkijerel [2, 0, 0, 2]\n",
            "MENTION MENTION we kunnen ook mensen doodmaken eens kijken of dat je dan ook een nerts voelt. [2, 0, 2, 2]\n",
            "MENTION MENTION MENTION MENTION verplegenden, families, vrienden, vriendinnen, ouders oma’s opa’s, hebben geleden en jij snapt niet wat omzigt zegt! je bent een lamlul! leer de basisprincipes van gelijkheid en dan zeker in deze periode! gadverdamme! MENTION ga jij nog klappen voor de zorg! mijn oma en opa! [1, 0, 0, 1]\n",
            "MENTION daar kan en wil je niet mee leven. dat uitschot hoort gewoon niet in de westerse wereld thuis. [1, 0, 1, 1]\n",
            "MENTION mijn dochter mag officieel ook niet naar de wc. ik ben even naar die school geweest. stevig, maar keurig gesprek gehad. ze mag nu gewoon naar het. toilet. t moet ook niet gekker worden; stel volslagen debielen in dit land. [1, 0, 0, 1]\n",
            "MENTION MENTION MENTION MENTION doen ze niet. durven ze niet. het zijn slechts domme haatvolle haatgollems die haatzaaien. [1, 0, 0, 1]\n",
            "MENTION ik schop graag tegen je aan omdat ik je een staatsgevaarlijke idioot vind maar dat ventje is gewoon een minkukel en kan niet verder naast de waarheid zitten. [1, 0, 0, 1]\n",
            "wie gaat er nu protesteren voor een dode misdadiger? geld 💰 dus.... en links subsidies 🤮 URL [2, 0, 2, 2]\n",
            "MENTION MENTION lieve fleur die gast en de hele rivm kliek bepaalt niet hoe wij moeten leven ik doe al weken precies wat ik wil . ze luisteren alleen naar de who de moordbrigade van kill gates !!! [1, 0, 0, 1]\n",
            "MENTION dat ze die zo rap mogelijk uit de politiek verwijderen , dat gastje is een schande voor de mensheid , voor onze democratie. lager dan zijn soort kan een mens niet zijn [2, 0, 0, 2]\n",
            "toen nederland nog een leuk land was URL en niet verziekt door culturen die de onze verdringen raisethedegree minneapolis [2, 0, 2, 2]\n",
            "MENTION goh wat is benny hill toch lelijk geworden zeg. [1, 0, 0, 1]\n",
            "MENTION MENTION halsema is hypocriet en heeft schijt aan alles buiten haar eigen linkse agenda. halsema heeft schijt aan de NUMBER NUMBER/NUMBER meter corona maatregelen, aan alle ondernemers, aan de zorg en aan de ouderen. dit valt niet uit te leggen, halsema zaait tweespalt in de samenleving, zo dom. [2, 0, 2, 2]\n",
            "MENTION MENTION laat die turken dat maar betalen [2, 0, 0, 2]\n",
            "MENTION MENTION nu is het wel zo dat zwarte mensen niet vaak dingen uitdelen maar vooral nemen, doen ze bij de omroepen ook we betalen en geven geld en wat krijgen we rotzooi. [2, 0, 0, 2]\n",
            "MENTION nog nooit zoiets stompzinnigs gehoord. wat een afgang. maar ja! bij buitenhof en de npo is toch alles de schuld van de blanke man! leren jullie racisten het eens nooit om blank te zeggen. [1, 0, 0, 1]\n",
            "MENTION MENTION antifa is een terroristische organisatie. [1, 0, 0, 1]\n",
            "MENTION MENTION smerig wijf vergalt heel amsterdam [1, 0, 0, 1]\n",
            "MENTION MENTION MENTION MENTION MENTION MENTION weer zo een gevaarlijke idioot aan tafel! [1, 0, 0, 1]\n",
            "MENTION MENTION aldus de subjectieve linkse huichelachtige draaikonten piznigten van links, die alleen maar leven door desinformatie en onzin te verspreiden, stel lijmsnuivende incestueuze respectloze uitgerangeerde yournalistjes van de MENTION e.d. MENTION/vara kotsssss🖕🐀 [1, 0, 0, 1]\n",
            "frankrijk en belgie rijp voor stadsguerilla omdat men de islamitische kanker jarenlang heeft laten uitzaaien!! [1, 0, 0, 1]\n",
            "MENTION halsema is hypocriet en heeft schijt aan alles buiten haar eigen linkse agenda. halsema heeft schijt aan de NUMBER NUMBER/NUMBER meter corona maatregelen, aan alle ondernemers, aan de zorg en aan de ouderen. dit valt niet uit te leggen, halsema zaait tweespalt in de samenleving, zo dom. [2, 0, 2, 2]\n",
            "MENTION één woord het is tuig van de richel. verzet haha, van dit tuig is er nog niet één die aan het slachtoffer denkt, alleen aan de duurste artikelen. ja er zijn ook andere demonstraties welgemeend. weet je wat ze en de npo doet? ze scheren ze allemaal over één kam. [1, 0, 0, 1]\n",
            "MENTION rob jetten jij robot homo. jij begrijpt nog steeds niet dat je vriendin ollogren weer onze vrijheid afpakt door het afschaffen van het referendum. en ze kan geen eens de huur verhoging stoppen ik kan die makkelijk radicaal stoppen als ik in politiek zit het liefst zonder geld xd [1, 0, 1, 1]\n",
            "we hebben één voordeel en dat is dat vvd en groenlinks volgend jaar niets meer te vertellen heeft of ze gaan weer sjoemelen [2, 0, 0, 2]\n",
            "MENTION een parasiet, zoals de meesten van zijn soort. [1, 0, 0, 1]\n",
            "MENTION MENTION denk dat ge op uwe teen getrapt bent gastje , het profiterend volk zal eens iets zeggen , het volk van zakken vullen zonder te werken , het elite profitariaat en dan met een fake profiel , te laf om zich kenbaar te maken , zo'n volk zouden ze moeten weigeren op twitter [1, 0, 0, 1]\n",
            "MENTION MENTION MENTION jaja antirook trol, lul nog wat over roken. en ga dan nog wat junkfood vreten .. URL via MENTION [1, 0, 0, 1]\n",
            "MENTION ken je het concept van nivellering? net zoals dat in nederland rijkere mensen netto meer belasting afdragen, geldt dat ook voor de eu. sta eens stil bij het feit dat nederlanders het erg goed hebben en dat mede mogelijk is door alle arbeidsmigranten uit europa. krent dat je bent! [1, 0, 0, 1]\n",
            "MENTION MENTION MENTION krijg de coronatyfus kutje [1, 0, 0, 1]\n",
            "de mensen die mijn socials hebben gehackt, wllh jullie zijn ziek in jullie hoofd, NUMBER keer???!!!! jullie moeders URL [1, 0, 0, 1]\n",
            "veel nederlanders in turkije willen terug! laten we dan ruilen: 'erdogan turken' terug naar turkije, alle nederlanders terug naar nederland! [2, 0, 1, 2]\n",
            "MENTION MENTION beter nog ! URL tweet is gewist dus ben ik mogelijks niet geblokkeerd . leer lezen en informeer uzelf . en stop met drinken van azijn , zuur zuur manneke . [1, 0, 1, 1]\n",
            "MENTION MENTION MENTION voila. ga je dan ook lopen klagen over beperking van je recht je mening dat alle wijven enkel geile neuksleuven zijn die nu op de knietjes moeten en aan je pik moeten zuigen aan de vrouwtjes te geven? of ga je dan gewoon naar huis en gedraag je je de volgende keer? [1, 0, 0, 1]\n",
            "gejoel bij MENTION jegens MENTION. jammer. MENTION kennelijk de MENTION van de politiek: oppertopper maar met sneue fans. tkNUMBER [1, 0, 0, 1]\n",
            "MENTION MENTION MENTION mijnheer wendrich kan het niet vinden en helemaal niet dat ze georganiseerd opereren. nu valt deze doorgeleerde heer ff door de mand zeg. elke leugen is bij hem blijkbaar geoorloofd. kots [1, 0, 0, 1]\n",
            "agent die vrouw doodschoot in alkmaar handelde uit noodweer URL via MENTION je ken ook gericht op de benen mikken, maar dat is de politie waarschijnlijk vreemd? wordt er alleen maar op het hoofd en de borstholte gemikt met bijlessen. 🐀 [2, 0, 0, 2]\n",
            "want er kan altijd maar één gevaarlijke despoot per wereld zijn? dus als de één dat is, kan de ander het al niet meer zijn? dat is het argument hier? ik zou zeggen \"kom op elsevier, je kunt beter dan dat\", maar we weten allemaal: beter kunnen ze niet. [2, 0, 0, 2]\n",
            "wat een gek met die hond en het bijl omg [1, 0, 0, 1]\n",
            "goh! iemand verbaast dat het zo uit hand loopt in minnesota!? antifa tuig in optima forma. [1, 0, 0, 1]\n",
            "MENTION MENTION MENTION MENTION MENTION dus gegarandeerd dat corona echt weer terug komt . te danken aan die hufters ! sluit die kloojo's op voor een lange tijd . als ze ziek worden mogen ze wat mij betreft dood gaan . heel hard dat ik dit zo zeg . maar die lui hebben schijt aan alle regels [1, 0, 1, 1]\n",
            "MENTION MENTION MENTION weer zo een gl kutje aan de tafel! [1, 0, 0, 1]\n",
            "MENTION hij verheerlijkt helemaal niets. mafklappers ga eens een koerzoesje englies volgen. kun je misschien eindelijk eens lezen wat hij schrijft en wie weet ook eens verstaan wat hij zegt. dom alles van cnn overnemen en met google vertalen is niet journalistiek. URL [1, 0, 0, 1]\n",
            "MENTION MENTION MENTION MENTION dom kutje ben je toch! domme kindjes jou werken tot hun NUMBERe omdat ze niks kunnen! ik ga nooit dood, want houd van duterte, trump, wilders, baudet, de winter! haat die linkse racisten! [1, 0, 1, 1]\n",
            "MENTION waarom horen we blm alleen als er geteld kan worden? waarom horen we nooit dat blm daklozen helpt etc? omdat ze een hele andere agenda hebben dan zij doen voorkomen en dat weet jij ook. iedereen behalve de allerstomsten weet dat. jij en jouw soort teren op zulk parasitairisme [2, 0, 0, 2]\n",
            "MENTION MENTION je bruine hemd hangt al klaar merk ik smerige laffe hond [1, 0, 0, 1]\n",
            "MENTION MENTION nee vvd dNUMBER trekken volle zalen, halen terrorist massaal binnen.wilders NUMBER zetels de sterkste mlj nl pvv nrNUMBER [1, 0, 0, 1]\n",
            "MENTION wist je dat dikke vette mensen erg ongezond zijn ? cholesterol , diabetici , hoge bloeddruk , longklachten . veel kosten maken voor huisartsen bezoek en ziekenhuis bezoek . weet je dat dit heel veel geld kost ? [1, 0, 0, 1]\n",
            "MENTION MENTION MENTION dan zijn alle islam aanhangers dat, want de islam wil dat zij ongelovige honden, apen, ezels en varkens (wij dus) gedood moeten worden [2, 0, 1, 2]\n",
            "maffia slaat je winkel in puin en laat je dan geld betalen om herhaling te voorkomen. zo ook pappen nathouden moslims in nl. parijs [2, 0, 0, 2]\n",
            "MENTION tja het is zijn verdienmodel. mijnheer is totaal niet geïnspireerd door hetgeen waar hij zegt voor te staan. polariseren dat is waar hij en zijn vaak werkschuwe maatjes voor staan. [2, 0, 2, 2]\n",
            "dochter met probleem met zichzelf. vrouwen in de eu worden verkracht omdat moslim vrouwen zich bedekken 'uit eigen wil'. punt. rtlln [2, 0, 0, 2]\n",
            "MENTION MENTION idioot? achterlijke incestueuzezaadcel, ken je wel meer als retweeten MENTION ramon MENTION 🖕🐀 [1, 0, 0, 1]\n",
            "\\\"als u nou heel eerlijk bent\\\" - erikdijkstra bij opNUMBERnpo tegen de burgemeester van amsterdam. het klinkt of hij vindt dat ze alsmaar niet eerlijk wil zijn. of ze almaar niet wil zeggen wat hij wil horen. slechte journalistiek, dijkstra. valt me tegen. blacklivesmatter corona [2, 0, 0, 2]\n",
            "MENTION MENTION uw soort betalen de vreetvarken van uiterst rechts in het zwart black) werken , en zo wit (white) zien van stuf te snuiven , de soort die op onze kosten vol botox zit , hou uw azijnzuur in uwe body vreetvarken . uw profiel zegt meer dan woorden . zwart uiterst recht fake profiel [1, 0, 2, 1]\n",
            "te veel over het zelfde kweek je antipathie tegen homo's !!!!!! [2, 0, 0, 2]\n",
            "MENTION MENTION echt wat een tuig [1, 0, 0, 1]\n",
            "MENTION wie de f*ck ben jij om het over ons te hebben subsidieslurper . omg het waren geen plunderaars oh nee ? denk het wel want ze hebben alles leeg geroofd plasma tv .. vuitton tassen merk kleding en voor miljarden schade gezorgd samen met die smerige fascisten bende antifa. [1, 0, 1, 1]\n",
            "MENTION vandaag is het genocide dag voor de nertsen. mensen zijn gewoon kanker moordenaars. gewoon isoleren in plaats van killen stop gewoon een maand of NUMBER met fokken dan zijn alle dieren geinfected en weer genezen. en haal maar de mens zelf weg. [1, 0, 1, 1]\n",
            "behandeld worden als een achterlijkgebakje door de verkoopmakelaar... walgelijk [1, 0, 0, 1]\n",
            "rutte was alleen premier van het rijke deel van de vvd'ers. mark weet door zijn slechte opvoeding niet beter. nieuwsuur [2, 0, 2, 2]\n",
            "MENTION MENTION MENTION mijn menselijk verstand is op een normaal peil dat kan je bij herr janssens niet zeggen , zelfs zijn armen kan hij niet buigen . het volk met de tweede hands kostuums van de albanese maffia , snit uit de jaren dertig van duitse kwaliteit . [2, 0, 1, 2]\n",
            "MENTION MENTION MENTION en antirook trol MENTION ( MENTION ) komt ook weer wat dwaas uit zijn nek lullen. de tabakslobby, fakenews blablabla enz.. URL via MENTION [1, 0, 1, 1]\n",
            "MENTION geld geld geld .???? sommige van ons met ons leven betalen ?? ben je ziek van geest of zo .jij spoort echt niet wat hebben wij met iets te maken voor NUMBER jaar geleden die nu leeft die nu zorgt..ziek van geest ben jij ga verhuizen naar een land waar jij je thuis voelt [1, 0, 0, 1]\n",
            "MENTION MENTION antifa tuig lees dit maar droplul je bent een rat URL [1, 0, 0, 1]\n",
            "MENTION MENTION zoals het wijf van de rooy, gematigde vreemde luis laat me lachen , ze is veel erger dan de meeste moslims , ze hokt samen met ne blokker [1, 0, 0, 1]\n",
            "MENTION MENTION jammer! dat is het fvd veruit al geworden. draaideur idioten met grote ego's. [1, 0, 0, 1]\n",
            "MENTION al enkele keren begonnen aan een reply op een of andere imbeciel, maar telkens weer gestopt. what's the point anyways? [1, 0, 0, 1]\n",
            "petehoekstra uitnodigen en laten praten over demonstraties tegen racisme is als een verkrachter uitnodigen en laten praten over demonstraties voor gelijke rechten van de vrouw. als onderdeel van het probleem is zijn mening totaal niet interessant. [2, 0, 0, 2]\n",
            "buitenhof weer dezelfde idiote oplosssing van arm zielige moslims geef ze een stage plek het ligt gvd aan islam aan niets anders schoften [1, 0, 2, 1]\n",
            "waarom zet rutte de ambasadeur niet uit van een land dat ons nazi's en mislimafslachters noem? laf [1, 0, 2, 1]\n",
            "ankara is de baas in nederland. MENTION MENTION MENTION MENTION hebben nl weggegeven. turken erdogan [2, 0, 0, 2]\n",
            "MENTION MENTION haha helemaal mee eens, geleerd uit jouw groep. zeg maar een boemerang. en verder nogmaals je wilt het niet zien dat antifa een ondergronds aangestuurde groepering is. waarschijnlijk omdat je hun geweld prima vind. chaos creëeren en ontwrichting. daar zijn ze op uit. URL [2, 0, 2, 2]\n",
            "MENTION niet netjes ja maar je kan stoppen met uitmelken eelco. daarbij als ik een zp zie draait mijn maag zich ook om. klaar mee racisme [2, 0, 2, 2]\n",
            "MENTION maar hij houdt zich er wel aan! lamlul! [1, 0, 0, 1]\n",
            "MENTION MENTION je moet ook niet naar veenendaal willen [2, 0, 0, 2]\n",
            "MENTION fanatisme straalt er vanaf wat een linkse teef zeg [1, 0, 0, 1]\n",
            "MENTION MENTION MENTION je bent zo geïndoctrineerd dat je zelfs hiervan niets wil weten. welkom in dictatuur nl URL [2, 0, 0, 2]\n",
            "jort kelder mensen. jort is dus écht zó dom dat hij het argument \"zie je wel, door de lockdown is alles veel minder erg dan we in onze ergste nachtmerries vreesden, dus die lockdown was helemaal niet nodig!\" 🤦🤦‍♀️🤦‍♂️ [1, 0, 0, 1]\n",
            "MENTION het is traditie dat de voorgaande president zijn bek houd over de zittende president . maar dat laat jij socialistje ff weg . weet je wie ook een socialist was NUMBER jaar geleden ! [2, 0, 0, 2]\n",
            "de koning gaat naar apeldoorn, terwijl ie eens stevig met femke zou moeten gaan praten. loser. demonstratie [1, 0, 0, 1]\n",
            "MENTION de lafbek wil medicijnen alleen voor zijn eigen [1, 0, 0, 1]\n",
            "ook zonder een racist in het witte huis is amerika nog steeds een kut land vol racistische witte mensen die vinden dat het leven van een zwarte of gekleurde persoon niks waard is. en maar blijven denken dat je het meest ontwikkelde en beste land ter wereld bent. [1, 0, 0, 1]\n",
            "islam is gewoon een radicale beweging. altijd geweest . staat voor uitroeiing van niet moslims htler NUMBER arena [1, 0, 0, 1]\n",
            "MENTION MENTION de criminele oorlogsmisdadige nato had op NUMBER maart NUMBER (één dag voor de illegale bombardementen op servië) al opgeheven moeten worden. URL [0, 0, 2, 0]\n",
            "'the mongol derby, de langste en zwaarste paardenrace ter wereld over meer dan NUMBERkm, dit jaar in aangepaste vorm wegens corona maatregelen'. URL [0, 0, 1, 0]\n",
            "niet dat ik er naar toe wil maar ik vraag me af hoe zo'n hoofdstad raqqa er uit ziet; hoeveel inw. en alleen maar strijders of ook gezinnen\\uNUMBER [0, 0, 2, 0]\n",
            "extra geld besteden aan een grondige nodenanalyse, kan veel geld besparen achteraf juistedoel juisteaanpak [0, 0, 1, 0]\n",
            "de naïeve europeaan is geshockeerd. de realistische europeaan waarschuwt hier al heel lang voor. laten wij waken voor onze vrijheid. [0, 0, 2, 0]\n",
            "rt schagenkp: op zoek naar leuke (schoen)-kadootjes? - schoenkadootje sinterklaas schagen zijpe hatenkardpel koopplein.nl \\uNUMBER [0, 0, 2, 0]\n",
            "hahaha, je leert veel over de achterban van politieke partijen bij penj. jongeren die met een gooise r natuurlijk groenlinks stemmen [0, 0, 2, 0]\n",
            "wederom op weg naar krakow\\uNUMBER\\uNUMBER\\uNUMBER met hollandse snacks in de koffer\\udNUMBERc\\udfNUMBERfvolgend jaar openen we hollandse snackcorner in krakow\\udNUMBERd\\udcNUMBERd\\udNUMBERd\\udcNUMBERcondernemen\\udNUMBERd\\udeNUMBER\\udNUMBERd\\udeNUMBERe\\udNUMBERd\\udcNUMBERa [0, 0, 2, 0]\n",
            "leiderschapNUMBER: deze NUMBER bedrijven spelen zelf bank voor hun klanten: als je bank niet meehelpt, kun je op zoek naar cash in de ... \\uNUMBER [0, 0, 2, 0]\n",
            "NUMBER brandveiligheidsregels voor stallen moeten veel strenger. verplichte sprinklerinstallaties en nooduitgangen pvdd NUMBERmaart NUMBERredenen [0, 0, 2, 0]\n",
            "gelukkig zie aan de tweets dat er een storing bij ziggo is. zie plattegrond parijs op tv hoor andere zenders. hoe weird storing ziggo [0, 0, 1, 0]\n",
            "MENTION MENTION ja stoppen met junkfood eten is ook altijd verstandig. toch als je liever geen goede klant van big pharma en de medische industrie wil worden URL via MENTION roken rookvrij enz... [0, 0, 1, 0]\n",
            "MENTION MENTION MENTION van het gas af is waanzin want er komt waterstof aan en dat kan door het gasnet getransporteerd worden. het is een idee van kwiebes maar die doet alles andersom. bij de belastingdienst gooit hij er duizende mensen uit met een zak geld en NUMBER weken later worden ze weer aangenomen [0, 0, 2, 0]\n",
            "de deelnemers aan de demonstratie op het malieveld hebben zojuist een minuut stilte gehouden voor slachtoffers aanslagen parijs. [0, 0, 2, 0]\n",
            "MENTION hm ja zoiets dacht ik wel. maar heb al hele dure en medium dure gekocht deze maand. en heb dus chronisch geen geld. [0, 0, 2, 0]\n",
            "samen met europese collega's kennismaking met nieuwe chef van dg mare in brussel de actuele visserijthema's en knelpunten besproken [0, 0, 1, 0]\n",
            "kinderlijke eerlijkheid: laat net een dure macbook pro op grond vallen. dochter van NUMBER zegt 'gelukkig is het niet mama's computer'. geweldig! [0, 0, 2, 0]\n",
            "MENTION hi raymond gefeliciteerd, waanzinnige partij goed dat ik nog niet naar bed gegaan was. dan had ik deze partij gemist [0, 0, 2, 0]\n",
            "fijne meeting gehad in echt. deze jongen gaat twee sinterklaas-shows spelen. voor het eerst in 'die andere rol'. ik vind het nu al leuk. [0, 0, 2, 0]\n",
            "MENTION waarom moeten wij afrikaanse landen steunen die hun eigen burgers liever zien gaan? das goed voor hun economie . [0, 0, 2, 0]\n",
            "dromen over parabolen, kwadratische formules en googols... altijd fijn iemand met wiskunde helpen 📈😀 [0, 0, 2, 0]\n",
            "rotary turnhout laat jongeren kennismaken met beroepen URL [0, 0, 1, 0]\n",
            "fijn :-) wij ook rt MENTION: hele goedemorgen! ik geniet nog na van beursvloerassen mooie matches! dat geeft energie dankbaar [0, 0, 2, 0]\n",
            "MENTION was zelf slecht geïnformeerd. dacht dat t feit dat nl taps deelde gelekt was uit cie stiekum, maar t gaat dus over iets anders. [0, 0, 2, 0]\n",
            "lijkt mij een prachtige tocht. MENTION de zwolse deniz ozdemir fietste van zwolle naar turkije: URL rtvoost [0, 0, 2, 0]\n",
            "MENTION wat kan mij het schelen of nazi's politiek links of rechts waren. verachtelijk soort, meer woorden zoek ik er niet voor. [0, 0, 2, 0]\n",
            "tmg heeft recht op eigenaar die in haar producten gelooft - URL [0, 0, 1, 0]\n",
            "daar gaan ook hope kindervermaak by die groei saam laurus markdag beskikbaar wees soos die springkastele hieronder. URL URL [0, 0, 2, 0]\n",
            "schandalig regering deze mensen zijn ook stemgerechtigden dus dat zij al die jaren niet kunnen stemmen valt niet goed te praten URL [0, 0, 2, 0]\n",
            "MENTION MENTION MENTION MENTION MENTION terwijl als je het verpakt als een verplichting vanuit europa en je speelt de witwaskaart, dan heb je genoeg knopjes ingedrukt om een akkoord te krijgen in de NUMBERe kamer. dat ook het hoofd van de fiod meldt dat witwassen via cash en giraal geschiedt, moffel je weg en klaar is kees. [0, 0, 2, 0]\n",
            "het gezondheidspaspoort, is ontwikkeld door vst enterprises en circle pas enterprises, en wordt in ieder geval aan italië, portugal, frankrijk, zweden, spanje, nederland, de vs, canada, mexico, panama, india, de verenigde arabische emiraten geleverd URL [0, 0, 1, 0]\n",
            "MENTION MENTION õzcan akyol als het gaat om onze moraliteit, in relatie tot hoe we met onze goedkope arbeidskrachten omgaan, kunnen we gerust vaststellen dat in nederland elke vorm van beschaving ver is te zoeken. [0, 0, 1, 0]\n",
            "we hebben geen italiaanse toestanden meegemaakt, waar mensen op de gang van het ziekenhuis stierven, maar dat danken we niet aan het systeem. idd, u heeft ze gewoon laten sterven in de wzc zonder enige verzorging. proficiat. [0, 0, 1, 0]\n",
            "MENTION MENTION MENTION leer eens normaal te spreken man met je grote mond en met je bang zeker... zegt iemand met een achtergrond waar men enkel in roedels aanvalt en als ze alleen zijn het de goorste slijmballen. zo ook even generaliseren. [0, 0, 2, 0]\n",
            "MENTION MENTION MENTION bij de vvd word je de beste politicus genoemd als je het meest gegraaid gelogen en bedrogen hebt!!!! [0, 0, 2, 0]\n",
            "MENTION dat was ook een stuk verdriet ,het probleem was na de oorlog dat verraders niet de doodstraf hebben gekregen . die cultuur was er toen en is erger geworden [0, 0, 2, 0]\n",
            "wij dwaalden allen als schapen, wij keerden ons een iegelijk naar zijn weg; doch de heere heeft onzer … —jesaja NUMBER:NUMBER URL [0, 0, 2, 0]\n",
            "MENTION MENTION MENTION MENTION MENTION sja ik meen het maat. kijk al heb je goeie argumenten luister ik best naar je maar als ik kijk wat trump echt doet en wat bv mark rutte doet, ja dan is het gewoon duidelijk [0, 0, 1, 0]\n",
            "MENTION one direction is niet gestopt kut het is een pauze kijk niet naar de bladen en lees hun daadwerkelijke reacties het is bullshit [0, 0, 1, 0]\n",
            "MENTION jammer dat al die nertsen zo meteen gegenocideerd gaan worden als de joden ooit hebben gedaan. wat in the hell zijn we aan het doen. dus dieren mogen geen resistentie opbouwen tegen corona? haha ik stuur wel weer een dieren activisten leger naar de minister om het te stoppen. [0, 0, 2, 0]\n",
            "omdat het twitter extreem links en oikofoob is...voor de minder ontwikkelde linkse tak...ze haten blanken en eigen cultuur... [0, 0, 2, 0]\n",
            "MENTION is eigenlijk een heel pertinente tweet, zeker als er een tweede opstoot van covid-NUMBER komt. lees o.a het dubbel interview van noels en de keyzer in de trends [0, 0, 2, 0]\n"
          ],
          "name": "stdout"
        }
      ]
    },
    {
      "cell_type": "code",
      "metadata": {
        "id": "j3xD2-RwKurS",
        "colab": {
          "base_uri": "https://localhost:8080/",
          "height": 55
        },
        "outputId": "7ee9adfa-3de2-49a8-d8b1-9219fbe748a8"
      },
      "source": [
        "print(wrong)\n",
        "fields = [\"text\", \"golden\", 'BiLSTM', 'CNN', 'LinearSVC']\n",
        "headers = {'text','golden','BiLSTM', 'CNN', 'LinearSVC' }\n",
        "with open('wrong.csv', 'w') as csv_file:\n",
        "    writer = csv.writer(csv_file, delimiter='\\t')\n",
        "    writer.writerow(fields)\n",
        "    for text, pred in wrong.items():\n",
        "        row = [text, pred[0], pred[1], pred[2], pred[3]]\n",
        "\n",
        "        writer.writerow(row)\n",
        "files.download('wrong.csv')    \n",
        "\n",
        "# So 0 is NOT, 1 is explicit, 2 is implicit\n"
      ],
      "execution_count": 45,
      "outputs": [
        {
          "output_type": "stream",
          "text": [
            "{'MENTION MENTION iets anders, wanneer word asscher voor de rechter gesleept voor het willens en wetens aan de afgrond brengen van duizende mensen door de kinderopvangtoeslagenaffaire???': [0, 2, 2, 0], 'MENTION MENTION MENTION iets anders, wanneer word asscher voor de rechter gesleept voor het willens en wetens aan de afgrond brengen van duizende mensen door de kinderopvangtoeslagenaffaire???': [0, 2, 2, 0], 'MENTION MENTION iedereen kan ervan leren. bijv. hoe een demagoog een volk demoniseerde en zijn partij als alleenheerser leidde.': [0, 2, 0, 0], 'MENTION MENTION iedereen die het niet eens is met standpunten sylvana móet volgens artikelNUMBER wel een racist/facist/vrouwenhater zijn': [0, 2, 0, 0], 'iedereen feliciteer MENTION even! ze is echt een super toffe meid dus NUMBER felicitaasitje kan wel😊 || rt is lieff❤': [0, 2, 0, 0], 'iemand hier ervaring met body stress release-behandeling? dtv': [0, 2, 0, 0], 'MENTION ach man ! je hebt geen idee hoeveel er goed de pest hebben in je gedrag . denk niet dat je het alleen red in deze wereld ! je komt er nog wel achter kuttekop !!': [1, 0, 1, 1], 'waar komen die zwarten vandaan ????ongelooflijk merkel wat heb je europa aangedaan URL': [2, 0, 0, 2], 'MENTION geloof me bryan die vent heeft geen geweten het is een duivel in maat kostuum .': [1, 0, 0, 1], 'idioot die obama de nobelprijs gaf gaat nu aan zml uitleggen dat het wel meevalt met die moslims gezien islaminvasie praat hij bullshit': [1, 0, 0, 1], 'MENTION ze hadden de hele troep in een fuik moeten loodsen vastzetten en uitzetten .': [2, 0, 0, 2], 'MENTION MENTION MENTION linkse kitjes die maling hebben aan de hele samenleving! kapot slaan zou ik zeggen al die linkse veganistische gekken': [1, 0, 0, 1], 'islam is een agressieve tumor die met alle mogelijke middelen moet worden bestreden.': [1, 0, 0, 1], 'het is geen toeval dat de felste kritiek op de aanpak door een linkse vrouwelijke burgemeester van een onfortuinlijk verlopen antiracistismedemonstratie komt uit de hoek van vrouwonvriendelijk extreemrechts. jammer dat zovelen in de val lopen en zich laten meeslepen. halsema': [2, 0, 0, 2], 'MENTION wat gebeurd is niet goed te praten agent was fout dus dan ga je maar stelen en alles in brand steken ?????? en eerlijk hoeveel zwarten maken problemen in heel de wereld ?? leren wij hun dat ?? hoeveel mensen worden verkracht vermoord door zwarten??': [2, 0, 0, 2], 'altijd extreemrechts tuig dat moslims betrapt op onaangepast gedrag. typisch.': [1, 0, 0, 1], \"maar men zet tijdens de anti-lockdown demonstratie in den haag wel NUMBER me'ers in op nog geen NUMBER man...en NUMBER!! slinkse extremisten krijgen vrij spel..er wordt met twee maten gemeten..zeg dat nou eens! slapjanus! MENTION vragenuurtje\": [1, 0, 1, 1], 'MENTION MENTION MENTION hahaha zo is het wel, we betalen allemaal hetzelfde alleen procentueel ligt het net even anders. maar ze hebben dan altijd het weerwoord van ze betalen zoveel, maar vergeten dat ze eerst gebruik maken van het deel wat de minderbedeelden ook moeten betalen': [2, 0, 2, 2], 'lekker man, wakker worden met een enorme haat jegens moslims en de islam... fuckislam': [1, 0, 0, 1], 'MENTION MENTION gij dineren , uw als een varken volvreten zeker , uw soort kent geen manieren vreetvarkens . ja ik ken uw probleem gedaan met uw aanhoudster te gaan eten hé . moesten ze bij uw soort varkens al veel langer gedaan hebben': [1, 0, 1, 1], 'maar hoe gaat de belastingdienst die brief nou bezorgen bij die ouder die zelfmoord pleegde na onterecht als fraudeur te boek gesteld te zijn? per vlieger?': [2, 0, 2, 2], 'MENTION MENTION leuk dat jullie linkse fascisten, die geweld goed praten, voor jullie hebben schrijven! URL': [1, 0, 0, 1], 'tsja heks dieuwertje is al teveel scholen barneveld kijken niet meer naar sinterklaasjournaal vanwege hekserij URL': [1, 0, 0, 1], 'ga eens dood, pijnlijk please': [1, 0, 0, 1], 'vergeet de pensioenleeftijd, het geld naar griekenland, de afbraak van de medische en ouderenzorg niet rutte is asociale leugenaar URL': [1, 0, 2, 1], 'MENTION het is antifa tuig dat moet oogeruimd worden': [1, 0, 1, 1], 'zich durft te uiten , bang te zijn om uitgemaakt te worden voor rasist etc etc . dit is mijn mening , en ik ben benieuwd of jij , gijs rademaker , mijn lekker ding 😉 , hier nou eens in het openbaar een weerwoord op dit bericht durft te geven . ben benieuwd': [2, 0, 0, 2], 'turkije wil excuses nadat ze ons uitmaken voor fascisten en overblijfselen van nazi duitsland. hoe triest is het allemaal zeg turkijerel': [2, 0, 0, 2], 'MENTION MENTION we kunnen ook mensen doodmaken eens kijken of dat je dan ook een nerts voelt.': [2, 0, 2, 2], 'MENTION MENTION MENTION MENTION verplegenden, families, vrienden, vriendinnen, ouders oma’s opa’s, hebben geleden en jij snapt niet wat omzigt zegt! je bent een lamlul! leer de basisprincipes van gelijkheid en dan zeker in deze periode! gadverdamme! MENTION ga jij nog klappen voor de zorg! mijn oma en opa!': [1, 0, 0, 1], 'MENTION daar kan en wil je niet mee leven. dat uitschot hoort gewoon niet in de westerse wereld thuis.': [1, 0, 1, 1], 'MENTION mijn dochter mag officieel ook niet naar de wc. ik ben even naar die school geweest. stevig, maar keurig gesprek gehad. ze mag nu gewoon naar het. toilet. t moet ook niet gekker worden; stel volslagen debielen in dit land.': [1, 0, 0, 1], 'MENTION MENTION MENTION MENTION doen ze niet. durven ze niet. het zijn slechts domme haatvolle haatgollems die haatzaaien.': [1, 0, 0, 1], 'MENTION ik schop graag tegen je aan omdat ik je een staatsgevaarlijke idioot vind maar dat ventje is gewoon een minkukel en kan niet verder naast de waarheid zitten.': [1, 0, 0, 1], 'wie gaat er nu protesteren voor een dode misdadiger? geld 💰 dus.... en links subsidies 🤮 URL': [2, 0, 2, 2], 'MENTION MENTION lieve fleur die gast en de hele rivm kliek bepaalt niet hoe wij moeten leven ik doe al weken precies wat ik wil . ze luisteren alleen naar de who de moordbrigade van kill gates !!!': [1, 0, 0, 1], 'MENTION dat ze die zo rap mogelijk uit de politiek verwijderen , dat gastje is een schande voor de mensheid , voor onze democratie. lager dan zijn soort kan een mens niet zijn': [2, 0, 0, 2], 'toen nederland nog een leuk land was URL en niet verziekt door culturen die de onze verdringen raisethedegree minneapolis': [2, 0, 2, 2], 'MENTION goh wat is benny hill toch lelijk geworden zeg.': [1, 0, 0, 1], 'MENTION MENTION halsema is hypocriet en heeft schijt aan alles buiten haar eigen linkse agenda. halsema heeft schijt aan de NUMBER NUMBER/NUMBER meter corona maatregelen, aan alle ondernemers, aan de zorg en aan de ouderen. dit valt niet uit te leggen, halsema zaait tweespalt in de samenleving, zo dom.': [2, 0, 2, 2], 'MENTION MENTION laat die turken dat maar betalen': [2, 0, 0, 2], 'MENTION MENTION nu is het wel zo dat zwarte mensen niet vaak dingen uitdelen maar vooral nemen, doen ze bij de omroepen ook we betalen en geven geld en wat krijgen we rotzooi.': [2, 0, 0, 2], 'MENTION nog nooit zoiets stompzinnigs gehoord. wat een afgang. maar ja! bij buitenhof en de npo is toch alles de schuld van de blanke man! leren jullie racisten het eens nooit om blank te zeggen.': [1, 0, 0, 1], 'MENTION MENTION antifa is een terroristische organisatie.': [1, 0, 0, 1], 'MENTION MENTION smerig wijf vergalt heel amsterdam': [1, 0, 0, 1], 'MENTION MENTION MENTION MENTION MENTION MENTION weer zo een gevaarlijke idioot aan tafel!': [1, 0, 0, 1], 'MENTION MENTION aldus de subjectieve linkse huichelachtige draaikonten piznigten van links, die alleen maar leven door desinformatie en onzin te verspreiden, stel lijmsnuivende incestueuze respectloze uitgerangeerde yournalistjes van de MENTION e.d. MENTION/vara kotsssss🖕🐀': [1, 0, 0, 1], 'frankrijk en belgie rijp voor stadsguerilla omdat men de islamitische kanker jarenlang heeft laten uitzaaien!!': [1, 0, 0, 1], 'MENTION halsema is hypocriet en heeft schijt aan alles buiten haar eigen linkse agenda. halsema heeft schijt aan de NUMBER NUMBER/NUMBER meter corona maatregelen, aan alle ondernemers, aan de zorg en aan de ouderen. dit valt niet uit te leggen, halsema zaait tweespalt in de samenleving, zo dom.': [2, 0, 2, 2], 'MENTION één woord het is tuig van de richel. verzet haha, van dit tuig is er nog niet één die aan het slachtoffer denkt, alleen aan de duurste artikelen. ja er zijn ook andere demonstraties welgemeend. weet je wat ze en de npo doet? ze scheren ze allemaal over één kam.': [1, 0, 0, 1], 'MENTION rob jetten jij robot homo. jij begrijpt nog steeds niet dat je vriendin ollogren weer onze vrijheid afpakt door het afschaffen van het referendum. en ze kan geen eens de huur verhoging stoppen ik kan die makkelijk radicaal stoppen als ik in politiek zit het liefst zonder geld xd': [1, 0, 1, 1], 'we hebben één voordeel en dat is dat vvd en groenlinks volgend jaar niets meer te vertellen heeft of ze gaan weer sjoemelen': [2, 0, 0, 2], 'MENTION een parasiet, zoals de meesten van zijn soort.': [1, 0, 0, 1], \"MENTION MENTION denk dat ge op uwe teen getrapt bent gastje , het profiterend volk zal eens iets zeggen , het volk van zakken vullen zonder te werken , het elite profitariaat en dan met een fake profiel , te laf om zich kenbaar te maken , zo'n volk zouden ze moeten weigeren op twitter\": [1, 0, 0, 1], 'MENTION MENTION MENTION jaja antirook trol, lul nog wat over roken. en ga dan nog wat junkfood vreten .. URL via MENTION': [1, 0, 0, 1], 'MENTION ken je het concept van nivellering? net zoals dat in nederland rijkere mensen netto meer belasting afdragen, geldt dat ook voor de eu. sta eens stil bij het feit dat nederlanders het erg goed hebben en dat mede mogelijk is door alle arbeidsmigranten uit europa. krent dat je bent!': [1, 0, 0, 1], 'MENTION MENTION MENTION krijg de coronatyfus kutje': [1, 0, 0, 1], 'de mensen die mijn socials hebben gehackt, wllh jullie zijn ziek in jullie hoofd, NUMBER keer???!!!! jullie moeders URL': [1, 0, 0, 1], \"veel nederlanders in turkije willen terug! laten we dan ruilen: 'erdogan turken' terug naar turkije, alle nederlanders terug naar nederland!\": [2, 0, 1, 2], 'MENTION MENTION beter nog ! URL tweet is gewist dus ben ik mogelijks niet geblokkeerd . leer lezen en informeer uzelf . en stop met drinken van azijn , zuur zuur manneke .': [1, 0, 1, 1], 'MENTION MENTION MENTION voila. ga je dan ook lopen klagen over beperking van je recht je mening dat alle wijven enkel geile neuksleuven zijn die nu op de knietjes moeten en aan je pik moeten zuigen aan de vrouwtjes te geven? of ga je dan gewoon naar huis en gedraag je je de volgende keer?': [1, 0, 0, 1], 'gejoel bij MENTION jegens MENTION. jammer. MENTION kennelijk de MENTION van de politiek: oppertopper maar met sneue fans. tkNUMBER': [1, 0, 0, 1], 'MENTION MENTION MENTION mijnheer wendrich kan het niet vinden en helemaal niet dat ze georganiseerd opereren. nu valt deze doorgeleerde heer ff door de mand zeg. elke leugen is bij hem blijkbaar geoorloofd. kots': [1, 0, 0, 1], 'agent die vrouw doodschoot in alkmaar handelde uit noodweer URL via MENTION je ken ook gericht op de benen mikken, maar dat is de politie waarschijnlijk vreemd? wordt er alleen maar op het hoofd en de borstholte gemikt met bijlessen. 🐀': [2, 0, 0, 2], 'want er kan altijd maar één gevaarlijke despoot per wereld zijn? dus als de één dat is, kan de ander het al niet meer zijn? dat is het argument hier? ik zou zeggen \"kom op elsevier, je kunt beter dan dat\", maar we weten allemaal: beter kunnen ze niet.': [2, 0, 0, 2], 'wat een gek met die hond en het bijl omg': [1, 0, 0, 1], 'goh! iemand verbaast dat het zo uit hand loopt in minnesota!? antifa tuig in optima forma.': [1, 0, 0, 1], \"MENTION MENTION MENTION MENTION MENTION dus gegarandeerd dat corona echt weer terug komt . te danken aan die hufters ! sluit die kloojo's op voor een lange tijd . als ze ziek worden mogen ze wat mij betreft dood gaan . heel hard dat ik dit zo zeg . maar die lui hebben schijt aan alle regels\": [1, 0, 1, 1], 'MENTION MENTION MENTION weer zo een gl kutje aan de tafel!': [1, 0, 0, 1], 'MENTION hij verheerlijkt helemaal niets. mafklappers ga eens een koerzoesje englies volgen. kun je misschien eindelijk eens lezen wat hij schrijft en wie weet ook eens verstaan wat hij zegt. dom alles van cnn overnemen en met google vertalen is niet journalistiek. URL': [1, 0, 0, 1], 'MENTION MENTION MENTION MENTION dom kutje ben je toch! domme kindjes jou werken tot hun NUMBERe omdat ze niks kunnen! ik ga nooit dood, want houd van duterte, trump, wilders, baudet, de winter! haat die linkse racisten!': [1, 0, 1, 1], 'MENTION waarom horen we blm alleen als er geteld kan worden? waarom horen we nooit dat blm daklozen helpt etc? omdat ze een hele andere agenda hebben dan zij doen voorkomen en dat weet jij ook. iedereen behalve de allerstomsten weet dat. jij en jouw soort teren op zulk parasitairisme': [2, 0, 0, 2], 'MENTION MENTION je bruine hemd hangt al klaar merk ik smerige laffe hond': [1, 0, 0, 1], 'MENTION MENTION nee vvd dNUMBER trekken volle zalen, halen terrorist massaal binnen.wilders NUMBER zetels de sterkste mlj nl pvv nrNUMBER': [1, 0, 0, 1], 'MENTION wist je dat dikke vette mensen erg ongezond zijn ? cholesterol , diabetici , hoge bloeddruk , longklachten . veel kosten maken voor huisartsen bezoek en ziekenhuis bezoek . weet je dat dit heel veel geld kost ?': [1, 0, 0, 1], 'MENTION MENTION MENTION dan zijn alle islam aanhangers dat, want de islam wil dat zij ongelovige honden, apen, ezels en varkens (wij dus) gedood moeten worden': [2, 0, 1, 2], 'maffia slaat je winkel in puin en laat je dan geld betalen om herhaling te voorkomen. zo ook pappen nathouden moslims in nl. parijs': [2, 0, 0, 2], 'MENTION tja het is zijn verdienmodel. mijnheer is totaal niet geïnspireerd door hetgeen waar hij zegt voor te staan. polariseren dat is waar hij en zijn vaak werkschuwe maatjes voor staan.': [2, 0, 2, 2], \"dochter met probleem met zichzelf. vrouwen in de eu worden verkracht omdat moslim vrouwen zich bedekken 'uit eigen wil'. punt. rtlln\": [2, 0, 0, 2], 'MENTION MENTION idioot? achterlijke incestueuzezaadcel, ken je wel meer als retweeten MENTION ramon MENTION 🖕🐀': [1, 0, 0, 1], '\\\\\"als u nou heel eerlijk bent\\\\\" - erikdijkstra bij opNUMBERnpo tegen de burgemeester van amsterdam. het klinkt of hij vindt dat ze alsmaar niet eerlijk wil zijn. of ze almaar niet wil zeggen wat hij wil horen. slechte journalistiek, dijkstra. valt me tegen. blacklivesmatter corona': [2, 0, 0, 2], 'MENTION MENTION uw soort betalen de vreetvarken van uiterst rechts in het zwart black) werken , en zo wit (white) zien van stuf te snuiven , de soort die op onze kosten vol botox zit , hou uw azijnzuur in uwe body vreetvarken . uw profiel zegt meer dan woorden . zwart uiterst recht fake profiel': [1, 0, 2, 1], \"te veel over het zelfde kweek je antipathie tegen homo's !!!!!!\": [2, 0, 0, 2], 'MENTION MENTION echt wat een tuig': [1, 0, 0, 1], 'MENTION wie de f*ck ben jij om het over ons te hebben subsidieslurper . omg het waren geen plunderaars oh nee ? denk het wel want ze hebben alles leeg geroofd plasma tv .. vuitton tassen merk kleding en voor miljarden schade gezorgd samen met die smerige fascisten bende antifa.': [1, 0, 1, 1], 'MENTION vandaag is het genocide dag voor de nertsen. mensen zijn gewoon kanker moordenaars. gewoon isoleren in plaats van killen stop gewoon een maand of NUMBER met fokken dan zijn alle dieren geinfected en weer genezen. en haal maar de mens zelf weg.': [1, 0, 1, 1], 'behandeld worden als een achterlijkgebakje door de verkoopmakelaar... walgelijk': [1, 0, 0, 1], \"rutte was alleen premier van het rijke deel van de vvd'ers. mark weet door zijn slechte opvoeding niet beter. nieuwsuur\": [2, 0, 2, 2], 'MENTION MENTION MENTION mijn menselijk verstand is op een normaal peil dat kan je bij herr janssens niet zeggen , zelfs zijn armen kan hij niet buigen . het volk met de tweede hands kostuums van de albanese maffia , snit uit de jaren dertig van duitse kwaliteit .': [2, 0, 1, 2], 'MENTION MENTION MENTION en antirook trol MENTION ( MENTION ) komt ook weer wat dwaas uit zijn nek lullen. de tabakslobby, fakenews blablabla enz.. URL via MENTION': [1, 0, 1, 1], 'MENTION geld geld geld .???? sommige van ons met ons leven betalen ?? ben je ziek van geest of zo .jij spoort echt niet wat hebben wij met iets te maken voor NUMBER jaar geleden die nu leeft die nu zorgt..ziek van geest ben jij ga verhuizen naar een land waar jij je thuis voelt': [1, 0, 0, 1], 'MENTION MENTION antifa tuig lees dit maar droplul je bent een rat URL': [1, 0, 0, 1], 'MENTION MENTION zoals het wijf van de rooy, gematigde vreemde luis laat me lachen , ze is veel erger dan de meeste moslims , ze hokt samen met ne blokker': [1, 0, 0, 1], \"MENTION MENTION jammer! dat is het fvd veruit al geworden. draaideur idioten met grote ego's.\": [1, 0, 0, 1], \"MENTION al enkele keren begonnen aan een reply op een of andere imbeciel, maar telkens weer gestopt. what's the point anyways?\": [1, 0, 0, 1], 'petehoekstra uitnodigen en laten praten over demonstraties tegen racisme is als een verkrachter uitnodigen en laten praten over demonstraties voor gelijke rechten van de vrouw. als onderdeel van het probleem is zijn mening totaal niet interessant.': [2, 0, 0, 2], 'buitenhof weer dezelfde idiote oplosssing van arm zielige moslims geef ze een stage plek het ligt gvd aan islam aan niets anders schoften': [1, 0, 2, 1], \"waarom zet rutte de ambasadeur niet uit van een land dat ons nazi's en mislimafslachters noem? laf\": [1, 0, 2, 1], 'ankara is de baas in nederland. MENTION MENTION MENTION MENTION hebben nl weggegeven. turken erdogan': [2, 0, 0, 2], 'MENTION MENTION haha helemaal mee eens, geleerd uit jouw groep. zeg maar een boemerang. en verder nogmaals je wilt het niet zien dat antifa een ondergronds aangestuurde groepering is. waarschijnlijk omdat je hun geweld prima vind. chaos creëeren en ontwrichting. daar zijn ze op uit. URL': [2, 0, 2, 2], 'MENTION niet netjes ja maar je kan stoppen met uitmelken eelco. daarbij als ik een zp zie draait mijn maag zich ook om. klaar mee racisme': [2, 0, 2, 2], 'MENTION maar hij houdt zich er wel aan! lamlul!': [1, 0, 0, 1], 'MENTION MENTION je moet ook niet naar veenendaal willen': [2, 0, 0, 2], 'MENTION fanatisme straalt er vanaf wat een linkse teef zeg': [1, 0, 0, 1], 'MENTION MENTION MENTION je bent zo geïndoctrineerd dat je zelfs hiervan niets wil weten. welkom in dictatuur nl URL': [2, 0, 0, 2], 'jort kelder mensen. jort is dus écht zó dom dat hij het argument \"zie je wel, door de lockdown is alles veel minder erg dan we in onze ergste nachtmerries vreesden, dus die lockdown was helemaal niet nodig!\" 🤦🤦\\u200d♀️🤦\\u200d♂️': [1, 0, 0, 1], 'MENTION het is traditie dat de voorgaande president zijn bek houd over de zittende president . maar dat laat jij socialistje ff weg . weet je wie ook een socialist was NUMBER jaar geleden !': [2, 0, 0, 2], 'de koning gaat naar apeldoorn, terwijl ie eens stevig met femke zou moeten gaan praten. loser. demonstratie': [1, 0, 0, 1], 'MENTION de lafbek wil medicijnen alleen voor zijn eigen': [1, 0, 0, 1], 'ook zonder een racist in het witte huis is amerika nog steeds een kut land vol racistische witte mensen die vinden dat het leven van een zwarte of gekleurde persoon niks waard is. en maar blijven denken dat je het meest ontwikkelde en beste land ter wereld bent.': [1, 0, 0, 1], 'islam is gewoon een radicale beweging. altijd geweest . staat voor uitroeiing van niet moslims htler NUMBER arena': [1, 0, 0, 1], 'MENTION MENTION de criminele oorlogsmisdadige nato had op NUMBER maart NUMBER (één dag voor de illegale bombardementen op servië) al opgeheven moeten worden. URL': [0, 0, 2, 0], \"'the mongol derby, de langste en zwaarste paardenrace ter wereld over meer dan NUMBERkm, dit jaar in aangepaste vorm wegens corona maatregelen'. URL\": [0, 0, 1, 0], \"niet dat ik er naar toe wil maar ik vraag me af hoe zo'n hoofdstad raqqa er uit ziet; hoeveel inw. en alleen maar strijders of ook gezinnen\\\\uNUMBER\": [0, 0, 2, 0], 'extra geld besteden aan een grondige nodenanalyse, kan veel geld besparen achteraf juistedoel juisteaanpak': [0, 0, 1, 0], 'de naïeve europeaan is geshockeerd. de realistische europeaan waarschuwt hier al heel lang voor. laten wij waken voor onze vrijheid.': [0, 0, 2, 0], 'rt schagenkp: op zoek naar leuke (schoen)-kadootjes? - schoenkadootje sinterklaas schagen zijpe hatenkardpel koopplein.nl \\\\uNUMBER': [0, 0, 2, 0], 'hahaha, je leert veel over de achterban van politieke partijen bij penj. jongeren die met een gooise r natuurlijk groenlinks stemmen': [0, 0, 2, 0], 'wederom op weg naar krakow\\\\uNUMBER\\\\uNUMBER\\\\uNUMBER met hollandse snacks in de koffer\\\\udNUMBERc\\\\udfNUMBERfvolgend jaar openen we hollandse snackcorner in krakow\\\\udNUMBERd\\\\udcNUMBERd\\\\udNUMBERd\\\\udcNUMBERcondernemen\\\\udNUMBERd\\\\udeNUMBER\\\\udNUMBERd\\\\udeNUMBERe\\\\udNUMBERd\\\\udcNUMBERa': [0, 0, 2, 0], 'leiderschapNUMBER: deze NUMBER bedrijven spelen zelf bank voor hun klanten: als je bank niet meehelpt, kun je op zoek naar cash in de ... \\\\uNUMBER': [0, 0, 2, 0], 'NUMBER brandveiligheidsregels voor stallen moeten veel strenger. verplichte sprinklerinstallaties en nooduitgangen pvdd NUMBERmaart NUMBERredenen': [0, 0, 2, 0], 'gelukkig zie aan de tweets dat er een storing bij ziggo is. zie plattegrond parijs op tv hoor andere zenders. hoe weird storing ziggo': [0, 0, 1, 0], 'MENTION MENTION ja stoppen met junkfood eten is ook altijd verstandig. toch als je liever geen goede klant van big pharma en de medische industrie wil worden URL via MENTION roken rookvrij enz...': [0, 0, 1, 0], 'MENTION MENTION MENTION van het gas af is waanzin want er komt waterstof aan en dat kan door het gasnet getransporteerd worden. het is een idee van kwiebes maar die doet alles andersom. bij de belastingdienst gooit hij er duizende mensen uit met een zak geld en NUMBER weken later worden ze weer aangenomen': [0, 0, 2, 0], 'de deelnemers aan de demonstratie op het malieveld hebben zojuist een minuut stilte gehouden voor slachtoffers aanslagen parijs.': [0, 0, 2, 0], 'MENTION hm ja zoiets dacht ik wel. maar heb al hele dure en medium dure gekocht deze maand. en heb dus chronisch geen geld.': [0, 0, 2, 0], \"samen met europese collega's kennismaking met nieuwe chef van dg mare in brussel de actuele visserijthema's en knelpunten besproken\": [0, 0, 1, 0], \"kinderlijke eerlijkheid: laat net een dure macbook pro op grond vallen. dochter van NUMBER zegt 'gelukkig is het niet mama's computer'. geweldig!\": [0, 0, 2, 0], 'MENTION hi raymond gefeliciteerd, waanzinnige partij goed dat ik nog niet naar bed gegaan was. dan had ik deze partij gemist': [0, 0, 2, 0], \"fijne meeting gehad in echt. deze jongen gaat twee sinterklaas-shows spelen. voor het eerst in 'die andere rol'. ik vind het nu al leuk.\": [0, 0, 2, 0], 'MENTION waarom moeten wij afrikaanse landen steunen die hun eigen burgers liever zien gaan? das goed voor hun economie .': [0, 0, 2, 0], 'dromen over parabolen, kwadratische formules en googols... altijd fijn iemand met wiskunde helpen 📈😀': [0, 0, 2, 0], 'rotary turnhout laat jongeren kennismaken met beroepen URL': [0, 0, 1, 0], 'fijn :-) wij ook rt MENTION: hele goedemorgen! ik geniet nog na van beursvloerassen mooie matches! dat geeft energie dankbaar': [0, 0, 2, 0], 'MENTION was zelf slecht geïnformeerd. dacht dat t feit dat nl taps deelde gelekt was uit cie stiekum, maar t gaat dus over iets anders.': [0, 0, 2, 0], 'lijkt mij een prachtige tocht. MENTION de zwolse deniz ozdemir fietste van zwolle naar turkije: URL rtvoost': [0, 0, 2, 0], \"MENTION wat kan mij het schelen of nazi's politiek links of rechts waren. verachtelijk soort, meer woorden zoek ik er niet voor.\": [0, 0, 2, 0], 'tmg heeft recht op eigenaar die in haar producten gelooft - URL': [0, 0, 1, 0], 'daar gaan ook hope kindervermaak by die groei saam laurus markdag beskikbaar wees soos die springkastele hieronder. URL URL': [0, 0, 2, 0], 'schandalig regering deze mensen zijn ook stemgerechtigden dus dat zij al die jaren niet kunnen stemmen valt niet goed te praten URL': [0, 0, 2, 0], 'MENTION MENTION MENTION MENTION MENTION terwijl als je het verpakt als een verplichting vanuit europa en je speelt de witwaskaart, dan heb je genoeg knopjes ingedrukt om een akkoord te krijgen in de NUMBERe kamer. dat ook het hoofd van de fiod meldt dat witwassen via cash en giraal geschiedt, moffel je weg en klaar is kees.': [0, 0, 2, 0], 'het gezondheidspaspoort, is ontwikkeld door vst enterprises en circle pas enterprises, en wordt in ieder geval aan italië, portugal, frankrijk, zweden, spanje, nederland, de vs, canada, mexico, panama, india, de verenigde arabische emiraten geleverd URL': [0, 0, 1, 0], 'MENTION MENTION õzcan akyol als het gaat om onze moraliteit, in relatie tot hoe we met onze goedkope arbeidskrachten omgaan, kunnen we gerust vaststellen dat in nederland elke vorm van beschaving ver is te zoeken.': [0, 0, 1, 0], 'we hebben geen italiaanse toestanden meegemaakt, waar mensen op de gang van het ziekenhuis stierven, maar dat danken we niet aan het systeem. idd, u heeft ze gewoon laten sterven in de wzc zonder enige verzorging. proficiat.': [0, 0, 1, 0], 'MENTION MENTION MENTION leer eens normaal te spreken man met je grote mond en met je bang zeker... zegt iemand met een achtergrond waar men enkel in roedels aanvalt en als ze alleen zijn het de goorste slijmballen. zo ook even generaliseren.': [0, 0, 2, 0], 'MENTION MENTION MENTION bij de vvd word je de beste politicus genoemd als je het meest gegraaid gelogen en bedrogen hebt!!!!': [0, 0, 2, 0], 'MENTION dat was ook een stuk verdriet ,het probleem was na de oorlog dat verraders niet de doodstraf hebben gekregen . die cultuur was er toen en is erger geworden': [0, 0, 2, 0], 'wij dwaalden allen als schapen, wij keerden ons een iegelijk naar zijn weg; doch de heere heeft onzer … —jesaja NUMBER:NUMBER URL': [0, 0, 2, 0], 'MENTION MENTION MENTION MENTION MENTION sja ik meen het maat. kijk al heb je goeie argumenten luister ik best naar je maar als ik kijk wat trump echt doet en wat bv mark rutte doet, ja dan is het gewoon duidelijk': [0, 0, 1, 0], 'MENTION one direction is niet gestopt kut het is een pauze kijk niet naar de bladen en lees hun daadwerkelijke reacties het is bullshit': [0, 0, 1, 0], 'MENTION jammer dat al die nertsen zo meteen gegenocideerd gaan worden als de joden ooit hebben gedaan. wat in the hell zijn we aan het doen. dus dieren mogen geen resistentie opbouwen tegen corona? haha ik stuur wel weer een dieren activisten leger naar de minister om het te stoppen.': [0, 0, 2, 0], 'omdat het twitter extreem links en oikofoob is...voor de minder ontwikkelde linkse tak...ze haten blanken en eigen cultuur...': [0, 0, 2, 0], 'MENTION is eigenlijk een heel pertinente tweet, zeker als er een tweede opstoot van covid-NUMBER komt. lees o.a het dubbel interview van noels en de keyzer in de trends': [0, 0, 2, 0]}\n"
          ],
          "name": "stdout"
        },
        {
          "output_type": "display_data",
          "data": {
            "application/javascript": [
              "\n",
              "    async function download(id, filename, size) {\n",
              "      if (!google.colab.kernel.accessAllowed) {\n",
              "        return;\n",
              "      }\n",
              "      const div = document.createElement('div');\n",
              "      const label = document.createElement('label');\n",
              "      label.textContent = `Downloading \"${filename}\": `;\n",
              "      div.appendChild(label);\n",
              "      const progress = document.createElement('progress');\n",
              "      progress.max = size;\n",
              "      div.appendChild(progress);\n",
              "      document.body.appendChild(div);\n",
              "\n",
              "      const buffers = [];\n",
              "      let downloaded = 0;\n",
              "\n",
              "      const channel = await google.colab.kernel.comms.open(id);\n",
              "      // Send a message to notify the kernel that we're ready.\n",
              "      channel.send({})\n",
              "\n",
              "      for await (const message of channel.messages) {\n",
              "        // Send a message to notify the kernel that we're ready.\n",
              "        channel.send({})\n",
              "        if (message.buffers) {\n",
              "          for (const buffer of message.buffers) {\n",
              "            buffers.push(buffer);\n",
              "            downloaded += buffer.byteLength;\n",
              "            progress.value = downloaded;\n",
              "          }\n",
              "        }\n",
              "      }\n",
              "      const blob = new Blob(buffers, {type: 'application/binary'});\n",
              "      const a = document.createElement('a');\n",
              "      a.href = window.URL.createObjectURL(blob);\n",
              "      a.download = filename;\n",
              "      div.appendChild(a);\n",
              "      a.click();\n",
              "      div.remove();\n",
              "    }\n",
              "  "
            ],
            "text/plain": [
              "<IPython.core.display.Javascript object>"
            ]
          },
          "metadata": {
            "tags": []
          }
        },
        {
          "output_type": "display_data",
          "data": {
            "application/javascript": [
              "download(\"download_06f30eda-3166-49ab-b1b5-f52df801444b\", \"wrong.csv\", 25764)"
            ],
            "text/plain": [
              "<IPython.core.display.Javascript object>"
            ]
          },
          "metadata": {
            "tags": []
          }
        }
      ]
    }
  ]
}