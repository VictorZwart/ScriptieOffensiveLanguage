{
  "nbformat": 4,
  "nbformat_minor": 0,
  "metadata": {
    "colab": {
      "name": "scriptie_code.ipynb",
      "provenance": [],
      "authorship_tag": "ABX9TyO0QFgrEkcOudpHtBLey2Ic",
      "include_colab_link": true
    },
    "kernelspec": {
      "name": "python3",
      "display_name": "Python 3"
    },
    "language_info": {
      "name": "python"
    },
    "accelerator": "GPU"
  },
  "cells": [
    {
      "cell_type": "markdown",
      "metadata": {
        "id": "view-in-github",
        "colab_type": "text"
      },
      "source": [
        "<a href=\"https://colab.research.google.com/github/VictorZwart/ScriptieOffensiveLanguage/blob/main/BiLSTM%26CNN/scriptie_code.ipynb\" target=\"_parent\"><img src=\"https://colab.research.google.com/assets/colab-badge.svg\" alt=\"Open In Colab\"/></a>"
      ]
    },
    {
      "cell_type": "markdown",
      "metadata": {
        "id": "abUOu1HupIbd"
      },
      "source": [
        "# Thesis code for BiLSTM and CNN\n",
        "Author: Victor Zwart\\\n",
        "Date: 26/05/2021\n",
        "\n",
        "\n",
        "\n",
        "Based on the following tutorials:\\\n",
        " \n",
        "\n",
        "*   CNN: https://medium.com/voice-tech-podcast/text-classification-using-cnn-9ade8155dfb9\n",
        "*   BiLSTM: https://www.kaggle.com/alexcherniuk/imdb-review-word2vec-bilstm-99-acc\n",
        "\n"
      ]
    },
    {
      "cell_type": "code",
      "metadata": {
        "colab": {
          "base_uri": "https://localhost:8080/"
        },
        "id": "AS3e0bpQrGf2",
        "outputId": "6e9da583-6a21-4414-d872-0bd7a79f7e47"
      },
      "source": [
        "# get gpu specs\n",
        "!nvidia-smi\n",
        "# Tesla K80 (11441MiB) = bad\n",
        "# Tesla T4  (15109MiB) = good\n"
      ],
      "execution_count": 1,
      "outputs": [
        {
          "output_type": "stream",
          "text": [
            "Wed May 26 11:53:32 2021       \n",
            "+-----------------------------------------------------------------------------+\n",
            "| NVIDIA-SMI 465.19.01    Driver Version: 460.32.03    CUDA Version: 11.2     |\n",
            "|-------------------------------+----------------------+----------------------+\n",
            "| GPU  Name        Persistence-M| Bus-Id        Disp.A | Volatile Uncorr. ECC |\n",
            "| Fan  Temp  Perf  Pwr:Usage/Cap|         Memory-Usage | GPU-Util  Compute M. |\n",
            "|                               |                      |               MIG M. |\n",
            "|===============================+======================+======================|\n",
            "|   0  Tesla P100-PCIE...  Off  | 00000000:00:04.0 Off |                    0 |\n",
            "| N/A   39C    P0    28W / 250W |      0MiB / 16280MiB |      0%      Default |\n",
            "|                               |                      |                  N/A |\n",
            "+-------------------------------+----------------------+----------------------+\n",
            "                                                                               \n",
            "+-----------------------------------------------------------------------------+\n",
            "| Processes:                                                                  |\n",
            "|  GPU   GI   CI        PID   Type   Process name                  GPU Memory |\n",
            "|        ID   ID                                                   Usage      |\n",
            "|=============================================================================|\n",
            "|  No running processes found                                                 |\n",
            "+-----------------------------------------------------------------------------+\n"
          ],
          "name": "stdout"
        }
      ]
    },
    {
      "cell_type": "markdown",
      "metadata": {
        "id": "V-WRGLfypayz"
      },
      "source": [
        "# Import\n",
        "First import all the necessary packages"
      ]
    },
    {
      "cell_type": "code",
      "metadata": {
        "id": "Mst6CePkpGfg"
      },
      "source": [
        "from keras.datasets import imdb\n",
        "from keras.models import Sequential\n",
        "from keras.layers import Dense\n",
        "from keras.layers import Flatten\n",
        "from keras.layers.convolutional import Conv1D\n",
        "from keras.layers.convolutional import MaxPooling1D\n",
        "from keras.layers.embeddings import Embedding\n",
        "from keras.preprocessing import sequence\n",
        "from keras.preprocessing.sequence import pad_sequences\n",
        "\n",
        "#BiLSTM imports:\n",
        "from sklearn.model_selection import train_test_split\n",
        "from keras.layers import Dense, LSTM, Dropout, Bidirectional\n",
        "\n",
        "# Modules for data manipulation\n",
        "import numpy as np\n",
        "import pandas as pd\n",
        "import re\n",
        "import csv\n",
        "\n",
        "import urllib\n",
        "import shutil\n",
        "import sys\n",
        "from sklearn.model_selection import train_test_split\n",
        "\n",
        "\n",
        "# Modules for visualization\n",
        "import matplotlib.pyplot as plt\n",
        "import seaborn as sb\n",
        "from sklearn.metrics import confusion_matrix, classification_report\n",
        "\n",
        "\n",
        "import tensorflow as tf\n",
        "\n"
      ],
      "execution_count": 8,
      "outputs": []
    },
    {
      "cell_type": "code",
      "metadata": {
        "colab": {
          "base_uri": "https://localhost:8080/"
        },
        "id": "ZAvi1KU8GqQY",
        "outputId": "9b0c748e-d4f1-4b02-ccc1-620033a3af90"
      },
      "source": [
        "# Needed for the initilisation of the coosto word embedding model\n",
        "from google.colab import drive\n",
        "drive.mount('/content/drive')"
      ],
      "execution_count": 6,
      "outputs": [
        {
          "output_type": "stream",
          "text": [
            "Mounted at /content/drive\n"
          ],
          "name": "stdout"
        }
      ]
    },
    {
      "cell_type": "code",
      "metadata": {
        "colab": {
          "resources": {
            "http://localhost:8080/nbextensions/google.colab/files.js": {
              "data": "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",
              "ok": true,
              "headers": [
                [
                  "content-type",
                  "application/javascript"
                ]
              ],
              "status": 200,
              "status_text": ""
            }
          },
          "base_uri": "https://localhost:8080/",
          "height": 366
        },
        "id": "X1Tlm0SXsB79",
        "outputId": "521ea3fd-314e-408f-b578-6e4cf6ff014e"
      },
      "source": [
        "# upload data\n",
        "from google.colab import files\n",
        "train_upload = files.upload()\n",
        "dev_upload = files.upload()\n",
        "test_upload= files.upload()\n",
        "print(test_upload)\n",
        "print(train_upload)"
      ],
      "execution_count": 5,
      "outputs": [
        {
          "output_type": "display_data",
          "data": {
            "text/html": [
              "\n",
              "     <input type=\"file\" id=\"files-9479c5db-1f93-4c49-bdae-f6d206de156f\" name=\"files[]\" multiple disabled\n",
              "        style=\"border:none\" />\n",
              "     <output id=\"result-9479c5db-1f93-4c49-bdae-f6d206de156f\">\n",
              "      Upload widget is only available when the cell has been executed in the\n",
              "      current browser session. Please rerun this cell to enable.\n",
              "      </output>\n",
              "      <script src=\"/nbextensions/google.colab/files.js\"></script> "
            ],
            "text/plain": [
              "<IPython.core.display.HTML object>"
            ]
          },
          "metadata": {
            "tags": []
          }
        },
        {
          "output_type": "stream",
          "text": [
            "Saving train_final.csv to train_final.csv\n"
          ],
          "name": "stdout"
        },
        {
          "output_type": "display_data",
          "data": {
            "text/html": [
              "\n",
              "     <input type=\"file\" id=\"files-f1c1444b-bbdb-42ce-9c7c-0f8a9417cf07\" name=\"files[]\" multiple disabled\n",
              "        style=\"border:none\" />\n",
              "     <output id=\"result-f1c1444b-bbdb-42ce-9c7c-0f8a9417cf07\">\n",
              "      Upload widget is only available when the cell has been executed in the\n",
              "      current browser session. Please rerun this cell to enable.\n",
              "      </output>\n",
              "      <script src=\"/nbextensions/google.colab/files.js\"></script> "
            ],
            "text/plain": [
              "<IPython.core.display.HTML object>"
            ]
          },
          "metadata": {
            "tags": []
          }
        },
        {
          "output_type": "stream",
          "text": [
            "Saving dev_final.csv to dev_final.csv\n"
          ],
          "name": "stdout"
        },
        {
          "output_type": "display_data",
          "data": {
            "text/html": [
              "\n",
              "     <input type=\"file\" id=\"files-57292180-c5ec-45de-bf6c-5bffab8e00c1\" name=\"files[]\" multiple disabled\n",
              "        style=\"border:none\" />\n",
              "     <output id=\"result-57292180-c5ec-45de-bf6c-5bffab8e00c1\">\n",
              "      Upload widget is only available when the cell has been executed in the\n",
              "      current browser session. Please rerun this cell to enable.\n",
              "      </output>\n",
              "      <script src=\"/nbextensions/google.colab/files.js\"></script> "
            ],
            "text/plain": [
              "<IPython.core.display.HTML object>"
            ]
          },
          "metadata": {
            "tags": []
          }
        },
        {
          "output_type": "stream",
          "text": [
            "Saving test_final.csv to test_final.csv\n"
          ],
          "name": "stdout"
        },
        {
          "output_type": "stream",
          "text": [
            "IOPub data rate exceeded.\n",
            "The notebook server will temporarily stop sending output\n",
            "to the client in order to avoid crashing it.\n",
            "To change this limit, set the config variable\n",
            "`--NotebookApp.iopub_data_rate_limit`.\n",
            "\n",
            "Current values:\n",
            "NotebookApp.iopub_data_rate_limit=1000000.0 (bytes/sec)\n",
            "NotebookApp.rate_limit_window=3.0 (secs)\n",
            "\n"
          ],
          "name": "stderr"
        }
      ]
    },
    {
      "cell_type": "code",
      "metadata": {
        "id": "SVm_CSIPrU1b"
      },
      "source": [
        "SMALL_SIZE = 12\n",
        "MEDIUM_SIZE = 14\n",
        "BIG_SIZE = 16\n",
        "LARGE_SIZE = 20\n",
        "\n",
        "params = {\n",
        "    'figure.figsize': (16, 8),\n",
        "    'font.size': SMALL_SIZE,\n",
        "    'xtick.labelsize': MEDIUM_SIZE,\n",
        "    'ytick.labelsize': MEDIUM_SIZE,\n",
        "    'legend.fontsize': BIG_SIZE,\n",
        "    'figure.titlesize': LARGE_SIZE,\n",
        "    'axes.titlesize': MEDIUM_SIZE,\n",
        "    'axes.labelsize': BIG_SIZE\n",
        "}\n",
        "plt.rcParams.update(params)"
      ],
      "execution_count": 9,
      "outputs": []
    },
    {
      "cell_type": "markdown",
      "metadata": {
        "id": "omxJRaSYrZXV"
      },
      "source": [
        "Import Data"
      ]
    },
    {
      "cell_type": "code",
      "metadata": {
        "colab": {
          "base_uri": "https://localhost:8080/"
        },
        "id": "37hNoyBPRDzD",
        "outputId": "647211ba-16ba-4254-813b-351bd997c554"
      },
      "source": [
        "def preprocess(line):\n",
        "    # first lowercase:\n",
        "    line = line.lower()\n",
        "\n",
        "    #remove mentions:\n",
        "    line = re.sub(r'(@\\w+)','MENTION', line)\n",
        "\n",
        "    #remove url's:\n",
        "    line = re.sub(r'(https\\S+)','URL',line)\n",
        "\n",
        "    #remove all numbers\n",
        "    line  = re.sub(r'[0-9]+', 'NUMBER', line)\n",
        "\n",
        "    #remove all hashtags\n",
        "    line  = re.sub(r'#', '', line)\n",
        "\n",
        "\n",
        "    return line\n",
        "\n",
        "input = '@arieboomsma Ik heb je 12 stukken gelezen #Indrukwekkend maar https://t.co/NQMxvgXXW6 vertel @arieboomsma dat ook even tegen de nabestaanden in #Parijs en tegen de andere slachtoffers https://t.co/NQMxvgXXW6'\n",
        "print(preprocess(input))"
      ],
      "execution_count": 10,
      "outputs": [
        {
          "output_type": "stream",
          "text": [
            "MENTION ik heb je NUMBER stukken gelezen indrukwekkend maar URL vertel MENTION dat ook even tegen de nabestaanden in parijs en tegen de andere slachtoffers URL\n"
          ],
          "name": "stdout"
        }
      ]
    },
    {
      "cell_type": "code",
      "metadata": {
        "id": "eMLfL9OruEev"
      },
      "source": [
        "# Function to get the data with the goal, being either 'target' or 'explicitness'\n",
        "\n",
        "def get_data(file_name):\n",
        "    \"\"\"\n",
        "    file_name string: File name of the file to read \n",
        "\n",
        "    returns df_full: a pandas dataframe with explicitness, text and target\n",
        "    \"\"\"\n",
        "    offensiveness = ['NOT', 'EXPLICIT', 'IMPLICIT']\n",
        "    full_data = []\n",
        "    with open(file_name, encoding='utf-8') as f:\n",
        "        reader = csv.DictReader(f, delimiter='\\t')\n",
        "        for index, line in enumerate(reader):\n",
        "            text = preprocess(line['text'])\n",
        "            full_data.append([text, line['explicitness'], line[\"target\"]])\n",
        "\n",
        "    df_full = pd.DataFrame(full_data)    \n",
        "    df_full.columns = [\"text\", \"explicitness\", \"target\"]\n",
        "    df_full = df_full[df_full.explicitness != '']\n",
        "    df_full = df_full.dropna(subset=['explicitness'])\n",
        "    print(\"  Total: {} tweets read\".format(len(df_full)))\n",
        "    return df_full\n"
      ],
      "execution_count": 13,
      "outputs": []
    },
    {
      "cell_type": "code",
      "metadata": {
        "colab": {
          "base_uri": "https://localhost:8080/"
        },
        "id": "gVbNPtDYgend",
        "outputId": "1daddd86-cf47-4061-96a8-54cee0aeee41"
      },
      "source": [
        "print(\"\\n##### Reading training data:\")\n",
        "train_exp = get_data('train_final.csv')\n",
        "print(\"\\n##### Reading development data:\")\n",
        "dev_exp = get_data('dev_final.csv')\n",
        "print(\"\\n##### Reading test data:\")\n",
        "test_exp = get_data('test_final.csv')\n",
        "\n",
        "df_full_exp = [train_exp, test_exp]\n",
        "train_target = train_exp[train_exp.explicitness != 'NOT']\n",
        "test_target = test_exp[test_exp.explicitness != 'NOT']"
      ],
      "execution_count": 14,
      "outputs": [
        {
          "output_type": "stream",
          "text": [
            "\n",
            "##### Reading training data:\n",
            "  Total: 7764 tweets read\n",
            "\n",
            "##### Reading development data:\n",
            "  Total: 547 tweets read\n",
            "\n",
            "##### Reading test data:\n",
            "  Total: 3108 tweets read\n"
          ],
          "name": "stdout"
        }
      ]
    },
    {
      "cell_type": "markdown",
      "metadata": {
        "id": "wwCAjdtgld3Y"
      },
      "source": [
        "# Visualisation of the data"
      ]
    },
    {
      "cell_type": "code",
      "metadata": {
        "colab": {
          "base_uri": "https://localhost:8080/",
          "height": 491
        },
        "id": "vgREZLcu3NMN",
        "outputId": "2be184af-ebed-4525-bfa9-ba0eb8a7bd38"
      },
      "source": [
        "#plot of explicitness\n",
        "plt.hist(train_exp[train_exp.explicitness == \"EXPLICIT\"].explicitness,\n",
        "         bins=2, color='green', label='Explicit')\n",
        "plt.hist(train_exp[train_exp.explicitness == \"IMPLICIT\"].explicitness,\n",
        "         bins=2, color='blue', label='Implicit')\n",
        "plt.hist(train_exp[train_exp.explicitness == \"NOT\"].explicitness,\n",
        "         bins=2, color='red', label='Not')\n",
        "plt.title('Classes distribution of explicitness in the train data')\n",
        "plt.xticks([])\n",
        "plt.xlim(-0.5, 3)\n",
        "plt.legend()\n",
        "plt.show()"
      ],
      "execution_count": 15,
      "outputs": [
        {
          "output_type": "display_data",
          "data": {
            "image/png": "[encoded data removed]",
            "text/plain": [
              "<Figure size 1152x576 with 1 Axes>"
            ]
          },
          "metadata": {
            "tags": [],
            "needs_background": "light"
          }
        }
      ]
    },
    {
      "cell_type": "code",
      "metadata": {
        "colab": {
          "base_uri": "https://localhost:8080/",
          "height": 491
        },
        "id": "tOyUyRFilkuF",
        "outputId": "c7b9b8c7-0e12-4a2b-d440-8ad85fc1ee3e"
      },
      "source": [
        "#plot of target\n",
        "plt.hist(train_target[train_target.target == \"OTHER\"].target,\n",
        "         bins=2, color='green', label='other')\n",
        "plt.hist(train_target[train_target.target == \"GROUP\"].target,\n",
        "         bins=2, color='blue', label='group')\n",
        "plt.hist(train_target[train_target.target == \"NOT\"].target,\n",
        "         bins=2, color='red', label='Not')\n",
        "plt.hist(train_target[train_target.target == \"INDIVIDUAL\"].target,\n",
        "         bins=2, color='yellow', label='Individual')\n",
        "plt.title('Classes distribution of target in the train data')\n",
        "plt.xticks([])\n",
        "plt.xlim(-0.5, 4)\n",
        "plt.legend()\n",
        "plt.show()"
      ],
      "execution_count": 16,
      "outputs": [
        {
          "output_type": "display_data",
          "data": {
            "image/png": "[encoded data removed]",
            "text/plain": [
              "<Figure size 1152x576 with 1 Axes>"
            ]
          },
          "metadata": {
            "tags": [],
            "needs_background": "light"
          }
        }
      ]
    },
    {
      "cell_type": "code",
      "metadata": {
        "colab": {
          "base_uri": "https://localhost:8080/"
        },
        "id": "TnNWJ4ER2Va_",
        "outputId": "86252aba-cddd-42c9-daf2-aa7e32601308"
      },
      "source": [
        "all_reviews = np.array([], dtype=str)\n",
        "df_full_exp = pd.concat(df_full_exp)\n",
        "all_reviews = np.concatenate((all_reviews, df_full_exp[\"text\"]), axis=0)\n",
        "print('Total number of reviews:', len(all_reviews))\n",
        "print(\"Percentage of NOT in the dataset:\", 100/len(df_full_exp)*len(df_full_exp[df_full_exp.explicitness == \"NOT\"]))"
      ],
      "execution_count": 17,
      "outputs": [
        {
          "output_type": "stream",
          "text": [
            "Total number of reviews: 10872\n",
            "Percentage of NOT in the dataset: 66.66666666666666\n"
          ],
          "name": "stdout"
        }
      ]
    },
    {
      "cell_type": "markdown",
      "metadata": {
        "id": "24liZUh-wA4z"
      },
      "source": [
        "# Initiate Model and word Embeddings"
      ]
    },
    {
      "cell_type": "code",
      "metadata": {
        "id": "a05M3Zi94aQV"
      },
      "source": [
        "# Word embeddings:\n",
        "\n",
        "def demoModel(inputFile):\n",
        "    # Let's not presume gensim installation until needed\n",
        "    import gensim\n",
        "    sys.stderr.write(\"Loading model...\\n\")\n",
        "    model = gensim.models.KeyedVectors.load_word2vec_format(inputFile, binary=True)\n",
        "    sys.stderr.write(\"Model loaded\\n\")\n",
        "\n",
        "    return model\n",
        "\n",
        "def downloadModel():\n",
        "    \"\"\"\n",
        "    Download the word embeddingsmodel\n",
        "    \"\"\"\n",
        "    modelUrl = \"https://github.com/coosto/dutch-word-embeddings/releases/download/v1.0/model.bin\"\n",
        "\n",
        "    # Request model data\n",
        "    try:\n",
        "        request = urllib.request.Request(modelUrl)\n",
        "        with urllib.request.urlopen(request) as response, open(\"/content/drive/MyDrive/Scriptie/code/Coosto\", 'wb') as fp:\n",
        "            shutil.copyfileobj(response, fp)\n",
        "            sys.stderr.write(\"Model saved: {}\\n\".format(fp.name))\n",
        "        return \"/content/drive/MyDrive/Scriptie/code/Coosto\"\n",
        "    except urllib.error.HTTPError as error:\n",
        "        sys.stderr.write(\"Error fetching model from github.com - {}\\n\".format(error))\n",
        "        sys.stderr.write(\"{}\".format(error.read()))\n",
        "        exit(1)\n",
        "\n"
      ],
      "execution_count": 18,
      "outputs": []
    },
    {
      "cell_type": "code",
      "metadata": {
        "colab": {
          "base_uri": "https://localhost:8080/"
        },
        "id": "8gUras0V4hrV",
        "outputId": "9c82df74-d30a-4eae-dfae-c56183702ccf"
      },
      "source": [
        "model = downloadModel() # Download the model and test it\n",
        "coosto_model = demoModel(model)\n",
        "coosto_model.most_similar(\"pilsje\")"
      ],
      "execution_count": 19,
      "outputs": [
        {
          "output_type": "stream",
          "text": [
            "Model saved: /content/drive/MyDrive/Scriptie/code/Coosto\n",
            "Loading model...\n",
            "Model loaded\n"
          ],
          "name": "stderr"
        },
        {
          "output_type": "execute_result",
          "data": {
            "text/plain": [
              "[('biertje', 0.9145998954772949),\n",
              " ('glas_bier', 0.7679998874664307),\n",
              " ('wijntje', 0.7564073801040649),\n",
              " ('paar_biertjes', 0.7425606846809387),\n",
              " ('pilsjes', 0.7367861270904541),\n",
              " ('biertjes', 0.7344973087310791),\n",
              " ('colaatje', 0.7323644161224365),\n",
              " ('pilske', 0.724961519241333),\n",
              " ('borreltje', 0.7243227958679199),\n",
              " ('pils', 0.7234804630279541)]"
            ]
          },
          "metadata": {
            "tags": []
          },
          "execution_count": 19
        }
      ]
    },
    {
      "cell_type": "markdown",
      "metadata": {
        "id": "iD8vuM6IwLtN"
      },
      "source": [
        "\n",
        "# Build model"
      ]
    },
    {
      "cell_type": "code",
      "metadata": {
        "id": "VKiYbovyVIe-"
      },
      "source": [
        "#Initialize the text versions of the data \n",
        "import numpy\n",
        "x_train_text = train_exp[\"text\"] # text of tweets\n",
        "x_test_text = test_exp[\"text\"] # text of tweets\n",
        "y_test_text = test_exp[\"explicitness\"] # Textual version of classifications (NOT, EXPLICIT, IMPLICIT)\n",
        "y_train_text = train_exp[\"explicitness\"] # Textual version of classifications (NOT, EXPLICIT, IMPLICIT)\n"
      ],
      "execution_count": 26,
      "outputs": []
    },
    {
      "cell_type": "code",
      "metadata": {
        "id": "M9dz2heGRKng"
      },
      "source": [
        "def vectorize_data(data, vocab):\n",
        "    \"\"\"\n",
        "    Returns a vectorized version of the data input with the word embeddings model called vocab\n",
        "    \"\"\"\n",
        "    keys = list(vocab.keys())\n",
        "    filter_unknown = lambda word: vocab.get(word, None) is not None\n",
        "    encode = lambda review: list(map(keys.index, filter(filter_unknown, review)))\n",
        "    vectorized = list(map(encode, data))\n",
        "    return vectorized"
      ],
      "execution_count": 30,
      "outputs": []
    },
    {
      "cell_type": "code",
      "metadata": {
        "colab": {
          "base_uri": "https://localhost:8080/"
        },
        "id": "F5guSRH1-1Uf",
        "outputId": "2c9dda06-15e2-452b-ed72-b4535fa8c423"
      },
      "source": [
        "input_length = coosto_model.vector_size # define the input length\n",
        "\n",
        "#Vectorize and pad the sentences\n",
        "print('Vectorize and pad sentences...', end='\\r')\n",
        "print(x_train_text[0])\n",
        "x_train = pad_sequences(\n",
        "    sequences=vectorize_data(x_train_text, vocab=coosto_model.wv.vocab),\n",
        "    maxlen=input_length,\n",
        "    padding='post') # Use X_pad to fillup the data\n",
        "x_test = pad_sequences(\n",
        "    sequences=vectorize_data(x_test_text, vocab=coosto_model.wv.vocab),\n",
        "    maxlen=input_length,\n",
        "    padding='post') # Use X_pad to fillup the data\n",
        "print(x_train[0])"
      ],
      "execution_count": 31,
      "outputs": [
        {
          "output_type": "stream",
          "text": [
            "Vectorize and pad sentences...\rMENTION MENTION iets anders, wanneer word asscher voor de rechter gesleept voor het willens en wetens aan de afgrond brengen van duizende mensen door de kinderopvangtoeslagenaffaire???\n"
          ],
          "name": "stdout"
        },
        {
          "output_type": "stream",
          "text": [
            "/usr/local/lib/python3.7/dist-packages/ipykernel_launcher.py:6: DeprecationWarning: Call to deprecated `wv` (Attribute will be removed in 4.0.0, use self instead).\n",
            "  \n",
            "/usr/local/lib/python3.7/dist-packages/ipykernel_launcher.py:10: DeprecationWarning: Call to deprecated `wv` (Attribute will be removed in 4.0.0, use self instead).\n",
            "  # Remove the CWD from sys.path while we load stuff.\n"
          ],
          "name": "stderr"
        },
        {
          "output_type": "stream",
          "text": [
            "[1252 1039  161  964  393  385  579 1039 2217  964 1806  393  385  385\n",
            " 1039 1039 2217 1806  783 2217  579  393  964  964 1247 1688 1039 2217\n",
            "  681  783  783 2217  579 1039 2217 1039 1247 1688  161 1039 2217 1977\n",
            " 1039  964 2228 1039 1039  809  161  681  783  783 2217 1688 1039  161\n",
            " 1806 1252 2228 2228 1039  385  964 1039  385 1806 1039  161 1039  385\n",
            "  964  393  393  385  579 1039  393 2941 1977 2217  783  385  579  807\n",
            " 2217 1039  385 1977 1039  385  681  393  385  579  105 1252 3113 1039\n",
            "  385  579 1039  446 1039  385  964 1039  385  579  783  783 2217  579\n",
            " 1039  884 1252  385  579 1039 2217  783  809  681  393  385 1977  161\n",
            "  783 1039  964 2228  393 1977 1039  385  393 2941 2941  393 1252 2217\n",
            " 1039    0    0    0    0    0    0    0    0    0    0    0    0    0\n",
            "    0    0    0    0    0    0    0    0    0    0    0    0    0    0\n",
            "    0    0    0    0    0    0    0    0    0    0    0    0    0    0\n",
            "    0    0    0    0    0    0    0    0    0    0    0    0    0    0\n",
            "    0    0    0    0    0    0    0    0    0    0    0    0    0    0\n",
            "    0    0    0    0    0    0    0    0    0    0    0    0    0    0\n",
            "    0    0    0    0    0    0    0    0    0    0    0    0    0    0\n",
            "    0    0    0    0    0    0    0    0    0    0    0    0    0    0\n",
            "    0    0    0    0    0    0    0    0    0    0    0    0    0    0\n",
            "    0    0    0    0    0    0    0    0    0    0    0    0    0    0\n",
            "    0    0    0    0    0    0    0    0    0    0    0    0    0    0\n",
            "    0    0    0    0    0    0]\n"
          ],
          "name": "stdout"
        }
      ]
    },
    {
      "cell_type": "code",
      "metadata": {
        "colab": {
          "base_uri": "https://localhost:8080/"
        },
        "id": "R_jQuChuemq2",
        "outputId": "74aacbaa-9b80-40c1-9260-e07cbeb4ce4e"
      },
      "source": [
        "\n",
        "# Factorize the dataset to 0, 1 & 2 because that is what the models need\n",
        "y_test = []\n",
        "y_train = []\n",
        "offensiveness = ['NOT', 'EXPLICIT', 'IMPLICIT']\n",
        "for row in y_test_text:\n",
        "    y_test.append(offensiveness.index(row))\n",
        "    \n",
        "for row in y_train_text:\n",
        "    y_train.append(offensiveness.index(row))\n",
        "\n",
        "\n",
        "y_test = numpy.array(y_test)\n",
        "y_train = numpy.array(y_train)\n",
        "\n",
        "print(y_train[:10])\n",
        "print(y_train_text[:10]) # So 0 is NOT, 1 is explicit, 2 is implicit"
      ],
      "execution_count": 33,
      "outputs": [
        {
          "output_type": "stream",
          "text": [
            "[2 1 2 2 2 1 2 2 2 2]\n",
            "0    IMPLICIT\n",
            "1    EXPLICIT\n",
            "2    IMPLICIT\n",
            "3    IMPLICIT\n",
            "4    IMPLICIT\n",
            "5    EXPLICIT\n",
            "6    IMPLICIT\n",
            "7    IMPLICIT\n",
            "8    IMPLICIT\n",
            "9    IMPLICIT\n",
            "Name: explicitness, dtype: object\n"
          ],
          "name": "stdout"
        }
      ]
    },
    {
      "cell_type": "code",
      "metadata": {
        "id": "REMZEp_6toUW"
      },
      "source": [
        "def build_bilstm_model(embedding_matrix, input_length):\n",
        "    \"\"\"\n",
        "    Returns model: a BiLSTM model based on the word embeddings\n",
        "    \"\"\"\n",
        "    model = Sequential()\n",
        "    model.add(Embedding(\n",
        "        input_dim = embedding_matrix.shape[0],\n",
        "        output_dim = embedding_matrix.shape[1], \n",
        "        input_length = input_length,\n",
        "        weights = [embedding_matrix],\n",
        "        trainable=False))\n",
        "    model.add(Bidirectional(LSTM(128, recurrent_dropout=0.1)))\n",
        "    model.add(Dropout(0.3))\n",
        "    model.add(Dense(3, activation='softmax'))\n",
        "    model.summary()\n",
        "    return model\n",
        "\n",
        "def build_cnn_model(embedding_matrix, input_length):\n",
        "    \"\"\"\n",
        "    Returns model: a CNN model based on the word embeddings\n",
        "    \"\"\"\n",
        "    model = Sequential()\n",
        "    model.add(Embedding(\n",
        "        input_dim = embedding_matrix.shape[0],\n",
        "        output_dim = embedding_matrix.shape[1], \n",
        "        input_length = input_length,\n",
        "        weights = [embedding_matrix],\n",
        "        trainable=False))\n",
        "    model.add(Conv1D(32, 3, padding='same', activation='relu'))\n",
        "    model.add(MaxPooling1D())\n",
        "    model.add(Flatten())\n",
        "    model.add(Dense(3, activation='softmax'))\n",
        "    model.summary()\n",
        "    return model"
      ],
      "execution_count": 35,
      "outputs": []
    },
    {
      "cell_type": "code",
      "metadata": {
        "colab": {
          "base_uri": "https://localhost:8080/"
        },
        "id": "-pnslxs9bhUY",
        "outputId": "ae0646e5-286f-4dfc-da35-8a299794b8b9"
      },
      "source": [
        "input_length = coosto_model.vector_size\n",
        "# build the models\n",
        "cnn_model = build_cnn_model(\n",
        "    embedding_matrix=coosto_model.wv.vectors,\n",
        "    input_length=input_length)\n",
        "\n",
        "bilstm_model = build_bilstm_model(\n",
        "    embedding_matrix=coosto_model.wv.vectors,\n",
        "    input_length=input_length)"
      ],
      "execution_count": 36,
      "outputs": [
        {
          "output_type": "stream",
          "text": [
            "/usr/local/lib/python3.7/dist-packages/ipykernel_launcher.py:4: DeprecationWarning: Call to deprecated `wv` (Attribute will be removed in 4.0.0, use self instead).\n",
            "  after removing the cwd from sys.path.\n"
          ],
          "name": "stderr"
        },
        {
          "output_type": "stream",
          "text": [
            "Model: \"sequential\"\n",
            "_________________________________________________________________\n",
            "Layer (type)                 Output Shape              Param #   \n",
            "=================================================================\n",
            "embedding (Embedding)        (None, 300, 300)          75143700  \n",
            "_________________________________________________________________\n",
            "conv1d (Conv1D)              (None, 300, 32)           28832     \n",
            "_________________________________________________________________\n",
            "max_pooling1d (MaxPooling1D) (None, 150, 32)           0         \n",
            "_________________________________________________________________\n",
            "flatten (Flatten)            (None, 4800)              0         \n",
            "_________________________________________________________________\n",
            "dense (Dense)                (None, 3)                 14403     \n",
            "=================================================================\n",
            "Total params: 75,186,935\n",
            "Trainable params: 43,235\n",
            "Non-trainable params: 75,143,700\n",
            "_________________________________________________________________\n"
          ],
          "name": "stdout"
        },
        {
          "output_type": "stream",
          "text": [
            "/usr/local/lib/python3.7/dist-packages/ipykernel_launcher.py:8: DeprecationWarning: Call to deprecated `wv` (Attribute will be removed in 4.0.0, use self instead).\n",
            "  \n"
          ],
          "name": "stderr"
        },
        {
          "output_type": "stream",
          "text": [
            "WARNING:tensorflow:Layer lstm will not use cuDNN kernels since it doesn't meet the criteria. It will use a generic GPU kernel as fallback when running on GPU.\n",
            "WARNING:tensorflow:Layer lstm will not use cuDNN kernels since it doesn't meet the criteria. It will use a generic GPU kernel as fallback when running on GPU.\n",
            "WARNING:tensorflow:Layer lstm will not use cuDNN kernels since it doesn't meet the criteria. It will use a generic GPU kernel as fallback when running on GPU.\n",
            "Model: \"sequential_1\"\n",
            "_________________________________________________________________\n",
            "Layer (type)                 Output Shape              Param #   \n",
            "=================================================================\n",
            "embedding_1 (Embedding)      (None, 300, 300)          75143700  \n",
            "_________________________________________________________________\n",
            "bidirectional (Bidirectional (None, 256)               439296    \n",
            "_________________________________________________________________\n",
            "dropout (Dropout)            (None, 256)               0         \n",
            "_________________________________________________________________\n",
            "dense_1 (Dense)              (None, 3)                 771       \n",
            "=================================================================\n",
            "Total params: 75,583,767\n",
            "Trainable params: 440,067\n",
            "Non-trainable params: 75,143,700\n",
            "_________________________________________________________________\n"
          ],
          "name": "stdout"
        }
      ]
    },
    {
      "cell_type": "markdown",
      "metadata": {
        "id": "LAP4pGf_wOOr"
      },
      "source": [
        "# Fit model"
      ]
    },
    {
      "cell_type": "code",
      "metadata": {
        "colab": {
          "base_uri": "https://localhost:8080/"
        },
        "id": "qJdKjJqH0_vn",
        "outputId": "169e773d-f161-4639-ded8-59322070b633"
      },
      "source": [
        "# Fit the BiLSTM model using the GPU from colab\n",
        "with tf.device('/device:GPU:0'):\n",
        "    bilstm_model.compile(\n",
        "        loss=\"sparse_categorical_crossentropy\",\n",
        "        optimizer='adam',\n",
        "        metrics=['accuracy'])\n",
        "\n",
        "    bilstm_history = bilstm_model.fit(\n",
        "        x=x_train,\n",
        "        y=y_train,\n",
        "        validation_data=(x_test, y_test),\n",
        "        batch_size=100,\n",
        "        epochs=5)"
      ],
      "execution_count": 37,
      "outputs": [
        {
          "output_type": "stream",
          "text": [
            "Epoch 1/5\n",
            "78/78 [==============================] - 146s 2s/step - loss: 0.8924 - accuracy: 0.6420 - val_loss: 0.8570 - val_accuracy: 0.6667\n",
            "Epoch 2/5\n",
            "78/78 [==============================] - 118s 2s/step - loss: 0.8776 - accuracy: 0.6523 - val_loss: 0.8678 - val_accuracy: 0.6667\n",
            "Epoch 3/5\n",
            "78/78 [==============================] - 118s 2s/step - loss: 0.8549 - accuracy: 0.6635 - val_loss: 0.8501 - val_accuracy: 0.6667\n",
            "Epoch 4/5\n",
            "78/78 [==============================] - 117s 2s/step - loss: 0.8389 - accuracy: 0.6682 - val_loss: 0.8407 - val_accuracy: 0.6667\n",
            "Epoch 5/5\n",
            "78/78 [==============================] - 117s 1s/step - loss: 0.8351 - accuracy: 0.6609 - val_loss: 0.8324 - val_accuracy: 0.6663\n"
          ],
          "name": "stdout"
        }
      ]
    },
    {
      "cell_type": "code",
      "metadata": {
        "colab": {
          "base_uri": "https://localhost:8080/"
        },
        "id": "ZwOypUSbbwpe",
        "outputId": "607b87b4-b04a-494e-ba38-40c0a60c58b0"
      },
      "source": [
        "# Fit the CNN model using the GPU from colab\n",
        "with tf.device('/device:GPU:0'):\n",
        "    cnn_model.compile(loss='sparse_categorical_crossentropy',\n",
        "                optimizer='adam', \n",
        "                metrics=['accuracy'])\n",
        "    cnn_model.summary()\n",
        "\n",
        "    # Fitting the data onto model\n",
        "    history = cnn_model.fit(\n",
        "        x=x_train,\n",
        "        y=y_train,\n",
        "        validation_data=(x_test, y_test),\n",
        "        batch_size=100,\n",
        "        epochs=5)\n",
        "\n"
      ],
      "execution_count": 38,
      "outputs": [
        {
          "output_type": "stream",
          "text": [
            "Model: \"sequential\"\n",
            "_________________________________________________________________\n",
            "Layer (type)                 Output Shape              Param #   \n",
            "=================================================================\n",
            "embedding (Embedding)        (None, 300, 300)          75143700  \n",
            "_________________________________________________________________\n",
            "conv1d (Conv1D)              (None, 300, 32)           28832     \n",
            "_________________________________________________________________\n",
            "max_pooling1d (MaxPooling1D) (None, 150, 32)           0         \n",
            "_________________________________________________________________\n",
            "flatten (Flatten)            (None, 4800)              0         \n",
            "_________________________________________________________________\n",
            "dense (Dense)                (None, 3)                 14403     \n",
            "=================================================================\n",
            "Total params: 75,186,935\n",
            "Trainable params: 43,235\n",
            "Non-trainable params: 75,143,700\n",
            "_________________________________________________________________\n",
            "Epoch 1/5\n",
            "78/78 [==============================] - 30s 18ms/step - loss: 0.9370 - accuracy: 0.6316 - val_loss: 0.8659 - val_accuracy: 0.6663\n",
            "Epoch 2/5\n",
            "78/78 [==============================] - 1s 15ms/step - loss: 0.8113 - accuracy: 0.6788 - val_loss: 0.8442 - val_accuracy: 0.6515\n",
            "Epoch 3/5\n",
            "78/78 [==============================] - 1s 15ms/step - loss: 0.7547 - accuracy: 0.6888 - val_loss: 0.8332 - val_accuracy: 0.6602\n",
            "Epoch 4/5\n",
            "78/78 [==============================] - 1s 15ms/step - loss: 0.6862 - accuracy: 0.7270 - val_loss: 0.8388 - val_accuracy: 0.6506\n",
            "Epoch 5/5\n",
            "78/78 [==============================] - 1s 15ms/step - loss: 0.6452 - accuracy: 0.7417 - val_loss: 0.8827 - val_accuracy: 0.6441\n"
          ],
          "name": "stdout"
        }
      ]
    },
    {
      "cell_type": "markdown",
      "metadata": {
        "id": "nMhYWdh35sWR"
      },
      "source": [
        "# Evaluation"
      ]
    },
    {
      "cell_type": "code",
      "metadata": {
        "colab": {
          "base_uri": "https://localhost:8080/",
          "height": 558
        },
        "id": "YIOs4kCCVLcp",
        "outputId": "91fc97ed-9258-4ae7-956a-b6a3321350b9"
      },
      "source": [
        "# print the classification report and the architecture of our BiLSTM model\n",
        "pred_bilstm = bilstm_model.predict(x_test)\n",
        "rounded_pred = []\n",
        "for prediction in pred_bilstm:\n",
        "    rounded_pred.append(prediction.argmax())\n",
        "print(classification_report(list(y_test), rounded_pred))\n",
        "# tf.keras.utils.plot_model(\n",
        "#     bilstm_model, to_file='bilstm_model.png'\n",
        "# )"
      ],
      "execution_count": 25,
      "outputs": [
        {
          "output_type": "stream",
          "text": [
            "              precision    recall  f1-score   support\n",
            "\n",
            "           0       0.68      0.97      0.80      2072\n",
            "           1       0.31      0.06      0.10       702\n",
            "           2       0.00      0.00      0.00       334\n",
            "\n",
            "    accuracy                           0.66      3108\n",
            "   macro avg       0.33      0.34      0.30      3108\n",
            "weighted avg       0.52      0.66      0.55      3108\n",
            "\n"
          ],
          "name": "stdout"
        },
        {
          "output_type": "error",
          "ename": "AssertionError",
          "evalue": "ignored",
          "traceback": [
            "\u001b[0;31m---------------------------------------------------------------------------\u001b[0m",
            "\u001b[0;31mAssertionError\u001b[0m                            Traceback (most recent call last)",
            "\u001b[0;32m<ipython-input-25-100d38a8e089>\u001b[0m in \u001b[0;36m<module>\u001b[0;34m()\u001b[0m\n\u001b[1;32m      5\u001b[0m \u001b[0mprint\u001b[0m\u001b[0;34m(\u001b[0m\u001b[0mclassification_report\u001b[0m\u001b[0;34m(\u001b[0m\u001b[0mlist\u001b[0m\u001b[0;34m(\u001b[0m\u001b[0my_test\u001b[0m\u001b[0;34m)\u001b[0m\u001b[0;34m,\u001b[0m \u001b[0mrounded_pred\u001b[0m\u001b[0;34m)\u001b[0m\u001b[0;34m)\u001b[0m\u001b[0;34m\u001b[0m\u001b[0;34m\u001b[0m\u001b[0m\n\u001b[1;32m      6\u001b[0m tf.keras.utils.plot_model(\n\u001b[0;32m----> 7\u001b[0;31m     \u001b[0mbilstm_model\u001b[0m\u001b[0;34m,\u001b[0m \u001b[0mto_file\u001b[0m\u001b[0;34m=\u001b[0m\u001b[0;34m'bilstm_model.png'\u001b[0m\u001b[0;34m\u001b[0m\u001b[0;34m\u001b[0m\u001b[0m\n\u001b[0m\u001b[1;32m      8\u001b[0m )\n",
            "\u001b[0;32m/usr/local/lib/python3.7/dist-packages/tensorflow/python/keras/utils/vis_utils.py\u001b[0m in \u001b[0;36mplot_model\u001b[0;34m(model, to_file, show_shapes, show_dtype, show_layer_names, rankdir, expand_nested, dpi)\u001b[0m\n\u001b[1;32m    327\u001b[0m       \u001b[0mrankdir\u001b[0m\u001b[0;34m=\u001b[0m\u001b[0mrankdir\u001b[0m\u001b[0;34m,\u001b[0m\u001b[0;34m\u001b[0m\u001b[0;34m\u001b[0m\u001b[0m\n\u001b[1;32m    328\u001b[0m       \u001b[0mexpand_nested\u001b[0m\u001b[0;34m=\u001b[0m\u001b[0mexpand_nested\u001b[0m\u001b[0;34m,\u001b[0m\u001b[0;34m\u001b[0m\u001b[0;34m\u001b[0m\u001b[0m\n\u001b[0;32m--> 329\u001b[0;31m       dpi=dpi)\n\u001b[0m\u001b[1;32m    330\u001b[0m   \u001b[0mto_file\u001b[0m \u001b[0;34m=\u001b[0m \u001b[0mpath_to_string\u001b[0m\u001b[0;34m(\u001b[0m\u001b[0mto_file\u001b[0m\u001b[0;34m)\u001b[0m\u001b[0;34m\u001b[0m\u001b[0;34m\u001b[0m\u001b[0m\n\u001b[1;32m    331\u001b[0m   \u001b[0;32mif\u001b[0m \u001b[0mdot\u001b[0m \u001b[0;32mis\u001b[0m \u001b[0;32mNone\u001b[0m\u001b[0;34m:\u001b[0m\u001b[0;34m\u001b[0m\u001b[0;34m\u001b[0m\u001b[0m\n",
            "\u001b[0;32m/usr/local/lib/python3.7/dist-packages/tensorflow/python/keras/utils/vis_utils.py\u001b[0m in \u001b[0;36mmodel_to_dot\u001b[0;34m(model, show_shapes, show_dtype, show_layer_names, rankdir, expand_nested, dpi, subgraph)\u001b[0m\n\u001b[1;32m    236\u001b[0m           \u001b[0minbound_layer_id\u001b[0m \u001b[0;34m=\u001b[0m \u001b[0mstr\u001b[0m\u001b[0;34m(\u001b[0m\u001b[0mid\u001b[0m\u001b[0;34m(\u001b[0m\u001b[0minbound_layer\u001b[0m\u001b[0;34m)\u001b[0m\u001b[0;34m)\u001b[0m\u001b[0;34m\u001b[0m\u001b[0;34m\u001b[0m\u001b[0m\n\u001b[1;32m    237\u001b[0m           \u001b[0;32mif\u001b[0m \u001b[0;32mnot\u001b[0m \u001b[0mexpand_nested\u001b[0m\u001b[0;34m:\u001b[0m\u001b[0;34m\u001b[0m\u001b[0;34m\u001b[0m\u001b[0m\n\u001b[0;32m--> 238\u001b[0;31m             \u001b[0;32massert\u001b[0m \u001b[0mdot\u001b[0m\u001b[0;34m.\u001b[0m\u001b[0mget_node\u001b[0m\u001b[0;34m(\u001b[0m\u001b[0minbound_layer_id\u001b[0m\u001b[0;34m)\u001b[0m\u001b[0;34m\u001b[0m\u001b[0;34m\u001b[0m\u001b[0m\n\u001b[0m\u001b[1;32m    239\u001b[0m             \u001b[0;32massert\u001b[0m \u001b[0mdot\u001b[0m\u001b[0;34m.\u001b[0m\u001b[0mget_node\u001b[0m\u001b[0;34m(\u001b[0m\u001b[0mlayer_id\u001b[0m\u001b[0;34m)\u001b[0m\u001b[0;34m\u001b[0m\u001b[0;34m\u001b[0m\u001b[0m\n\u001b[1;32m    240\u001b[0m             \u001b[0madd_edge\u001b[0m\u001b[0;34m(\u001b[0m\u001b[0mdot\u001b[0m\u001b[0;34m,\u001b[0m \u001b[0minbound_layer_id\u001b[0m\u001b[0;34m,\u001b[0m \u001b[0mlayer_id\u001b[0m\u001b[0;34m)\u001b[0m\u001b[0;34m\u001b[0m\u001b[0;34m\u001b[0m\u001b[0m\n",
            "\u001b[0;31mAssertionError\u001b[0m: "
          ]
        }
      ]
    },
    {
      "cell_type": "code",
      "metadata": {
        "colab": {
          "base_uri": "https://localhost:8080/",
          "height": 558
        },
        "id": "gNjA3HKlWGeT",
        "outputId": "57ee47e1-ed0e-4d50-c9a0-0fa177095333"
      },
      "source": [
        "# print the classification report and the architecture of our CNN model\n",
        "pred_cnn = cnn_model.predict(x_test)\n",
        "rounded_pred = []\n",
        "for prediction in pred_cnn:\n",
        "    rounded_pred.append(prediction.argmax())\n",
        "print(classification_report(list(y_test), rounded_pred))\n",
        "# tf.keras.utils.plot_model(\n",
        "#     cnn_model, to_file='cnn_model.png'\n",
        "# )"
      ],
      "execution_count": 42,
      "outputs": [
        {
          "output_type": "stream",
          "text": [
            "              precision    recall  f1-score   support\n",
            "\n",
            "           0       0.69      0.92      0.79      2072\n",
            "           1       0.39      0.11      0.17       702\n",
            "           2       0.13      0.06      0.09       334\n",
            "\n",
            "    accuracy                           0.64      3108\n",
            "   macro avg       0.41      0.36      0.35      3108\n",
            "weighted avg       0.56      0.64      0.57      3108\n",
            "\n"
          ],
          "name": "stdout"
        },
        {
          "output_type": "error",
          "ename": "AssertionError",
          "evalue": "ignored",
          "traceback": [
            "\u001b[0;31m---------------------------------------------------------------------------\u001b[0m",
            "\u001b[0;31mAssertionError\u001b[0m                            Traceback (most recent call last)",
            "\u001b[0;32m<ipython-input-42-df2307d5e46d>\u001b[0m in \u001b[0;36m<module>\u001b[0;34m()\u001b[0m\n\u001b[1;32m      6\u001b[0m \u001b[0mprint\u001b[0m\u001b[0;34m(\u001b[0m\u001b[0mclassification_report\u001b[0m\u001b[0;34m(\u001b[0m\u001b[0mlist\u001b[0m\u001b[0;34m(\u001b[0m\u001b[0my_test\u001b[0m\u001b[0;34m)\u001b[0m\u001b[0;34m,\u001b[0m \u001b[0mrounded_pred\u001b[0m\u001b[0;34m)\u001b[0m\u001b[0;34m)\u001b[0m\u001b[0;34m\u001b[0m\u001b[0;34m\u001b[0m\u001b[0m\n\u001b[1;32m      7\u001b[0m tf.keras.utils.plot_model(\n\u001b[0;32m----> 8\u001b[0;31m     \u001b[0mcnn_model\u001b[0m\u001b[0;34m,\u001b[0m \u001b[0mto_file\u001b[0m\u001b[0;34m=\u001b[0m\u001b[0;34m'cnn_model.png'\u001b[0m\u001b[0;34m\u001b[0m\u001b[0;34m\u001b[0m\u001b[0m\n\u001b[0m\u001b[1;32m      9\u001b[0m )\n",
            "\u001b[0;32m/usr/local/lib/python3.7/dist-packages/tensorflow/python/keras/utils/vis_utils.py\u001b[0m in \u001b[0;36mplot_model\u001b[0;34m(model, to_file, show_shapes, show_dtype, show_layer_names, rankdir, expand_nested, dpi)\u001b[0m\n\u001b[1;32m    327\u001b[0m       \u001b[0mrankdir\u001b[0m\u001b[0;34m=\u001b[0m\u001b[0mrankdir\u001b[0m\u001b[0;34m,\u001b[0m\u001b[0;34m\u001b[0m\u001b[0;34m\u001b[0m\u001b[0m\n\u001b[1;32m    328\u001b[0m       \u001b[0mexpand_nested\u001b[0m\u001b[0;34m=\u001b[0m\u001b[0mexpand_nested\u001b[0m\u001b[0;34m,\u001b[0m\u001b[0;34m\u001b[0m\u001b[0;34m\u001b[0m\u001b[0m\n\u001b[0;32m--> 329\u001b[0;31m       dpi=dpi)\n\u001b[0m\u001b[1;32m    330\u001b[0m   \u001b[0mto_file\u001b[0m \u001b[0;34m=\u001b[0m \u001b[0mpath_to_string\u001b[0m\u001b[0;34m(\u001b[0m\u001b[0mto_file\u001b[0m\u001b[0;34m)\u001b[0m\u001b[0;34m\u001b[0m\u001b[0;34m\u001b[0m\u001b[0m\n\u001b[1;32m    331\u001b[0m   \u001b[0;32mif\u001b[0m \u001b[0mdot\u001b[0m \u001b[0;32mis\u001b[0m \u001b[0;32mNone\u001b[0m\u001b[0;34m:\u001b[0m\u001b[0;34m\u001b[0m\u001b[0;34m\u001b[0m\u001b[0m\n",
            "\u001b[0;32m/usr/local/lib/python3.7/dist-packages/tensorflow/python/keras/utils/vis_utils.py\u001b[0m in \u001b[0;36mmodel_to_dot\u001b[0;34m(model, show_shapes, show_dtype, show_layer_names, rankdir, expand_nested, dpi, subgraph)\u001b[0m\n\u001b[1;32m    236\u001b[0m           \u001b[0minbound_layer_id\u001b[0m \u001b[0;34m=\u001b[0m \u001b[0mstr\u001b[0m\u001b[0;34m(\u001b[0m\u001b[0mid\u001b[0m\u001b[0;34m(\u001b[0m\u001b[0minbound_layer\u001b[0m\u001b[0;34m)\u001b[0m\u001b[0;34m)\u001b[0m\u001b[0;34m\u001b[0m\u001b[0;34m\u001b[0m\u001b[0m\n\u001b[1;32m    237\u001b[0m           \u001b[0;32mif\u001b[0m \u001b[0;32mnot\u001b[0m \u001b[0mexpand_nested\u001b[0m\u001b[0;34m:\u001b[0m\u001b[0;34m\u001b[0m\u001b[0;34m\u001b[0m\u001b[0m\n\u001b[0;32m--> 238\u001b[0;31m             \u001b[0;32massert\u001b[0m \u001b[0mdot\u001b[0m\u001b[0;34m.\u001b[0m\u001b[0mget_node\u001b[0m\u001b[0;34m(\u001b[0m\u001b[0minbound_layer_id\u001b[0m\u001b[0;34m)\u001b[0m\u001b[0;34m\u001b[0m\u001b[0;34m\u001b[0m\u001b[0m\n\u001b[0m\u001b[1;32m    239\u001b[0m             \u001b[0;32massert\u001b[0m \u001b[0mdot\u001b[0m\u001b[0;34m.\u001b[0m\u001b[0mget_node\u001b[0m\u001b[0;34m(\u001b[0m\u001b[0mlayer_id\u001b[0m\u001b[0;34m)\u001b[0m\u001b[0;34m\u001b[0m\u001b[0;34m\u001b[0m\u001b[0m\n\u001b[1;32m    240\u001b[0m             \u001b[0madd_edge\u001b[0m\u001b[0;34m(\u001b[0m\u001b[0mdot\u001b[0m\u001b[0;34m,\u001b[0m \u001b[0minbound_layer_id\u001b[0m\u001b[0;34m,\u001b[0m \u001b[0mlayer_id\u001b[0m\u001b[0;34m)\u001b[0m\u001b[0;34m\u001b[0m\u001b[0;34m\u001b[0m\u001b[0m\n",
            "\u001b[0;31mAssertionError\u001b[0m: "
          ]
        }
      ]
    },
    {
      "cell_type": "markdown",
      "metadata": {
        "id": "ekt0C-6zfjeF"
      },
      "source": [
        "# Visualisation"
      ]
    },
    {
      "cell_type": "code",
      "metadata": {
        "id": "ZxRVymMHfit2"
      },
      "source": [
        "def plot_confusion_matrix(y_true, y_pred, ax, class_names, vmax=None,\n",
        "                          normed=True, title='Confusion matrix'):\n",
        "    \"\"\"\n",
        "    Prints the confusion matrix of our results\n",
        "    \"\"\"\n",
        "    matrix = confusion_matrix(y_true,y_pred)\n",
        "    if normed:\n",
        "        matrix = matrix.astype('float') / matrix.sum(axis=1)[:, np.newaxis]\n",
        "    sb.heatmap(matrix, vmax=vmax, annot=True, square=True, ax=ax,\n",
        "               cmap=plt.cm.Blues_r, cbar=False, linecolor='black',\n",
        "               linewidths=1, xticklabels=class_names)\n",
        "    ax.set_title(title, y=1.20, fontsize=16)\n",
        "    #ax.set_ylabel('True labels', fontsize=12)\n",
        "    ax.set_xlabel('Predicted labels', y=1.10, fontsize=12)\n",
        "    ax.set_yticklabels(class_names, rotation=0)"
      ],
      "execution_count": 44,
      "outputs": []
    },
    {
      "cell_type": "code",
      "metadata": {
        "id": "nqsKxQEGfl4V",
        "colab": {
          "base_uri": "https://localhost:8080/"
        },
        "outputId": "21fbef40-84ee-4c97-9e87-c61f1f83dd54"
      },
      "source": [
        "y_train_pred_bilstm = bilstm_model.predict_classes(x_train)\n",
        "y_test_pred_bilstm = bilstm_model.predict_classes(x_test)\n",
        "\n",
        "y_train_pred_cnn = cnn_model.predict_classes(x_train)\n",
        "y_test_pred_cnn = cnn_model.predict_classes(x_test)"
      ],
      "execution_count": 45,
      "outputs": [
        {
          "output_type": "stream",
          "text": [
            "/usr/local/lib/python3.7/dist-packages/keras/engine/sequential.py:450: UserWarning: `model.predict_classes()` is deprecated and will be removed after 2021-01-01. Please use instead:* `np.argmax(model.predict(x), axis=-1)`,   if your model does multi-class classification   (e.g. if it uses a `softmax` last-layer activation).* `(model.predict(x) > 0.5).astype(\"int32\")`,   if your model does binary classification   (e.g. if it uses a `sigmoid` last-layer activation).\n",
            "  warnings.warn('`model.predict_classes()` is deprecated and '\n"
          ],
          "name": "stderr"
        }
      ]
    },
    {
      "cell_type": "code",
      "metadata": {
        "id": "gCynk6Twfwjr",
        "colab": {
          "base_uri": "https://localhost:8080/",
          "height": 969
        },
        "outputId": "72fbfcff-effc-495e-e2ea-fa37b779e1f0"
      },
      "source": [
        "# Show confusion matrices\n",
        "fig, (axis1, axis2) = plt.subplots(nrows=1, ncols=2)\n",
        "plot_confusion_matrix(y_train, y_train_pred_bilstm, ax=axis1,\n",
        "                      title='Confusion matrix (train data) for BiLSTM',\n",
        "                      class_names=['EXPLICIT', 'IMPLICIT', \"Not\"])\n",
        "plot_confusion_matrix(y_test, y_test_pred_bilstm, ax=axis2,\n",
        "                      title='Confusion matrix (test data) for BiLSTM',\n",
        "                      class_names=['EXPLICIT', 'IMPLICIT', \"Not\"])\n",
        "\n",
        "fig2, (axis3, axis4) = plt.subplots(nrows=1, ncols=2)\n",
        "plot_confusion_matrix(y_train, y_train_pred_cnn, ax=axis3,\n",
        "                      title='Confusion matrix (train data) for CNN',\n",
        "                      class_names=['EXPLICIT', 'IMPLICIT', \"Not\"])\n",
        "plot_confusion_matrix(y_test, y_test_pred_cnn, ax=axis4,\n",
        "                      title='Confusion matrix (test data) for CNN',\n",
        "                      class_names=['EXPLICIT', 'IMPLICIT', \"Not\"])"
      ],
      "execution_count": 47,
      "outputs": [
        {
          "output_type": "display_data",
          "data": {
            "image/png": "[encoded data removed]",
            "text/plain": [
              "<Figure size 1152x576 with 2 Axes>"
            ]
          },
          "metadata": {
            "tags": [],
            "needs_background": "light"
          }
        },
        {
          "output_type": "display_data",
          "data": {
            "image/png": "[encoded data removed]",
            "text/plain": [
              "<Figure size 1152x576 with 2 Axes>"
            ]
          },
          "metadata": {
            "tags": [],
            "needs_background": "light"
          }
        }
      ]
    },
    {
      "cell_type": "markdown",
      "metadata": {
        "id": "x_yC4QceT7vd"
      },
      "source": [
        "#BiLSTM misclassified"
      ]
    },
    {
      "cell_type": "code",
      "metadata": {
        "id": "2uKtXKG_Hn11"
      },
      "source": [
        "#Initialize the wrong classification dict\n",
        "wrong = {\n",
        "        # 'text' => ['golden', 'bilstm', 'cnn']\n",
        "}"
      ],
      "execution_count": 48,
      "outputs": []
    },
    {
      "cell_type": "code",
      "metadata": {
        "id": "NgsuWnEW7I0G"
      },
      "source": [
        "# Use classifier to make predicitions\n",
        "pred = bilstm_model.predict(x_test)\n",
        "rounded_pred = []\n",
        "for prediction in pred:\n",
        "    #Choose the predicition which has the highest chance according to the classifier\n",
        "    rounded_pred.append(prediction.argmax())\n",
        "index = 0\n",
        "\n",
        "for pred, real in zip(rounded_pred, y_test):\n",
        "    if pred != real:\n",
        "        # Add all the wrong classifications to the wrong dict\n",
        "        wrong[x_test_text[index]] = [real, pred, real, real]\n",
        "    index += 1"
      ],
      "execution_count": 49,
      "outputs": []
    },
    {
      "cell_type": "markdown",
      "metadata": {
        "id": "yBln_c8wT_2b"
      },
      "source": [
        "#CNN misclassified"
      ]
    },
    {
      "cell_type": "code",
      "metadata": {
        "id": "8LZtn_fgr9nk"
      },
      "source": [
        "# Make predictions using the model\n",
        "pred = cnn_model.predict(x_test)\n",
        "rounded_pred = []\n",
        "for prediction in pred:\n",
        "    # Choose the predicition which has the highest chance according to the classifier\n",
        "    rounded_pred.append(prediction.argmax())\n",
        "# Initiliaze the index to find the text of the tweet \n",
        "index = 0\n",
        "for pred, real in zip(rounded_pred, y_test):\n",
        "    if pred != real:\n",
        "        # If it is a missclassification:\n",
        "        text = x_test_text[index]\n",
        "        if text in wrong:\n",
        "            # If the tweet was also missclassified by the BiLSTM model:\n",
        "            bilstm = wrong[text] \n",
        "            bilstm[2] = pred\n",
        "            wrong[text] = bilstm\n",
        "        else:\n",
        "            # When it did not exist yet, make a new one:\n",
        "            wrong[text] = [real, real, pred, real]\n",
        "    index += 1"
      ],
      "execution_count": 50,
      "outputs": []
    },
    {
      "cell_type": "code",
      "metadata": {
        "id": "j3xD2-RwKurS",
        "colab": {
          "base_uri": "https://localhost:8080/",
          "height": 55
        },
        "outputId": "41201a39-ec7c-40ec-a3c2-7e0062fd1ca4"
      },
      "source": [
        "# Make a CSV file for all wrong classifications\n",
        "fields = [\"text\", \"golden\", 'BiLSTM', 'CNN', 'LinearSVC']\n",
        "headers = {'text','golden','BiLSTM', 'CNN', 'LinearSVC' }\n",
        "with open('wrong.csv', 'w') as csv_file:\n",
        "    writer = csv.writer(csv_file, delimiter='\\t')\n",
        "    writer.writerow(fields)\n",
        "    for text, pred in wrong.items():\n",
        "        row = [text, pred[0], pred[1], pred[2], pred[3]]\n",
        "\n",
        "        writer.writerow(row)\n",
        "files.download('wrong.csv')    \n"
      ],
      "execution_count": null,
      "outputs": [
        {
          "output_type": "stream",
          "text": [
            "{'slotdebat wat een drama dat groenlinks': [1, 0, 0, 1], 'MENTION MENTION de criminele oorlogsmisdadige nato had op NUMBER maart NUMBER (één dag voor de illegale bombardementen op servië) al opgeheven moeten worden. URL': [1, 0, 2, 1], 'MENTION MENTION MENTION vind het heel dom als mensen altijd denken dat blank en donkere mensen haten .ikzelf heb dam in thailand texas rusland australië indonesië want heb negers in men familie en klikkers en vrienden uit marokko en turkye. schuld is silvana simons en die zwarten piet hater': [1, 0, 2, 1], 'die betalen niks, dat betaald de staat wel, MENTION en MENTION doen alles om de nederlanders te verdrijven en door armoede om te komen, maar miljarden naar dit soort idiote dingen. MENTION MENTION MENTION nederland is van de nederlanders! 🆘🇳🇱🌳🆘': [2, 0, 0, 2], 'MENTION goh.. moslims hebben het er maar druk mee om iedereen te bestrijden.': [2, 0, 0, 2], 'je zal toch gezellig naar een concert gaan.. godsallemachtig': [1, 0, 0, 1], 'wie gaat er nu protesteren voor een dode misdadiger? geld 💰 dus.... en links subsidies 🤮 URL': [2, 0, 2, 2], 'MENTION djiesus het zijn beesten ...echt misselijkmakend': [1, 0, 0, 1], 'MENTION kominverzet wildersforpresident zet emop geert want de rest =stekeblind en zo wordt nl in rap tempo de afrond in geholpen': [2, 0, 0, 2], 'de wereld gaat echt naar de klote parijs': [1, 0, 0, 1], 'tuurlijk is deze aanslag voor moslims makkelijker om te veroordelen: er is immers geen profeet beledigd. dwdd': [2, 0, 0, 2], 'morgen met alle voetbalclubs ook maar eens af reizen naar mokum in het kader van racisme en ongelijkheid tegen voetbalsupporters moet je zien hoe snel halsema het verbiedt! aftreden moet ze en iedereen die corona oploopt MENTION aangifte doe van zware mishandeling': [2, 0, 2, 2], \"duitsland is zover de weg kwijt en nog zo 'wiedergutmachung' reagerend en vooral acterend dat ik hoop ze nu niet indirect de oorzaak worden van een NUMBERe x europa in puin.\": [2, 0, 0, 2], 'MENTION MENTION MENTION van het gas af is waanzin want er komt waterstof aan en dat kan door het gasnet getransporteerd worden. het is een idee van kwiebes maar die doet alles andersom. bij de belastingdienst gooit hij er duizende mensen uit met een zak geld en NUMBER weken later worden ze weer aangenomen': [1, 0, 2, 1], 'MENTION politie ? welke politie ! wij kennen toch geen politie in nederland ! wij hebben zwakke mannen mannebroeders in nederland , en fit genoeg denk ik !': [2, 0, 1, 2], 'wie de fuck neemt er nou een new-born mee naar een meeting? de baby is lief hoor daar niet van. dtv helemaalgek': [1, 0, 0, 1], 'MENTION MENTION ik heb geen angst dat gates ons wil vaccineren met nanochips, domme bang makerij': [1, 0, 0, 1], 'MENTION euh nee, ik ben klaar met de zionistische dominantie in de westerse politiek. daarom worden sommige moslims boos. snap je dat niet?': [2, 0, 0, 2], 'MENTION doe nu maar niet alsof ze alle lieverdjes zijn .voir niks komt geen politie .deze agent was fout .maar ga je niet stelen en alles in de fik steken': [2, 0, 0, 2], 'MENTION wat een volslagen nonsens! islam verklaart verschillen door te zeggen dat joden en chr. hun boeken vervalst hebben.': [1, 0, 0, 1], 'ik laat me toch gvd niet bevruchten door NUMBER of andere loslopende mafkees': [1, 0, 0, 1], 'je het potverdorie nog niet eens geld voor een bosje tulpen op je tafel. ja rutte. terechte woede is dat! URL': [1, 0, 0, 1], 'MENTION werkelijk, u zei met droge ogen dat bijstandsgerechtigden geen vakantiegeld hoeven. daar betalen ze rekeningen van. misdadig': [2, 0, 0, 2], \"MENTION wat kan mij het schelen of nazi's politiek links of rechts waren. verachtelijk soort, meer woorden zoek ik er niet voor.\": [1, 0, 0, 1], \"MENTION MENTION ik hoorde dit van dennis prager (cons, joods). hij vertelde hoe lefty's iedereen willen reduceren tot NUMBER woord.\": [2, 0, 0, 2], 'wat hebben pvda, groenlinks, cda en dNUMBER de afgelopen decennia eigenlijk voor groningen betekend? penj': [2, 0, 0, 2], 'mafkezen prima ... maar in hun eigen tijd van hun eigen geld ...': [1, 0, 0, 1], 'MENTION MENTION iedereen kan ervan leren. bijv. hoe een demagoog een volk demoniseerde en zijn partij als alleenheerser leidde.': [2, 0, 0, 2], 'iedereen feliciteer MENTION even! ze is echt een super toffe meid dus NUMBER felicitaasitje kan wel😊 || rt is lieff❤': [0, 2, 0, 0], 'MENTION wat ga je nu doen voor de gehandicapten..doe je daar ook nog iets aan,je weet niet hoeveel geld het kost .en ook wij zijn mensen.': [2, 0, 0, 2], 'goedemorgen iedereen behalve iedereen die voor MENTION werkt.': [2, 0, 0, 2], 'hé MENTION krijg een nare smaak in mijn mond. polarisatie en gebrekkig ongenuanceerd vingerwijzen is niet wat de wereld nodig heeft. URL': [2, 0, 0, 2], 'zie MENTION iedereen ziet dat je niet objectief bent. dus stop nu maar met je aangesproken voelen, je bent al door de mand gevallen penj URL': [2, 0, 0, 2], 'MENTION MENTION wat een ego! had de architect maar kunstenaar moeten worden. je ontwerpen zijn niet heilig! laathetlos': [2, 0, 0, 2], 'zwart racisme is \\'alive and kicking\\' in usa blackracism bestaat vlgs democrats zogenaamd niet, maar is alom waar te nemen. sterker nog, als de politie \\'n blanke/latino vermoordt, hoor je daar nooit iets van. is er \\'n zwart persoon in \\'t geding, dan \"all hell breaks loose!\"': [2, 0, 0, 2], 'krijgt niks van mij als hij daar zo stond lol en als er mensen zijn die hem dan wat geld durfde te geven die zouden dan een schop onder hun reet moeten krijgen.': [2, 0, 0, 2], 'als je \"protesteert\" tegen politiegeweld en dan zelf een teringzooi creëert en onschuldige mensen zwaar benadeelt. dan heb je het morele gelijk wel aan je zijde, hoor...not. floyd gouverneur minnesota schakelt leger in vanwege rellen URL via MENTION': [1, 0, 0, 1], 'MENTION wow fuck. ja dat zou wel handig zijn. ik weet alleen maar van politie bellen, of bij vechten NUMBER. geluidsoverlast kun je ook digitaal doen geloof ik? 🤔': [1, 0, 2, 1], 'MENTION je gooit toch geen geld in een bodemloze put? zullen we bij timmermans meer alsNUMBER,meter afstand houden? hij is NUMBER v/d redenen dat ik geen pvda meer stem!': [2, 0, 1, 2], 'MENTION hoe hypocriet kan je zijn, klagen over racisme maar niet eens de belgen willen bedanken die zorgen dat er eten op jouw bord ligt 🤡🤡': [1, 0, 0, 1], 'MENTION MENTION MENTION MENTION dat is missc beetje kort door de bocht. wat wel feit is is dat de hurd immunity van MENTION doodslag is. doordat er vrijwel geen antilichamen worden opgebouwd en mensen opnieuw raken besmet, staan de doden in geen verhouding tot wachten op die immunity vorming. doodslag dus.': [1, 0, 1, 1], 'MENTION MENTION MENTION MENTION oké maar waar is uw bron? zelfs mocht je willen, zou je geen enkele betrouwbare bron vinden omdat het simpelweg niet klopt. je zou willen dat het zo was, maar daarom is dat nog niet het geval. zwarten hebben procentueel gezien nog altijd hogere rape/pedo cijfers dan blanken. URL': [2, 0, 2, 2], 'MENTION MENTION MENTION MENTION die uitslag wordt voor ons gemaakt. dit is een soort tweede suriname. achter de schermen zien we niets. vvd gaat dik winnen. mark bouterse.': [2, 0, 0, 2], 'MENTION MENTION ik zou eens willen stoppen met de term fakenews. een flauwekulterm die mensen gebruiken om aan te geven dat ze in iets anders willen geloven. wat maakt jou media wel waarheidsgetrouw? NUMBER keer een disclaimer en trump past de wet aan. kleuterschoolgedrag': [1, 0, 0, 1], 'MENTION MENTION õzcan akyol als het gaat om onze moraliteit, in relatie tot hoe we met onze goedkope arbeidskrachten omgaan, kunnen we gerust vaststellen dat in nederland elke vorm van beschaving ver is te zoeken.': [2, 0, 1, 2], 'we hebben geen italiaanse toestanden meegemaakt, waar mensen op de gang van het ziekenhuis stierven, maar dat danken we niet aan het systeem. idd, u heeft ze gewoon laten sterven in de wzc zonder enige verzorging. proficiat.': [2, 0, 0, 2], 'MENTION MENTION MENTION leer eens normaal te spreken man met je grote mond en met je bang zeker... zegt iemand met een achtergrond waar men enkel in roedels aanvalt en als ze alleen zijn het de goorste slijmballen. zo ook even generaliseren.': [1, 0, 0, 1], 'MENTION het extreem linkse cnn wordt belaagd door nog extremistische linkse figuren. hoe het kan verkeren. zegt wel weer genoeg over dat gespuis!': [1, 0, 2, 1], 'de dieren zeggen ook. oh wij zijn geen mensen, gelukkig dat wij dieren zijn🤔 dus van de muggen af blijven ik ga nu naar buiten hoer 🤪': [1, 0, 2, 1], 'MENTION MENTION MENTION MENTION MENTION MENTION MENTION MENTION MENTION MENTION MENTION MENTION MENTION MENTION MENTION MENTION MENTION MENTION MENTION MENTION MENTION MENTION MENTION MENTION MENTION MENTION MENTION MENTION MENTION MENTION MENTION MENTION MENTION MENTION MENTION MENTION MENTION MENTION MENTION MENTION MENTION MENTION MENTION MENTION MENTION MENTION MENTION MENTION me neither. alleen linkse politici en dito reporters zijn doorlopend geschokt.': [2, 0, 1, 2], 'MENTION gisteren per bezorging een vleespakket van NUMBER kg ontvangen, rechtstreeks van de boer. mij krijgen jullie niet gek, zootje wappies.': [1, 0, 0, 1], 'MENTION MENTION MENTION bij de vvd word je de beste politicus genoemd als je het meest gegraaid gelogen en bedrogen hebt!!!!': [2, 0, 2, 2], 'MENTION nederland heeft ook alles al onder controle, maar is zwakzinnig in beleidsvorming.': [1, 0, 0, 1], 'MENTION MENTION MENTION MENTION MENTION MENTION MENTION MENTION MENTION MENTION MENTION MENTION MENTION MENTION MENTION MENTION MENTION MENTION MENTION MENTION MENTION MENTION MENTION MENTION MENTION MENTION MENTION MENTION MENTION MENTION MENTION MENTION MENTION MENTION MENTION MENTION MENTION MENTION MENTION MENTION MENTION MENTION MENTION MENTION MENTION MENTION MENTION als je decimerende partijtje spontaan niet genoeg stemmen haalt, dan koop je ze gewoon.': [1, 0, 0, 1], 'MENTION o dus als je een andere mening hebt of een andere kant kiest ben je gelijk een nazit? ik loop ook niet als een hersenloos schaap achter de vvd,gl,cda,dNUMBER en pvda aan,ik kies zelf.': [1, 0, 0, 1], 'MENTION MENTION MENTION niet alleen onderzoekers van het mit komen tot die conclusie. iedereen die een beetje logisch na kan denken wist dat al lang. dat bewijst dat ze bij het rivm dus niet logisch kunnen denken. hier nog meer bewijs. al van november NUMBER: URL': [2, 0, 0, 2], 'MENTION MENTION MENTION MENTION wederom maak je een denkfout, de rest die het niet aanhangt zijn onderdeel hiervan doordat ze zich niet uitspreken of meldingen hiervan maken. en na een aanslag zijn het grootste deel tevreden ermee want de islam is het enige dat telt.': [2, 0, 0, 2], 'MENTION ik denk dat de meeste mensen dit geweld en elk geweld afkeuren maar he, blijf lekker in je bubble hangen in de eigen waarheid 🙏': [2, 0, 0, 2], 'MENTION one direction is niet gestopt kut het is een pauze kijk niet naar de bladen en lees hun daadwerkelijke reacties het is bullshit': [1, 0, 0, 1], 'MENTION jammer dat al die nertsen zo meteen gegenocideerd gaan worden als de joden ooit hebben gedaan. wat in the hell zijn we aan het doen. dus dieren mogen geen resistentie opbouwen tegen corona? haha ik stuur wel weer een dieren activisten leger naar de minister om het te stoppen.': [1, 0, 2, 1], 'omdat het twitter extreem links en oikofoob is...voor de minder ontwikkelde linkse tak...ze haten blanken en eigen cultuur...': [1, 0, 2, 1], 'de keren dat ik hier slachtoffers van gezien heb betrof het vaak donkere mensen, weet niet of dit het algemene beeld was. zo ja zou dit in amerika als racisme uitgelegd worden MENTION waar jij hier dan voor verantwoordelijk zou zijn geweest. maar je neemt vlucht een voren 😖': [2, 0, 0, 2], 'MENTION MENTION héé, geestelijke gestoorde nepnieuwsmaker MENTION, welke leuzen bedoelde je ook alweer in je gewiste tweet? URL': [1, 0, 0, 1], 'MENTION absurd. en binnen n maand is t volledig uitgewoond en klagen de apen alsnog dat ze het zo slecht hebben.': [1, 0, 0, 1], 'MENTION en dan vragen de moslims af waarom we twijfelen aan hun oprechtheid, zolang zijzelf binnen de moskees en dagelijks leven niets ertegen doen. ze geven deze fundamentalisten zelf de ruimte, ze weten heel goed als iemand veranderd en als eerste maar doen geen melding hiervan.': [2, 0, 0, 2], 'MENTION MENTION jawel. maar ik geef je graag de kans jezelf nog verder in te graven. post jij het filmpje waar jij het over had, dan leg ik dat naast mijn screenshot van hetzelfde filmpje. geef jij dan netjes toe dat je fout zit? deal?': [2, 0, 1, 2], 'george floyd is just an excuse for the links democrats to start riots to frame trump. it is a deception. - ook in nederland pakt het partijkartel dit onderwerp op om de oppositie te torpederen. normale mensen plunderen geen winkels en stichten geen brand! de knokploeg antifa URL': [2, 0, 0, 2], 'MENTION is eigenlijk een heel pertinente tweet, zeker als er een tweede opstoot van covid-NUMBER komt. lees o.a het dubbel interview van noels en de keyzer in de trends': [0, 2, 0, 0], 'woorden zijn goedkoop MENTION ..laat eens jullie effectieve acties zien..': [2, 0, 0, 2], 'MENTION MENTION koekoek! jij bent rijp voor het zwakzinnigengesticht.': [2, 0, 0, 2], 'MENTION een walgelijk beeld.🤢': [1, 0, 0, 1], 'MENTION ach man ! je hebt geen idee hoeveel er goed de pest hebben in je gedrag . denk niet dat je het alleen red in deze wereld ! je komt er nog wel achter kuttekop !!': [1, 0, 1, 1], 'waar komen die zwarten vandaan ????ongelooflijk merkel wat heb je europa aangedaan URL': [2, 0, 0, 2], 'MENTION geloof me bryan die vent heeft geen geweten het is een duivel in maat kostuum .': [1, 0, 0, 1], 'idioot die obama de nobelprijs gaf gaat nu aan zml uitleggen dat het wel meevalt met die moslims gezien islaminvasie praat hij bullshit': [1, 0, 2, 1], 'MENTION ze hadden de hele troep in een fuik moeten loodsen vastzetten en uitzetten .': [2, 0, 0, 2], 'MENTION MENTION MENTION linkse kitjes die maling hebben aan de hele samenleving! kapot slaan zou ik zeggen al die linkse veganistische gekken': [1, 0, 0, 1], 'islam is een agressieve tumor die met alle mogelijke middelen moet worden bestreden.': [1, 0, 0, 1], 'het is geen toeval dat de felste kritiek op de aanpak door een linkse vrouwelijke burgemeester van een onfortuinlijk verlopen antiracistismedemonstratie komt uit de hoek van vrouwonvriendelijk extreemrechts. jammer dat zovelen in de val lopen en zich laten meeslepen. halsema': [2, 0, 0, 2], 'MENTION wat gebeurd is niet goed te praten agent was fout dus dan ga je maar stelen en alles in brand steken ?????? en eerlijk hoeveel zwarten maken problemen in heel de wereld ?? leren wij hun dat ?? hoeveel mensen worden verkracht vermoord door zwarten??': [2, 0, 0, 2], 'altijd extreemrechts tuig dat moslims betrapt op onaangepast gedrag. typisch.': [1, 0, 0, 1], \"maar men zet tijdens de anti-lockdown demonstratie in den haag wel NUMBER me'ers in op nog geen NUMBER man...en NUMBER!! slinkse extremisten krijgen vrij spel..er wordt met twee maten gemeten..zeg dat nou eens! slapjanus! MENTION vragenuurtje\": [1, 0, 1, 1], 'MENTION MENTION MENTION hahaha zo is het wel, we betalen allemaal hetzelfde alleen procentueel ligt het net even anders. maar ze hebben dan altijd het weerwoord van ze betalen zoveel, maar vergeten dat ze eerst gebruik maken van het deel wat de minderbedeelden ook moeten betalen': [2, 0, 0, 2], 'lekker man, wakker worden met een enorme haat jegens moslims en de islam... fuckislam': [1, 0, 0, 1], 'MENTION MENTION gij dineren , uw als een varken volvreten zeker , uw soort kent geen manieren vreetvarkens . ja ik ken uw probleem gedaan met uw aanhoudster te gaan eten hé . moesten ze bij uw soort varkens al veel langer gedaan hebben': [1, 0, 0, 1], 'maar hoe gaat de belastingdienst die brief nou bezorgen bij die ouder die zelfmoord pleegde na onterecht als fraudeur te boek gesteld te zijn? per vlieger?': [2, 0, 0, 2], 'MENTION MENTION leuk dat jullie linkse fascisten, die geweld goed praten, voor jullie hebben schrijven! URL': [1, 0, 0, 1], 'tsja heks dieuwertje is al teveel scholen barneveld kijken niet meer naar sinterklaasjournaal vanwege hekserij URL': [1, 0, 0, 1], 'ga eens dood, pijnlijk please': [1, 0, 0, 1], 'vergeet de pensioenleeftijd, het geld naar griekenland, de afbraak van de medische en ouderenzorg niet rutte is asociale leugenaar URL': [1, 0, 2, 1], 'MENTION het is antifa tuig dat moet oogeruimd worden': [1, 0, 1, 1], 'zich durft te uiten , bang te zijn om uitgemaakt te worden voor rasist etc etc . dit is mijn mening , en ik ben benieuwd of jij , gijs rademaker , mijn lekker ding 😉 , hier nou eens in het openbaar een weerwoord op dit bericht durft te geven . ben benieuwd': [2, 0, 0, 2], 'turkije wil excuses nadat ze ons uitmaken voor fascisten en overblijfselen van nazi duitsland. hoe triest is het allemaal zeg turkijerel': [2, 0, 1, 2], 'MENTION MENTION we kunnen ook mensen doodmaken eens kijken of dat je dan ook een nerts voelt.': [2, 0, 2, 2], 'MENTION MENTION MENTION MENTION verplegenden, families, vrienden, vriendinnen, ouders oma’s opa’s, hebben geleden en jij snapt niet wat omzigt zegt! je bent een lamlul! leer de basisprincipes van gelijkheid en dan zeker in deze periode! gadverdamme! MENTION ga jij nog klappen voor de zorg! mijn oma en opa!': [1, 0, 2, 1], 'MENTION daar kan en wil je niet mee leven. dat uitschot hoort gewoon niet in de westerse wereld thuis.': [1, 0, 0, 1], 'MENTION mijn dochter mag officieel ook niet naar de wc. ik ben even naar die school geweest. stevig, maar keurig gesprek gehad. ze mag nu gewoon naar het. toilet. t moet ook niet gekker worden; stel volslagen debielen in dit land.': [1, 0, 0, 1], 'MENTION MENTION MENTION MENTION doen ze niet. durven ze niet. het zijn slechts domme haatvolle haatgollems die haatzaaien.': [1, 0, 0, 1], 'MENTION ik schop graag tegen je aan omdat ik je een staatsgevaarlijke idioot vind maar dat ventje is gewoon een minkukel en kan niet verder naast de waarheid zitten.': [1, 0, 0, 1], 'MENTION MENTION lieve fleur die gast en de hele rivm kliek bepaalt niet hoe wij moeten leven ik doe al weken precies wat ik wil . ze luisteren alleen naar de who de moordbrigade van kill gates !!!': [1, 0, 0, 1], 'MENTION dat ze die zo rap mogelijk uit de politiek verwijderen , dat gastje is een schande voor de mensheid , voor onze democratie. lager dan zijn soort kan een mens niet zijn': [2, 0, 2, 2], 'toen nederland nog een leuk land was URL en niet verziekt door culturen die de onze verdringen raisethedegree minneapolis': [2, 0, 0, 2], 'MENTION goh wat is benny hill toch lelijk geworden zeg.': [1, 0, 0, 1], 'MENTION MENTION halsema is hypocriet en heeft schijt aan alles buiten haar eigen linkse agenda. halsema heeft schijt aan de NUMBER NUMBER/NUMBER meter corona maatregelen, aan alle ondernemers, aan de zorg en aan de ouderen. dit valt niet uit te leggen, halsema zaait tweespalt in de samenleving, zo dom.': [2, 0, 1, 2], 'MENTION MENTION laat die turken dat maar betalen': [2, 0, 0, 2], 'MENTION MENTION nu is het wel zo dat zwarte mensen niet vaak dingen uitdelen maar vooral nemen, doen ze bij de omroepen ook we betalen en geven geld en wat krijgen we rotzooi.': [2, 0, 0, 2], 'MENTION nog nooit zoiets stompzinnigs gehoord. wat een afgang. maar ja! bij buitenhof en de npo is toch alles de schuld van de blanke man! leren jullie racisten het eens nooit om blank te zeggen.': [1, 0, 0, 1], 'MENTION MENTION antifa is een terroristische organisatie.': [1, 0, 0, 1], 'MENTION MENTION smerig wijf vergalt heel amsterdam': [1, 0, 0, 1], 'MENTION MENTION MENTION MENTION MENTION MENTION weer zo een gevaarlijke idioot aan tafel!': [1, 0, 0, 1], 'MENTION MENTION aldus de subjectieve linkse huichelachtige draaikonten piznigten van links, die alleen maar leven door desinformatie en onzin te verspreiden, stel lijmsnuivende incestueuze respectloze uitgerangeerde yournalistjes van de MENTION e.d. MENTION/vara kotsssss🖕🐀': [1, 0, 2, 1], 'frankrijk en belgie rijp voor stadsguerilla omdat men de islamitische kanker jarenlang heeft laten uitzaaien!!': [1, 0, 0, 1], 'MENTION halsema is hypocriet en heeft schijt aan alles buiten haar eigen linkse agenda. halsema heeft schijt aan de NUMBER NUMBER/NUMBER meter corona maatregelen, aan alle ondernemers, aan de zorg en aan de ouderen. dit valt niet uit te leggen, halsema zaait tweespalt in de samenleving, zo dom.': [2, 0, 1, 2], 'MENTION één woord het is tuig van de richel. verzet haha, van dit tuig is er nog niet één die aan het slachtoffer denkt, alleen aan de duurste artikelen. ja er zijn ook andere demonstraties welgemeend. weet je wat ze en de npo doet? ze scheren ze allemaal over één kam.': [1, 0, 0, 1], 'MENTION rob jetten jij robot homo. jij begrijpt nog steeds niet dat je vriendin ollogren weer onze vrijheid afpakt door het afschaffen van het referendum. en ze kan geen eens de huur verhoging stoppen ik kan die makkelijk radicaal stoppen als ik in politiek zit het liefst zonder geld xd': [1, 0, 1, 1], 'we hebben één voordeel en dat is dat vvd en groenlinks volgend jaar niets meer te vertellen heeft of ze gaan weer sjoemelen': [2, 0, 0, 2], 'MENTION een parasiet, zoals de meesten van zijn soort.': [1, 0, 0, 1], \"MENTION MENTION denk dat ge op uwe teen getrapt bent gastje , het profiterend volk zal eens iets zeggen , het volk van zakken vullen zonder te werken , het elite profitariaat en dan met een fake profiel , te laf om zich kenbaar te maken , zo'n volk zouden ze moeten weigeren op twitter\": [1, 0, 0, 1], 'MENTION MENTION MENTION jaja antirook trol, lul nog wat over roken. en ga dan nog wat junkfood vreten .. URL via MENTION': [1, 0, 0, 1], 'MENTION ken je het concept van nivellering? net zoals dat in nederland rijkere mensen netto meer belasting afdragen, geldt dat ook voor de eu. sta eens stil bij het feit dat nederlanders het erg goed hebben en dat mede mogelijk is door alle arbeidsmigranten uit europa. krent dat je bent!': [1, 0, 0, 1], 'MENTION MENTION MENTION krijg de coronatyfus kutje': [1, 0, 0, 1], 'de mensen die mijn socials hebben gehackt, wllh jullie zijn ziek in jullie hoofd, NUMBER keer???!!!! jullie moeders URL': [1, 0, 0, 1], \"veel nederlanders in turkije willen terug! laten we dan ruilen: 'erdogan turken' terug naar turkije, alle nederlanders terug naar nederland!\": [2, 0, 0, 2], 'MENTION MENTION beter nog ! URL tweet is gewist dus ben ik mogelijks niet geblokkeerd . leer lezen en informeer uzelf . en stop met drinken van azijn , zuur zuur manneke .': [1, 0, 1, 1], 'MENTION MENTION MENTION voila. ga je dan ook lopen klagen over beperking van je recht je mening dat alle wijven enkel geile neuksleuven zijn die nu op de knietjes moeten en aan je pik moeten zuigen aan de vrouwtjes te geven? of ga je dan gewoon naar huis en gedraag je je de volgende keer?': [1, 0, 0, 1], 'gejoel bij MENTION jegens MENTION. jammer. MENTION kennelijk de MENTION van de politiek: oppertopper maar met sneue fans. tkNUMBER': [1, 0, 0, 1], 'MENTION MENTION MENTION mijnheer wendrich kan het niet vinden en helemaal niet dat ze georganiseerd opereren. nu valt deze doorgeleerde heer ff door de mand zeg. elke leugen is bij hem blijkbaar geoorloofd. kots': [1, 0, 0, 1], 'agent die vrouw doodschoot in alkmaar handelde uit noodweer URL via MENTION je ken ook gericht op de benen mikken, maar dat is de politie waarschijnlijk vreemd? wordt er alleen maar op het hoofd en de borstholte gemikt met bijlessen. 🐀': [2, 0, 0, 2], 'want er kan altijd maar één gevaarlijke despoot per wereld zijn? dus als de één dat is, kan de ander het al niet meer zijn? dat is het argument hier? ik zou zeggen \"kom op elsevier, je kunt beter dan dat\", maar we weten allemaal: beter kunnen ze niet.': [2, 0, 0, 2], 'wat een gek met die hond en het bijl omg': [1, 0, 0, 1], 'goh! iemand verbaast dat het zo uit hand loopt in minnesota!? antifa tuig in optima forma.': [1, 0, 0, 1], \"MENTION MENTION MENTION MENTION MENTION dus gegarandeerd dat corona echt weer terug komt . te danken aan die hufters ! sluit die kloojo's op voor een lange tijd . als ze ziek worden mogen ze wat mij betreft dood gaan . heel hard dat ik dit zo zeg . maar die lui hebben schijt aan alle regels\": [1, 0, 0, 1], 'MENTION MENTION MENTION weer zo een gl kutje aan de tafel!': [1, 0, 0, 1], 'MENTION hij verheerlijkt helemaal niets. mafklappers ga eens een koerzoesje englies volgen. kun je misschien eindelijk eens lezen wat hij schrijft en wie weet ook eens verstaan wat hij zegt. dom alles van cnn overnemen en met google vertalen is niet journalistiek. URL': [1, 0, 0, 1], 'MENTION MENTION MENTION MENTION dom kutje ben je toch! domme kindjes jou werken tot hun NUMBERe omdat ze niks kunnen! ik ga nooit dood, want houd van duterte, trump, wilders, baudet, de winter! haat die linkse racisten!': [1, 0, 0, 1], 'MENTION waarom horen we blm alleen als er geteld kan worden? waarom horen we nooit dat blm daklozen helpt etc? omdat ze een hele andere agenda hebben dan zij doen voorkomen en dat weet jij ook. iedereen behalve de allerstomsten weet dat. jij en jouw soort teren op zulk parasitairisme': [2, 0, 2, 2], 'MENTION MENTION je bruine hemd hangt al klaar merk ik smerige laffe hond': [1, 0, 0, 1], 'MENTION MENTION nee vvd dNUMBER trekken volle zalen, halen terrorist massaal binnen.wilders NUMBER zetels de sterkste mlj nl pvv nrNUMBER': [1, 0, 0, 1], 'MENTION wist je dat dikke vette mensen erg ongezond zijn ? cholesterol , diabetici , hoge bloeddruk , longklachten . veel kosten maken voor huisartsen bezoek en ziekenhuis bezoek . weet je dat dit heel veel geld kost ?': [1, 0, 0, 1], 'MENTION MENTION MENTION dan zijn alle islam aanhangers dat, want de islam wil dat zij ongelovige honden, apen, ezels en varkens (wij dus) gedood moeten worden': [2, 0, 2, 2], 'maffia slaat je winkel in puin en laat je dan geld betalen om herhaling te voorkomen. zo ook pappen nathouden moslims in nl. parijs': [2, 0, 0, 2], 'MENTION tja het is zijn verdienmodel. mijnheer is totaal niet geïnspireerd door hetgeen waar hij zegt voor te staan. polariseren dat is waar hij en zijn vaak werkschuwe maatjes voor staan.': [2, 0, 0, 2], \"dochter met probleem met zichzelf. vrouwen in de eu worden verkracht omdat moslim vrouwen zich bedekken 'uit eigen wil'. punt. rtlln\": [2, 0, 0, 2], 'MENTION MENTION idioot? achterlijke incestueuzezaadcel, ken je wel meer als retweeten MENTION ramon MENTION 🖕🐀': [1, 0, 0, 1], '\\\\\"als u nou heel eerlijk bent\\\\\" - erikdijkstra bij opNUMBERnpo tegen de burgemeester van amsterdam. het klinkt of hij vindt dat ze alsmaar niet eerlijk wil zijn. of ze almaar niet wil zeggen wat hij wil horen. slechte journalistiek, dijkstra. valt me tegen. blacklivesmatter corona': [2, 0, 2, 2], 'MENTION MENTION uw soort betalen de vreetvarken van uiterst rechts in het zwart black) werken , en zo wit (white) zien van stuf te snuiven , de soort die op onze kosten vol botox zit , hou uw azijnzuur in uwe body vreetvarken . uw profiel zegt meer dan woorden . zwart uiterst recht fake profiel': [1, 0, 2, 1], \"te veel over het zelfde kweek je antipathie tegen homo's !!!!!!\": [2, 0, 0, 2], 'MENTION MENTION echt wat een tuig': [1, 0, 0, 1], 'MENTION wie de f*ck ben jij om het over ons te hebben subsidieslurper . omg het waren geen plunderaars oh nee ? denk het wel want ze hebben alles leeg geroofd plasma tv .. vuitton tassen merk kleding en voor miljarden schade gezorgd samen met die smerige fascisten bende antifa.': [1, 0, 2, 1], 'MENTION vandaag is het genocide dag voor de nertsen. mensen zijn gewoon kanker moordenaars. gewoon isoleren in plaats van killen stop gewoon een maand of NUMBER met fokken dan zijn alle dieren geinfected en weer genezen. en haal maar de mens zelf weg.': [1, 0, 1, 1], 'behandeld worden als een achterlijkgebakje door de verkoopmakelaar... walgelijk': [1, 0, 0, 1], \"rutte was alleen premier van het rijke deel van de vvd'ers. mark weet door zijn slechte opvoeding niet beter. nieuwsuur\": [2, 0, 0, 2], 'MENTION MENTION MENTION mijn menselijk verstand is op een normaal peil dat kan je bij herr janssens niet zeggen , zelfs zijn armen kan hij niet buigen . het volk met de tweede hands kostuums van de albanese maffia , snit uit de jaren dertig van duitse kwaliteit .': [2, 0, 0, 2], 'MENTION MENTION MENTION en antirook trol MENTION ( MENTION ) komt ook weer wat dwaas uit zijn nek lullen. de tabakslobby, fakenews blablabla enz.. URL via MENTION': [1, 0, 1, 1], 'MENTION geld geld geld .???? sommige van ons met ons leven betalen ?? ben je ziek van geest of zo .jij spoort echt niet wat hebben wij met iets te maken voor NUMBER jaar geleden die nu leeft die nu zorgt..ziek van geest ben jij ga verhuizen naar een land waar jij je thuis voelt': [1, 0, 0, 1], 'MENTION MENTION antifa tuig lees dit maar droplul je bent een rat URL': [1, 0, 0, 1], 'MENTION MENTION zoals het wijf van de rooy, gematigde vreemde luis laat me lachen , ze is veel erger dan de meeste moslims , ze hokt samen met ne blokker': [1, 0, 1, 1], \"MENTION MENTION jammer! dat is het fvd veruit al geworden. draaideur idioten met grote ego's.\": [1, 0, 0, 1], \"MENTION al enkele keren begonnen aan een reply op een of andere imbeciel, maar telkens weer gestopt. what's the point anyways?\": [1, 0, 0, 1], 'petehoekstra uitnodigen en laten praten over demonstraties tegen racisme is als een verkrachter uitnodigen en laten praten over demonstraties voor gelijke rechten van de vrouw. als onderdeel van het probleem is zijn mening totaal niet interessant.': [2, 0, 0, 2], 'buitenhof weer dezelfde idiote oplosssing van arm zielige moslims geef ze een stage plek het ligt gvd aan islam aan niets anders schoften': [1, 0, 0, 1], \"waarom zet rutte de ambasadeur niet uit van een land dat ons nazi's en mislimafslachters noem? laf\": [1, 0, 0, 1], 'ankara is de baas in nederland. MENTION MENTION MENTION MENTION hebben nl weggegeven. turken erdogan': [2, 0, 0, 2], 'MENTION MENTION haha helemaal mee eens, geleerd uit jouw groep. zeg maar een boemerang. en verder nogmaals je wilt het niet zien dat antifa een ondergronds aangestuurde groepering is. waarschijnlijk omdat je hun geweld prima vind. chaos creëeren en ontwrichting. daar zijn ze op uit. URL': [2, 0, 0, 2], 'MENTION niet netjes ja maar je kan stoppen met uitmelken eelco. daarbij als ik een zp zie draait mijn maag zich ook om. klaar mee racisme': [2, 0, 0, 2], 'MENTION maar hij houdt zich er wel aan! lamlul!': [1, 0, 0, 1], 'MENTION MENTION je moet ook niet naar veenendaal willen': [2, 0, 0, 2], 'MENTION fanatisme straalt er vanaf wat een linkse teef zeg': [1, 0, 0, 1], 'MENTION MENTION MENTION je bent zo geïndoctrineerd dat je zelfs hiervan niets wil weten. welkom in dictatuur nl URL': [2, 0, 0, 2], 'jort kelder mensen. jort is dus écht zó dom dat hij het argument \"zie je wel, door de lockdown is alles veel minder erg dan we in onze ergste nachtmerries vreesden, dus die lockdown was helemaal niet nodig!\" 🤦🤦\\u200d♀️🤦\\u200d♂️': [1, 0, 0, 1], 'MENTION het is traditie dat de voorgaande president zijn bek houd over de zittende president . maar dat laat jij socialistje ff weg . weet je wie ook een socialist was NUMBER jaar geleden !': [2, 0, 0, 2], 'de koning gaat naar apeldoorn, terwijl ie eens stevig met femke zou moeten gaan praten. loser. demonstratie': [1, 0, 0, 1], 'MENTION de lafbek wil medicijnen alleen voor zijn eigen': [1, 0, 0, 1], 'ook zonder een racist in het witte huis is amerika nog steeds een kut land vol racistische witte mensen die vinden dat het leven van een zwarte of gekleurde persoon niks waard is. en maar blijven denken dat je het meest ontwikkelde en beste land ter wereld bent.': [1, 0, 2, 1], 'islam is gewoon een radicale beweging. altijd geweest . staat voor uitroeiing van niet moslims htler NUMBER arena': [1, 2, 0, 1], 'de naïeve europeaan is geshockeerd. de realistische europeaan waarschuwt hier al heel lang voor. laten wij waken voor onze vrijheid.': [0, 0, 2, 0], 'rt schagenkp: op zoek naar leuke (schoen)-kadootjes? - schoenkadootje sinterklaas schagen zijpe hatenkardpel koopplein.nl \\\\uNUMBER': [0, 0, 1, 0], 'hahaha, je leert veel over de achterban van politieke partijen bij penj. jongeren die met een gooise r natuurlijk groenlinks stemmen': [0, 0, 2, 0], 'wederom op weg naar krakow\\\\uNUMBER\\\\uNUMBER\\\\uNUMBER met hollandse snacks in de koffer\\\\udNUMBERc\\\\udfNUMBERfvolgend jaar openen we hollandse snackcorner in krakow\\\\udNUMBERd\\\\udcNUMBERd\\\\udNUMBERd\\\\udcNUMBERcondernemen\\\\udNUMBERd\\\\udeNUMBER\\\\udNUMBERd\\\\udeNUMBERe\\\\udNUMBERd\\\\udcNUMBERa': [0, 0, 1, 0], \"MENTION MENTION MENTION helemaal eens, wat buitensporig geweld betreft. maar het moet nog bewezen worden dat zijn dood daaraan te wijten is. normaal staat heel links op z'n kop als er publiekelijk veroordeeld wordt. nu niet, want zwart en dus racisme\": [0, 0, 1, 0], 'die partij die milieu, economie en werk duurzaam \\\\uNUMBEReNUMBERn toegankelijk maakt voor werknemer en -gever, die partij krijgt mijn stem tkvNUMBER: dNUMBER.': [0, 0, 2, 0], 'MENTION MENTION inderdaad , dit toont de gemiddelde geaardheid van moslims aan': [0, 0, 1, 0], 'MENTION MENTION ja stoppen met junkfood eten is ook altijd verstandig. toch als je liever geen goede klant van big pharma en de medische industrie wil worden URL via MENTION roken rookvrij enz...': [0, 0, 1, 0], 'en zo simpel is het eigenlijk. we leven hier in een klein land, maar we horen bij elkaar en maken een vuist tegen racisme. ik zal dat ook altijd blijven doen! ik leer mijn zoon de verschillen in karakters en persoonlijkheden, niet het verschil in huidskleur. alllivesmatter': [0, 0, 1, 0], 'de deelnemers aan de demonstratie op het malieveld hebben zojuist een minuut stilte gehouden voor slachtoffers aanslagen parijs.': [0, 0, 2, 0], 'politie vraagt uit te kijken naar best. van rode renault megane met kent. rn-bb-NUMBER.verm. omg. bij aantreffen, bel met !': [0, 0, 2, 0], 'bomaanslag op thorbeckeplein in breda: zwaargewonde man (NUMBER) naar ziekenhuis gebracht URL via MENTION': [0, 0, 1, 0], 'lijkt mij een prachtige tocht. MENTION de zwolse deniz ozdemir fietste van zwolle naar turkije: URL rtvoost': [0, 0, 1, 0], 'vanmorgen verkeerstoezicht gehouden bij bso de bron en het talent. belangrijk dat de kinderen veilig naar school en weer naar huis kunnen.': [0, 0, 1, 0], 'tmg heeft recht op eigenaar die in haar producten gelooft - URL': [0, 0, 1, 0], 'een nieuw diginieuws bericht (gratis lesmateriaal omgaan met geld) is te zien op - URL': [0, 0, 1, 0], 'MENTION MENTION iedereen die het niet eens is met standpunten sylvana móet volgens artikelNUMBER wel een racist/facist/vrouwenhater zijn': [2, 2, 0, 2], 'schandalig regering deze mensen zijn ook stemgerechtigden dus dat zij al die jaren niet kunnen stemmen valt niet goed te praten URL': [0, 0, 1, 0], 'achterban MENTION hellup! 😷onderteken svp petitie: geen knooppunt aNUMBER/aNUMBER naast kinderrijke woonwijk. URL URL': [0, 0, 1, 0], 'alle draadjes komen bij elkaar en het breiwerk is compleet. het normale is niet normaal. de lat ligt laag en lijkt, jawel lijkt geen grens te kennen. de mensheid heeft een goed hart, kijk om je heen. we komen hier uit lieve ethisch juiste keuze mensen.': [0, 0, 1, 0], 'MENTION MENTION MENTION MENTION MENTION terwijl als je het verpakt als een verplichting vanuit europa en je speelt de witwaskaart, dan heb je genoeg knopjes ingedrukt om een akkoord te krijgen in de NUMBERe kamer. dat ook het hoofd van de fiod meldt dat witwassen via cash en giraal geschiedt, moffel je weg en klaar is kees.': [0, 0, 2, 0], \"MENTION racisme, seksisme, klassisme en homohaat zijn idd aangeleerd. hoe diep dat zit, leert 'geïnternaliseerde onderdrukking'. dat iemand zelf denkt iets niet te kunnen vanwege zwart zijn, vrouw zijn, van 'eenvoudige' komaf zijn, vanwege homo of lesbo zijn. er is nog een weg te gaan.\": [0, 0, 1, 0], 'MENTION MENTION MENTION MENTION eigenlijk is daarmee alles gezegd: italië versus nederland = galileo versus krukas...': [0, 0, 1, 0], 'MENTION aanleiding is het constante aanwakkeren van het onderbuik gevoel van de media dat er institutioneel racisme gaande is. dat is een leugen, zwarte steden met zwarte bestuursleden van de top tot agent is democraat en zwart en hebben ook incidenten met over gewelddadige politie': [0, 0, 2, 0], 'MENTION MENTION MENTION MENTION juist ! een repliek mag maar NUMBER minuten duren(of zin afmaken) mvr. malfroot gaat hier te ver in tijd. maar de repliek beoordelen is niet de taak van de voorzitter (racisme of niet, kennis dossier of niet) en ook niet tss komen om de minister te verdediging.': [0, 0, 1, 0], 'broers en zussen van be twitter! de link hieronder zal u doorverwijzen naar een informerende brochure. hierin staan de rechten van burgers die in contact komen met de politie. NUMBER paginas... doe me een plezier; lees het en onthou ze. danku. rt URL': [0, 0, 2, 0], 'MENTION MENTION roland van der eem: nee, deze mensen sluiten een fundamenteel onderdeel van onze grondwet uit nl, het recht op vrijheid van goddienstbeleving. een fundamentaal recht, dus ondermijnen zij de democratie. snappie?': [0, 0, 2, 0], 'MENTION MENTION MENTION hoestdruppels zijn groter, komen minder ver en vallen snel op de bodem. aerosols zijn veel kleiner, kunnen erg lang door een ruimte dan `zweven` en zijn daarom gevaarlijker. ook omdat je ze veel dieper inademt. een hoestdruppel voel je en adem je amper in.': [0, 0, 1, 0]}\n"
          ],
          "name": "stdout"
        },
        {
          "output_type": "display_data",
          "data": {
            "application/javascript": [
              "\n",
              "    async function download(id, filename, size) {\n",
              "      if (!google.colab.kernel.accessAllowed) {\n",
              "        return;\n",
              "      }\n",
              "      const div = document.createElement('div');\n",
              "      const label = document.createElement('label');\n",
              "      label.textContent = `Downloading \"${filename}\": `;\n",
              "      div.appendChild(label);\n",
              "      const progress = document.createElement('progress');\n",
              "      progress.max = size;\n",
              "      div.appendChild(progress);\n",
              "      document.body.appendChild(div);\n",
              "\n",
              "      const buffers = [];\n",
              "      let downloaded = 0;\n",
              "\n",
              "      const channel = await google.colab.kernel.comms.open(id);\n",
              "      // Send a message to notify the kernel that we're ready.\n",
              "      channel.send({})\n",
              "\n",
              "      for await (const message of channel.messages) {\n",
              "        // Send a message to notify the kernel that we're ready.\n",
              "        channel.send({})\n",
              "        if (message.buffers) {\n",
              "          for (const buffer of message.buffers) {\n",
              "            buffers.push(buffer);\n",
              "            downloaded += buffer.byteLength;\n",
              "            progress.value = downloaded;\n",
              "          }\n",
              "        }\n",
              "      }\n",
              "      const blob = new Blob(buffers, {type: 'application/binary'});\n",
              "      const a = document.createElement('a');\n",
              "      a.href = window.URL.createObjectURL(blob);\n",
              "      a.download = filename;\n",
              "      div.appendChild(a);\n",
              "      a.click();\n",
              "      div.remove();\n",
              "    }\n",
              "  "
            ],
            "text/plain": [
              "<IPython.core.display.Javascript object>"
            ]
          },
          "metadata": {
            "tags": []
          }
        },
        {
          "output_type": "display_data",
          "data": {
            "application/javascript": [
              "download(\"download_720545ec-85fc-4248-8a67-4c80c79b8c27\", \"wrong.csv\", 35736)"
            ],
            "text/plain": [
              "<IPython.core.display.Javascript object>"
            ]
          },
          "metadata": {
            "tags": []
          }
        }
      ]
    }
  ]
}